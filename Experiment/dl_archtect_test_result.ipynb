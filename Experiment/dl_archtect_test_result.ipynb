{
 "cells": [
  {
   "cell_type": "markdown",
   "id": "e0abeef3",
   "metadata": {},
   "source": [
    "## Deep Learningモデルのアーキテクチャ比較\n",
    "Driverless AIで利用可能な[事前学習モデル](https://docs.h2o.ai/driverless-ai/latest-stable/docs/userguide/expert_settings/image_settings.html#tensorflow-image-pretrained-models)の比較  \n",
    "Experimentは、アーキテクチャの選択以外、デフォルト設定で実施。学習方法は転移学習（特徴量抽出器）"
   ]
  },
  {
   "cell_type": "markdown",
   "id": "c5c2b1d0",
   "metadata": {},
   "source": [
    "***\n",
    "### 実行方法"
   ]
  },
  {
   "cell_type": "markdown",
   "id": "b061d485",
   "metadata": {},
   "source": [
    "XXX  \n",
    "XXX"
   ]
  },
  {
   "cell_type": "markdown",
   "id": "a48984f2",
   "metadata": {},
   "source": [
    "***"
   ]
  },
  {
   "cell_type": "code",
   "execution_count": 1,
   "id": "dd471622",
   "metadata": {},
   "outputs": [],
   "source": [
    "import os\n",
    "#import json\n",
    "\n",
    "import pandas as pd\n",
    "import numpy as np\n",
    "import matplotlib.pyplot as plt"
   ]
  },
  {
   "cell_type": "code",
   "execution_count": 2,
   "id": "2e5a3b67",
   "metadata": {},
   "outputs": [],
   "source": [
    "#!ls dl_archtect_test/result/"
   ]
  },
  {
   "cell_type": "code",
   "execution_count": 3,
   "id": "6ac06b56",
   "metadata": {},
   "outputs": [],
   "source": [
    "def get_resultdata(result_path) -> pd.DataFrame:\n",
    "    all_files =  os.listdir(result_path)\n",
    "\n",
    "    ## json fileのみ取得\n",
    "    result_files = []\n",
    "    for f in all_files:\n",
    "        if os.path.splitext(f)[1] == '.json':\n",
    "            result_files.append(f)\n",
    "\n",
    "    print('All files: {}, json files: {}'.format(len(all_files), len(result_files)))\n",
    "\n",
    "    ## 全てのjson fileを結合し、DataFrameとする\n",
    "    for i, jf in enumerate(result_files):\n",
    "        if i == 0:\n",
    "            df = pd.read_json(os.path.join(result_path, jf), orient='index').transpose()\n",
    "        else:\n",
    "            df_tmp = pd.read_json(os.path.join(result_path, jf), orient='index').transpose()\n",
    "            df = pd.concat([df, df_tmp])\n",
    "\n",
    "    df = df.reset_index()\n",
    "    print('Result data shape: {}'.format(df.shape))\n",
    "    return df"
   ]
  },
  {
   "cell_type": "markdown",
   "id": "e1aabdfa",
   "metadata": {},
   "source": [
    "***"
   ]
  },
  {
   "attachments": {},
   "cell_type": "markdown",
   "id": "dca6a0ef",
   "metadata": {},
   "source": [
    "### Car Dealsデータでの比較\n",
    "車のPriceを車の特徴と写真から予測（回帰）。[Full Dataset](https://h2o-public-test-data.s3.amazonaws.com/bigdata/server/ImageData/car_deals.zip)  \n",
    "実験では画像のみを特徴量に利用"
   ]
  },
  {
   "cell_type": "code",
   "execution_count": null,
   "id": "192de33f",
   "metadata": {},
   "outputs": [],
   "source": [
    "pd.read_csv()"
   ]
  },
  {
   "cell_type": "code",
   "execution_count": 11,
   "id": "34aeeee1",
   "metadata": {},
   "outputs": [
    {
     "data": {
      "text/plain": [
       "<module 'posixpath' from '/opt/anaconda3/lib/python3.8/posixpath.py'>"
      ]
     },
     "execution_count": 11,
     "metadata": {},
     "output_type": "execute_result"
    }
   ],
   "source": [
    "os.path"
   ]
  },
  {
   "cell_type": "code",
   "execution_count": null,
   "id": "8e32fa45",
   "metadata": {},
   "outputs": [],
   "source": []
  },
  {
   "cell_type": "code",
   "execution_count": 4,
   "id": "8cc099a3",
   "metadata": {},
   "outputs": [
    {
     "name": "stdout",
     "output_type": "stream",
     "text": [
      "All files: 12, json files: 10\n",
      "Result data shape: (10, 13)\n"
     ]
    },
    {
     "data": {
      "text/html": [
       "<div>\n",
       "<style scoped>\n",
       "    .dataframe tbody tr th:only-of-type {\n",
       "        vertical-align: middle;\n",
       "    }\n",
       "\n",
       "    .dataframe tbody tr th {\n",
       "        vertical-align: top;\n",
       "    }\n",
       "\n",
       "    .dataframe thead th {\n",
       "        text-align: right;\n",
       "    }\n",
       "</style>\n",
       "<table border=\"1\" class=\"dataframe\">\n",
       "  <thead>\n",
       "    <tr style=\"text-align: right;\">\n",
       "      <th></th>\n",
       "      <th>index</th>\n",
       "      <th>Data_Name</th>\n",
       "      <th>Try</th>\n",
       "      <th>Datasize_mb</th>\n",
       "      <th>N_Observation</th>\n",
       "      <th>N_features</th>\n",
       "      <th>Shape_Train</th>\n",
       "      <th>Shape_Test</th>\n",
       "      <th>Network</th>\n",
       "      <th>Duration_min</th>\n",
       "      <th>Experiment_Size_mb</th>\n",
       "      <th>Acc_Time_Interpret</th>\n",
       "      <th>Metrics</th>\n",
       "    </tr>\n",
       "  </thead>\n",
       "  <tbody>\n",
       "    <tr>\n",
       "      <th>0</th>\n",
       "      <td>0</td>\n",
       "      <td>car_deals.zip</td>\n",
       "      <td>1</td>\n",
       "      <td>749.219669</td>\n",
       "      <td>34571</td>\n",
       "      <td>1</td>\n",
       "      <td>[25928, 16]</td>\n",
       "      <td>[8643, 16]</td>\n",
       "      <td>densenet121</td>\n",
       "      <td>54.72271</td>\n",
       "      <td>1538.862349</td>\n",
       "      <td>[7, 2, 8]</td>\n",
       "      <td>{'scorer': 'RMSE', 'val_score': 5650.540527343...</td>\n",
       "    </tr>\n",
       "    <tr>\n",
       "      <th>1</th>\n",
       "      <td>0</td>\n",
       "      <td>car_deals.zip</td>\n",
       "      <td>1</td>\n",
       "      <td>749.219669</td>\n",
       "      <td>34571</td>\n",
       "      <td>1</td>\n",
       "      <td>[25928, 16]</td>\n",
       "      <td>[8643, 16]</td>\n",
       "      <td>xception</td>\n",
       "      <td>39.420772</td>\n",
       "      <td>2222.24338</td>\n",
       "      <td>[7, 2, 8]</td>\n",
       "      <td>{'scorer': 'RMSE', 'val_score': 5710.359375, '...</td>\n",
       "    </tr>\n",
       "    <tr>\n",
       "      <th>2</th>\n",
       "      <td>0</td>\n",
       "      <td>car_deals.zip</td>\n",
       "      <td>1</td>\n",
       "      <td>749.219669</td>\n",
       "      <td>34571</td>\n",
       "      <td>1</td>\n",
       "      <td>[25928, 16]</td>\n",
       "      <td>[8643, 16]</td>\n",
       "      <td>seresnext50</td>\n",
       "      <td>88.177787</td>\n",
       "      <td>2481.342455</td>\n",
       "      <td>[7, 2, 8]</td>\n",
       "      <td>{'scorer': 'RMSE', 'val_score': 5673.998535156...</td>\n",
       "    </tr>\n",
       "  </tbody>\n",
       "</table>\n",
       "</div>"
      ],
      "text/plain": [
       "   index      Data_Name Try Datasize_mb N_Observation N_features  Shape_Train  \\\n",
       "0      0  car_deals.zip   1  749.219669         34571          1  [25928, 16]   \n",
       "1      0  car_deals.zip   1  749.219669         34571          1  [25928, 16]   \n",
       "2      0  car_deals.zip   1  749.219669         34571          1  [25928, 16]   \n",
       "\n",
       "   Shape_Test      Network Duration_min Experiment_Size_mb Acc_Time_Interpret  \\\n",
       "0  [8643, 16]  densenet121     54.72271        1538.862349          [7, 2, 8]   \n",
       "1  [8643, 16]     xception    39.420772         2222.24338          [7, 2, 8]   \n",
       "2  [8643, 16]  seresnext50    88.177787        2481.342455          [7, 2, 8]   \n",
       "\n",
       "                                             Metrics  \n",
       "0  {'scorer': 'RMSE', 'val_score': 5650.540527343...  \n",
       "1  {'scorer': 'RMSE', 'val_score': 5710.359375, '...  \n",
       "2  {'scorer': 'RMSE', 'val_score': 5673.998535156...  "
      ]
     },
     "execution_count": 4,
     "metadata": {},
     "output_type": "execute_result"
    }
   ],
   "source": [
    "df_car = get_resultdata('dl_archtect_test/result/')\n",
    "df_car = df_car[df_car['Data_Name']=='car_deals.zip']\n",
    "df_car.head(3)"
   ]
  },
  {
   "cell_type": "code",
   "execution_count": 5,
   "id": "2c65dc2a",
   "metadata": {},
   "outputs": [],
   "source": [
    "val_score_lst = []\n",
    "test_score_lst = []\n",
    "for _, row in df_car.iterrows():\n",
    "    #print(row['Metrics'])\n",
    "    val_score_lst.append(row['Metrics']['val_score'])\n",
    "    test_score_lst.append(row['Metrics']['test_score'])\n",
    "\n",
    "df_car['val_score_RMSE'] = val_score_lst\n",
    "df_car['test_score_RMSE'] = test_score_lst"
   ]
  },
  {
   "cell_type": "code",
   "execution_count": 6,
   "id": "f9c92787",
   "metadata": {},
   "outputs": [
    {
     "data": {
      "text/html": [
       "<div>\n",
       "<style scoped>\n",
       "    .dataframe tbody tr th:only-of-type {\n",
       "        vertical-align: middle;\n",
       "    }\n",
       "\n",
       "    .dataframe tbody tr th {\n",
       "        vertical-align: top;\n",
       "    }\n",
       "\n",
       "    .dataframe thead th {\n",
       "        text-align: right;\n",
       "    }\n",
       "</style>\n",
       "<table border=\"1\" class=\"dataframe\">\n",
       "  <thead>\n",
       "    <tr style=\"text-align: right;\">\n",
       "      <th></th>\n",
       "      <th>Network</th>\n",
       "      <th>Duration_min</th>\n",
       "      <th>Experiment_Size_mb</th>\n",
       "      <th>val_score_RMSE</th>\n",
       "      <th>test_score_RMSE</th>\n",
       "    </tr>\n",
       "  </thead>\n",
       "  <tbody>\n",
       "    <tr>\n",
       "      <th>0</th>\n",
       "      <td>densenet121</td>\n",
       "      <td>54.72271</td>\n",
       "      <td>1538.862349</td>\n",
       "      <td>5650.540527</td>\n",
       "      <td>5129.828613</td>\n",
       "    </tr>\n",
       "    <tr>\n",
       "      <th>1</th>\n",
       "      <td>xception</td>\n",
       "      <td>39.420772</td>\n",
       "      <td>2222.24338</td>\n",
       "      <td>5710.359375</td>\n",
       "      <td>5170.921387</td>\n",
       "    </tr>\n",
       "    <tr>\n",
       "      <th>2</th>\n",
       "      <td>seresnext50</td>\n",
       "      <td>88.177787</td>\n",
       "      <td>2481.342455</td>\n",
       "      <td>5673.998535</td>\n",
       "      <td>5104.689453</td>\n",
       "    </tr>\n",
       "    <tr>\n",
       "      <th>3</th>\n",
       "      <td>resnet34</td>\n",
       "      <td>38.185259</td>\n",
       "      <td>2239.956187</td>\n",
       "      <td>5761.494141</td>\n",
       "      <td>5181.739258</td>\n",
       "    </tr>\n",
       "    <tr>\n",
       "      <th>4</th>\n",
       "      <td>efficientnetb2</td>\n",
       "      <td>38.534034</td>\n",
       "      <td>1516.891189</td>\n",
       "      <td>5615.804688</td>\n",
       "      <td>5048.395996</td>\n",
       "    </tr>\n",
       "    <tr>\n",
       "      <th>5</th>\n",
       "      <td>efficientnetb0</td>\n",
       "      <td>44.510599</td>\n",
       "      <td>1324.197435</td>\n",
       "      <td>5641.707031</td>\n",
       "      <td>5036.506348</td>\n",
       "    </tr>\n",
       "    <tr>\n",
       "      <th>6</th>\n",
       "      <td>inception_v3</td>\n",
       "      <td>46.859148</td>\n",
       "      <td>1801.549356</td>\n",
       "      <td>5804.635254</td>\n",
       "      <td>5209.624023</td>\n",
       "    </tr>\n",
       "    <tr>\n",
       "      <th>7</th>\n",
       "      <td>resnet50</td>\n",
       "      <td>46.332429</td>\n",
       "      <td>1859.999482</td>\n",
       "      <td>5625.353027</td>\n",
       "      <td>5149.396484</td>\n",
       "    </tr>\n",
       "    <tr>\n",
       "      <th>8</th>\n",
       "      <td>seresnet50</td>\n",
       "      <td>44.91441</td>\n",
       "      <td>2519.726963</td>\n",
       "      <td>5552.256348</td>\n",
       "      <td>5114.483887</td>\n",
       "    </tr>\n",
       "    <tr>\n",
       "      <th>9</th>\n",
       "      <td>mobilenetv2</td>\n",
       "      <td>39.210557</td>\n",
       "      <td>1239.15507</td>\n",
       "      <td>5767.181152</td>\n",
       "      <td>5200.565430</td>\n",
       "    </tr>\n",
       "  </tbody>\n",
       "</table>\n",
       "</div>"
      ],
      "text/plain": [
       "          Network Duration_min Experiment_Size_mb  val_score_RMSE  \\\n",
       "0     densenet121     54.72271        1538.862349     5650.540527   \n",
       "1        xception    39.420772         2222.24338     5710.359375   \n",
       "2     seresnext50    88.177787        2481.342455     5673.998535   \n",
       "3        resnet34    38.185259        2239.956187     5761.494141   \n",
       "4  efficientnetb2    38.534034        1516.891189     5615.804688   \n",
       "5  efficientnetb0    44.510599        1324.197435     5641.707031   \n",
       "6    inception_v3    46.859148        1801.549356     5804.635254   \n",
       "7        resnet50    46.332429        1859.999482     5625.353027   \n",
       "8      seresnet50     44.91441        2519.726963     5552.256348   \n",
       "9     mobilenetv2    39.210557         1239.15507     5767.181152   \n",
       "\n",
       "   test_score_RMSE  \n",
       "0      5129.828613  \n",
       "1      5170.921387  \n",
       "2      5104.689453  \n",
       "3      5181.739258  \n",
       "4      5048.395996  \n",
       "5      5036.506348  \n",
       "6      5209.624023  \n",
       "7      5149.396484  \n",
       "8      5114.483887  \n",
       "9      5200.565430  "
      ]
     },
     "execution_count": 6,
     "metadata": {},
     "output_type": "execute_result"
    }
   ],
   "source": [
    "df_car[['Network','Duration_min','Experiment_Size_mb','val_score_RMSE','test_score_RMSE']]"
   ]
  },
  {
   "cell_type": "markdown",
   "id": "40cfbc52",
   "metadata": {},
   "source": [
    "### 学習時間とサイズ"
   ]
  },
  {
   "cell_type": "code",
   "execution_count": 7,
   "id": "5f44da9d",
   "metadata": {},
   "outputs": [
    {
     "data": {
      "image/png": "[encoded data removed]",
      "text/plain": [
       "<Figure size 432x432 with 1 Axes>"
      ]
     },
     "metadata": {
      "needs_background": "light"
     },
     "output_type": "display_data"
    }
   ],
   "source": [
    "plt.figure(figsize=(6,6))\n",
    "plt.scatter(df_car['Duration_min'], df_car['Experiment_Size_mb'], s=30, color=\"red\")\n",
    "plt.xlabel(\"Time (min)\")\n",
    "plt.ylabel(\"Experiment Size (MB)\")\n",
    "for i, label in enumerate(df_car['Network']):\n",
    "    plt.annotate(label, (df_car['Duration_min'][i], df_car['Experiment_Size_mb'][i]))\n",
    "plt.grid(True)\n",
    "\n",
    "plt.show()"
   ]
  },
  {
   "cell_type": "markdown",
   "id": "56b811f1",
   "metadata": {},
   "source": [
    "### 精度比較"
   ]
  },
  {
   "cell_type": "code",
   "execution_count": 10,
   "id": "52f2966f",
   "metadata": {},
   "outputs": [
    {
     "data": {
      "image/png": "[encoded data removed]",
      "text/plain": [
       "<Figure size 432x288 with 1 Axes>"
      ]
     },
     "metadata": {
      "needs_background": "light"
     },
     "output_type": "display_data"
    }
   ],
   "source": [
    "plt.bar(df_car['Network'], df_car['val_score_RMSE'], align=\"edge\", width=-0.3, label='Validation')\n",
    "plt.bar(df_car['Network'], df_car['test_score_RMSE'], align=\"edge\", width= 0.3, label='Test')\n",
    "plt.xticks(rotation=90)\n",
    "plt.legend(loc=3)\n",
    "plt.grid(True)\n",
    "plt.ylim(4500, 6000)\n",
    "\n",
    "plt.show()"
   ]
  },
  {
   "cell_type": "code",
   "execution_count": null,
   "id": "40d2a608",
   "metadata": {},
   "outputs": [],
   "source": []
  },
  {
   "cell_type": "code",
   "execution_count": null,
   "id": "d1f4fb3c",
   "metadata": {},
   "outputs": [],
   "source": []
  }
 ],
 "metadata": {
  "kernelspec": {
   "display_name": "Python 3",
   "language": "python",
   "name": "python3"
  },
  "language_info": {
   "codemirror_mode": {
    "name": "ipython",
    "version": 3
   },
   "file_extension": ".py",
   "mimetype": "text/x-python",
   "name": "python",
   "nbconvert_exporter": "python",
   "pygments_lexer": "ipython3",
   "version": "3.8.3"
  }
 },
 "nbformat": 4,
 "nbformat_minor": 5
}
