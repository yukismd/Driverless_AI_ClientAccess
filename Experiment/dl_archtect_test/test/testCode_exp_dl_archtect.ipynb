{
 "cells": [
  {
   "cell_type": "markdown",
   "id": "dd84a367",
   "metadata": {},
   "source": [
    "test code for deep learning archtects"
   ]
  },
  {
   "cell_type": "code",
   "execution_count": 1,
   "id": "a885b106",
   "metadata": {},
   "outputs": [
    {
     "data": {
      "text/plain": [
       "'1.10.1.3'"
      ]
     },
     "execution_count": 1,
     "metadata": {},
     "output_type": "execute_result"
    }
   ],
   "source": [
    "import os\n",
    "import json\n",
    "import datetime\n",
    "\n",
    "import pandas as pd\n",
    "import numpy as np\n",
    "\n",
    "import driverlessai\n",
    "driverlessai.__version__"
   ]
  },
  {
   "cell_type": "code",
   "execution_count": 2,
   "id": "fcc0e4db",
   "metadata": {},
   "outputs": [],
   "source": [
    "# Driverless AIのuser nameとpasswordの読み込み\n",
    "with open(os.path.join('..', '..', '..', 'idpass.json')) as f:\n",
    "    idpass = json.load(f)"
   ]
  },
  {
   "cell_type": "code",
   "execution_count": 18,
   "id": "89d358e3",
   "metadata": {},
   "outputs": [
    {
     "data": {
      "text/plain": [
       "<class 'driverlessai._core.Client'> http://35.172.135.60"
      ]
     },
     "execution_count": 18,
     "metadata": {},
     "output_type": "execute_result"
    }
   ],
   "source": [
    "dai = driverlessai.Client(address='http://35.172.135.60', username=idpass['id'], password=idpass['pass11013gpu'])\n",
    "dai"
   ]
  },
  {
   "cell_type": "code",
   "execution_count": 5,
   "id": "f935c249",
   "metadata": {},
   "outputs": [
    {
     "data": {
      "text/plain": [
       "{'histopathology_train.zip': '8ec3abf4-a407-11ec-8921-0242ac110002',\n",
       " 'car_deals.zip': '50119e5c-a407-11ec-8921-0242ac110002',\n",
       " 'UCI_Credit_Card3.csv': 'ac9c94bc-9f2d-11ec-ad99-0242ac110002',\n",
       " 'kaggle_train.csv': '056c70f0-9365-11ec-96ca-0242ac110002',\n",
       " 'talk4_customize_NLP検証用_h連携.csv': '9a306ad0-9364-11ec-96ca-0242ac110002',\n",
       " 'BostonHousing.csv': '6db78e82-91f9-11ec-a31a-0242ac110002'}"
      ]
     },
     "execution_count": 5,
     "metadata": {},
     "output_type": "execute_result"
    }
   ],
   "source": [
    "{i.name:i.key for i in dai.datasets.list()}"
   ]
  },
  {
   "cell_type": "code",
   "execution_count": 6,
   "id": "b784553f",
   "metadata": {},
   "outputs": [
    {
     "data": {
      "text/plain": [
       "<class 'Dataset'> 50119e5c-a407-11ec-8921-0242ac110002 car_deals.zip"
      ]
     },
     "execution_count": 6,
     "metadata": {},
     "output_type": "execute_result"
    }
   ],
   "source": [
    "ds = dai.datasets.get('50119e5c-a407-11ec-8921-0242ac110002') \n",
    "ds"
   ]
  },
  {
   "cell_type": "code",
   "execution_count": 13,
   "id": "f5db1896",
   "metadata": {},
   "outputs": [
    {
     "name": "stdout",
     "output_type": "stream",
     "text": [
      "enable_pytorch_nlp | default_value: auto\n",
      "pytorch_nlp_pretrained_models | default_value: ['bert-base-uncased', 'distilbert-base-uncased', 'bert-base-multilingual-cased']\n",
      "tensorflow_nlp_pretrained_embeddings_file_path | default_value: \n",
      "tensorflow_nlp_pretrained_s3_access_key_id | default_value: \n",
      "tensorflow_nlp_pretrained_s3_secret_access_key | default_value: \n",
      "tensorflow_nlp_pretrained_embeddings_trainable | default_value: False\n",
      "pytorch_nlp_pretrained_models_dir | default_value: \n",
      "enable_tensorflow_image | default_value: auto\n",
      "tensorflow_image_pretrained_models | default_value: ['xception']\n",
      "tensorflow_image_fine_tune | default_value: False\n",
      "tensorflow_image_fine_tuning_num_epochs | default_value: 2\n",
      "tensorflow_image_augmentations | default_value: ['HorizontalFlip']\n",
      "tensorflow_image_pretrained_models_dir | default_value: ./pretrained/image/\n"
     ]
    }
   ],
   "source": [
    "# Expert設定のパラメータの検索\n",
    "dai.experiments.search_expert_settings('pretrained')"
   ]
  },
  {
   "cell_type": "markdown",
   "id": "3d4c8804",
   "metadata": {},
   "source": [
    "dai.experiments.createのkeyword Argumentsに関して\n",
    "- https://docs.h2o.ai/driverless-ai/pyclient/docs/html/client.html#driverlessai._experiments.Experiments.create\n",
    "\n",
    "DLのアーキテクチャ設定（tensorflow_image_pretrained_models）\n",
    "- https://docs.h2o.ai/driverless-ai/latest-stable/docs/userguide/expert_settings/image_settings.html#tensorflow-image-pretrained-models"
   ]
  },
  {
   "cell_type": "code",
   "execution_count": 9,
   "id": "f0798cc7",
   "metadata": {},
   "outputs": [
    {
     "data": {
      "text/html": [
       "<div>\n",
       "<style scoped>\n",
       "    .dataframe tbody tr th:only-of-type {\n",
       "        vertical-align: middle;\n",
       "    }\n",
       "\n",
       "    .dataframe tbody tr th {\n",
       "        vertical-align: top;\n",
       "    }\n",
       "\n",
       "    .dataframe thead th {\n",
       "        text-align: right;\n",
       "    }\n",
       "</style>\n",
       "<table border=\"1\" class=\"dataframe\">\n",
       "  <thead>\n",
       "    <tr style=\"text-align: right;\">\n",
       "      <th></th>\n",
       "      <th>try_n</th>\n",
       "      <th>data_name</th>\n",
       "      <th>s3url</th>\n",
       "      <th>target_column</th>\n",
       "      <th>task</th>\n",
       "      <th>drop_columns</th>\n",
       "      <th>enable_gpus</th>\n",
       "      <th>test_mode</th>\n",
       "      <th>tensorflow_image_pretrained_models</th>\n",
       "    </tr>\n",
       "  </thead>\n",
       "  <tbody>\n",
       "    <tr>\n",
       "      <th>0</th>\n",
       "      <td>1</td>\n",
       "      <td>car_deals.zip</td>\n",
       "      <td>s3://h2o-public-test-data/bigdata/server/Image...</td>\n",
       "      <td>Price</td>\n",
       "      <td>regression</td>\n",
       "      <td>Manufacturer,Model,Year,Category,Mileage,FuelT...</td>\n",
       "      <td>NaN</td>\n",
       "      <td>True</td>\n",
       "      <td>efficientnetb0</td>\n",
       "    </tr>\n",
       "  </tbody>\n",
       "</table>\n",
       "</div>"
      ],
      "text/plain": [
       "   try_n      data_name                                              s3url  \\\n",
       "0      1  car_deals.zip  s3://h2o-public-test-data/bigdata/server/Image...   \n",
       "\n",
       "  target_column        task  \\\n",
       "0         Price  regression   \n",
       "\n",
       "                                        drop_columns  enable_gpus  test_mode  \\\n",
       "0  Manufacturer,Model,Year,Category,Mileage,FuelT...          NaN       True   \n",
       "\n",
       "  tensorflow_image_pretrained_models  \n",
       "0                     efficientnetb0  "
      ]
     },
     "execution_count": 9,
     "metadata": {},
     "output_type": "execute_result"
    }
   ],
   "source": [
    "df_expperiments_info = pd.read_csv('exp_params_test.csv')\n",
    "df_expperiments_info"
   ]
  },
  {
   "cell_type": "code",
   "execution_count": 10,
   "id": "21717e84",
   "metadata": {},
   "outputs": [],
   "source": [
    "row = df_expperiments_info.iloc[0,:]"
   ]
  },
  {
   "cell_type": "code",
   "execution_count": 11,
   "id": "bcd382ed",
   "metadata": {},
   "outputs": [
    {
     "name": "stdout",
     "output_type": "stream",
     "text": [
      "Complete\n"
     ]
    },
    {
     "data": {
      "text/plain": [
       "{'train_dataset': <class 'Dataset'> a0fd39d0-b3d3-11ec-8aea-0242ac110002 car_deals.zip_train,\n",
       " 'test_dataset': <class 'Dataset'> a0fd6220-b3d3-11ec-8aea-0242ac110002 car_deals.zip_test}"
      ]
     },
     "execution_count": 11,
     "metadata": {},
     "output_type": "execute_result"
    }
   ],
   "source": [
    "# データセットの学習、テストセットへの分割\n",
    "ds_split = ds.split_to_train_test(train_size=0.75, train_name=row['data_name'] + '_train', test_name=row['data_name'] + '_test')\n",
    "ds_split"
   ]
  },
  {
   "cell_type": "code",
   "execution_count": 12,
   "id": "2a957e86",
   "metadata": {},
   "outputs": [
    {
     "data": {
      "text/plain": [
       "{'target_column': 'Price',\n",
       " 'task': 'regression',\n",
       " 'drop_columns': ['Manufacturer',\n",
       "  'Model',\n",
       "  'Year',\n",
       "  'Category',\n",
       "  'Mileage',\n",
       "  'FuelType',\n",
       "  'EngineVolume',\n",
       "  'DriveWheels',\n",
       "  'GearBox',\n",
       "  'Doors',\n",
       "  'Wheel',\n",
       "  'Color',\n",
       "  'InteriorColor',\n",
       "  'LeatherInterior'],\n",
       " 'tensorflow_image_pretrained_models': ['efficientnetb0'],\n",
       " 'accuracy': 1,\n",
       " 'time': 1}"
      ]
     },
     "execution_count": 12,
     "metadata": {},
     "output_type": "execute_result"
    }
   ],
   "source": [
    "row = df_expperiments_info.iloc[0,:]\n",
    "\n",
    "s3url = row['s3url']  # DAIにアップされてない場合の取得先S3\n",
    "# Experiment設定\n",
    "target_column = row['target_column']\n",
    "task = row['task']    # 'regression', 'classification', or 'unsupervised'\n",
    "if row['drop_columns']  is np.nan:     # dropped clmを指定しない場合\n",
    "    drop_columns = []\n",
    "else:\n",
    "    drop_columns = row['drop_columns'] .split(',')     # strをList化\n",
    "\n",
    "pretrained = [row['tensorflow_image_pretrained_models']]\n",
    "\n",
    "dai_settings = {\n",
    "    #'train_dataset': ds, \n",
    "    'target_column': target_column,\n",
    "    'task': task,\n",
    "    'drop_columns': drop_columns,\n",
    "    'tensorflow_image_pretrained_models':[df_expperiments_info['tensorflow_image_pretrained_models'][0]]\n",
    "}\n",
    "if row['test_mode']:    # test modeの時、Acc=1&Time=1のExperimentを実施\n",
    "    dai_settings['accuracy'] = 1\n",
    "    dai_settings['time'] = 1\n",
    "\n",
    "dai_settings"
   ]
  },
  {
   "cell_type": "code",
   "execution_count": 116,
   "id": "d4fc0f05",
   "metadata": {},
   "outputs": [
    {
     "name": "stdout",
     "output_type": "stream",
     "text": [
      "Experiment launched at: http://3.95.6.232/#/experiment?key=4a0230f8-b221-11ec-9c59-0242ac110002\n",
      "Complete 100.00% - Status: Complete                                                \n"
     ]
    },
    {
     "data": {
      "text/plain": [
       "<class 'Experiment'> 4a0230f8-b221-11ec-9c59-0242ac110002 mabanoge"
      ]
     },
     "execution_count": 116,
     "metadata": {},
     "output_type": "execute_result"
    }
   ],
   "source": [
    "ex = dai.experiments.create(**ds_split, **dai_settings)\n",
    "ex"
   ]
  },
  {
   "cell_type": "code",
   "execution_count": 123,
   "id": "f149fe49",
   "metadata": {},
   "outputs": [
    {
     "name": "stdout",
     "output_type": "stream",
     "text": [
      "749.219669342041\n",
      "34571\n",
      "1\n",
      "7.225246338049571\n",
      "1152.5995473861694\n",
      "(1, 1, 8)\n"
     ]
    }
   ],
   "source": [
    "data_name = row['data_name']\n",
    "log_dataname = data_name\n",
    "log_try_n = row['try_n']\n",
    "log_datasize_mb = ds.file_size/1024**2     # 元データサイズ（MB）\n",
    "log_n_observation = ds.shape[0]    # オブザベーション数\n",
    "log_n_features = ds.shape[1] - len(drop_columns) - 1    # 特徴量数\n",
    "log_duration_min = ex.run_duration/60    # 実行時間（分）\n",
    "log_expsize_mb = ex.size/1024**2     # Experimentサイズ（MB）\n",
    "log_accuracy_time_interpretability = ex.settings['accuracy'], ex.settings['time'], ex.settings['interpretability']   # accuracy, time, interpretability\n",
    "\n",
    "print(log_datasize_mb)\n",
    "print(log_n_observation)\n",
    "print(log_n_features)\n",
    "print(log_duration_min)\n",
    "print(log_expsize_mb)\n",
    "print(log_accuracy_time_interpretability)"
   ]
  },
  {
   "cell_type": "code",
   "execution_count": 126,
   "id": "b78720e9",
   "metadata": {},
   "outputs": [
    {
     "data": {
      "text/plain": [
       "{'Data_Name': 'car_deals.zip',\n",
       " 'Try': 1,\n",
       " 'Datasize_mb': 749.219669342041,\n",
       " 'N_Observation': 34571,\n",
       " 'N_features': 1,\n",
       " 'Duration_min': 7.225246338049571,\n",
       " 'Experiment_Size_mb': 1152.5995473861694,\n",
       " 'Acc_Time_Interpret': (1, 1, 8),\n",
       " 'Metrics': {'scorer': 'RMSE',\n",
       "  'val_score': 5675.96630859375,\n",
       "  'val_score_sd': 139.94525146484375,\n",
       "  'val_roc_auc': None,\n",
       "  'val_pr_auc': None,\n",
       "  'test_score': 5193.61865234375,\n",
       "  'test_score_sd': 139.94525146484375,\n",
       "  'test_roc_auc': None,\n",
       "  'test_pr_auc': None}}"
      ]
     },
     "execution_count": 126,
     "metadata": {},
     "output_type": "execute_result"
    }
   ],
   "source": [
    "save_dict = dict(Data_Name=data_name,\n",
    "                 Try=row['try_n'],\n",
    "                 Datasize_mb = ds.file_size/1024**2,\n",
    "                 N_Observation = ds.shape[0],\n",
    "                 N_features = ds.shape[1] - len(drop_columns) - 1,\n",
    "                 Duration_min = ex.run_duration/60,\n",
    "                 Experiment_Size_mb = ex.size/1024**2,\n",
    "                 Acc_Time_Interpret = (ex.settings['accuracy'], ex.settings['time'], ex.settings['interpretability']),\n",
    "                 Metrics = ex.metrics()\n",
    "                )\n",
    "save_dict"
   ]
  },
  {
   "cell_type": "code",
   "execution_count": 132,
   "id": "ace0a85d",
   "metadata": {},
   "outputs": [],
   "source": [
    "#ds_split['train_dataset'].delete()\n",
    "#ds_split['test_dataset'].delete()"
   ]
  },
  {
   "cell_type": "code",
   "execution_count": null,
   "id": "ff390186",
   "metadata": {},
   "outputs": [],
   "source": []
  }
 ],
 "metadata": {
  "kernelspec": {
   "display_name": "Python 3",
   "language": "python",
   "name": "python3"
  },
  "language_info": {
   "codemirror_mode": {
    "name": "ipython",
    "version": 3
   },
   "file_extension": ".py",
   "mimetype": "text/x-python",
   "name": "python",
   "nbconvert_exporter": "python",
   "pygments_lexer": "ipython3",
   "version": "3.8.3"
  }
 },
 "nbformat": 4,
 "nbformat_minor": 5
}
