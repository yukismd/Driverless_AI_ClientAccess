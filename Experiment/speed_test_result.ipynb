{
 "cells": [
  {
   "cell_type": "markdown",
   "id": "d5f93979",
   "metadata": {},
   "source": [
    "## GPU vs CPU モデル学習速度"
   ]
  },
  {
   "cell_type": "markdown",
   "id": "da9cf4cf",
   "metadata": {},
   "source": [
    "CPUマシンとGPUマシンのExperiment完了速度（モデル学習速度）比較。Table Data（数値とカテゴリ型で構成される通常のデータ）と画像Data（1つのカラムが画像情報となっているデータ）で比較"
   ]
  },
  {
   "cell_type": "markdown",
   "id": "0e054a9f",
   "metadata": {},
   "source": [
    "### 比較用マシンスペック\n",
    "\n",
    "#### CPUマシン\n",
    "AWS EC2 m5.2xlarge - vCPU:8, メモリ(GiB):32\n",
    "\n",
    "#### GPUマシン\n",
    "AWS EC2 p3.2xlarge - GPUメモリ(GB):16, vCPU:8, メモリ(GB):61"
   ]
  },
  {
   "cell_type": "markdown",
   "id": "0516426f",
   "metadata": {},
   "source": [
    "### Driverless AI バージョン\n",
    "1.10.1.3"
   ]
  },
  {
   "cell_type": "markdown",
   "id": "2a04f733",
   "metadata": {},
   "source": [
    "***"
   ]
  },
  {
   "cell_type": "markdown",
   "id": "a4723936",
   "metadata": {},
   "source": [
    "### 実行方法\n",
    "\n",
    "`(your_env) $ python speed_test.py DAI-URL DAI-User DAI-Password experiment_meta_data/Experiments_Params.csv`  \n",
    "  \n",
    "バックグラウンド実行の場合  \n",
    "`(your_env) $ nohup python speed_test.py DAI-URL DAI-User DAI-Password experiment_meta_data/Experiments_Params.csv &`  \n",
    "\n",
    "- speed_test上で実行\n",
    "- speed_test上にresultフォルダを作成しておく（結果が\"speedtest_XXXX年XX月XX日XX時XX分XX秒.json\"で保存される）"
   ]
  },
  {
   "cell_type": "markdown",
   "id": "5c778807",
   "metadata": {},
   "source": [
    "***"
   ]
  },
  {
   "cell_type": "code",
   "execution_count": 1,
   "id": "38d74592",
   "metadata": {},
   "outputs": [],
   "source": [
    "import os\n",
    "#import json\n",
    "\n",
    "import pandas as pd\n",
    "import numpy as np\n",
    "import matplotlib.pyplot as plt"
   ]
  },
  {
   "cell_type": "code",
   "execution_count": 13,
   "id": "285e28ba",
   "metadata": {},
   "outputs": [],
   "source": [
    "def get_resultdata(result_path) -> pd.DataFrame:\n",
    "    all_files =  os.listdir(result_path)\n",
    "\n",
    "    ## json fileのみ取得\n",
    "    result_files = []\n",
    "    for f in all_files:\n",
    "        if os.path.splitext(f)[1] == '.json':\n",
    "            result_files.append(f)\n",
    "\n",
    "    print('All files: {}, json files: {}'.format(len(all_files), len(result_files)))\n",
    "\n",
    "    ## 全てのjson fileを結合し、DataFrameとする\n",
    "    for i, jf in enumerate(result_files):\n",
    "        if i == 0:\n",
    "            df = pd.read_json(os.path.join(result_path, jf), orient='index').transpose()\n",
    "        else:\n",
    "            df_tmp = pd.read_json(os.path.join(result_path, jf), orient='index').transpose()\n",
    "            df = pd.concat([df, df_tmp])\n",
    "\n",
    "    df = df.reset_index()\n",
    "    print('Result data shape: {}'.format(df.shape))\n",
    "    return df"
   ]
  },
  {
   "cell_type": "markdown",
   "id": "9422a788",
   "metadata": {},
   "source": [
    "***"
   ]
  },
  {
   "cell_type": "markdown",
   "id": "f9ceb2ac",
   "metadata": {},
   "source": [
    "## Table Dataでの比較"
   ]
  },
  {
   "cell_type": "code",
   "execution_count": 42,
   "id": "db1222c8",
   "metadata": {},
   "outputs": [
    {
     "name": "stdout",
     "output_type": "stream",
     "text": [
      "All files: 24, json files: 24\n",
      "Result data shape: (24, 10)\n"
     ]
    },
    {
     "data": {
      "text/html": [
       "<div>\n",
       "<style scoped>\n",
       "    .dataframe tbody tr th:only-of-type {\n",
       "        vertical-align: middle;\n",
       "    }\n",
       "\n",
       "    .dataframe tbody tr th {\n",
       "        vertical-align: top;\n",
       "    }\n",
       "\n",
       "    .dataframe thead th {\n",
       "        text-align: right;\n",
       "    }\n",
       "</style>\n",
       "<table border=\"1\" class=\"dataframe\">\n",
       "  <thead>\n",
       "    <tr style=\"text-align: right;\">\n",
       "      <th></th>\n",
       "      <th>index</th>\n",
       "      <th>Meta_Data</th>\n",
       "      <th>Data_Name</th>\n",
       "      <th>Try</th>\n",
       "      <th>Datasize_mb</th>\n",
       "      <th>N_Observation</th>\n",
       "      <th>N_features</th>\n",
       "      <th>Duration_min</th>\n",
       "      <th>Experiment_Size_mb</th>\n",
       "      <th>Acc_Time_Interpret</th>\n",
       "    </tr>\n",
       "  </thead>\n",
       "  <tbody>\n",
       "    <tr>\n",
       "      <th>0</th>\n",
       "      <td>0</td>\n",
       "      <td>experiment_meta_data/Experiments_Params_0308_G...</td>\n",
       "      <td>BostonHousing.csv</td>\n",
       "      <td>3</td>\n",
       "      <td>0.055092</td>\n",
       "      <td>506</td>\n",
       "      <td>13</td>\n",
       "      <td>8.674953</td>\n",
       "      <td>1061.235523</td>\n",
       "      <td>[7, 2, 8]</td>\n",
       "    </tr>\n",
       "    <tr>\n",
       "      <th>1</th>\n",
       "      <td>0</td>\n",
       "      <td>experiment_meta_data/Experiments_Params_0308_G...</td>\n",
       "      <td>loan_level_1M.csv</td>\n",
       "      <td>3</td>\n",
       "      <td>156.649689</td>\n",
       "      <td>1000000</td>\n",
       "      <td>24</td>\n",
       "      <td>73.813374</td>\n",
       "      <td>1355.719215</td>\n",
       "      <td>[7, 5, 5]</td>\n",
       "    </tr>\n",
       "    <tr>\n",
       "      <th>2</th>\n",
       "      <td>0</td>\n",
       "      <td>experiment_meta_data/Experiments_Params_0308_G...</td>\n",
       "      <td>BostonHousing.csv</td>\n",
       "      <td>3</td>\n",
       "      <td>0.055092</td>\n",
       "      <td>506</td>\n",
       "      <td>13</td>\n",
       "      <td>8.302996</td>\n",
       "      <td>1062.099873</td>\n",
       "      <td>[7, 2, 8]</td>\n",
       "    </tr>\n",
       "    <tr>\n",
       "      <th>3</th>\n",
       "      <td>0</td>\n",
       "      <td>experiment_meta_data/Experiments_Params_0308_G...</td>\n",
       "      <td>loan_level_1M.csv</td>\n",
       "      <td>3</td>\n",
       "      <td>156.649689</td>\n",
       "      <td>1000000</td>\n",
       "      <td>24</td>\n",
       "      <td>125.944246</td>\n",
       "      <td>1814.184278</td>\n",
       "      <td>[7, 5, 5]</td>\n",
       "    </tr>\n",
       "    <tr>\n",
       "      <th>4</th>\n",
       "      <td>0</td>\n",
       "      <td>experiment_meta_data/Experiments_Params_0308_c...</td>\n",
       "      <td>loan_level_500k.csv</td>\n",
       "      <td>3</td>\n",
       "      <td>78.349548</td>\n",
       "      <td>500137</td>\n",
       "      <td>24</td>\n",
       "      <td>69.595436</td>\n",
       "      <td>1448.075129</td>\n",
       "      <td>[7, 5, 5]</td>\n",
       "    </tr>\n",
       "    <tr>\n",
       "      <th>5</th>\n",
       "      <td>0</td>\n",
       "      <td>experiment_meta_data/Experiments_Params_0308_c...</td>\n",
       "      <td>loan_level_1M.csv</td>\n",
       "      <td>3</td>\n",
       "      <td>156.649689</td>\n",
       "      <td>1000000</td>\n",
       "      <td>24</td>\n",
       "      <td>115.428632</td>\n",
       "      <td>1763.6893</td>\n",
       "      <td>[7, 5, 5]</td>\n",
       "    </tr>\n",
       "    <tr>\n",
       "      <th>6</th>\n",
       "      <td>0</td>\n",
       "      <td>experiment_meta_data/Experiments_Params_0308_G...</td>\n",
       "      <td>UCI_Credit_Card3.csv</td>\n",
       "      <td>3</td>\n",
       "      <td>3.327423</td>\n",
       "      <td>30000</td>\n",
       "      <td>22</td>\n",
       "      <td>5.18203</td>\n",
       "      <td>1071.340805</td>\n",
       "      <td>[5, 4, 6]</td>\n",
       "    </tr>\n",
       "    <tr>\n",
       "      <th>7</th>\n",
       "      <td>0</td>\n",
       "      <td>experiment_meta_data/Experiments_Params_0308_G...</td>\n",
       "      <td>BostonHousing.csv</td>\n",
       "      <td>3</td>\n",
       "      <td>0.055092</td>\n",
       "      <td>506</td>\n",
       "      <td>13</td>\n",
       "      <td>8.584157</td>\n",
       "      <td>1063.568437</td>\n",
       "      <td>[7, 2, 8]</td>\n",
       "    </tr>\n",
       "    <tr>\n",
       "      <th>8</th>\n",
       "      <td>0</td>\n",
       "      <td>experiment_meta_data/Experiments_Params_0308_G...</td>\n",
       "      <td>UCI_Credit_Card3.csv</td>\n",
       "      <td>3</td>\n",
       "      <td>3.327423</td>\n",
       "      <td>30000</td>\n",
       "      <td>22</td>\n",
       "      <td>6.687438</td>\n",
       "      <td>1074.440367</td>\n",
       "      <td>[5, 4, 6]</td>\n",
       "    </tr>\n",
       "    <tr>\n",
       "      <th>9</th>\n",
       "      <td>0</td>\n",
       "      <td>experiment_meta_data/Experiments_Params_0308_G...</td>\n",
       "      <td>loan_level_500k.csv</td>\n",
       "      <td>3</td>\n",
       "      <td>78.349548</td>\n",
       "      <td>500137</td>\n",
       "      <td>24</td>\n",
       "      <td>33.983545</td>\n",
       "      <td>1156.811635</td>\n",
       "      <td>[7, 5, 5]</td>\n",
       "    </tr>\n",
       "    <tr>\n",
       "      <th>10</th>\n",
       "      <td>0</td>\n",
       "      <td>experiment_meta_data/Experiments_Params_0308_c...</td>\n",
       "      <td>UCI_Credit_Card3.csv</td>\n",
       "      <td>3</td>\n",
       "      <td>3.327423</td>\n",
       "      <td>30000</td>\n",
       "      <td>22</td>\n",
       "      <td>3.755997</td>\n",
       "      <td>1069.571444</td>\n",
       "      <td>[5, 4, 6]</td>\n",
       "    </tr>\n",
       "    <tr>\n",
       "      <th>11</th>\n",
       "      <td>0</td>\n",
       "      <td>experiment_meta_data/Experiments_Params_0308_c...</td>\n",
       "      <td>loan_level_1M.csv</td>\n",
       "      <td>3</td>\n",
       "      <td>156.649689</td>\n",
       "      <td>1000000</td>\n",
       "      <td>24</td>\n",
       "      <td>107.985007</td>\n",
       "      <td>1485.733225</td>\n",
       "      <td>[7, 5, 5]</td>\n",
       "    </tr>\n",
       "    <tr>\n",
       "      <th>12</th>\n",
       "      <td>0</td>\n",
       "      <td>experiment_meta_data/Experiments_Params_0308_G...</td>\n",
       "      <td>loan_level_500k.csv</td>\n",
       "      <td>3</td>\n",
       "      <td>78.349548</td>\n",
       "      <td>500137</td>\n",
       "      <td>24</td>\n",
       "      <td>59.031564</td>\n",
       "      <td>1284.16365</td>\n",
       "      <td>[7, 5, 5]</td>\n",
       "    </tr>\n",
       "    <tr>\n",
       "      <th>13</th>\n",
       "      <td>0</td>\n",
       "      <td>experiment_meta_data/Experiments_Params_0308_c...</td>\n",
       "      <td>UCI_Credit_Card3.csv</td>\n",
       "      <td>3</td>\n",
       "      <td>3.327423</td>\n",
       "      <td>30000</td>\n",
       "      <td>22</td>\n",
       "      <td>4.818243</td>\n",
       "      <td>1075.807139</td>\n",
       "      <td>[5, 4, 6]</td>\n",
       "    </tr>\n",
       "    <tr>\n",
       "      <th>14</th>\n",
       "      <td>0</td>\n",
       "      <td>experiment_meta_data/Experiments_Params_0308_c...</td>\n",
       "      <td>loan_level_500k.csv</td>\n",
       "      <td>3</td>\n",
       "      <td>78.349548</td>\n",
       "      <td>500137</td>\n",
       "      <td>24</td>\n",
       "      <td>51.270918</td>\n",
       "      <td>1279.80344</td>\n",
       "      <td>[7, 5, 5]</td>\n",
       "    </tr>\n",
       "    <tr>\n",
       "      <th>15</th>\n",
       "      <td>0</td>\n",
       "      <td>experiment_meta_data/Experiments_Params_0308_c...</td>\n",
       "      <td>BostonHousing.csv</td>\n",
       "      <td>3</td>\n",
       "      <td>0.055092</td>\n",
       "      <td>506</td>\n",
       "      <td>13</td>\n",
       "      <td>4.722265</td>\n",
       "      <td>1069.276423</td>\n",
       "      <td>[7, 2, 8]</td>\n",
       "    </tr>\n",
       "    <tr>\n",
       "      <th>16</th>\n",
       "      <td>0</td>\n",
       "      <td>experiment_meta_data/Experiments_Params_0308_c...</td>\n",
       "      <td>loan_level_500k.csv</td>\n",
       "      <td>3</td>\n",
       "      <td>78.349548</td>\n",
       "      <td>500137</td>\n",
       "      <td>24</td>\n",
       "      <td>44.681547</td>\n",
       "      <td>1172.467366</td>\n",
       "      <td>[7, 5, 5]</td>\n",
       "    </tr>\n",
       "    <tr>\n",
       "      <th>17</th>\n",
       "      <td>0</td>\n",
       "      <td>experiment_meta_data/Experiments_Params_0308_G...</td>\n",
       "      <td>loan_level_500k.csv</td>\n",
       "      <td>3</td>\n",
       "      <td>78.349548</td>\n",
       "      <td>500137</td>\n",
       "      <td>24</td>\n",
       "      <td>82.233922</td>\n",
       "      <td>1330.338455</td>\n",
       "      <td>[7, 5, 5]</td>\n",
       "    </tr>\n",
       "    <tr>\n",
       "      <th>18</th>\n",
       "      <td>0</td>\n",
       "      <td>experiment_meta_data/Experiments_Params_0308_c...</td>\n",
       "      <td>BostonHousing.csv</td>\n",
       "      <td>3</td>\n",
       "      <td>0.055092</td>\n",
       "      <td>506</td>\n",
       "      <td>13</td>\n",
       "      <td>5.351647</td>\n",
       "      <td>1062.474405</td>\n",
       "      <td>[7, 2, 8]</td>\n",
       "    </tr>\n",
       "    <tr>\n",
       "      <th>19</th>\n",
       "      <td>0</td>\n",
       "      <td>experiment_meta_data/Experiments_Params_0308_c...</td>\n",
       "      <td>loan_level_1M.csv</td>\n",
       "      <td>3</td>\n",
       "      <td>156.649689</td>\n",
       "      <td>1000000</td>\n",
       "      <td>24</td>\n",
       "      <td>74.23555</td>\n",
       "      <td>1418.09132</td>\n",
       "      <td>[7, 5, 5]</td>\n",
       "    </tr>\n",
       "    <tr>\n",
       "      <th>20</th>\n",
       "      <td>0</td>\n",
       "      <td>experiment_meta_data/Experiments_Params_0308_c...</td>\n",
       "      <td>BostonHousing.csv</td>\n",
       "      <td>3</td>\n",
       "      <td>0.055092</td>\n",
       "      <td>506</td>\n",
       "      <td>13</td>\n",
       "      <td>4.721844</td>\n",
       "      <td>1063.425994</td>\n",
       "      <td>[7, 2, 8]</td>\n",
       "    </tr>\n",
       "    <tr>\n",
       "      <th>21</th>\n",
       "      <td>0</td>\n",
       "      <td>experiment_meta_data/Experiments_Params_0308_c...</td>\n",
       "      <td>UCI_Credit_Card3.csv</td>\n",
       "      <td>3</td>\n",
       "      <td>3.327423</td>\n",
       "      <td>30000</td>\n",
       "      <td>22</td>\n",
       "      <td>4.374824</td>\n",
       "      <td>1067.218612</td>\n",
       "      <td>[5, 4, 6]</td>\n",
       "    </tr>\n",
       "    <tr>\n",
       "      <th>22</th>\n",
       "      <td>0</td>\n",
       "      <td>experiment_meta_data/Experiments_Params_0308_G...</td>\n",
       "      <td>UCI_Credit_Card3.csv</td>\n",
       "      <td>3</td>\n",
       "      <td>3.327423</td>\n",
       "      <td>30000</td>\n",
       "      <td>22</td>\n",
       "      <td>4.73689</td>\n",
       "      <td>1091.096479</td>\n",
       "      <td>[5, 4, 6]</td>\n",
       "    </tr>\n",
       "    <tr>\n",
       "      <th>23</th>\n",
       "      <td>0</td>\n",
       "      <td>experiment_meta_data/Experiments_Params_0308_G...</td>\n",
       "      <td>loan_level_1M.csv</td>\n",
       "      <td>3</td>\n",
       "      <td>156.649689</td>\n",
       "      <td>1000000</td>\n",
       "      <td>24</td>\n",
       "      <td>131.156231</td>\n",
       "      <td>1603.519441</td>\n",
       "      <td>[7, 5, 5]</td>\n",
       "    </tr>\n",
       "  </tbody>\n",
       "</table>\n",
       "</div>"
      ],
      "text/plain": [
       "    index                                          Meta_Data  \\\n",
       "0       0  experiment_meta_data/Experiments_Params_0308_G...   \n",
       "1       0  experiment_meta_data/Experiments_Params_0308_G...   \n",
       "2       0  experiment_meta_data/Experiments_Params_0308_G...   \n",
       "3       0  experiment_meta_data/Experiments_Params_0308_G...   \n",
       "4       0  experiment_meta_data/Experiments_Params_0308_c...   \n",
       "5       0  experiment_meta_data/Experiments_Params_0308_c...   \n",
       "6       0  experiment_meta_data/Experiments_Params_0308_G...   \n",
       "7       0  experiment_meta_data/Experiments_Params_0308_G...   \n",
       "8       0  experiment_meta_data/Experiments_Params_0308_G...   \n",
       "9       0  experiment_meta_data/Experiments_Params_0308_G...   \n",
       "10      0  experiment_meta_data/Experiments_Params_0308_c...   \n",
       "11      0  experiment_meta_data/Experiments_Params_0308_c...   \n",
       "12      0  experiment_meta_data/Experiments_Params_0308_G...   \n",
       "13      0  experiment_meta_data/Experiments_Params_0308_c...   \n",
       "14      0  experiment_meta_data/Experiments_Params_0308_c...   \n",
       "15      0  experiment_meta_data/Experiments_Params_0308_c...   \n",
       "16      0  experiment_meta_data/Experiments_Params_0308_c...   \n",
       "17      0  experiment_meta_data/Experiments_Params_0308_G...   \n",
       "18      0  experiment_meta_data/Experiments_Params_0308_c...   \n",
       "19      0  experiment_meta_data/Experiments_Params_0308_c...   \n",
       "20      0  experiment_meta_data/Experiments_Params_0308_c...   \n",
       "21      0  experiment_meta_data/Experiments_Params_0308_c...   \n",
       "22      0  experiment_meta_data/Experiments_Params_0308_G...   \n",
       "23      0  experiment_meta_data/Experiments_Params_0308_G...   \n",
       "\n",
       "               Data_Name Try Datasize_mb N_Observation N_features  \\\n",
       "0      BostonHousing.csv   3    0.055092           506         13   \n",
       "1      loan_level_1M.csv   3  156.649689       1000000         24   \n",
       "2      BostonHousing.csv   3    0.055092           506         13   \n",
       "3      loan_level_1M.csv   3  156.649689       1000000         24   \n",
       "4    loan_level_500k.csv   3   78.349548        500137         24   \n",
       "5      loan_level_1M.csv   3  156.649689       1000000         24   \n",
       "6   UCI_Credit_Card3.csv   3    3.327423         30000         22   \n",
       "7      BostonHousing.csv   3    0.055092           506         13   \n",
       "8   UCI_Credit_Card3.csv   3    3.327423         30000         22   \n",
       "9    loan_level_500k.csv   3   78.349548        500137         24   \n",
       "10  UCI_Credit_Card3.csv   3    3.327423         30000         22   \n",
       "11     loan_level_1M.csv   3  156.649689       1000000         24   \n",
       "12   loan_level_500k.csv   3   78.349548        500137         24   \n",
       "13  UCI_Credit_Card3.csv   3    3.327423         30000         22   \n",
       "14   loan_level_500k.csv   3   78.349548        500137         24   \n",
       "15     BostonHousing.csv   3    0.055092           506         13   \n",
       "16   loan_level_500k.csv   3   78.349548        500137         24   \n",
       "17   loan_level_500k.csv   3   78.349548        500137         24   \n",
       "18     BostonHousing.csv   3    0.055092           506         13   \n",
       "19     loan_level_1M.csv   3  156.649689       1000000         24   \n",
       "20     BostonHousing.csv   3    0.055092           506         13   \n",
       "21  UCI_Credit_Card3.csv   3    3.327423         30000         22   \n",
       "22  UCI_Credit_Card3.csv   3    3.327423         30000         22   \n",
       "23     loan_level_1M.csv   3  156.649689       1000000         24   \n",
       "\n",
       "   Duration_min Experiment_Size_mb Acc_Time_Interpret  \n",
       "0      8.674953        1061.235523          [7, 2, 8]  \n",
       "1     73.813374        1355.719215          [7, 5, 5]  \n",
       "2      8.302996        1062.099873          [7, 2, 8]  \n",
       "3    125.944246        1814.184278          [7, 5, 5]  \n",
       "4     69.595436        1448.075129          [7, 5, 5]  \n",
       "5    115.428632          1763.6893          [7, 5, 5]  \n",
       "6       5.18203        1071.340805          [5, 4, 6]  \n",
       "7      8.584157        1063.568437          [7, 2, 8]  \n",
       "8      6.687438        1074.440367          [5, 4, 6]  \n",
       "9     33.983545        1156.811635          [7, 5, 5]  \n",
       "10     3.755997        1069.571444          [5, 4, 6]  \n",
       "11   107.985007        1485.733225          [7, 5, 5]  \n",
       "12    59.031564         1284.16365          [7, 5, 5]  \n",
       "13     4.818243        1075.807139          [5, 4, 6]  \n",
       "14    51.270918         1279.80344          [7, 5, 5]  \n",
       "15     4.722265        1069.276423          [7, 2, 8]  \n",
       "16    44.681547        1172.467366          [7, 5, 5]  \n",
       "17    82.233922        1330.338455          [7, 5, 5]  \n",
       "18     5.351647        1062.474405          [7, 2, 8]  \n",
       "19     74.23555         1418.09132          [7, 5, 5]  \n",
       "20     4.721844        1063.425994          [7, 2, 8]  \n",
       "21     4.374824        1067.218612          [5, 4, 6]  \n",
       "22      4.73689        1091.096479          [5, 4, 6]  \n",
       "23   131.156231        1603.519441          [7, 5, 5]  "
      ]
     },
     "execution_count": 42,
     "metadata": {},
     "output_type": "execute_result"
    }
   ],
   "source": [
    "df_table = get_resultdata('speed_test/result_0314')\n",
    "df_table"
   ]
  },
  {
   "cell_type": "code",
   "execution_count": 17,
   "id": "6eaad790",
   "metadata": {},
   "outputs": [],
   "source": [
    "df_table['sort_index'] = df_table['Data_Name'].map({'BostonHousing.csv':1,\n",
    "                                                    'UCI_Credit_Card3.csv':2,\n",
    "                                                    'loan_level_500k.csv':3,\n",
    "                                                    'loan_level_1M.csv':4})\n",
    "df_table = df_table.sort_values('sort_index')"
   ]
  },
  {
   "cell_type": "markdown",
   "id": "339c34d1",
   "metadata": {},
   "source": [
    "***"
   ]
  },
  {
   "cell_type": "markdown",
   "id": "e3bc9ca3",
   "metadata": {},
   "source": [
    "### 利用データに関して\n",
    "- データ名\n",
    "- データサイズ（MB）\n",
    "- 行数\n",
    "- 特徴量の数"
   ]
  },
  {
   "cell_type": "code",
   "execution_count": 19,
   "id": "97d64e23",
   "metadata": {},
   "outputs": [
    {
     "data": {
      "text/html": [
       "<div>\n",
       "<style scoped>\n",
       "    .dataframe tbody tr th:only-of-type {\n",
       "        vertical-align: middle;\n",
       "    }\n",
       "\n",
       "    .dataframe tbody tr th {\n",
       "        vertical-align: top;\n",
       "    }\n",
       "\n",
       "    .dataframe thead th {\n",
       "        text-align: right;\n",
       "    }\n",
       "</style>\n",
       "<table border=\"1\" class=\"dataframe\">\n",
       "  <thead>\n",
       "    <tr style=\"text-align: right;\">\n",
       "      <th></th>\n",
       "      <th>Data_Name</th>\n",
       "      <th>Datasize_mb</th>\n",
       "      <th>N_Observation</th>\n",
       "      <th>N_features</th>\n",
       "    </tr>\n",
       "  </thead>\n",
       "  <tbody>\n",
       "    <tr>\n",
       "      <th>0</th>\n",
       "      <td>BostonHousing.csv</td>\n",
       "      <td>0.055092</td>\n",
       "      <td>506</td>\n",
       "      <td>13</td>\n",
       "    </tr>\n",
       "    <tr>\n",
       "      <th>6</th>\n",
       "      <td>UCI_Credit_Card3.csv</td>\n",
       "      <td>3.327423</td>\n",
       "      <td>30000</td>\n",
       "      <td>22</td>\n",
       "    </tr>\n",
       "    <tr>\n",
       "      <th>4</th>\n",
       "      <td>loan_level_500k.csv</td>\n",
       "      <td>78.349548</td>\n",
       "      <td>500137</td>\n",
       "      <td>24</td>\n",
       "    </tr>\n",
       "    <tr>\n",
       "      <th>19</th>\n",
       "      <td>loan_level_1M.csv</td>\n",
       "      <td>156.649689</td>\n",
       "      <td>1000000</td>\n",
       "      <td>24</td>\n",
       "    </tr>\n",
       "  </tbody>\n",
       "</table>\n",
       "</div>"
      ],
      "text/plain": [
       "               Data_Name Datasize_mb N_Observation N_features\n",
       "0      BostonHousing.csv    0.055092           506         13\n",
       "6   UCI_Credit_Card3.csv    3.327423         30000         22\n",
       "4    loan_level_500k.csv   78.349548        500137         24\n",
       "19     loan_level_1M.csv  156.649689       1000000         24"
      ]
     },
     "execution_count": 19,
     "metadata": {},
     "output_type": "execute_result"
    }
   ],
   "source": [
    "df_table[['Data_Name','Datasize_mb','N_Observation','N_features']].drop_duplicates()"
   ]
  },
  {
   "cell_type": "markdown",
   "id": "4030c090",
   "metadata": {},
   "source": [
    "#### データへのリンク\n",
    "- [BostonHousing.csv](https://h2oai-jp-public.s3.ap-northeast-1.amazonaws.com/sample_data/boston_house/BostonHousing.csv)\n",
    "- [UCI_Credit_Card3.csv](https://h2oai-jp-public.s3.ap-northeast-1.amazonaws.com/sample_data/UCI_CreditCard/UCI_Credit_Card3.csv)\n",
    "- [loan_level_500k.csv](https://s3.amazonaws.com/data.h2o.ai/DAI-Tutorials/loan_level_500k.csv)\n",
    "- [loan_level_1M.csv](https://s3.amazonaws.com/data.h2o.ai/DAI-Tutorials/loan_level_1M.csv)"
   ]
  },
  {
   "cell_type": "markdown",
   "id": "c8edff3e",
   "metadata": {},
   "source": [
    "***"
   ]
  },
  {
   "cell_type": "code",
   "execution_count": 22,
   "id": "0a03fa11",
   "metadata": {},
   "outputs": [],
   "source": [
    "df_table_cpu = df_table[df_table['Meta_Data']=='experiment_meta_data/Experiments_Params_0308_cpu.csv']   # CPUマシン結果\n",
    "df_table_cpu = df_table_cpu[['Data_Name', 'Duration_min', 'Experiment_Size_mb']]\n",
    "df_table_cpu['Duration_min'] = df_table_cpu['Duration_min'].astype(np.float64)\n",
    "df_table_cpu['Experiment_Size_mb'] = df_table_cpu['Experiment_Size_mb'].astype(np.float64)\n",
    "#df_cpu = df_cpu.sort_values('Data_Name')\n",
    "\n",
    "df_table_gpu = df_table[df_table['Meta_Data']=='experiment_meta_data/Experiments_Params_0308_Gpu.csv']  # GPUマシン結果\n",
    "df_table_gpu = df_table_gpu[['Data_Name', 'Duration_min', 'Experiment_Size_mb']]\n",
    "df_table_gpu['Duration_min'] = df_table_gpu['Duration_min'].astype(np.float64)\n",
    "df_table_gpu['Experiment_Size_mb'] = df_table_gpu['Experiment_Size_mb'].astype(np.float64)\n",
    "#df_gpu = df_gpu.sort_values('Data_Name')"
   ]
  },
  {
   "cell_type": "markdown",
   "id": "25f5210e",
   "metadata": {},
   "source": [
    "### CPUマシンでの結果"
   ]
  },
  {
   "cell_type": "markdown",
   "id": "769b0195",
   "metadata": {},
   "source": [
    "#### 各データでの平均完了時間（4種類のデータで、デフォルト設定で各々3回のモデル作成を実施）"
   ]
  },
  {
   "cell_type": "code",
   "execution_count": 25,
   "id": "f1524cc7",
   "metadata": {},
   "outputs": [
    {
     "data": {
      "text/html": [
       "<div>\n",
       "<style scoped>\n",
       "    .dataframe tbody tr th:only-of-type {\n",
       "        vertical-align: middle;\n",
       "    }\n",
       "\n",
       "    .dataframe tbody tr th {\n",
       "        vertical-align: top;\n",
       "    }\n",
       "\n",
       "    .dataframe thead th {\n",
       "        text-align: right;\n",
       "    }\n",
       "</style>\n",
       "<table border=\"1\" class=\"dataframe\">\n",
       "  <thead>\n",
       "    <tr style=\"text-align: right;\">\n",
       "      <th></th>\n",
       "      <th>Duration_min</th>\n",
       "      <th>Experiment_Size_mb</th>\n",
       "    </tr>\n",
       "    <tr>\n",
       "      <th>Data_Name</th>\n",
       "      <th></th>\n",
       "      <th></th>\n",
       "    </tr>\n",
       "  </thead>\n",
       "  <tbody>\n",
       "    <tr>\n",
       "      <th>BostonHousing.csv</th>\n",
       "      <td>4.931919</td>\n",
       "      <td>1065.058941</td>\n",
       "    </tr>\n",
       "    <tr>\n",
       "      <th>UCI_Credit_Card3.csv</th>\n",
       "      <td>4.316354</td>\n",
       "      <td>1070.865732</td>\n",
       "    </tr>\n",
       "    <tr>\n",
       "      <th>loan_level_500k.csv</th>\n",
       "      <td>55.182633</td>\n",
       "      <td>1300.115312</td>\n",
       "    </tr>\n",
       "    <tr>\n",
       "      <th>loan_level_1M.csv</th>\n",
       "      <td>99.216396</td>\n",
       "      <td>1555.837948</td>\n",
       "    </tr>\n",
       "  </tbody>\n",
       "</table>\n",
       "</div>"
      ],
      "text/plain": [
       "                      Duration_min  Experiment_Size_mb\n",
       "Data_Name                                             \n",
       "BostonHousing.csv         4.931919         1065.058941\n",
       "UCI_Credit_Card3.csv      4.316354         1070.865732\n",
       "loan_level_500k.csv      55.182633         1300.115312\n",
       "loan_level_1M.csv        99.216396         1555.837948"
      ]
     },
     "execution_count": 25,
     "metadata": {},
     "output_type": "execute_result"
    }
   ],
   "source": [
    "df_table_cpu.groupby('Data_Name').mean().reindex(index=['BostonHousing.csv','UCI_Credit_Card3.csv','loan_level_500k.csv','loan_level_1M.csv'])"
   ]
  },
  {
   "cell_type": "markdown",
   "id": "a5b8b7ce",
   "metadata": {},
   "source": [
    "Duration_min: Experment完了時間（分）  \n",
    "Experiment_Size_mb: Experimentのサイズ（MB）"
   ]
  },
  {
   "cell_type": "markdown",
   "id": "84a571f0",
   "metadata": {},
   "source": [
    "#### 結果の元データのプロット"
   ]
  },
  {
   "cell_type": "code",
   "execution_count": 28,
   "id": "77c8d8bb",
   "metadata": {},
   "outputs": [
    {
     "data": {
      "image/png": "[encoded data removed]",
      "text/plain": [
       "<Figure size 432x288 with 1 Axes>"
      ]
     },
     "metadata": {
      "needs_background": "light"
     },
     "output_type": "display_data"
    }
   ],
   "source": [
    "plt.scatter(df_table_cpu['Data_Name'], df_table_cpu['Duration_min'])\n",
    "plt.ylabel('min')\n",
    "plt.xticks(rotation=90)\n",
    "plt.show()"
   ]
  },
  {
   "cell_type": "markdown",
   "id": "9c1618c1",
   "metadata": {},
   "source": [
    "### GPUマシンでの結果"
   ]
  },
  {
   "cell_type": "markdown",
   "id": "c98f2350",
   "metadata": {},
   "source": [
    "#### 各データでの平均完了時間（4種類のデータで、デフォルト設定で各々3回のモデル作成を実施）"
   ]
  },
  {
   "cell_type": "code",
   "execution_count": 26,
   "id": "4f44f36c",
   "metadata": {},
   "outputs": [
    {
     "data": {
      "text/html": [
       "<div>\n",
       "<style scoped>\n",
       "    .dataframe tbody tr th:only-of-type {\n",
       "        vertical-align: middle;\n",
       "    }\n",
       "\n",
       "    .dataframe tbody tr th {\n",
       "        vertical-align: top;\n",
       "    }\n",
       "\n",
       "    .dataframe thead th {\n",
       "        text-align: right;\n",
       "    }\n",
       "</style>\n",
       "<table border=\"1\" class=\"dataframe\">\n",
       "  <thead>\n",
       "    <tr style=\"text-align: right;\">\n",
       "      <th></th>\n",
       "      <th>Duration_min</th>\n",
       "      <th>Experiment_Size_mb</th>\n",
       "    </tr>\n",
       "    <tr>\n",
       "      <th>Data_Name</th>\n",
       "      <th></th>\n",
       "      <th></th>\n",
       "    </tr>\n",
       "  </thead>\n",
       "  <tbody>\n",
       "    <tr>\n",
       "      <th>BostonHousing.csv</th>\n",
       "      <td>8.520702</td>\n",
       "      <td>1062.301277</td>\n",
       "    </tr>\n",
       "    <tr>\n",
       "      <th>UCI_Credit_Card3.csv</th>\n",
       "      <td>5.535453</td>\n",
       "      <td>1078.959217</td>\n",
       "    </tr>\n",
       "    <tr>\n",
       "      <th>loan_level_500k.csv</th>\n",
       "      <td>58.416344</td>\n",
       "      <td>1257.104580</td>\n",
       "    </tr>\n",
       "    <tr>\n",
       "      <th>loan_level_1M.csv</th>\n",
       "      <td>110.304617</td>\n",
       "      <td>1591.140978</td>\n",
       "    </tr>\n",
       "  </tbody>\n",
       "</table>\n",
       "</div>"
      ],
      "text/plain": [
       "                      Duration_min  Experiment_Size_mb\n",
       "Data_Name                                             \n",
       "BostonHousing.csv         8.520702         1062.301277\n",
       "UCI_Credit_Card3.csv      5.535453         1078.959217\n",
       "loan_level_500k.csv      58.416344         1257.104580\n",
       "loan_level_1M.csv       110.304617         1591.140978"
      ]
     },
     "execution_count": 26,
     "metadata": {},
     "output_type": "execute_result"
    }
   ],
   "source": [
    "df_table_gpu.groupby('Data_Name').mean().reindex(index=['BostonHousing.csv','UCI_Credit_Card3.csv','loan_level_500k.csv','loan_level_1M.csv'])"
   ]
  },
  {
   "cell_type": "markdown",
   "id": "cd463fd4",
   "metadata": {},
   "source": [
    "#### 結果の元データのプロット"
   ]
  },
  {
   "cell_type": "code",
   "execution_count": 27,
   "id": "9aa3267a",
   "metadata": {},
   "outputs": [
    {
     "data": {
      "image/png": "[encoded data removed]",
      "text/plain": [
       "<Figure size 432x288 with 1 Axes>"
      ]
     },
     "metadata": {
      "needs_background": "light"
     },
     "output_type": "display_data"
    }
   ],
   "source": [
    "plt.scatter(df_table_gpu['Data_Name'], df_table_gpu['Duration_min'])\n",
    "plt.ylabel('min')\n",
    "plt.xticks(rotation=90)\n",
    "plt.show()"
   ]
  },
  {
   "cell_type": "markdown",
   "id": "3fa9abda",
   "metadata": {},
   "source": [
    "***"
   ]
  },
  {
   "cell_type": "markdown",
   "id": "6ccb33ef",
   "metadata": {},
   "source": [
    "## 画像Dataでの比較"
   ]
  },
  {
   "cell_type": "code",
   "execution_count": 49,
   "id": "1a8aa224",
   "metadata": {},
   "outputs": [
    {
     "name": "stdout",
     "output_type": "stream",
     "text": [
      "All files: 13, json files: 12\n",
      "Result data shape: (12, 10)\n"
     ]
    },
    {
     "data": {
      "text/html": [
       "<div>\n",
       "<style scoped>\n",
       "    .dataframe tbody tr th:only-of-type {\n",
       "        vertical-align: middle;\n",
       "    }\n",
       "\n",
       "    .dataframe tbody tr th {\n",
       "        vertical-align: top;\n",
       "    }\n",
       "\n",
       "    .dataframe thead th {\n",
       "        text-align: right;\n",
       "    }\n",
       "</style>\n",
       "<table border=\"1\" class=\"dataframe\">\n",
       "  <thead>\n",
       "    <tr style=\"text-align: right;\">\n",
       "      <th></th>\n",
       "      <th>index</th>\n",
       "      <th>Meta_Data</th>\n",
       "      <th>Data_Name</th>\n",
       "      <th>Try</th>\n",
       "      <th>Datasize_mb</th>\n",
       "      <th>N_Observation</th>\n",
       "      <th>N_features</th>\n",
       "      <th>Duration_min</th>\n",
       "      <th>Experiment_Size_mb</th>\n",
       "      <th>Acc_Time_Interpret</th>\n",
       "    </tr>\n",
       "  </thead>\n",
       "  <tbody>\n",
       "    <tr>\n",
       "      <th>0</th>\n",
       "      <td>0</td>\n",
       "      <td>experiment_meta_data/Experiments_Params_0315_c...</td>\n",
       "      <td>car_deals.zip</td>\n",
       "      <td>3</td>\n",
       "      <td>749.219669</td>\n",
       "      <td>34571</td>\n",
       "      <td>4</td>\n",
       "      <td>97.770278</td>\n",
       "      <td>3443.948625</td>\n",
       "      <td>[6, 3, 7]</td>\n",
       "    </tr>\n",
       "    <tr>\n",
       "      <th>1</th>\n",
       "      <td>0</td>\n",
       "      <td>experiment_meta_data/Experiments_Params_0315_c...</td>\n",
       "      <td>car_deals.zip</td>\n",
       "      <td>3</td>\n",
       "      <td>749.219669</td>\n",
       "      <td>34571</td>\n",
       "      <td>4</td>\n",
       "      <td>88.659758</td>\n",
       "      <td>3369.043343</td>\n",
       "      <td>[6, 3, 7]</td>\n",
       "    </tr>\n",
       "    <tr>\n",
       "      <th>2</th>\n",
       "      <td>0</td>\n",
       "      <td>experiment_meta_data/Experiments_Params_0315_c...</td>\n",
       "      <td>car_deals.zip</td>\n",
       "      <td>3</td>\n",
       "      <td>749.219669</td>\n",
       "      <td>34571</td>\n",
       "      <td>4</td>\n",
       "      <td>115.199171</td>\n",
       "      <td>3424.4299</td>\n",
       "      <td>[6, 3, 7]</td>\n",
       "    </tr>\n",
       "    <tr>\n",
       "      <th>3</th>\n",
       "      <td>0</td>\n",
       "      <td>experiment_meta_data/Experiments_Params_0315_G...</td>\n",
       "      <td>histopathology_train.zip</td>\n",
       "      <td>3</td>\n",
       "      <td>535.888886</td>\n",
       "      <td>20000</td>\n",
       "      <td>1</td>\n",
       "      <td>34.631066</td>\n",
       "      <td>2227.520843</td>\n",
       "      <td>[7, 2, 8]</td>\n",
       "    </tr>\n",
       "    <tr>\n",
       "      <th>4</th>\n",
       "      <td>0</td>\n",
       "      <td>experiment_meta_data/Experiments_Params_0315_c...</td>\n",
       "      <td>histopathology_train.zip</td>\n",
       "      <td>3</td>\n",
       "      <td>535.888886</td>\n",
       "      <td>20000</td>\n",
       "      <td>1</td>\n",
       "      <td>67.442914</td>\n",
       "      <td>2263.252513</td>\n",
       "      <td>[7, 2, 8]</td>\n",
       "    </tr>\n",
       "    <tr>\n",
       "      <th>5</th>\n",
       "      <td>0</td>\n",
       "      <td>experiment_meta_data/Experiments_Params_0315_c...</td>\n",
       "      <td>histopathology_train.zip</td>\n",
       "      <td>3</td>\n",
       "      <td>535.888886</td>\n",
       "      <td>20000</td>\n",
       "      <td>1</td>\n",
       "      <td>68.296825</td>\n",
       "      <td>2259.084153</td>\n",
       "      <td>[7, 2, 8]</td>\n",
       "    </tr>\n",
       "    <tr>\n",
       "      <th>6</th>\n",
       "      <td>0</td>\n",
       "      <td>experiment_meta_data/Experiments_Params_0315_c...</td>\n",
       "      <td>histopathology_train.zip</td>\n",
       "      <td>3</td>\n",
       "      <td>535.888886</td>\n",
       "      <td>20000</td>\n",
       "      <td>1</td>\n",
       "      <td>72.527359</td>\n",
       "      <td>2204.875103</td>\n",
       "      <td>[7, 2, 8]</td>\n",
       "    </tr>\n",
       "    <tr>\n",
       "      <th>7</th>\n",
       "      <td>0</td>\n",
       "      <td>experiment_meta_data/Experiments_Params_0315_G...</td>\n",
       "      <td>car_deals.zip</td>\n",
       "      <td>3</td>\n",
       "      <td>749.219669</td>\n",
       "      <td>34571</td>\n",
       "      <td>4</td>\n",
       "      <td>44.561752</td>\n",
       "      <td>3355.105376</td>\n",
       "      <td>[6, 3, 7]</td>\n",
       "    </tr>\n",
       "    <tr>\n",
       "      <th>8</th>\n",
       "      <td>0</td>\n",
       "      <td>experiment_meta_data/Experiments_Params_0315_G...</td>\n",
       "      <td>histopathology_train.zip</td>\n",
       "      <td>3</td>\n",
       "      <td>535.888886</td>\n",
       "      <td>20000</td>\n",
       "      <td>1</td>\n",
       "      <td>28.898588</td>\n",
       "      <td>2205.982133</td>\n",
       "      <td>[7, 2, 8]</td>\n",
       "    </tr>\n",
       "    <tr>\n",
       "      <th>9</th>\n",
       "      <td>0</td>\n",
       "      <td>experiment_meta_data/Experiments_Params_0315_G...</td>\n",
       "      <td>car_deals.zip</td>\n",
       "      <td>3</td>\n",
       "      <td>749.219669</td>\n",
       "      <td>34571</td>\n",
       "      <td>4</td>\n",
       "      <td>48.73603</td>\n",
       "      <td>3392.390763</td>\n",
       "      <td>[6, 3, 7]</td>\n",
       "    </tr>\n",
       "    <tr>\n",
       "      <th>10</th>\n",
       "      <td>0</td>\n",
       "      <td>experiment_meta_data/Experiments_Params_0315_G...</td>\n",
       "      <td>car_deals.zip</td>\n",
       "      <td>3</td>\n",
       "      <td>749.219669</td>\n",
       "      <td>34571</td>\n",
       "      <td>4</td>\n",
       "      <td>40.652712</td>\n",
       "      <td>3352.745213</td>\n",
       "      <td>[6, 3, 7]</td>\n",
       "    </tr>\n",
       "    <tr>\n",
       "      <th>11</th>\n",
       "      <td>0</td>\n",
       "      <td>experiment_meta_data/Experiments_Params_0315_G...</td>\n",
       "      <td>histopathology_train.zip</td>\n",
       "      <td>3</td>\n",
       "      <td>535.888886</td>\n",
       "      <td>20000</td>\n",
       "      <td>1</td>\n",
       "      <td>36.153243</td>\n",
       "      <td>2208.650595</td>\n",
       "      <td>[7, 2, 8]</td>\n",
       "    </tr>\n",
       "  </tbody>\n",
       "</table>\n",
       "</div>"
      ],
      "text/plain": [
       "    index                                          Meta_Data  \\\n",
       "0       0  experiment_meta_data/Experiments_Params_0315_c...   \n",
       "1       0  experiment_meta_data/Experiments_Params_0315_c...   \n",
       "2       0  experiment_meta_data/Experiments_Params_0315_c...   \n",
       "3       0  experiment_meta_data/Experiments_Params_0315_G...   \n",
       "4       0  experiment_meta_data/Experiments_Params_0315_c...   \n",
       "5       0  experiment_meta_data/Experiments_Params_0315_c...   \n",
       "6       0  experiment_meta_data/Experiments_Params_0315_c...   \n",
       "7       0  experiment_meta_data/Experiments_Params_0315_G...   \n",
       "8       0  experiment_meta_data/Experiments_Params_0315_G...   \n",
       "9       0  experiment_meta_data/Experiments_Params_0315_G...   \n",
       "10      0  experiment_meta_data/Experiments_Params_0315_G...   \n",
       "11      0  experiment_meta_data/Experiments_Params_0315_G...   \n",
       "\n",
       "                   Data_Name Try Datasize_mb N_Observation N_features  \\\n",
       "0              car_deals.zip   3  749.219669         34571          4   \n",
       "1              car_deals.zip   3  749.219669         34571          4   \n",
       "2              car_deals.zip   3  749.219669         34571          4   \n",
       "3   histopathology_train.zip   3  535.888886         20000          1   \n",
       "4   histopathology_train.zip   3  535.888886         20000          1   \n",
       "5   histopathology_train.zip   3  535.888886         20000          1   \n",
       "6   histopathology_train.zip   3  535.888886         20000          1   \n",
       "7              car_deals.zip   3  749.219669         34571          4   \n",
       "8   histopathology_train.zip   3  535.888886         20000          1   \n",
       "9              car_deals.zip   3  749.219669         34571          4   \n",
       "10             car_deals.zip   3  749.219669         34571          4   \n",
       "11  histopathology_train.zip   3  535.888886         20000          1   \n",
       "\n",
       "   Duration_min Experiment_Size_mb Acc_Time_Interpret  \n",
       "0     97.770278        3443.948625          [6, 3, 7]  \n",
       "1     88.659758        3369.043343          [6, 3, 7]  \n",
       "2    115.199171          3424.4299          [6, 3, 7]  \n",
       "3     34.631066        2227.520843          [7, 2, 8]  \n",
       "4     67.442914        2263.252513          [7, 2, 8]  \n",
       "5     68.296825        2259.084153          [7, 2, 8]  \n",
       "6     72.527359        2204.875103          [7, 2, 8]  \n",
       "7     44.561752        3355.105376          [6, 3, 7]  \n",
       "8     28.898588        2205.982133          [7, 2, 8]  \n",
       "9      48.73603        3392.390763          [6, 3, 7]  \n",
       "10    40.652712        3352.745213          [6, 3, 7]  \n",
       "11    36.153243        2208.650595          [7, 2, 8]  "
      ]
     },
     "execution_count": 49,
     "metadata": {},
     "output_type": "execute_result"
    }
   ],
   "source": [
    "df_img = get_resultdata('speed_test/result')\n",
    "df_img"
   ]
  },
  {
   "cell_type": "code",
   "execution_count": 59,
   "id": "20913d49",
   "metadata": {},
   "outputs": [],
   "source": [
    "df_img['sort_index'] = df_img['Data_Name'].map({'histopathology_train.zip':1,\n",
    "                                                    'car_deals.zip':2})\n",
    "df_img = df_img.sort_values('sort_index')"
   ]
  },
  {
   "cell_type": "markdown",
   "id": "5184023a",
   "metadata": {},
   "source": [
    "***"
   ]
  },
  {
   "cell_type": "markdown",
   "id": "bfe560bc",
   "metadata": {},
   "source": [
    "### 利用データに関して\n",
    "- データ名\n",
    "- データサイズ（MB）\n",
    "- 行数\n",
    "- 特徴量の数"
   ]
  },
  {
   "cell_type": "code",
   "execution_count": 60,
   "id": "29a682c1",
   "metadata": {},
   "outputs": [
    {
     "data": {
      "text/html": [
       "<div>\n",
       "<style scoped>\n",
       "    .dataframe tbody tr th:only-of-type {\n",
       "        vertical-align: middle;\n",
       "    }\n",
       "\n",
       "    .dataframe tbody tr th {\n",
       "        vertical-align: top;\n",
       "    }\n",
       "\n",
       "    .dataframe thead th {\n",
       "        text-align: right;\n",
       "    }\n",
       "</style>\n",
       "<table border=\"1\" class=\"dataframe\">\n",
       "  <thead>\n",
       "    <tr style=\"text-align: right;\">\n",
       "      <th></th>\n",
       "      <th>Data_Name</th>\n",
       "      <th>Datasize_mb</th>\n",
       "      <th>N_Observation</th>\n",
       "      <th>N_features</th>\n",
       "    </tr>\n",
       "  </thead>\n",
       "  <tbody>\n",
       "    <tr>\n",
       "      <th>3</th>\n",
       "      <td>histopathology_train.zip</td>\n",
       "      <td>535.888886</td>\n",
       "      <td>20000</td>\n",
       "      <td>1</td>\n",
       "    </tr>\n",
       "    <tr>\n",
       "      <th>0</th>\n",
       "      <td>car_deals.zip</td>\n",
       "      <td>749.219669</td>\n",
       "      <td>34571</td>\n",
       "      <td>4</td>\n",
       "    </tr>\n",
       "  </tbody>\n",
       "</table>\n",
       "</div>"
      ],
      "text/plain": [
       "                  Data_Name Datasize_mb N_Observation N_features\n",
       "3  histopathology_train.zip  535.888886         20000          1\n",
       "0             car_deals.zip  749.219669         34571          4"
      ]
     },
     "execution_count": 60,
     "metadata": {},
     "output_type": "execute_result"
    }
   ],
   "source": [
    "df_img[['Data_Name','Datasize_mb','N_Observation','N_features']].drop_duplicates()"
   ]
  },
  {
   "cell_type": "markdown",
   "id": "bf71ce19",
   "metadata": {},
   "source": [
    "car_deals.zipのExperimentは、画像の他に数値/カテゴリカルデータも利用"
   ]
  },
  {
   "cell_type": "markdown",
   "id": "c1b8fb05",
   "metadata": {},
   "source": [
    "#### データへのリンク\n",
    "- [histopathology_train.zip](https://h2o-public-test-data.s3.amazonaws.com/bigdata/server/ImageData/histopathology_train.zip)  \n",
    "- [car_deals.zip](https://h2o-public-test-data.s3.amazonaws.com/bigdata/server/ImageData/car_deals.zip)"
   ]
  },
  {
   "cell_type": "markdown",
   "id": "9cf94be0",
   "metadata": {},
   "source": [
    "***"
   ]
  },
  {
   "cell_type": "code",
   "execution_count": 61,
   "id": "d2211efe",
   "metadata": {},
   "outputs": [
    {
     "data": {
      "text/plain": [
       "'experiment_meta_data/Experiments_Params_0315_Gpu.csv'"
      ]
     },
     "execution_count": 61,
     "metadata": {},
     "output_type": "execute_result"
    }
   ],
   "source": [
    "df_img['Meta_Data'][8]"
   ]
  },
  {
   "cell_type": "code",
   "execution_count": 62,
   "id": "8f933e1b",
   "metadata": {},
   "outputs": [],
   "source": [
    "df_img_cpu = df_img[df_img['Meta_Data']=='experiment_meta_data/Experiments_Params_0315_cpu.csv']   # CPUマシン結果\n",
    "df_img_cpu = df_img_cpu[['Data_Name', 'Duration_min', 'Experiment_Size_mb']]\n",
    "df_img_cpu['Duration_min'] = df_img_cpu['Duration_min'].astype(np.float64)\n",
    "df_img_cpu['Experiment_Size_mb'] = df_img_cpu['Experiment_Size_mb'].astype(np.float64)\n",
    "\n",
    "df_img_gpu = df_img[df_img['Meta_Data']=='experiment_meta_data/Experiments_Params_0315_Gpu.csv']  # GPUマシン結果\n",
    "df_img_gpu = df_img_gpu[['Data_Name', 'Duration_min', 'Experiment_Size_mb']]\n",
    "df_img_gpu['Duration_min'] = df_img_gpu['Duration_min'].astype(np.float64)\n",
    "df_img_gpu['Experiment_Size_mb'] = df_img_gpu['Experiment_Size_mb'].astype(np.float64)"
   ]
  },
  {
   "cell_type": "markdown",
   "id": "dd8ed7e8",
   "metadata": {},
   "source": [
    "### CPUマシンでの結果"
   ]
  },
  {
   "cell_type": "markdown",
   "id": "6816fd04",
   "metadata": {},
   "source": [
    "#### 各データでの平均完了時間（2種類のデータで、デフォルト設定で各々3回のモデル作成を実施）"
   ]
  },
  {
   "cell_type": "code",
   "execution_count": 63,
   "id": "24aedfc9",
   "metadata": {},
   "outputs": [
    {
     "data": {
      "text/html": [
       "<div>\n",
       "<style scoped>\n",
       "    .dataframe tbody tr th:only-of-type {\n",
       "        vertical-align: middle;\n",
       "    }\n",
       "\n",
       "    .dataframe tbody tr th {\n",
       "        vertical-align: top;\n",
       "    }\n",
       "\n",
       "    .dataframe thead th {\n",
       "        text-align: right;\n",
       "    }\n",
       "</style>\n",
       "<table border=\"1\" class=\"dataframe\">\n",
       "  <thead>\n",
       "    <tr style=\"text-align: right;\">\n",
       "      <th></th>\n",
       "      <th>Duration_min</th>\n",
       "      <th>Experiment_Size_mb</th>\n",
       "    </tr>\n",
       "    <tr>\n",
       "      <th>Data_Name</th>\n",
       "      <th></th>\n",
       "      <th></th>\n",
       "    </tr>\n",
       "  </thead>\n",
       "  <tbody>\n",
       "    <tr>\n",
       "      <th>car_deals.zip</th>\n",
       "      <td>100.543069</td>\n",
       "      <td>3412.473956</td>\n",
       "    </tr>\n",
       "    <tr>\n",
       "      <th>histopathology_train.zip</th>\n",
       "      <td>69.422366</td>\n",
       "      <td>2242.403923</td>\n",
       "    </tr>\n",
       "  </tbody>\n",
       "</table>\n",
       "</div>"
      ],
      "text/plain": [
       "                          Duration_min  Experiment_Size_mb\n",
       "Data_Name                                                 \n",
       "car_deals.zip               100.543069         3412.473956\n",
       "histopathology_train.zip     69.422366         2242.403923"
      ]
     },
     "execution_count": 63,
     "metadata": {},
     "output_type": "execute_result"
    }
   ],
   "source": [
    "df_img_cpu.groupby('Data_Name').mean()"
   ]
  },
  {
   "cell_type": "markdown",
   "id": "6165d61c",
   "metadata": {},
   "source": [
    "#### 結果の元データのプロット"
   ]
  },
  {
   "cell_type": "code",
   "execution_count": 64,
   "id": "1a33e435",
   "metadata": {},
   "outputs": [
    {
     "data": {
      "image/png": "[encoded data removed]",
      "text/plain": [
       "<Figure size 432x288 with 1 Axes>"
      ]
     },
     "metadata": {
      "needs_background": "light"
     },
     "output_type": "display_data"
    }
   ],
   "source": [
    "plt.scatter(df_img_cpu['Data_Name'], df_img_cpu['Duration_min'])\n",
    "plt.ylabel('min')\n",
    "plt.xticks(rotation=90)\n",
    "plt.show()"
   ]
  },
  {
   "cell_type": "markdown",
   "id": "0e059b98",
   "metadata": {},
   "source": [
    "### GPUマシンでの結果"
   ]
  },
  {
   "cell_type": "markdown",
   "id": "8b3e36ad",
   "metadata": {},
   "source": [
    "#### 各データでの平均完了時間（2種類のデータで、デフォルト設定で各々3回のモデル作成を実施）"
   ]
  },
  {
   "cell_type": "code",
   "execution_count": 65,
   "id": "0d829200",
   "metadata": {},
   "outputs": [
    {
     "data": {
      "text/html": [
       "<div>\n",
       "<style scoped>\n",
       "    .dataframe tbody tr th:only-of-type {\n",
       "        vertical-align: middle;\n",
       "    }\n",
       "\n",
       "    .dataframe tbody tr th {\n",
       "        vertical-align: top;\n",
       "    }\n",
       "\n",
       "    .dataframe thead th {\n",
       "        text-align: right;\n",
       "    }\n",
       "</style>\n",
       "<table border=\"1\" class=\"dataframe\">\n",
       "  <thead>\n",
       "    <tr style=\"text-align: right;\">\n",
       "      <th></th>\n",
       "      <th>Duration_min</th>\n",
       "      <th>Experiment_Size_mb</th>\n",
       "    </tr>\n",
       "    <tr>\n",
       "      <th>Data_Name</th>\n",
       "      <th></th>\n",
       "      <th></th>\n",
       "    </tr>\n",
       "  </thead>\n",
       "  <tbody>\n",
       "    <tr>\n",
       "      <th>car_deals.zip</th>\n",
       "      <td>44.650165</td>\n",
       "      <td>3366.747117</td>\n",
       "    </tr>\n",
       "    <tr>\n",
       "      <th>histopathology_train.zip</th>\n",
       "      <td>33.227632</td>\n",
       "      <td>2214.051190</td>\n",
       "    </tr>\n",
       "  </tbody>\n",
       "</table>\n",
       "</div>"
      ],
      "text/plain": [
       "                          Duration_min  Experiment_Size_mb\n",
       "Data_Name                                                 \n",
       "car_deals.zip                44.650165         3366.747117\n",
       "histopathology_train.zip     33.227632         2214.051190"
      ]
     },
     "execution_count": 65,
     "metadata": {},
     "output_type": "execute_result"
    }
   ],
   "source": [
    "df_img_gpu.groupby('Data_Name').mean()"
   ]
  },
  {
   "cell_type": "markdown",
   "id": "9ccd734d",
   "metadata": {},
   "source": [
    "#### 結果の元データのプロット"
   ]
  },
  {
   "cell_type": "code",
   "execution_count": 66,
   "id": "620ddf7d",
   "metadata": {},
   "outputs": [
    {
     "data": {
      "image/png": "[encoded data removed]",
      "text/plain": [
       "<Figure size 432x288 with 1 Axes>"
      ]
     },
     "metadata": {
      "needs_background": "light"
     },
     "output_type": "display_data"
    }
   ],
   "source": [
    "plt.scatter(df_img_gpu['Data_Name'], df_img_gpu['Duration_min'])\n",
    "plt.ylabel('min')\n",
    "plt.xticks(rotation=90)\n",
    "plt.show()"
   ]
  },
  {
   "cell_type": "code",
   "execution_count": null,
   "id": "6f4bcd21",
   "metadata": {},
   "outputs": [],
   "source": []
  }
 ],
 "metadata": {
  "kernelspec": {
   "display_name": "Python 3",
   "language": "python",
   "name": "python3"
  },
  "language_info": {
   "codemirror_mode": {
    "name": "ipython",
    "version": 3
   },
   "file_extension": ".py",
   "mimetype": "text/x-python",
   "name": "python",
   "nbconvert_exporter": "python",
   "pygments_lexer": "ipython3",
   "version": "3.8.3"
  }
 },
 "nbformat": 4,
 "nbformat_minor": 5
}
