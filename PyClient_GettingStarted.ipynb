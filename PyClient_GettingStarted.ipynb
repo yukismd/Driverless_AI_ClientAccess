{
 "cells": [
  {
   "cell_type": "markdown",
   "metadata": {},
   "source": [
    "## Getting Started with Python Client\n",
    "[Document - Getting Started](http://docs.h2o.ai/driverless-ai/pyclient/docs/html/examples/getting-started.html)"
   ]
  },
  {
   "cell_type": "markdown",
   "metadata": {},
   "source": [
    "---"
   ]
  },
  {
   "cell_type": "markdown",
   "metadata": {},
   "source": [
    "[driverlessai](https://pypi.org/project/driverlessai/)(Python Clientライブラリ)のインストール  \n",
    "`pip install driverlessai` or `conda install -c h2oai driverlessai`"
   ]
  },
  {
   "cell_type": "markdown",
   "metadata": {},
   "source": [
    "---"
   ]
  },
  {
   "cell_type": "code",
   "execution_count": 1,
   "metadata": {},
   "outputs": [],
   "source": [
    "import driverlessai"
   ]
  },
  {
   "cell_type": "code",
   "execution_count": 7,
   "metadata": {},
   "outputs": [],
   "source": [
    "# Driverless AIのuser nameとpasswordの読み込み\n",
    "import json\n",
    "with open('idpass.json') as f:\n",
    "    idpass = json.load(f)"
   ]
  },
  {
   "cell_type": "code",
   "execution_count": 6,
   "metadata": {},
   "outputs": [
    {
     "data": {
      "text/plain": [
       "<class 'driverlessai._core.Client'> http://3.88.181.75:12345"
      ]
     },
     "execution_count": 6,
     "metadata": {},
     "output_type": "execute_result"
    }
   ],
   "source": [
    "# Driverless AIサーバーへの接続\n",
    "dai = driverlessai.Client(address='http://3.88.181.75:12345', username=idpass['id'], password=idpass['pass'])\n",
    "dai"
   ]
  },
  {
   "cell_type": "markdown",
   "metadata": {},
   "source": [
    "[Clientクラス](http://docs.h2o.ai/driverless-ai/pyclient/docs/html/client.html#client)に関して"
   ]
  },
  {
   "cell_type": "code",
   "execution_count": 10,
   "metadata": {},
   "outputs": [
    {
     "name": "stdout",
     "output_type": "stream",
     "text": [
      "Complete 100.00% - [4/4] Computed stats for column C5\n"
     ]
    }
   ],
   "source": [
    "# Driverless AIへのデータのロード\n",
    "ds = dai.datasets.create(\n",
    "    data='s3://h2o-public-test-data/smalldata/iris/iris.csv',\n",
    "    data_source='s3',\n",
    "    name='iris-getting-started'\n",
    ")"
   ]
  },
  {
   "cell_type": "markdown",
   "metadata": {},
   "source": [
    "【Datasets画面に'iris-getting-started'名でデータが表示される】\n",
    "<img src=\"img/data_load.png\" width=800px>"
   ]
  },
  {
   "cell_type": "code",
   "execution_count": 12,
   "metadata": {},
   "outputs": [
    {
     "data": {
      "text/plain": [
       "<class 'Dataset'> fb8d6c2a-6038-11eb-9a4f-0242ac110002 iris-getting-started"
      ]
     },
     "execution_count": 12,
     "metadata": {},
     "output_type": "execute_result"
    }
   ],
   "source": [
    "ds"
   ]
  },
  {
   "cell_type": "markdown",
   "metadata": {},
   "source": [
    "[Datasetクラス](http://docs.h2o.ai/driverless-ai/pyclient/docs/html/client.html#datasets)に関して"
   ]
  },
  {
   "cell_type": "code",
   "execution_count": 13,
   "metadata": {},
   "outputs": [
    {
     "name": "stdout",
     "output_type": "stream",
     "text": [
      "データ名:  iris-getting-started\n",
      "カラム:  ['C1', 'C2', 'C3', 'C4', 'C5']\n",
      "データシェープ:  (150, 5)\n"
     ]
    }
   ],
   "source": [
    "# データの各情報の確認\n",
    "print(\"データ名: \", ds.name)\n",
    "print(\"カラム: \", ds.columns)\n",
    "print(\"データシェープ: \", ds.shape)"
   ]
  },
  {
   "cell_type": "code",
   "execution_count": 25,
   "metadata": {},
   "outputs": [
    {
     "data": {
      "text/html": [
       "<table>\n",
       "<thead>\n",
       "<tr><th style=\"text-align: right;\">  C1</th><th style=\"text-align: right;\">  C2</th><th style=\"text-align: right;\">  C3</th><th style=\"text-align: right;\">  C4</th><th>C5         </th></tr>\n",
       "</thead>\n",
       "<tbody>\n",
       "<tr><td style=\"text-align: right;\"> 5.1</td><td style=\"text-align: right;\"> 3.5</td><td style=\"text-align: right;\"> 1.4</td><td style=\"text-align: right;\"> 0.2</td><td>Iris-setosa</td></tr>\n",
       "<tr><td style=\"text-align: right;\"> 4.9</td><td style=\"text-align: right;\"> 3  </td><td style=\"text-align: right;\"> 1.4</td><td style=\"text-align: right;\"> 0.2</td><td>Iris-setosa</td></tr>\n",
       "<tr><td style=\"text-align: right;\"> 4.7</td><td style=\"text-align: right;\"> 3.2</td><td style=\"text-align: right;\"> 1.3</td><td style=\"text-align: right;\"> 0.2</td><td>Iris-setosa</td></tr>\n",
       "<tr><td style=\"text-align: right;\"> 4.6</td><td style=\"text-align: right;\"> 3.1</td><td style=\"text-align: right;\"> 1.5</td><td style=\"text-align: right;\"> 0.2</td><td>Iris-setosa</td></tr>\n",
       "<tr><td style=\"text-align: right;\"> 5  </td><td style=\"text-align: right;\"> 3.6</td><td style=\"text-align: right;\"> 1.4</td><td style=\"text-align: right;\"> 0.2</td><td>Iris-setosa</td></tr>\n",
       "</tbody>\n",
       "</table>"
      ],
      "text/plain": [
       "<driverlessai._utils.Table at 0x7fea60fa6470>"
      ]
     },
     "execution_count": 25,
     "metadata": {},
     "output_type": "execute_result"
    }
   ],
   "source": [
    "ds.head()"
   ]
  },
  {
   "cell_type": "code",
   "execution_count": 23,
   "metadata": {},
   "outputs": [
    {
     "name": "stdout",
     "output_type": "stream",
     "text": [
      "--- C1 ---\n",
      "\n",
      " 4.3|███████\n",
      "    |█████████████████\n",
      "    |██████████\n",
      "    |████████████████████\n",
      "    |████████████\n",
      "    |███████████████████\n",
      "    |█████████████\n",
      "    |████\n",
      "    |████\n",
      " 7.9|████\n",
      "\n",
      "Data Type: real\n",
      "Logical Types: []\n",
      "Datetime Format: \n",
      "Count: 150\n",
      "Missing: 0\n",
      "Mean: 5.84\n",
      "SD: 0.828\n",
      "Min: 4.3\n",
      "Max: 7.9\n",
      "Unique: 35\n",
      "Freq: 10\n",
      "--- C5 ---\n",
      "\n",
      "     Iris-setosa|████████████████████\n",
      " Iris-versicolor|████████████████████\n",
      "  Iris-virginica|████████████████████\n",
      "\n",
      "Data Type: str\n",
      "Logical Types: []\n",
      "Datetime Format: \n",
      "Count: 150\n",
      "Missing: 0\n",
      "Unique: 3\n",
      "Freq: 50\n",
      "\n"
     ]
    }
   ],
   "source": [
    "# Dataset Detailesの確認\n",
    "print(ds.column_summaries()[[\"C1\",\"C5\"]])    # 表示はC1とC5のみ"
   ]
  },
  {
   "cell_type": "markdown",
   "metadata": {},
   "source": [
    "【Dataset Details画面での表示】\n",
    "<img src=\"img/data_detail.png\" width=500px>"
   ]
  },
  {
   "cell_type": "code",
   "execution_count": 15,
   "metadata": {},
   "outputs": [
    {
     "data": {
      "text/plain": [
       "driverlessai._datasets.DatasetColumnSummaryCollection"
      ]
     },
     "execution_count": 15,
     "metadata": {},
     "output_type": "execute_result"
    }
   ],
   "source": [
    "type(ds.column_summaries())"
   ]
  },
  {
   "cell_type": "code",
   "execution_count": 26,
   "metadata": {},
   "outputs": [
    {
     "data": {
      "text/plain": [
       "[<class 'Dataset'> fb8d6c2a-6038-11eb-9a4f-0242ac110002 iris-getting-started,\n",
       " <class 'Dataset'> d17c41ee-5ecc-11eb-b134-0242ac110002 sample_simple.csv,\n",
       " <class 'Dataset'> 110fae96-5c88-11eb-a8f5-0242ac110002 date_sample3.csv,\n",
       " <class 'Dataset'> 1f09a98e-5c42-11eb-bf60-0242ac110002 date_sample.csv,\n",
       " <class 'Dataset'> cae49b84-5bab-11eb-96ed-0242ac110002 TitanicData.csv]"
      ]
     },
     "execution_count": 26,
     "metadata": {},
     "output_type": "execute_result"
    }
   ],
   "source": [
    "# Driverless AIにアップロードされているデータのリスト\n",
    "dai.datasets.list()"
   ]
  },
  {
   "cell_type": "code",
   "execution_count": 27,
   "metadata": {},
   "outputs": [
    {
     "name": "stdout",
     "output_type": "stream",
     "text": [
      "Complete\n"
     ]
    },
    {
     "data": {
      "text/plain": [
       "{'train_dataset': <class 'Dataset'> 46d33edc-603c-11eb-9a4f-0242ac110002 iris_train,\n",
       " 'test_dataset': <class 'Dataset'> 46d36aa6-603c-11eb-9a4f-0242ac110002 iris_test}"
      ]
     },
     "execution_count": 27,
     "metadata": {},
     "output_type": "execute_result"
    }
   ],
   "source": [
    "# データセットの学習、テストセットへの分割\n",
    "ds_split = ds.split_to_train_test(train_size=0.7, train_name=\"iris_train\", test_name=\"iris_test\")\n",
    "ds_split"
   ]
  },
  {
   "cell_type": "markdown",
   "metadata": {},
   "source": [
    "【Datasets画面に表示された学習（train_dataset）とテスト（test_dataset）データ】\n",
    "<img src=\"img/train_test.png\" width=800px>"
   ]
  },
  {
   "cell_type": "code",
   "execution_count": 32,
   "metadata": {},
   "outputs": [],
   "source": [
    "# Experiment 設定\n",
    "settings = {\n",
    "    'task': 'classification',\n",
    "    'target_column': ds.columns[-1],\n",
    "    'accuracy': 1,\n",
    "    'time': 1\n",
    "}"
   ]
  },
  {
   "cell_type": "code",
   "execution_count": 30,
   "metadata": {},
   "outputs": [
    {
     "name": "stdout",
     "output_type": "stream",
     "text": [
      "ACCURACY [1/10]:\n",
      "- Training data size: *105 rows, 5 cols*\n",
      "- Feature evolution: *[Constant, DecisionTree, GLM, LightGBM, XGBoostGBM]*, *1/4 validation split*\n",
      "- Final pipeline: *One of [Constant, DecisionTree, GLM, LightGBM, XGBoostGBM], single final model, validated with 4-fold CV*\n",
      "\n",
      "TIME [1/10]:\n",
      "- Feature evolution: *2 individuals*, up to *3 iterations*\n",
      "- Early stopping: disabled\n",
      "\n",
      "INTERPRETABILITY [8/10]:\n",
      "- Feature pre-pruning strategy: None\n",
      "- Monotonicity constraints: enabled\n",
      "- Feature engineering search space: [CVCatNumEncode, CVTargetEncode, CatOriginal, Cat, Frequent, Interactions, NumCatTE, OneHotEncoding, Original, TextOriginal, Text]\n",
      "- Pre-trained PyTorch NLP models (with fine-tuning): ['disabled']\n",
      "\n",
      "[Constant, DecisionTree, GLM, LightGBM, XGBoostGBM] models to train:\n",
      "- Model and feature tuning: *2*\n",
      "- Feature evolution: *3*\n",
      "- Final pipeline: *9*\n",
      "- Per-model Hyper. opt. trials: *0* (evolution) *0* (final)\n",
      "\n",
      "Estimated runtime: *minutes*\n",
      "Auto-click Finish/Abort if not done in: *1 day*/*7 days*\n"
     ]
    }
   ],
   "source": [
    "# Experiment設定の事前確認（Experiment自体は未実行の状態）\n",
    "dai.experiments.preview(**ds_split, **settings)"
   ]
  },
  {
   "cell_type": "markdown",
   "metadata": {},
   "source": [
    "【Experiment画面（実行前）で確認する場合（上記設定の必要あり）】\n",
    "<img src=\"img/experiment_setting.png\" width=600px>"
   ]
  },
  {
   "cell_type": "code",
   "execution_count": 35,
   "metadata": {},
   "outputs": [
    {
     "name": "stdout",
     "output_type": "stream",
     "text": [
      "Experiment launched at: http://3.88.181.75:12345/#/experiment?key=98616740-603e-11eb-9a4f-0242ac110002\n",
      "Running 100.00% - Status: Complete                                              \n"
     ]
    }
   ],
   "source": [
    "# Experimentの実行\n",
    "ex = dai.experiments.create(**ds_split, **settings, name='iris-getting-started')"
   ]
  },
  {
   "cell_type": "markdown",
   "metadata": {},
   "source": [
    "【Experiments画面でも実行状況が確認できる】\n",
    "<img src=\"img/experiment_running.png\" width=800px>"
   ]
  },
  {
   "cell_type": "code",
   "execution_count": 36,
   "metadata": {},
   "outputs": [
    {
     "data": {
      "text/plain": [
       "<class 'Experiment'> 98616740-603e-11eb-9a4f-0242ac110002 iris-getting-started"
      ]
     },
     "execution_count": 36,
     "metadata": {},
     "output_type": "execute_result"
    }
   ],
   "source": [
    "ex"
   ]
  },
  {
   "cell_type": "markdown",
   "metadata": {},
   "source": [
    "[Experimentクラス](http://docs.h2o.ai/driverless-ai/pyclient/docs/html/client.html#experiments)に関して"
   ]
  },
  {
   "cell_type": "code",
   "execution_count": 37,
   "metadata": {},
   "outputs": [
    {
     "name": "stdout",
     "output_type": "stream",
     "text": [
      "Status: Complete\n",
      "Experiment: iris-getting-started (98616740-603e-11eb-9a4f-0242ac110002)\n",
      "  Version: 1.9.1, 2021-01-27 01:27\n",
      "  Settings: 1/1/8, seed=281155033, GPUs disabled\n",
      "  Train data: iris_train (105, 5)\n",
      "  Validation data: N/A\n",
      "  Test data: [Test] (45, 4)\n",
      "  Target column: C5 (3-class)\n",
      "System specs: Docker/Linux, 31 GB, 8 CPU cores, 0/0 GPU\n",
      "  Max memory usage: 0.444 GB, 0 GB GPU\n",
      "Recipe: AutoDL (5 iterations, 2 individuals)\n",
      "  Validation scheme: stratified, 1 internal holdout\n",
      "  Feature engineering: 3 features scored (2 selected)\n",
      "Timing: MOJO latency: 0.00995 millis (2.1kB)\n",
      "  Data preparation: 4.95 secs\n",
      "  Shift/Leakage detection: 1.15 secs\n",
      "  Model and feature tuning: 10.71 secs (6 models trained)\n",
      "  Feature evolution: 0.95 secs (0 of 3 model trained)\n",
      "  Final pipeline training: 13.29 secs (9 models trained)\n",
      "  Python / MOJO scorer building: 39.75 secs / 9.08 secs\n",
      "Validation score: LOGLOSS = 1.096729 (constant preds)\n",
      "Validation score: LOGLOSS = 0.2694015 +/- 5.551115e-17 (baseline)\n",
      "Validation score: LOGLOSS = 0.1571557 +/- 2.775558e-17 (final pipeline)\n",
      "Test score:       LOGLOSS = 0.1222174 +/- 2.775558e-17 (final pipeline)\n"
     ]
    }
   ],
   "source": [
    "# Experimentサマリ\n",
    "ex.summary()"
   ]
  },
  {
   "cell_type": "markdown",
   "metadata": {},
   "source": [
    "【Experiment画面（完了後）で確認する場合】\n",
    "<img src=\"img/experiment_done.png\" width=800px>"
   ]
  },
  {
   "cell_type": "code",
   "execution_count": 45,
   "metadata": {},
   "outputs": [
    {
     "name": "stdout",
     "output_type": "stream",
     "text": [
      "Downloaded 'report.docx'\n",
      "Downloaded 'h2oai_experiment_logs_b433119a-5fb1-11eb-bb69-0242ac110002.zip'\n",
      "Downloaded 'mojo.zip'\n",
      "Downloaded 'scorer.zip'\n",
      "Downloaded 'h2oai_experiment_summary_b433119a-5fb1-11eb-bb69-0242ac110002.zip'\n",
      "Downloaded 'test_preds.csv'\n",
      "Downloaded 'train_preds.csv'\n"
     ]
    },
    {
     "data": {
      "text/plain": [
       "{'autoreport': 'report.docx',\n",
       " 'logs': 'h2oai_experiment_logs_b433119a-5fb1-11eb-bb69-0242ac110002.zip',\n",
       " 'mojo_pipeline': 'mojo.zip',\n",
       " 'python_pipeline': 'scorer.zip',\n",
       " 'summary': 'h2oai_experiment_summary_b433119a-5fb1-11eb-bb69-0242ac110002.zip',\n",
       " 'test_predictions': 'test_preds.csv',\n",
       " 'train_predictions': 'train_preds.csv'}"
      ]
     },
     "execution_count": 45,
     "metadata": {},
     "output_type": "execute_result"
    }
   ],
   "source": [
    "# Experimentの成果物ダウンロード（Client環境のjupyter実行パス上に各ファイルがダウンロードされる）\n",
    "ex.artifacts.download(overwrite=True)"
   ]
  },
  {
   "cell_type": "code",
   "execution_count": 46,
   "metadata": {},
   "outputs": [
    {
     "name": "stdout",
     "output_type": "stream",
     "text": [
      "PyClient_test_20210126.ipynb\r\n",
      "h2oai_experiment_logs_b433119a-5fb1-11eb-bb69-0242ac110002.zip\r\n",
      "h2oai_experiment_summary_b433119a-5fb1-11eb-bb69-0242ac110002.zip\r\n",
      "mojo.zip\r\n",
      "report.docx\r\n",
      "scorer.zip\r\n",
      "test_preds.csv\r\n",
      "train_preds.csv\r\n"
     ]
    }
   ],
   "source": [
    "!ls"
   ]
  },
  {
   "cell_type": "code",
   "execution_count": null,
   "metadata": {},
   "outputs": [],
   "source": []
  }
 ],
 "metadata": {
  "kernelspec": {
   "display_name": "Python 3",
   "language": "python",
   "name": "python3"
  },
  "language_info": {
   "codemirror_mode": {
    "name": "ipython",
    "version": 3
   },
   "file_extension": ".py",
   "mimetype": "text/x-python",
   "name": "python",
   "nbconvert_exporter": "python",
   "pygments_lexer": "ipython3",
   "version": "3.6.12"
  }
 },
 "nbformat": 4,
 "nbformat_minor": 4
}
