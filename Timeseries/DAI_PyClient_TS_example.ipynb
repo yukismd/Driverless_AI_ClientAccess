{
 "cells": [
  {
   "cell_type": "markdown",
   "metadata": {},
   "source": [
    "# 時系列予測実行例"
   ]
  },
  {
   "cell_type": "markdown",
   "metadata": {},
   "source": [
    "元コード：https://github.com/h2oai/driverlessai-tutorials/blob/master/driverlessai_experiments/timeseries/walmart_timeseries_experiment/training_timeseries_model.ipynb"
   ]
  },
  {
   "cell_type": "code",
   "execution_count": 83,
   "metadata": {},
   "outputs": [],
   "source": [
    "import pandas as pd\n",
    "import driverlessai\n",
    "import matplotlib.pyplot as plt\n",
    "import matplotlib.dates as mdates\n",
    "from sklearn.metrics import r2_score, mean_squared_error"
   ]
  },
  {
   "cell_type": "markdown",
   "metadata": {},
   "source": [
    "### ローカルでのデータ準備"
   ]
  },
  {
   "cell_type": "markdown",
   "metadata": {},
   "source": [
    "データはDriverlessAIサーバの`/data/TimeSeries/walmart/`配下"
   ]
  },
  {
   "cell_type": "code",
   "execution_count": 27,
   "metadata": {},
   "outputs": [
    {
     "name": "stdout",
     "output_type": "stream",
     "text": [
      "(421570, 15)\n"
     ]
    },
    {
     "data": {
      "text/html": [
       "<div>\n",
       "<style scoped>\n",
       "    .dataframe tbody tr th:only-of-type {\n",
       "        vertical-align: middle;\n",
       "    }\n",
       "\n",
       "    .dataframe tbody tr th {\n",
       "        vertical-align: top;\n",
       "    }\n",
       "\n",
       "    .dataframe thead th {\n",
       "        text-align: right;\n",
       "    }\n",
       "</style>\n",
       "<table border=\"1\" class=\"dataframe\">\n",
       "  <thead>\n",
       "    <tr style=\"text-align: right;\">\n",
       "      <th></th>\n",
       "      <th>Store</th>\n",
       "      <th>Dept</th>\n",
       "      <th>Date</th>\n",
       "      <th>Weekly_Sales</th>\n",
       "      <th>Temperature</th>\n",
       "      <th>Fuel_Price</th>\n",
       "      <th>MarkDown1</th>\n",
       "      <th>MarkDown2</th>\n",
       "      <th>MarkDown3</th>\n",
       "      <th>MarkDown4</th>\n",
       "      <th>MarkDown5</th>\n",
       "      <th>CPI</th>\n",
       "      <th>Unemployment</th>\n",
       "      <th>IsHoliday</th>\n",
       "      <th>sample_weight</th>\n",
       "    </tr>\n",
       "  </thead>\n",
       "  <tbody>\n",
       "    <tr>\n",
       "      <th>0</th>\n",
       "      <td>1</td>\n",
       "      <td>1</td>\n",
       "      <td>2010-02-05</td>\n",
       "      <td>24924.50</td>\n",
       "      <td>42.31</td>\n",
       "      <td>2.572</td>\n",
       "      <td>-1.0</td>\n",
       "      <td>-1.0</td>\n",
       "      <td>-1.0</td>\n",
       "      <td>-1.0</td>\n",
       "      <td>-1.0</td>\n",
       "      <td>211.096358</td>\n",
       "      <td>8.106</td>\n",
       "      <td>0</td>\n",
       "      <td>1</td>\n",
       "    </tr>\n",
       "    <tr>\n",
       "      <th>1</th>\n",
       "      <td>1</td>\n",
       "      <td>2</td>\n",
       "      <td>2010-02-05</td>\n",
       "      <td>50605.27</td>\n",
       "      <td>42.31</td>\n",
       "      <td>2.572</td>\n",
       "      <td>-1.0</td>\n",
       "      <td>-1.0</td>\n",
       "      <td>-1.0</td>\n",
       "      <td>-1.0</td>\n",
       "      <td>-1.0</td>\n",
       "      <td>211.096358</td>\n",
       "      <td>8.106</td>\n",
       "      <td>0</td>\n",
       "      <td>1</td>\n",
       "    </tr>\n",
       "    <tr>\n",
       "      <th>2</th>\n",
       "      <td>1</td>\n",
       "      <td>3</td>\n",
       "      <td>2010-02-05</td>\n",
       "      <td>13740.12</td>\n",
       "      <td>42.31</td>\n",
       "      <td>2.572</td>\n",
       "      <td>-1.0</td>\n",
       "      <td>-1.0</td>\n",
       "      <td>-1.0</td>\n",
       "      <td>-1.0</td>\n",
       "      <td>-1.0</td>\n",
       "      <td>211.096358</td>\n",
       "      <td>8.106</td>\n",
       "      <td>0</td>\n",
       "      <td>1</td>\n",
       "    </tr>\n",
       "    <tr>\n",
       "      <th>3</th>\n",
       "      <td>1</td>\n",
       "      <td>4</td>\n",
       "      <td>2010-02-05</td>\n",
       "      <td>39954.04</td>\n",
       "      <td>42.31</td>\n",
       "      <td>2.572</td>\n",
       "      <td>-1.0</td>\n",
       "      <td>-1.0</td>\n",
       "      <td>-1.0</td>\n",
       "      <td>-1.0</td>\n",
       "      <td>-1.0</td>\n",
       "      <td>211.096358</td>\n",
       "      <td>8.106</td>\n",
       "      <td>0</td>\n",
       "      <td>1</td>\n",
       "    </tr>\n",
       "    <tr>\n",
       "      <th>4</th>\n",
       "      <td>1</td>\n",
       "      <td>5</td>\n",
       "      <td>2010-02-05</td>\n",
       "      <td>32229.38</td>\n",
       "      <td>42.31</td>\n",
       "      <td>2.572</td>\n",
       "      <td>-1.0</td>\n",
       "      <td>-1.0</td>\n",
       "      <td>-1.0</td>\n",
       "      <td>-1.0</td>\n",
       "      <td>-1.0</td>\n",
       "      <td>211.096358</td>\n",
       "      <td>8.106</td>\n",
       "      <td>0</td>\n",
       "      <td>1</td>\n",
       "    </tr>\n",
       "  </tbody>\n",
       "</table>\n",
       "</div>"
      ],
      "text/plain": [
       "   Store  Dept        Date  Weekly_Sales  Temperature  Fuel_Price  MarkDown1  \\\n",
       "0      1     1  2010-02-05      24924.50        42.31       2.572       -1.0   \n",
       "1      1     2  2010-02-05      50605.27        42.31       2.572       -1.0   \n",
       "2      1     3  2010-02-05      13740.12        42.31       2.572       -1.0   \n",
       "3      1     4  2010-02-05      39954.04        42.31       2.572       -1.0   \n",
       "4      1     5  2010-02-05      32229.38        42.31       2.572       -1.0   \n",
       "\n",
       "   MarkDown2  MarkDown3  MarkDown4  MarkDown5         CPI  Unemployment  \\\n",
       "0       -1.0       -1.0       -1.0       -1.0  211.096358         8.106   \n",
       "1       -1.0       -1.0       -1.0       -1.0  211.096358         8.106   \n",
       "2       -1.0       -1.0       -1.0       -1.0  211.096358         8.106   \n",
       "3       -1.0       -1.0       -1.0       -1.0  211.096358         8.106   \n",
       "4       -1.0       -1.0       -1.0       -1.0  211.096358         8.106   \n",
       "\n",
       "   IsHoliday  sample_weight  \n",
       "0          0              1  \n",
       "1          0              1  \n",
       "2          0              1  \n",
       "3          0              1  \n",
       "4          0              1  "
      ]
     },
     "execution_count": 27,
     "metadata": {},
     "output_type": "execute_result"
    }
   ],
   "source": [
    "sales_data = pd.read_csv(\"../tmp/walmart_train.csv\")\n",
    "print(sales_data.shape)\n",
    "sales_data.head()"
   ]
  },
  {
   "cell_type": "code",
   "execution_count": 28,
   "metadata": {},
   "outputs": [
    {
     "name": "stdout",
     "output_type": "stream",
     "text": [
      "143\n",
      "45\n",
      "81\n"
     ]
    }
   ],
   "source": [
    "print(sales_data[\"Date\"].nunique())\n",
    "print(sales_data[\"Store\"].nunique())\n",
    "print(sales_data[\"Dept\"].nunique())"
   ]
  },
  {
   "cell_type": "code",
   "execution_count": 29,
   "metadata": {},
   "outputs": [
    {
     "data": {
      "text/plain": [
       "521235"
      ]
     },
     "execution_count": 29,
     "metadata": {},
     "output_type": "execute_result"
    }
   ],
   "source": [
    "143*45*81"
   ]
  },
  {
   "cell_type": "code",
   "execution_count": 30,
   "metadata": {},
   "outputs": [],
   "source": [
    "# Convert Date column to datetime\n",
    "sales_data[\"Date\"] = pd.to_datetime(sales_data[\"Date\"], format=\"%Y-%m-%d\")"
   ]
  },
  {
   "cell_type": "code",
   "execution_count": 31,
   "metadata": {},
   "outputs": [
    {
     "data": {
      "text/plain": [
       "Store                     int64\n",
       "Dept                      int64\n",
       "Date             datetime64[ns]\n",
       "Weekly_Sales            float64\n",
       "Temperature             float64\n",
       "Fuel_Price              float64\n",
       "MarkDown1               float64\n",
       "MarkDown2               float64\n",
       "MarkDown3               float64\n",
       "MarkDown4               float64\n",
       "MarkDown5               float64\n",
       "CPI                     float64\n",
       "Unemployment            float64\n",
       "IsHoliday                 int64\n",
       "sample_weight             int64\n",
       "dtype: object"
      ]
     },
     "execution_count": 31,
     "metadata": {},
     "output_type": "execute_result"
    }
   ],
   "source": [
    "sales_data.dtypes"
   ]
  },
  {
   "cell_type": "code",
   "execution_count": 32,
   "metadata": {},
   "outputs": [
    {
     "data": {
      "text/plain": [
       "array(['2010-02-05T00:00:00.000000000', '2010-02-12T00:00:00.000000000',\n",
       "       '2010-02-19T00:00:00.000000000', '2010-02-26T00:00:00.000000000',\n",
       "       '2010-03-05T00:00:00.000000000', '2010-03-12T00:00:00.000000000'],\n",
       "      dtype='datetime64[ns]')"
      ]
     },
     "execution_count": 32,
     "metadata": {},
     "output_type": "execute_result"
    }
   ],
   "source": [
    "sales_data[\"Date\"].unique()[:6]    # 週次データ"
   ]
  },
  {
   "cell_type": "code",
   "execution_count": 33,
   "metadata": {},
   "outputs": [
    {
     "data": {
      "text/plain": [
       "(421570, 15)"
      ]
     },
     "execution_count": 33,
     "metadata": {},
     "output_type": "execute_result"
    }
   ],
   "source": [
    "# Temperature, Fuel_Price, CPI, Unemploymentは、予測時点で情報が利用できない、１週過去情報を予測に用いるため、１週分シフトさせる\n",
    "lag_variables = [\"Temperature\", \"Fuel_Price\", \"CPI\", \"Unemployment\"]\n",
    "dai_data = sales_data.set_index([\"Date\", \"Store\", \"Dept\"])\n",
    "lagged_data = dai_data.loc[:, lag_variables].groupby(level=[\"Store\", \"Dept\"]).shift(1)\n",
    "\n",
    "# Join lagged predictor variables to training data\n",
    "dai_data = dai_data.join(lagged_data.rename(columns=lambda x: x +\"_lag\"))\n",
    "\n",
    "# Drop original predictor variables - we do not want to use these in the model \n",
    "dai_data = dai_data.drop(lagged_data, axis=1)\n",
    "dai_data = dai_data.reset_index()\n",
    "dai_data.shape"
   ]
  },
  {
   "cell_type": "code",
   "execution_count": 34,
   "metadata": {},
   "outputs": [
    {
     "data": {
      "text/html": [
       "<div>\n",
       "<style scoped>\n",
       "    .dataframe tbody tr th:only-of-type {\n",
       "        vertical-align: middle;\n",
       "    }\n",
       "\n",
       "    .dataframe tbody tr th {\n",
       "        vertical-align: top;\n",
       "    }\n",
       "\n",
       "    .dataframe thead th {\n",
       "        text-align: right;\n",
       "    }\n",
       "</style>\n",
       "<table border=\"1\" class=\"dataframe\">\n",
       "  <thead>\n",
       "    <tr style=\"text-align: right;\">\n",
       "      <th></th>\n",
       "      <th>Date</th>\n",
       "      <th>Store</th>\n",
       "      <th>Dept</th>\n",
       "      <th>Weekly_Sales</th>\n",
       "      <th>MarkDown1</th>\n",
       "      <th>MarkDown2</th>\n",
       "      <th>MarkDown3</th>\n",
       "      <th>MarkDown4</th>\n",
       "      <th>MarkDown5</th>\n",
       "      <th>IsHoliday</th>\n",
       "      <th>sample_weight</th>\n",
       "      <th>Temperature_lag</th>\n",
       "      <th>Fuel_Price_lag</th>\n",
       "      <th>CPI_lag</th>\n",
       "      <th>Unemployment_lag</th>\n",
       "    </tr>\n",
       "  </thead>\n",
       "  <tbody>\n",
       "    <tr>\n",
       "      <th>0</th>\n",
       "      <td>2010-02-05</td>\n",
       "      <td>1</td>\n",
       "      <td>1</td>\n",
       "      <td>24924.50</td>\n",
       "      <td>-1.0</td>\n",
       "      <td>-1.0</td>\n",
       "      <td>-1.0</td>\n",
       "      <td>-1.0</td>\n",
       "      <td>-1.0</td>\n",
       "      <td>0</td>\n",
       "      <td>1</td>\n",
       "      <td>NaN</td>\n",
       "      <td>NaN</td>\n",
       "      <td>NaN</td>\n",
       "      <td>NaN</td>\n",
       "    </tr>\n",
       "    <tr>\n",
       "      <th>1</th>\n",
       "      <td>2010-02-05</td>\n",
       "      <td>1</td>\n",
       "      <td>2</td>\n",
       "      <td>50605.27</td>\n",
       "      <td>-1.0</td>\n",
       "      <td>-1.0</td>\n",
       "      <td>-1.0</td>\n",
       "      <td>-1.0</td>\n",
       "      <td>-1.0</td>\n",
       "      <td>0</td>\n",
       "      <td>1</td>\n",
       "      <td>NaN</td>\n",
       "      <td>NaN</td>\n",
       "      <td>NaN</td>\n",
       "      <td>NaN</td>\n",
       "    </tr>\n",
       "    <tr>\n",
       "      <th>2</th>\n",
       "      <td>2010-02-05</td>\n",
       "      <td>1</td>\n",
       "      <td>3</td>\n",
       "      <td>13740.12</td>\n",
       "      <td>-1.0</td>\n",
       "      <td>-1.0</td>\n",
       "      <td>-1.0</td>\n",
       "      <td>-1.0</td>\n",
       "      <td>-1.0</td>\n",
       "      <td>0</td>\n",
       "      <td>1</td>\n",
       "      <td>NaN</td>\n",
       "      <td>NaN</td>\n",
       "      <td>NaN</td>\n",
       "      <td>NaN</td>\n",
       "    </tr>\n",
       "    <tr>\n",
       "      <th>3</th>\n",
       "      <td>2010-02-05</td>\n",
       "      <td>1</td>\n",
       "      <td>4</td>\n",
       "      <td>39954.04</td>\n",
       "      <td>-1.0</td>\n",
       "      <td>-1.0</td>\n",
       "      <td>-1.0</td>\n",
       "      <td>-1.0</td>\n",
       "      <td>-1.0</td>\n",
       "      <td>0</td>\n",
       "      <td>1</td>\n",
       "      <td>NaN</td>\n",
       "      <td>NaN</td>\n",
       "      <td>NaN</td>\n",
       "      <td>NaN</td>\n",
       "    </tr>\n",
       "    <tr>\n",
       "      <th>4</th>\n",
       "      <td>2010-02-05</td>\n",
       "      <td>1</td>\n",
       "      <td>5</td>\n",
       "      <td>32229.38</td>\n",
       "      <td>-1.0</td>\n",
       "      <td>-1.0</td>\n",
       "      <td>-1.0</td>\n",
       "      <td>-1.0</td>\n",
       "      <td>-1.0</td>\n",
       "      <td>0</td>\n",
       "      <td>1</td>\n",
       "      <td>NaN</td>\n",
       "      <td>NaN</td>\n",
       "      <td>NaN</td>\n",
       "      <td>NaN</td>\n",
       "    </tr>\n",
       "  </tbody>\n",
       "</table>\n",
       "</div>"
      ],
      "text/plain": [
       "        Date  Store  Dept  Weekly_Sales  MarkDown1  MarkDown2  MarkDown3  \\\n",
       "0 2010-02-05      1     1      24924.50       -1.0       -1.0       -1.0   \n",
       "1 2010-02-05      1     2      50605.27       -1.0       -1.0       -1.0   \n",
       "2 2010-02-05      1     3      13740.12       -1.0       -1.0       -1.0   \n",
       "3 2010-02-05      1     4      39954.04       -1.0       -1.0       -1.0   \n",
       "4 2010-02-05      1     5      32229.38       -1.0       -1.0       -1.0   \n",
       "\n",
       "   MarkDown4  MarkDown5  IsHoliday  sample_weight  Temperature_lag  \\\n",
       "0       -1.0       -1.0          0              1              NaN   \n",
       "1       -1.0       -1.0          0              1              NaN   \n",
       "2       -1.0       -1.0          0              1              NaN   \n",
       "3       -1.0       -1.0          0              1              NaN   \n",
       "4       -1.0       -1.0          0              1              NaN   \n",
       "\n",
       "   Fuel_Price_lag  CPI_lag  Unemployment_lag  \n",
       "0             NaN      NaN               NaN  \n",
       "1             NaN      NaN               NaN  \n",
       "2             NaN      NaN               NaN  \n",
       "3             NaN      NaN               NaN  \n",
       "4             NaN      NaN               NaN  "
      ]
     },
     "execution_count": 34,
     "metadata": {},
     "output_type": "execute_result"
    }
   ],
   "source": [
    "# 加工済みモデリングデータ\n",
    "\n",
    "dai_data.head()"
   ]
  },
  {
   "cell_type": "code",
   "execution_count": 35,
   "metadata": {},
   "outputs": [
    {
     "name": "stdout",
     "output_type": "stream",
     "text": [
      "2010-02-05 00:00:00\n",
      "2012-10-26 00:00:00\n"
     ]
    }
   ],
   "source": [
    "print( dai_data[\"Date\"].min() )\n",
    "print( dai_data[\"Date\"].max() )"
   ]
  },
  {
   "cell_type": "code",
   "execution_count": 36,
   "metadata": {},
   "outputs": [
    {
     "name": "stdout",
     "output_type": "stream",
     "text": [
      "(418611, 15)\n",
      "(2959, 15)\n"
     ]
    }
   ],
   "source": [
    "train_data = dai_data.loc[dai_data[\"Date\"] < \"2012-10-26\"]\n",
    "print(train_data.shape)\n",
    "test_data = dai_data.loc[dai_data[\"Date\"] == \"2012-10-26\"]    # 最終週のみをテストデータとする\n",
    "print(test_data.shape)"
   ]
  },
  {
   "cell_type": "code",
   "execution_count": 37,
   "metadata": {},
   "outputs": [],
   "source": [
    "# train_data, test_dataを、サーバへアップするため、ローカルへ一時保存\n",
    "\n",
    "train_path = \"../tmp/wm_train_data.csv\"\n",
    "test_path = \"../tmp/wm_test_data.csv\"\n",
    "\n",
    "train_data.to_csv(train_path, index = False)\n",
    "test_data.to_csv(test_path, index = False)"
   ]
  },
  {
   "cell_type": "markdown",
   "metadata": {},
   "source": [
    "### Driverless AIサーバでのモデル作成、予測の実施"
   ]
  },
  {
   "cell_type": "code",
   "execution_count": 39,
   "metadata": {},
   "outputs": [],
   "source": [
    "# Driverless AIのuser nameとpasswordの読み込み\n",
    "import json\n",
    "with open('../idpass.json') as f:\n",
    "    idpass = json.load(f)"
   ]
  },
  {
   "cell_type": "code",
   "execution_count": 71,
   "metadata": {},
   "outputs": [
    {
     "data": {
      "text/plain": [
       "<class 'driverlessai._core.Client'> http://34.203.218.123:12345"
      ]
     },
     "execution_count": 71,
     "metadata": {},
     "output_type": "execute_result"
    }
   ],
   "source": [
    "# Driverless AIサーバーへの接続\n",
    "dai = driverlessai.Client(address='http://34.203.218.123:12345', username=idpass['id'], password=idpass['pass1921'])\n",
    "dai"
   ]
  },
  {
   "cell_type": "code",
   "execution_count": 43,
   "metadata": {},
   "outputs": [
    {
     "name": "stdout",
     "output_type": "stream",
     "text": [
      "Complete 100.00% - [4/4] Computed stats for column Dept\n",
      "Complete 100.00% - [4/4] Computed stats for column Unemployment_lag\n"
     ]
    }
   ],
   "source": [
    "# ローカルのデータをDriverless AIサーバへアップ\n",
    "train_dai = dai.datasets.create(train_path, force=True)\n",
    "test_dai = dai.datasets.create(test_path, force=True)"
   ]
  },
  {
   "cell_type": "markdown",
   "metadata": {},
   "source": [
    "Experiments.create\n",
    "- Launch an experiment on the Driverless AI server and wait for it to complete before returning.\n",
    "- http://docs.h2o.ai/driverless-ai/pyclient/docs/html/client.html#driverlessai._experiments.Experiments"
   ]
  },
  {
   "cell_type": "code",
   "execution_count": 73,
   "metadata": {},
   "outputs": [
    {
     "name": "stdout",
     "output_type": "stream",
     "text": [
      "Experiment launched at: http://34.203.218.123:12345/#/experiment?key=cd608c3e-b442-11eb-a33c-0242ac110002\n",
      "Complete 100.00% - Status: Complete                                                       \n"
     ]
    }
   ],
   "source": [
    "# Experimentの実施\n",
    "\n",
    "settings = {\n",
    "    'test_dataset': test_dai,\n",
    "    'time_column': \"Date\",\n",
    "    'time_groups_columns': [\"Store\", \"Dept\"],\n",
    "    'num_prediction_periods': 1,\n",
    "    'num_gap_periods': 0,\n",
    "    'accuracy': 5,\n",
    "    'time': 3,\n",
    "    'interpretability': 8,\n",
    "    'drop_columns': [\"sample_weight\"],\n",
    "    'scorer': \"RMSE\",\n",
    "}\n",
    "\n",
    "experiment = dai.experiments.create(train_dataset=train_dai,\n",
    "                                    target_column=\"Weekly_Sales\",\n",
    "                                    task='regression',\n",
    "                                    force=True,\n",
    "                                    **settings\n",
    "                                   )"
   ]
  },
  {
   "cell_type": "markdown",
   "metadata": {},
   "source": [
    "Experimentオブジェクト\n",
    "- http://docs.h2o.ai/driverless-ai/pyclient/docs/html/objects.html#experiment"
   ]
  },
  {
   "cell_type": "code",
   "execution_count": 74,
   "metadata": {},
   "outputs": [
    {
     "data": {
      "text/plain": [
       "True"
      ]
     },
     "execution_count": 74,
     "metadata": {},
     "output_type": "execute_result"
    }
   ],
   "source": [
    "experiment.is_complete()"
   ]
  },
  {
   "cell_type": "code",
   "execution_count": 75,
   "metadata": {
    "scrolled": false
   },
   "outputs": [
    {
     "name": "stdout",
     "output_type": "stream",
     "text": [
      "Status: Complete\n",
      "Experiment: gopifavo (cd608c3e-b442-11eb-a33c-0242ac110002)\n",
      "  Version: 1.9.2.1, 2021-05-13 23:56\n",
      "  Settings: 5/3/8, seed=552192432, GPUs disabled\n",
      "  Train data: wm_train_data.csv (418611, 14)\n",
      "  Validation data: N/A\n",
      "  Test data: [Test] (2959, 13)\n",
      "  Target column: Weekly_Sales (regression)\n",
      "System specs: Docker/Linux, 31 GB, 8 CPU cores, 0/0 GPU\n",
      "  Max memory usage: 7.26 GB, 0 GB GPU\n",
      "Recipe: AutoDL (34 iterations, 4 individuals)\n",
      "  Validation scheme: time-based, 3 internal holdouts\n",
      "  Feature engineering: 522 features scored (20 selected)\n",
      "Timing: MOJO latency: 0.23058 millis (177.4MB)\n",
      "  Data preparation: 11.09 secs\n",
      "  Shift/Leakage detection: 15.92 secs\n",
      "  Model and feature tuning: 850.68 secs (61 models trained)\n",
      "  Feature evolution: 452.13 secs (75 of 372 models trained)\n",
      "  Final pipeline training: 191.38 secs (1 model trained)\n",
      "  Python / MOJO scorer building: 41.45 secs / 138.27 secs\n",
      "Validation score: RMSE = 22721.92 (constant preds of 1.598e+04)\n",
      "Validation score: RMSE = 5061.78 +/- 1663.127 (baseline)\n",
      "Validation score: RMSE = 5041.867 +/- 0.0009765625 (final pipeline)\n",
      "Test score:       RMSE = 2414.061 +/- 0.0009765625 (final pipeline)\n"
     ]
    }
   ],
   "source": [
    "experiment.summary()"
   ]
  },
  {
   "cell_type": "code",
   "execution_count": 76,
   "metadata": {},
   "outputs": [
    {
     "data": {
      "text/plain": [
       "{'scorer': 'RMSE',\n",
       " 'val_score': 5041.86669921875,\n",
       " 'val_score_sd': 0.0009765625,\n",
       " 'val_roc_auc': None,\n",
       " 'val_pr_auc': None,\n",
       " 'test_score': 2414.061279296875,\n",
       " 'test_score_sd': 0.0009765625,\n",
       " 'test_roc_auc': None,\n",
       " 'test_pr_auc': None}"
      ]
     },
     "execution_count": 76,
     "metadata": {},
     "output_type": "execute_result"
    }
   ],
   "source": [
    "experiment.metrics()"
   ]
  },
  {
   "cell_type": "code",
   "execution_count": 77,
   "metadata": {},
   "outputs": [
    {
     "data": {
      "text/html": [
       "<table>\n",
       "<thead>\n",
       "<tr><th style=\"text-align: right;\">      gain</th><th>interaction                                                                                                    </th><th>description                                                                                                                                                                     </th></tr>\n",
       "</thead>\n",
       "<tbody>\n",
       "<tr><td style=\"text-align: right;\">1         </td><td>11_TargetLag:Date:Dept:Store.1                                                                                 </td><td>Lag of target for groups [&#x27;Dept&#x27;, &#x27;Store&#x27;] by 1 time period                                                                                                                     </td></tr>\n",
       "<tr><td style=\"text-align: right;\">0.627939  </td><td>11_TargetLag:Date:Dept:Store.2                                                                                 </td><td>Lag of target for groups [&#x27;Dept&#x27;, &#x27;Store&#x27;] by 2 time periods                                                                                                                    </td></tr>\n",
       "<tr><td style=\"text-align: right;\">0.600206  </td><td>11_TargetLag:Date:Dept:Store.3                                                                                 </td><td>Lag of target for groups [&#x27;Dept&#x27;, &#x27;Store&#x27;] by 3 time periods                                                                                                                    </td></tr>\n",
       "<tr><td style=\"text-align: right;\">0.230629  </td><td>11_TargetLag:Date:Dept:Store.4                                                                                 </td><td>Lag of target for groups [&#x27;Dept&#x27;, &#x27;Store&#x27;] by 4 time periods                                                                                                                    </td></tr>\n",
       "<tr><td style=\"text-align: right;\">0.0304164 </td><td>11_TargetLag:Date:Dept:Store.9                                                                                 </td><td>Lag of target for groups [&#x27;Dept&#x27;, &#x27;Store&#x27;] by 9 time periods                                                                                                                    </td></tr>\n",
       "<tr><td style=\"text-align: right;\">0.0195279 </td><td>11_TargetLag:Date:Dept:Store.52                                                                                </td><td>Lag of target for groups [&#x27;Dept&#x27;, &#x27;Store&#x27;] by 52 time periods                                                                                                                   </td></tr>\n",
       "<tr><td style=\"text-align: right;\">0.0154588 </td><td>20_IsHoliday                                                                                                   </td><td>IsHoliday (Original)                                                                                                                                                            </td></tr>\n",
       "<tr><td style=\"text-align: right;\">0.0139658 </td><td>11_TargetLag:Date:Dept:Store.8                                                                                 </td><td>Lag of target for groups [&#x27;Dept&#x27;, &#x27;Store&#x27;] by 8 time periods                                                                                                                    </td></tr>\n",
       "<tr><td style=\"text-align: right;\">0.00855763</td><td>16_Date:Date~get_week                                                                                          </td><td>Week extracted from &#x27;Date&#x27;                                                                                                                                                      </td></tr>\n",
       "<tr><td style=\"text-align: right;\">0.00733516</td><td>11_TargetLag:Date:Dept:Store.13                                                                                </td><td>Lag of target for groups [&#x27;Dept&#x27;, &#x27;Store&#x27;] by 13 time periods                                                                                                                   </td></tr>\n",
       "<tr><td style=\"text-align: right;\">0.00694886</td><td>17_TargetLagInteraction:Date:Dept:Store.1sub13                                                                 </td><td>Lag interaction of target for groups Sub: ([&#x27;Dept&#x27;, &#x27;Store&#x27;]1-)                                                                                                                 </td></tr>\n",
       "<tr><td style=\"text-align: right;\">0.00674326</td><td>12_InteractionMul:CPI_lag:MarkDown2                                                                            </td><td>[CPI_lag] * [MarkDown2]                                                                                                                                                         </td></tr>\n",
       "<tr><td style=\"text-align: right;\">0.00666851</td><td>15_EWMA(0.05)(2)TargetLags:Date:Dept:Store.1:2:3:4:5:6:7:8:9:10:11:12:13:14:15:20:21:31:32:40:44:45:51:52:53:60</td><td>EWMA (α = 0.05) of twice differentiated target lags [1, 2, 3, 4, 5, 6, 7, 8, 9, 10, 11, 12, 13, 14, 15, 20, 21, 31, 32, 40, 44, 45, 51, 52, 53, 60] grouped by [&#x27;Dept&#x27;, &#x27;Store&#x27;]</td></tr>\n",
       "<tr><td style=\"text-align: right;\">0.00652757</td><td>14_MarkDown3                                                                                                   </td><td>MarkDown3 (Original)                                                                                                                                                            </td></tr>\n",
       "<tr><td style=\"text-align: right;\">0.00637496</td><td>15_EWMA(0.05)(1)TargetLags:Date:Dept:Store.1:2:3:4:5:6:7:8:9:10:11:12:13:14:15:20:21:31:32:40:44:45:51:52:53:60</td><td>EWMA (α = 0.05) of differentiated target lags [1, 2, 3, 4, 5, 6, 7, 8, 9, 10, 11, 12, 13, 14, 15, 20, 21, 31, 32, 40, 44, 45, 51, 52, 53, 60] grouped by [&#x27;Dept&#x27;, &#x27;Store&#x27;]      </td></tr>\n",
       "<tr><td style=\"text-align: right;\">0.00634847</td><td>16_Date:Date~get_day                                                                                           </td><td>Day extracted from &#x27;Date&#x27;                                                                                                                                                       </td></tr>\n",
       "<tr><td style=\"text-align: right;\">0.00599981</td><td>11_TargetLag:Date:Dept:Store.40                                                                                </td><td>Lag of target for groups [&#x27;Dept&#x27;, &#x27;Store&#x27;] by 40 time periods                                                                                                                   </td></tr>\n",
       "<tr><td style=\"text-align: right;\">0.00432201</td><td>31_EWMA(0.05)(1)TargetLags:Date:Dept:Store.26:52:78:104                                                        </td><td>EWMA (α = 0.05) of differentiated target lags [26, 52, 78, 104] grouped by [&#x27;Dept&#x27;, &#x27;Store&#x27;]                                                                                    </td></tr>\n",
       "<tr><td style=\"text-align: right;\">0.00225971</td><td>11_TargetLag:Date:Dept:Store.12                                                                                </td><td>Lag of target for groups [&#x27;Dept&#x27;, &#x27;Store&#x27;] by 12 time periods                                                                                                                   </td></tr>\n",
       "<tr><td style=\"text-align: right;\">0.00141899</td><td>11_TargetLag:Date:Dept:Store.32                                                                                </td><td>Lag of target for groups [&#x27;Dept&#x27;, &#x27;Store&#x27;] by 32 time periods                                                                                                                   </td></tr>\n",
       "</tbody>\n",
       "</table>"
      ],
      "text/plain": [
       "<driverlessai._utils.Table at 0x7fb940f9f430>"
      ]
     },
     "execution_count": 77,
     "metadata": {},
     "output_type": "execute_result"
    }
   ],
   "source": [
    "experiment.variable_importance()"
   ]
  },
  {
   "cell_type": "markdown",
   "metadata": {},
   "source": [
    "【Experiment完了画面】\n",
    "<img src=\"img/TS_2021-05-14.png\" width=800px>"
   ]
  },
  {
   "cell_type": "markdown",
   "metadata": {},
   "source": [
    "#### テストデータに対する予測"
   ]
  },
  {
   "cell_type": "code",
   "execution_count": 78,
   "metadata": {
    "scrolled": true
   },
   "outputs": [
    {
     "name": "stdout",
     "output_type": "stream",
     "text": [
      "Complete\n"
     ]
    }
   ],
   "source": [
    "# テストデータに対する予測\n",
    "prediction = experiment.predict(dataset=test_dai, include_columns=train_data.columns.values.tolist())"
   ]
  },
  {
   "cell_type": "code",
   "execution_count": 79,
   "metadata": {},
   "outputs": [
    {
     "name": "stdout",
     "output_type": "stream",
     "text": [
      "Downloaded '../tmp/wm_test_data_RES.csv'\n"
     ]
    },
    {
     "data": {
      "text/plain": [
       "'../tmp/wm_test_data_RES.csv'"
      ]
     },
     "execution_count": 79,
     "metadata": {},
     "output_type": "execute_result"
    }
   ],
   "source": [
    "# 予測結果をローカルへダウンロード\n",
    "save_path = '../tmp/wm_test_data_RES.csv'\n",
    "\n",
    "prediction.download(dst_dir='.', dst_file=save_path, overwrite=True)"
   ]
  },
  {
   "cell_type": "markdown",
   "metadata": {},
   "source": [
    "### ローカルでの結果確認"
   ]
  },
  {
   "cell_type": "code",
   "execution_count": 80,
   "metadata": {},
   "outputs": [
    {
     "name": "stdout",
     "output_type": "stream",
     "text": [
      "(2959, 18)\n"
     ]
    },
    {
     "data": {
      "text/html": [
       "<div>\n",
       "<style scoped>\n",
       "    .dataframe tbody tr th:only-of-type {\n",
       "        vertical-align: middle;\n",
       "    }\n",
       "\n",
       "    .dataframe tbody tr th {\n",
       "        vertical-align: top;\n",
       "    }\n",
       "\n",
       "    .dataframe thead th {\n",
       "        text-align: right;\n",
       "    }\n",
       "</style>\n",
       "<table border=\"1\" class=\"dataframe\">\n",
       "  <thead>\n",
       "    <tr style=\"text-align: right;\">\n",
       "      <th></th>\n",
       "      <th>Date</th>\n",
       "      <th>Store</th>\n",
       "      <th>Dept</th>\n",
       "      <th>Weekly_Sales</th>\n",
       "      <th>MarkDown1</th>\n",
       "      <th>MarkDown2</th>\n",
       "      <th>MarkDown3</th>\n",
       "      <th>MarkDown4</th>\n",
       "      <th>MarkDown5</th>\n",
       "      <th>IsHoliday</th>\n",
       "      <th>sample_weight</th>\n",
       "      <th>Temperature_lag</th>\n",
       "      <th>Fuel_Price_lag</th>\n",
       "      <th>CPI_lag</th>\n",
       "      <th>Unemployment_lag</th>\n",
       "      <th>Weekly_Sales.predicted</th>\n",
       "      <th>Weekly_Sales.predicted.lower</th>\n",
       "      <th>Weekly_Sales.predicted.upper</th>\n",
       "    </tr>\n",
       "  </thead>\n",
       "  <tbody>\n",
       "    <tr>\n",
       "      <th>0</th>\n",
       "      <td>2012-10-26</td>\n",
       "      <td>1</td>\n",
       "      <td>1</td>\n",
       "      <td>27390.81</td>\n",
       "      <td>2585.85</td>\n",
       "      <td>31.75</td>\n",
       "      <td>6.0</td>\n",
       "      <td>1057.16</td>\n",
       "      <td>1305.01</td>\n",
       "      <td>0</td>\n",
       "      <td>1</td>\n",
       "      <td>67.97</td>\n",
       "      <td>3.594</td>\n",
       "      <td>223.425723</td>\n",
       "      <td>6.573</td>\n",
       "      <td>27709.934</td>\n",
       "      <td>12767.029875</td>\n",
       "      <td>36433.487781</td>\n",
       "    </tr>\n",
       "    <tr>\n",
       "      <th>1</th>\n",
       "      <td>2012-10-26</td>\n",
       "      <td>1</td>\n",
       "      <td>2</td>\n",
       "      <td>43134.88</td>\n",
       "      <td>2585.85</td>\n",
       "      <td>31.75</td>\n",
       "      <td>6.0</td>\n",
       "      <td>1057.16</td>\n",
       "      <td>1305.01</td>\n",
       "      <td>0</td>\n",
       "      <td>1</td>\n",
       "      <td>67.97</td>\n",
       "      <td>3.594</td>\n",
       "      <td>223.425723</td>\n",
       "      <td>6.573</td>\n",
       "      <td>43491.008</td>\n",
       "      <td>39208.184938</td>\n",
       "      <td>47413.414812</td>\n",
       "    </tr>\n",
       "    <tr>\n",
       "      <th>2</th>\n",
       "      <td>2012-10-26</td>\n",
       "      <td>1</td>\n",
       "      <td>3</td>\n",
       "      <td>9350.90</td>\n",
       "      <td>2585.85</td>\n",
       "      <td>31.75</td>\n",
       "      <td>6.0</td>\n",
       "      <td>1057.16</td>\n",
       "      <td>1305.01</td>\n",
       "      <td>0</td>\n",
       "      <td>1</td>\n",
       "      <td>67.97</td>\n",
       "      <td>3.594</td>\n",
       "      <td>223.425723</td>\n",
       "      <td>6.573</td>\n",
       "      <td>9692.794</td>\n",
       "      <td>5915.586992</td>\n",
       "      <td>19053.486758</td>\n",
       "    </tr>\n",
       "    <tr>\n",
       "      <th>3</th>\n",
       "      <td>2012-10-26</td>\n",
       "      <td>1</td>\n",
       "      <td>4</td>\n",
       "      <td>36292.60</td>\n",
       "      <td>2585.85</td>\n",
       "      <td>31.75</td>\n",
       "      <td>6.0</td>\n",
       "      <td>1057.16</td>\n",
       "      <td>1305.01</td>\n",
       "      <td>0</td>\n",
       "      <td>1</td>\n",
       "      <td>67.97</td>\n",
       "      <td>3.594</td>\n",
       "      <td>223.425723</td>\n",
       "      <td>6.573</td>\n",
       "      <td>34812.742</td>\n",
       "      <td>31014.132901</td>\n",
       "      <td>38665.401488</td>\n",
       "    </tr>\n",
       "    <tr>\n",
       "      <th>4</th>\n",
       "      <td>2012-10-26</td>\n",
       "      <td>1</td>\n",
       "      <td>5</td>\n",
       "      <td>25846.94</td>\n",
       "      <td>2585.85</td>\n",
       "      <td>31.75</td>\n",
       "      <td>6.0</td>\n",
       "      <td>1057.16</td>\n",
       "      <td>1305.01</td>\n",
       "      <td>0</td>\n",
       "      <td>1</td>\n",
       "      <td>67.97</td>\n",
       "      <td>3.594</td>\n",
       "      <td>223.425723</td>\n",
       "      <td>6.573</td>\n",
       "      <td>23122.365</td>\n",
       "      <td>13390.530703</td>\n",
       "      <td>32352.630156</td>\n",
       "    </tr>\n",
       "  </tbody>\n",
       "</table>\n",
       "</div>"
      ],
      "text/plain": [
       "         Date  Store  Dept  Weekly_Sales  MarkDown1  MarkDown2  MarkDown3  \\\n",
       "0  2012-10-26      1     1      27390.81    2585.85      31.75        6.0   \n",
       "1  2012-10-26      1     2      43134.88    2585.85      31.75        6.0   \n",
       "2  2012-10-26      1     3       9350.90    2585.85      31.75        6.0   \n",
       "3  2012-10-26      1     4      36292.60    2585.85      31.75        6.0   \n",
       "4  2012-10-26      1     5      25846.94    2585.85      31.75        6.0   \n",
       "\n",
       "   MarkDown4  MarkDown5  IsHoliday  sample_weight  Temperature_lag  \\\n",
       "0    1057.16    1305.01          0              1            67.97   \n",
       "1    1057.16    1305.01          0              1            67.97   \n",
       "2    1057.16    1305.01          0              1            67.97   \n",
       "3    1057.16    1305.01          0              1            67.97   \n",
       "4    1057.16    1305.01          0              1            67.97   \n",
       "\n",
       "   Fuel_Price_lag     CPI_lag  Unemployment_lag  Weekly_Sales.predicted  \\\n",
       "0           3.594  223.425723             6.573               27709.934   \n",
       "1           3.594  223.425723             6.573               43491.008   \n",
       "2           3.594  223.425723             6.573                9692.794   \n",
       "3           3.594  223.425723             6.573               34812.742   \n",
       "4           3.594  223.425723             6.573               23122.365   \n",
       "\n",
       "   Weekly_Sales.predicted.lower  Weekly_Sales.predicted.upper  \n",
       "0                  12767.029875                  36433.487781  \n",
       "1                  39208.184938                  47413.414812  \n",
       "2                   5915.586992                  19053.486758  \n",
       "3                  31014.132901                  38665.401488  \n",
       "4                  13390.530703                  32352.630156  "
      ]
     },
     "execution_count": 80,
     "metadata": {},
     "output_type": "execute_result"
    }
   ],
   "source": [
    "res = pd.read_csv(save_path)\n",
    "print(res.shape)\n",
    "res.head()"
   ]
  },
  {
   "cell_type": "code",
   "execution_count": 93,
   "metadata": {},
   "outputs": [
    {
     "data": {
      "image/png": "[encoded data removed]",
      "text/plain": [
       "<Figure size 432x288 with 1 Axes>"
      ]
     },
     "metadata": {
      "needs_background": "light"
     },
     "output_type": "display_data"
    }
   ],
   "source": [
    "#plt.figure(figsize=(5, 5))\n",
    "plt.scatter(res['Weekly_Sales'], res['Weekly_Sales.predicted'])\n",
    "plt.plot([0, max(res['Weekly_Sales'],)],[0, max(res['Weekly_Sales.predicted'])], 'r--',)\n",
    "plt.title('Actual-Predict plot')\n",
    "plt.xlabel(\"Actual\")\n",
    "plt.ylabel(\"Predict\")\n",
    "plt.show()"
   ]
  },
  {
   "cell_type": "code",
   "execution_count": 92,
   "metadata": {},
   "outputs": [
    {
     "data": {
      "image/png": "[encoded data removed]",
      "text/plain": [
       "<Figure size 432x288 with 1 Axes>"
      ]
     },
     "metadata": {
      "needs_background": "light"
     },
     "output_type": "display_data"
    }
   ],
   "source": [
    "resid = res['Weekly_Sales'] - res['Weekly_Sales.predicted']\n",
    "\n",
    "plt.hist(resid, bins=20, ec='navy')\n",
    "plt.title('Residual plot')\n",
    "plt.xlabel('Residual (Actual-Predict)')\n",
    "plt.show()"
   ]
  },
  {
   "cell_type": "code",
   "execution_count": 84,
   "metadata": {},
   "outputs": [
    {
     "data": {
      "text/plain": [
       "0.9869410118187198"
      ]
     },
     "execution_count": 84,
     "metadata": {},
     "output_type": "execute_result"
    }
   ],
   "source": [
    "# R2 \n",
    "r2_score(res['Weekly_Sales'], res['Weekly_Sales.predicted'])"
   ]
  },
  {
   "cell_type": "code",
   "execution_count": 85,
   "metadata": {},
   "outputs": [
    {
     "data": {
      "text/plain": [
       "2414.0613229571354"
      ]
     },
     "execution_count": 85,
     "metadata": {},
     "output_type": "execute_result"
    }
   ],
   "source": [
    "# RMSE\n",
    "mean_squared_error(res['Weekly_Sales'], res['Weekly_Sales.predicted'], squared=False)"
   ]
  },
  {
   "cell_type": "code",
   "execution_count": null,
   "metadata": {},
   "outputs": [],
   "source": []
  }
 ],
 "metadata": {
  "kernelspec": {
   "display_name": "Python 3",
   "language": "python",
   "name": "python3"
  },
  "language_info": {
   "codemirror_mode": {
    "name": "ipython",
    "version": 3
   },
   "file_extension": ".py",
   "mimetype": "text/x-python",
   "name": "python",
   "nbconvert_exporter": "python",
   "pygments_lexer": "ipython3",
   "version": "3.8.3"
  }
 },
 "nbformat": 4,
 "nbformat_minor": 4
}
