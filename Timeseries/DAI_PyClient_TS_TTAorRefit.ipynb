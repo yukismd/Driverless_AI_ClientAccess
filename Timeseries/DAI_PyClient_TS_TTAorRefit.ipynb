{
 "cells": [
  {
   "cell_type": "markdown",
   "metadata": {},
   "source": [
    "# モデル運用 - ローリング予測の比較"
   ]
  },
  {
   "cell_type": "markdown",
   "metadata": {},
   "source": [
    "### Refit: \n",
    "- 予測時点で新しく観測されたデータを学習データに加え、モデルを再学習し、予測を実施"
   ]
  },
  {
   "cell_type": "markdown",
   "metadata": {},
   "source": [
    "### Test Time Augmentation(TTA): \n",
    "- モデルはそのままで、データをアップデートして（予測時点で新しく観測されたデータからlog変数を作成）予測を実施"
   ]
  },
  {
   "cell_type": "markdown",
   "metadata": {},
   "source": [
    "[参照元](https://github.com/h2oai/driverlessai-tutorials/blob/master/driverlessai_experiments/timeseries/walmart_timeseries_experiment/timeseries_model_rollingwindow.ipynb)"
   ]
  },
  {
   "cell_type": "code",
   "execution_count": 1,
   "metadata": {},
   "outputs": [],
   "source": [
    "from collections import OrderedDict\n",
    "import pandas as pd\n",
    "from sklearn.metrics import mean_squared_error, r2_score\n",
    "import driverlessai"
   ]
  },
  {
   "cell_type": "markdown",
   "metadata": {},
   "source": [
    "データはDriverlessAIサーバの`/data/TimeSeries/walmart/`配下"
   ]
  },
  {
   "cell_type": "code",
   "execution_count": 2,
   "metadata": {},
   "outputs": [
    {
     "name": "stdout",
     "output_type": "stream",
     "text": [
      "(421570, 15)\n"
     ]
    },
    {
     "data": {
      "text/html": [
       "<div>\n",
       "<style scoped>\n",
       "    .dataframe tbody tr th:only-of-type {\n",
       "        vertical-align: middle;\n",
       "    }\n",
       "\n",
       "    .dataframe tbody tr th {\n",
       "        vertical-align: top;\n",
       "    }\n",
       "\n",
       "    .dataframe thead th {\n",
       "        text-align: right;\n",
       "    }\n",
       "</style>\n",
       "<table border=\"1\" class=\"dataframe\">\n",
       "  <thead>\n",
       "    <tr style=\"text-align: right;\">\n",
       "      <th></th>\n",
       "      <th>Store</th>\n",
       "      <th>Dept</th>\n",
       "      <th>Date</th>\n",
       "      <th>Weekly_Sales</th>\n",
       "      <th>Temperature</th>\n",
       "      <th>Fuel_Price</th>\n",
       "      <th>MarkDown1</th>\n",
       "      <th>MarkDown2</th>\n",
       "      <th>MarkDown3</th>\n",
       "      <th>MarkDown4</th>\n",
       "      <th>MarkDown5</th>\n",
       "      <th>CPI</th>\n",
       "      <th>Unemployment</th>\n",
       "      <th>IsHoliday</th>\n",
       "      <th>sample_weight</th>\n",
       "    </tr>\n",
       "  </thead>\n",
       "  <tbody>\n",
       "    <tr>\n",
       "      <th>0</th>\n",
       "      <td>1</td>\n",
       "      <td>1</td>\n",
       "      <td>2010-02-05</td>\n",
       "      <td>24924.50</td>\n",
       "      <td>42.31</td>\n",
       "      <td>2.572</td>\n",
       "      <td>-1.0</td>\n",
       "      <td>-1.0</td>\n",
       "      <td>-1.0</td>\n",
       "      <td>-1.0</td>\n",
       "      <td>-1.0</td>\n",
       "      <td>211.096358</td>\n",
       "      <td>8.106</td>\n",
       "      <td>0</td>\n",
       "      <td>1</td>\n",
       "    </tr>\n",
       "    <tr>\n",
       "      <th>1</th>\n",
       "      <td>1</td>\n",
       "      <td>2</td>\n",
       "      <td>2010-02-05</td>\n",
       "      <td>50605.27</td>\n",
       "      <td>42.31</td>\n",
       "      <td>2.572</td>\n",
       "      <td>-1.0</td>\n",
       "      <td>-1.0</td>\n",
       "      <td>-1.0</td>\n",
       "      <td>-1.0</td>\n",
       "      <td>-1.0</td>\n",
       "      <td>211.096358</td>\n",
       "      <td>8.106</td>\n",
       "      <td>0</td>\n",
       "      <td>1</td>\n",
       "    </tr>\n",
       "    <tr>\n",
       "      <th>2</th>\n",
       "      <td>1</td>\n",
       "      <td>3</td>\n",
       "      <td>2010-02-05</td>\n",
       "      <td>13740.12</td>\n",
       "      <td>42.31</td>\n",
       "      <td>2.572</td>\n",
       "      <td>-1.0</td>\n",
       "      <td>-1.0</td>\n",
       "      <td>-1.0</td>\n",
       "      <td>-1.0</td>\n",
       "      <td>-1.0</td>\n",
       "      <td>211.096358</td>\n",
       "      <td>8.106</td>\n",
       "      <td>0</td>\n",
       "      <td>1</td>\n",
       "    </tr>\n",
       "    <tr>\n",
       "      <th>3</th>\n",
       "      <td>1</td>\n",
       "      <td>4</td>\n",
       "      <td>2010-02-05</td>\n",
       "      <td>39954.04</td>\n",
       "      <td>42.31</td>\n",
       "      <td>2.572</td>\n",
       "      <td>-1.0</td>\n",
       "      <td>-1.0</td>\n",
       "      <td>-1.0</td>\n",
       "      <td>-1.0</td>\n",
       "      <td>-1.0</td>\n",
       "      <td>211.096358</td>\n",
       "      <td>8.106</td>\n",
       "      <td>0</td>\n",
       "      <td>1</td>\n",
       "    </tr>\n",
       "    <tr>\n",
       "      <th>4</th>\n",
       "      <td>1</td>\n",
       "      <td>5</td>\n",
       "      <td>2010-02-05</td>\n",
       "      <td>32229.38</td>\n",
       "      <td>42.31</td>\n",
       "      <td>2.572</td>\n",
       "      <td>-1.0</td>\n",
       "      <td>-1.0</td>\n",
       "      <td>-1.0</td>\n",
       "      <td>-1.0</td>\n",
       "      <td>-1.0</td>\n",
       "      <td>211.096358</td>\n",
       "      <td>8.106</td>\n",
       "      <td>0</td>\n",
       "      <td>1</td>\n",
       "    </tr>\n",
       "  </tbody>\n",
       "</table>\n",
       "</div>"
      ],
      "text/plain": [
       "   Store  Dept        Date  Weekly_Sales  Temperature  Fuel_Price  MarkDown1  \\\n",
       "0      1     1  2010-02-05      24924.50        42.31       2.572       -1.0   \n",
       "1      1     2  2010-02-05      50605.27        42.31       2.572       -1.0   \n",
       "2      1     3  2010-02-05      13740.12        42.31       2.572       -1.0   \n",
       "3      1     4  2010-02-05      39954.04        42.31       2.572       -1.0   \n",
       "4      1     5  2010-02-05      32229.38        42.31       2.572       -1.0   \n",
       "\n",
       "   MarkDown2  MarkDown3  MarkDown4  MarkDown5         CPI  Unemployment  \\\n",
       "0       -1.0       -1.0       -1.0       -1.0  211.096358         8.106   \n",
       "1       -1.0       -1.0       -1.0       -1.0  211.096358         8.106   \n",
       "2       -1.0       -1.0       -1.0       -1.0  211.096358         8.106   \n",
       "3       -1.0       -1.0       -1.0       -1.0  211.096358         8.106   \n",
       "4       -1.0       -1.0       -1.0       -1.0  211.096358         8.106   \n",
       "\n",
       "   IsHoliday  sample_weight  \n",
       "0          0              1  \n",
       "1          0              1  \n",
       "2          0              1  \n",
       "3          0              1  \n",
       "4          0              1  "
      ]
     },
     "execution_count": 2,
     "metadata": {},
     "output_type": "execute_result"
    }
   ],
   "source": [
    "sales_data = pd.read_csv(\"../tmp/walmart_train.csv\")\n",
    "print(sales_data.shape)\n",
    "sales_data.head()"
   ]
  },
  {
   "cell_type": "code",
   "execution_count": 3,
   "metadata": {},
   "outputs": [
    {
     "data": {
      "text/html": [
       "<div>\n",
       "<style scoped>\n",
       "    .dataframe tbody tr th:only-of-type {\n",
       "        vertical-align: middle;\n",
       "    }\n",
       "\n",
       "    .dataframe tbody tr th {\n",
       "        vertical-align: top;\n",
       "    }\n",
       "\n",
       "    .dataframe thead th {\n",
       "        text-align: right;\n",
       "    }\n",
       "</style>\n",
       "<table border=\"1\" class=\"dataframe\">\n",
       "  <thead>\n",
       "    <tr style=\"text-align: right;\">\n",
       "      <th></th>\n",
       "      <th>Date</th>\n",
       "      <th>Store</th>\n",
       "      <th>Dept</th>\n",
       "      <th>Weekly_Sales</th>\n",
       "      <th>MarkDown1</th>\n",
       "      <th>MarkDown2</th>\n",
       "      <th>MarkDown3</th>\n",
       "      <th>MarkDown4</th>\n",
       "      <th>MarkDown5</th>\n",
       "      <th>IsHoliday</th>\n",
       "      <th>sample_weight</th>\n",
       "      <th>Temperature_lag</th>\n",
       "      <th>Fuel_Price_lag</th>\n",
       "      <th>CPI_lag</th>\n",
       "      <th>Unemployment_lag</th>\n",
       "    </tr>\n",
       "  </thead>\n",
       "  <tbody>\n",
       "    <tr>\n",
       "      <th>0</th>\n",
       "      <td>2010-02-05</td>\n",
       "      <td>1</td>\n",
       "      <td>1</td>\n",
       "      <td>24924.50</td>\n",
       "      <td>-1.0</td>\n",
       "      <td>-1.0</td>\n",
       "      <td>-1.0</td>\n",
       "      <td>-1.0</td>\n",
       "      <td>-1.0</td>\n",
       "      <td>0</td>\n",
       "      <td>1</td>\n",
       "      <td>NaN</td>\n",
       "      <td>NaN</td>\n",
       "      <td>NaN</td>\n",
       "      <td>NaN</td>\n",
       "    </tr>\n",
       "    <tr>\n",
       "      <th>1</th>\n",
       "      <td>2010-02-05</td>\n",
       "      <td>1</td>\n",
       "      <td>2</td>\n",
       "      <td>50605.27</td>\n",
       "      <td>-1.0</td>\n",
       "      <td>-1.0</td>\n",
       "      <td>-1.0</td>\n",
       "      <td>-1.0</td>\n",
       "      <td>-1.0</td>\n",
       "      <td>0</td>\n",
       "      <td>1</td>\n",
       "      <td>NaN</td>\n",
       "      <td>NaN</td>\n",
       "      <td>NaN</td>\n",
       "      <td>NaN</td>\n",
       "    </tr>\n",
       "    <tr>\n",
       "      <th>2</th>\n",
       "      <td>2010-02-05</td>\n",
       "      <td>1</td>\n",
       "      <td>3</td>\n",
       "      <td>13740.12</td>\n",
       "      <td>-1.0</td>\n",
       "      <td>-1.0</td>\n",
       "      <td>-1.0</td>\n",
       "      <td>-1.0</td>\n",
       "      <td>-1.0</td>\n",
       "      <td>0</td>\n",
       "      <td>1</td>\n",
       "      <td>NaN</td>\n",
       "      <td>NaN</td>\n",
       "      <td>NaN</td>\n",
       "      <td>NaN</td>\n",
       "    </tr>\n",
       "    <tr>\n",
       "      <th>3</th>\n",
       "      <td>2010-02-05</td>\n",
       "      <td>1</td>\n",
       "      <td>4</td>\n",
       "      <td>39954.04</td>\n",
       "      <td>-1.0</td>\n",
       "      <td>-1.0</td>\n",
       "      <td>-1.0</td>\n",
       "      <td>-1.0</td>\n",
       "      <td>-1.0</td>\n",
       "      <td>0</td>\n",
       "      <td>1</td>\n",
       "      <td>NaN</td>\n",
       "      <td>NaN</td>\n",
       "      <td>NaN</td>\n",
       "      <td>NaN</td>\n",
       "    </tr>\n",
       "    <tr>\n",
       "      <th>4</th>\n",
       "      <td>2010-02-05</td>\n",
       "      <td>1</td>\n",
       "      <td>5</td>\n",
       "      <td>32229.38</td>\n",
       "      <td>-1.0</td>\n",
       "      <td>-1.0</td>\n",
       "      <td>-1.0</td>\n",
       "      <td>-1.0</td>\n",
       "      <td>-1.0</td>\n",
       "      <td>0</td>\n",
       "      <td>1</td>\n",
       "      <td>NaN</td>\n",
       "      <td>NaN</td>\n",
       "      <td>NaN</td>\n",
       "      <td>NaN</td>\n",
       "    </tr>\n",
       "  </tbody>\n",
       "</table>\n",
       "</div>"
      ],
      "text/plain": [
       "        Date  Store  Dept  Weekly_Sales  MarkDown1  MarkDown2  MarkDown3  \\\n",
       "0 2010-02-05      1     1      24924.50       -1.0       -1.0       -1.0   \n",
       "1 2010-02-05      1     2      50605.27       -1.0       -1.0       -1.0   \n",
       "2 2010-02-05      1     3      13740.12       -1.0       -1.0       -1.0   \n",
       "3 2010-02-05      1     4      39954.04       -1.0       -1.0       -1.0   \n",
       "4 2010-02-05      1     5      32229.38       -1.0       -1.0       -1.0   \n",
       "\n",
       "   MarkDown4  MarkDown5  IsHoliday  sample_weight  Temperature_lag  \\\n",
       "0       -1.0       -1.0          0              1              NaN   \n",
       "1       -1.0       -1.0          0              1              NaN   \n",
       "2       -1.0       -1.0          0              1              NaN   \n",
       "3       -1.0       -1.0          0              1              NaN   \n",
       "4       -1.0       -1.0          0              1              NaN   \n",
       "\n",
       "   Fuel_Price_lag  CPI_lag  Unemployment_lag  \n",
       "0             NaN      NaN               NaN  \n",
       "1             NaN      NaN               NaN  \n",
       "2             NaN      NaN               NaN  \n",
       "3             NaN      NaN               NaN  \n",
       "4             NaN      NaN               NaN  "
      ]
     },
     "execution_count": 3,
     "metadata": {},
     "output_type": "execute_result"
    }
   ],
   "source": [
    "# 前処理\n",
    "sales_data[\"Date\"] = pd.to_datetime(sales_data[\"Date\"], format=\"%Y-%m-%d\")\n",
    "\n",
    "lag_variables = [\"Temperature\", \"Fuel_Price\", \"CPI\", \"Unemployment\"]\n",
    "dai_data = sales_data.set_index([\"Date\", \"Store\", \"Dept\"])\n",
    "lagged_data = dai_data.loc[:, lag_variables].groupby(level=[\"Store\", \"Dept\"]).shift(1)\n",
    "\n",
    "dai_data = dai_data.join(lagged_data.rename(columns=lambda x: x +\"_lag\"))\n",
    "\n",
    "dai_data = dai_data.drop(lagged_data, axis=1)\n",
    "dai_data = dai_data.reset_index()\n",
    "\n",
    "dai_data.head()"
   ]
  },
  {
   "cell_type": "markdown",
   "metadata": {},
   "source": [
    "前処理は[時系列予測実行例](./DAI_PyClient_TS_example.ipynb)参考"
   ]
  },
  {
   "cell_type": "code",
   "execution_count": 4,
   "metadata": {},
   "outputs": [
    {
     "data": {
      "text/plain": [
       "143"
      ]
     },
     "execution_count": 4,
     "metadata": {},
     "output_type": "execute_result"
    }
   ],
   "source": [
    "dai_data['Date'].nunique()"
   ]
  },
  {
   "cell_type": "code",
   "execution_count": 5,
   "metadata": {},
   "outputs": [
    {
     "name": "stdout",
     "output_type": "stream",
     "text": [
      "2010-02-05 00:00:00\n",
      "2012-10-26 00:00:00\n"
     ]
    }
   ],
   "source": [
    "print( dai_data['Date'].min() )\n",
    "print( dai_data['Date'].max() )"
   ]
  },
  {
   "cell_type": "markdown",
   "metadata": {},
   "source": [
    "## Refitの実施"
   ]
  },
  {
   "cell_type": "code",
   "execution_count": 6,
   "metadata": {},
   "outputs": [],
   "source": [
    "def get_moving_windows(dataset, train_len, test_len, date_col):\n",
    "    '''\n",
    "    Multi Window検証の学習とテストデータの日付期間を作成\n",
    "    train_len + test_lenで１サイクル期間\n",
    "    test_lenづつずらして行き、最後の日付に到達する回数がk分割回数となる\n",
    "    '''\n",
    "    \n",
    "    unique_dates = dataset[date_col].unique()    # 元データ全体\n",
    "    unique_dates.sort()\n",
    "    num_dates = len(unique_dates)   # 元データの長さ\n",
    "    num_windows = (num_dates - train_len) // test_len   # k分割回数\n",
    "    print(\"Number of Training Windows: \", num_windows)\n",
    "    \n",
    "    windows = []\n",
    "    for i in range(num_windows):\n",
    "        train_start_date = unique_dates[i]\n",
    "        train_end_date = unique_dates[(i + train_len - 1)]\n",
    "        test_start_date = unique_dates[(i + train_len)]\n",
    "        test_end_date = unique_dates[(i + train_len + test_len - 1)]\n",
    "        \n",
    "        window = {'train_start_date': train_start_date, \n",
    "                  'train_end_date': train_end_date, \n",
    "                  'test_start_date': test_start_date,\n",
    "                  'test_end_date': test_end_date}\n",
    "        windows.append(window)\n",
    "        \n",
    "    return windows"
   ]
  },
  {
   "cell_type": "code",
   "execution_count": 7,
   "metadata": {},
   "outputs": [],
   "source": [
    "#get_moving_windows(dai_data, 139, 1, \"Date\")"
   ]
  },
  {
   "cell_type": "code",
   "execution_count": 8,
   "metadata": {},
   "outputs": [
    {
     "name": "stdout",
     "output_type": "stream",
     "text": [
      "Number of Training Windows:  4\n"
     ]
    },
    {
     "data": {
      "text/html": [
       "<div>\n",
       "<style scoped>\n",
       "    .dataframe tbody tr th:only-of-type {\n",
       "        vertical-align: middle;\n",
       "    }\n",
       "\n",
       "    .dataframe tbody tr th {\n",
       "        vertical-align: top;\n",
       "    }\n",
       "\n",
       "    .dataframe thead th {\n",
       "        text-align: right;\n",
       "    }\n",
       "</style>\n",
       "<table border=\"1\" class=\"dataframe\">\n",
       "  <thead>\n",
       "    <tr style=\"text-align: right;\">\n",
       "      <th></th>\n",
       "      <th>train_start_date</th>\n",
       "      <th>train_end_date</th>\n",
       "      <th>test_start_date</th>\n",
       "      <th>test_end_date</th>\n",
       "    </tr>\n",
       "  </thead>\n",
       "  <tbody>\n",
       "    <tr>\n",
       "      <th>0</th>\n",
       "      <td>2010-02-05</td>\n",
       "      <td>2012-09-28</td>\n",
       "      <td>2012-10-05</td>\n",
       "      <td>2012-10-05</td>\n",
       "    </tr>\n",
       "    <tr>\n",
       "      <th>1</th>\n",
       "      <td>2010-02-12</td>\n",
       "      <td>2012-10-05</td>\n",
       "      <td>2012-10-12</td>\n",
       "      <td>2012-10-12</td>\n",
       "    </tr>\n",
       "    <tr>\n",
       "      <th>2</th>\n",
       "      <td>2010-02-19</td>\n",
       "      <td>2012-10-12</td>\n",
       "      <td>2012-10-19</td>\n",
       "      <td>2012-10-19</td>\n",
       "    </tr>\n",
       "    <tr>\n",
       "      <th>3</th>\n",
       "      <td>2010-02-26</td>\n",
       "      <td>2012-10-19</td>\n",
       "      <td>2012-10-26</td>\n",
       "      <td>2012-10-26</td>\n",
       "    </tr>\n",
       "  </tbody>\n",
       "</table>\n",
       "</div>"
      ],
      "text/plain": [
       "  train_start_date train_end_date test_start_date test_end_date\n",
       "0       2010-02-05     2012-09-28      2012-10-05    2012-10-05\n",
       "1       2010-02-12     2012-10-05      2012-10-12    2012-10-12\n",
       "2       2010-02-19     2012-10-12      2012-10-19    2012-10-19\n",
       "3       2010-02-26     2012-10-19      2012-10-26    2012-10-26"
      ]
     },
     "execution_count": 8,
     "metadata": {},
     "output_type": "execute_result"
    }
   ],
   "source": [
    "# Multi Window検証の学習と検証データの日付をDataFrameで表示\n",
    "pd.DataFrame([OrderedDict(x) for x in get_moving_windows(dai_data, 139, 1, \"Date\")])    # テスト期間は１週のみとする"
   ]
  },
  {
   "cell_type": "markdown",
   "metadata": {},
   "source": [
    "#### TrainとTest期間がローリング(4 windows)されている。Refitでは毎回、Train期間のデータでモデルが一から学習され、そのモデルでTest期間の予測が実施される。"
   ]
  },
  {
   "cell_type": "code",
   "execution_count": 14,
   "metadata": {},
   "outputs": [],
   "source": [
    "def dai_get_forecast(train_data, test_data, predictors, target, date_col, time_group_cols):\n",
    "    '''\n",
    "    train_dataでモデル作成し、test_dataを予測、予測結果をpandas.DataFrameで返す\n",
    "    train_data、test_dataはローカル上のpandas.DataFrame\n",
    "    '''\n",
    "    # 学習、テストデータをローカルに保存\n",
    "    train_path = \"../tmp/tta_refit__train_data.csv\"\n",
    "    test_path = \"../tmp/tta_refit__test_data.csv\"\n",
    "    keep_cols = predictors + [target, date_col] + time_group_cols\n",
    "    keep_cols = list(set(keep_cols))\n",
    "    print('Train data shape: {}'.format(train_data[keep_cols].shape))\n",
    "    print('Test data shape: {}'.format(test_data[keep_cols].shape))\n",
    "    train_data[keep_cols].to_csv(train_path, index = False)\n",
    "    test_data[keep_cols].to_csv(test_path, index = False)\n",
    "    \n",
    "    # Driverless AIへのデータのアップロード\n",
    "    train_dai = h2oai.datasets.create(train_path, force=True)\n",
    "    test_dai = h2oai.datasets.create(test_path, force=True)\n",
    "    \n",
    "    # Experimentの実施\n",
    "    settings = {\n",
    "        'test_dataset': test_dai,    # テストデータは指定しなくても良い\n",
    "        'time_column': date_col, \n",
    "        'time_groups_columns': time_group_cols,\n",
    "        'num_prediction_periods': test_data[date_col].nunique(),\n",
    "        'num_gap_periods': 0,\n",
    "        'accuracy': 1,\n",
    "        'time': 1,\n",
    "        'interpretability': 10,\n",
    "        'scorer': \"RMSE\",\n",
    "    }\n",
    "    experiment = h2oai.experiments.create(train_dataset=train_dai,\n",
    "                                    target_column=target,\n",
    "                                    task='regression',\n",
    "                                    force=True,\n",
    "                                    **settings)\n",
    "    print('Is this experiment completed? : {}'.format(experiment.is_complete()))\n",
    "    \n",
    "    # テストデータに対する予測\n",
    "    keep_cols = [target, date_col] + time_group_cols\n",
    "    prediction = experiment.predict(dataset=test_dai, include_columns=keep_cols)\n",
    "    result_data_name = '../tmp/wm_test_data_RES.csv'\n",
    "    prediction.download(dst_dir='.', dst_file=result_data_name, overwrite=True)\n",
    "    test_predictions = pd.read_csv(result_data_name) \n",
    "    \n",
    "    return test_predictions"
   ]
  },
  {
   "cell_type": "code",
   "execution_count": 15,
   "metadata": {},
   "outputs": [],
   "source": [
    "# Driverless AIのuser nameとpasswordの読み込み\n",
    "import json\n",
    "with open('../idpass.json') as f:\n",
    "    idpass = json.load(f)"
   ]
  },
  {
   "cell_type": "code",
   "execution_count": 16,
   "metadata": {},
   "outputs": [
    {
     "data": {
      "text/plain": [
       "<class 'driverlessai._core.Client'> http://34.203.218.123:12345"
      ]
     },
     "execution_count": 16,
     "metadata": {},
     "output_type": "execute_result"
    }
   ],
   "source": [
    "# Driverless AIサーバーへの接続\n",
    "h2oai = driverlessai.Client(address='http://34.203.218.123:12345', username=idpass['id'], password=idpass['pass1921'])\n",
    "h2oai"
   ]
  },
  {
   "cell_type": "markdown",
   "metadata": {},
   "source": [
    "***\n",
    "#### dai_get_forecast関数のテスト実施  \n",
    "1Windowだけ実施"
   ]
  },
  {
   "cell_type": "code",
   "execution_count": 17,
   "metadata": {},
   "outputs": [
    {
     "name": "stdout",
     "output_type": "stream",
     "text": [
      "Number of Training Windows:  4\n"
     ]
    },
    {
     "data": {
      "text/plain": [
       "{'train_start_date': numpy.datetime64('2010-02-05T00:00:00.000000000'),\n",
       " 'train_end_date': numpy.datetime64('2012-09-28T00:00:00.000000000'),\n",
       " 'test_start_date': numpy.datetime64('2012-10-05T00:00:00.000000000'),\n",
       " 'test_end_date': numpy.datetime64('2012-10-05T00:00:00.000000000')}"
      ]
     },
     "execution_count": 17,
     "metadata": {},
     "output_type": "execute_result"
    }
   ],
   "source": [
    "date_dict = get_moving_windows(dai_data, 139, 1, \"Date\")[0]\n",
    "date_dict   # テスト実施する最初のWindow"
   ]
  },
  {
   "cell_type": "code",
   "execution_count": 18,
   "metadata": {},
   "outputs": [
    {
     "name": "stdout",
     "output_type": "stream",
     "text": [
      "Train data shape: (409695, 14)\n",
      "Test data shape: (2976, 14)\n",
      "Complete 100.00% - [4/4] Computed stats for column CPI_lag\n",
      "Complete 100.00% - [4/4] Computed stats for column MarkDown3\n",
      "Experiment launched at: http://34.203.218.123:12345/#/experiment?key=805cb456-b449-11eb-a33c-0242ac110002\n",
      "Complete 100.00% - Status: Complete                                                \n",
      "Is this experiment completed? : True\n",
      "Complete\n",
      "Downloaded '../tmp/wm_test_data_RES.csv'\n",
      "(2976, 7)\n"
     ]
    },
    {
     "data": {
      "text/html": [
       "<div>\n",
       "<style scoped>\n",
       "    .dataframe tbody tr th:only-of-type {\n",
       "        vertical-align: middle;\n",
       "    }\n",
       "\n",
       "    .dataframe tbody tr th {\n",
       "        vertical-align: top;\n",
       "    }\n",
       "\n",
       "    .dataframe thead th {\n",
       "        text-align: right;\n",
       "    }\n",
       "</style>\n",
       "<table border=\"1\" class=\"dataframe\">\n",
       "  <thead>\n",
       "    <tr style=\"text-align: right;\">\n",
       "      <th></th>\n",
       "      <th>Weekly_Sales</th>\n",
       "      <th>Dept</th>\n",
       "      <th>Store</th>\n",
       "      <th>Date</th>\n",
       "      <th>Weekly_Sales.predicted</th>\n",
       "      <th>Weekly_Sales.predicted.lower</th>\n",
       "      <th>Weekly_Sales.predicted.upper</th>\n",
       "    </tr>\n",
       "  </thead>\n",
       "  <tbody>\n",
       "    <tr>\n",
       "      <th>0</th>\n",
       "      <td>21904.47</td>\n",
       "      <td>1</td>\n",
       "      <td>1</td>\n",
       "      <td>2012-10-05</td>\n",
       "      <td>19068.201</td>\n",
       "      <td>1274.277656</td>\n",
       "      <td>33210.344137</td>\n",
       "    </tr>\n",
       "    <tr>\n",
       "      <th>1</th>\n",
       "      <td>48577.08</td>\n",
       "      <td>2</td>\n",
       "      <td>1</td>\n",
       "      <td>2012-10-05</td>\n",
       "      <td>46046.130</td>\n",
       "      <td>42492.829406</td>\n",
       "      <td>50226.264695</td>\n",
       "    </tr>\n",
       "    <tr>\n",
       "      <th>2</th>\n",
       "      <td>11676.98</td>\n",
       "      <td>3</td>\n",
       "      <td>1</td>\n",
       "      <td>2012-10-05</td>\n",
       "      <td>14077.924</td>\n",
       "      <td>10552.320883</td>\n",
       "      <td>22630.977262</td>\n",
       "    </tr>\n",
       "    <tr>\n",
       "      <th>3</th>\n",
       "      <td>39311.93</td>\n",
       "      <td>4</td>\n",
       "      <td>1</td>\n",
       "      <td>2012-10-05</td>\n",
       "      <td>37381.540</td>\n",
       "      <td>33228.004227</td>\n",
       "      <td>41720.183117</td>\n",
       "    </tr>\n",
       "    <tr>\n",
       "      <th>4</th>\n",
       "      <td>25508.81</td>\n",
       "      <td>5</td>\n",
       "      <td>1</td>\n",
       "      <td>2012-10-05</td>\n",
       "      <td>22094.934</td>\n",
       "      <td>8953.028156</td>\n",
       "      <td>34228.290020</td>\n",
       "    </tr>\n",
       "  </tbody>\n",
       "</table>\n",
       "</div>"
      ],
      "text/plain": [
       "   Weekly_Sales  Dept  Store        Date  Weekly_Sales.predicted  \\\n",
       "0      21904.47     1      1  2012-10-05               19068.201   \n",
       "1      48577.08     2      1  2012-10-05               46046.130   \n",
       "2      11676.98     3      1  2012-10-05               14077.924   \n",
       "3      39311.93     4      1  2012-10-05               37381.540   \n",
       "4      25508.81     5      1  2012-10-05               22094.934   \n",
       "\n",
       "   Weekly_Sales.predicted.lower  Weekly_Sales.predicted.upper  \n",
       "0                   1274.277656                  33210.344137  \n",
       "1                  42492.829406                  50226.264695  \n",
       "2                  10552.320883                  22630.977262  \n",
       "3                  33228.004227                  41720.183117  \n",
       "4                   8953.028156                  34228.290020  "
      ]
     },
     "execution_count": 18,
     "metadata": {},
     "output_type": "execute_result"
    }
   ],
   "source": [
    "train_data_local = dai_data[(dai_data['Date']>=date_dict['train_start_date'])&(dai_data['Date']<=date_dict['train_end_date'])]\n",
    "#print(train_data_local.shape)\n",
    "test_data_local = dai_data[(dai_data['Date']>=date_dict['test_start_date'])&(dai_data['Date']<=date_dict['test_end_date'])]\n",
    "#print(test_data_local.shape)\n",
    "\n",
    "predictors = [\"MarkDown1\", \"MarkDown2\", \"MarkDown3\", \"MarkDown4\", \"MarkDown5\", \"IsHoliday\",\n",
    "              \"Temperature_lag\", \"Fuel_Price_lag\", \"CPI_lag\", \"Unemployment_lag\"]\n",
    "\n",
    "test_pred = dai_get_forecast(train_data=train_data_local, \n",
    "                             test_data=test_data_local,\n",
    "                             predictors=predictors, target='Weekly_Sales', \n",
    "                             date_col='Date',\n",
    "                             time_group_cols=[\"Store\", \"Dept\"])\n",
    "print(test_pred.shape)\n",
    "test_pred.head()    # テストデータの予測結果（１週分）がローカル環境のpandas.DataFrameとして返る"
   ]
  },
  {
   "cell_type": "markdown",
   "metadata": {},
   "source": [
    "***"
   ]
  },
  {
   "cell_type": "markdown",
   "metadata": {},
   "source": [
    "#### ローリング予測（４回）の実施"
   ]
  },
  {
   "cell_type": "code",
   "execution_count": 19,
   "metadata": {},
   "outputs": [
    {
     "name": "stdout",
     "output_type": "stream",
     "text": [
      "Number of Training Windows:  4\n"
     ]
    }
   ],
   "source": [
    "windows = get_moving_windows(dai_data, train_len = 139, test_len = 1, date_col = \"Date\")"
   ]
  },
  {
   "cell_type": "code",
   "execution_count": 20,
   "metadata": {},
   "outputs": [
    {
     "name": "stdout",
     "output_type": "stream",
     "text": [
      "Test Data date: ['2012-10-05T00:00:00.000000000']\n",
      "Train data shape: (409695, 14)\n",
      "Test data shape: (2976, 14)\n",
      "Complete 100.00% - [4/4] Computed stats for column CPI_lag\n",
      "Complete 100.00% - [4/4] Computed stats for column MarkDown3\n",
      "Experiment launched at: http://34.203.218.123:12345/#/experiment?key=a860c00e-b44a-11eb-a33c-0242ac110002\n",
      "Running 100.00% - Status: Complete                                                 \n",
      "Is this experiment completed? : True\n",
      "Complete\n",
      "Downloaded '../tmp/wm_test_data_RES.csv'\n",
      "Test Data date: ['2012-10-12T00:00:00.000000000']\n",
      "Train data shape: (409716, 14)\n",
      "Test data shape: (2990, 14)\n",
      "Running 100.00% - [4/4] Computed stats for column CPI_lag\n",
      "Complete 100.00% - [4/4] Computed stats for column MarkDown3\n",
      "Experiment launched at: http://34.203.218.123:12345/#/experiment?key=8b05fd34-b44b-11eb-a33c-0242ac110002\n",
      "Complete 100.00% - Status: Complete                                                \n",
      "Is this experiment completed? : True\n",
      "Complete\n",
      "Downloaded '../tmp/wm_test_data_RES.csv'\n",
      "Test Data date: ['2012-10-19T00:00:00.000000000']\n",
      "Train data shape: (409750, 14)\n",
      "Test data shape: (2950, 14)\n",
      "Running 100.00% - [4/4] Computed stats for column CPI_lag\n",
      "Complete 100.00% - [4/4] Computed stats for column MarkDown3\n",
      "Experiment launched at: http://34.203.218.123:12345/#/experiment?key=6511e948-b44c-11eb-a33c-0242ac110002\n",
      "Running 100.00% - Status: Complete                                                 \n",
      "Is this experiment completed? : True\n",
      "Complete\n",
      "Downloaded '../tmp/wm_test_data_RES.csv'\n",
      "Test Data date: ['2012-10-26T00:00:00.000000000']\n",
      "Train data shape: (409723, 14)\n",
      "Test data shape: (2959, 14)\n",
      "Complete 100.00% - [4/4] Computed stats for column CPI_lag\n",
      "Complete 100.00% - [4/4] Computed stats for column MarkDown3\n",
      "Experiment launched at: http://34.203.218.123:12345/#/experiment?key=2512f6ba-b44d-11eb-a33c-0242ac110002\n",
      "Complete 100.00% - Status: Complete                                                \n",
      "Is this experiment completed? : True\n",
      "Complete\n",
      "Downloaded '../tmp/wm_test_data_RES.csv'\n"
     ]
    }
   ],
   "source": [
    "forecast_predictions = pd.DataFrame([])   # 結果の格納用\n",
    "\n",
    "predictors = [\"MarkDown1\", \"MarkDown2\", \"MarkDown3\", \"MarkDown4\", \"MarkDown5\", \"IsHoliday\",\n",
    "              \"Temperature_lag\", \"Fuel_Price_lag\", \"CPI_lag\", \"Unemployment_lag\"]\n",
    "\n",
    "for window in windows:   # 4回のローリング予測\n",
    "    train_data_local = dai_data[(dai_data[\"Date\"] >= window.get(\"train_start_date\")) & \n",
    "                                (dai_data[\"Date\"] <= window.get(\"train_end_date\"))]\n",
    "    test_data_local = dai_data[(dai_data[\"Date\"] >= window.get(\"test_start_date\")) & \n",
    "                               (dai_data[\"Date\"] <= window.get(\"test_end_date\"))]\n",
    "    print('Test Data date: {}'.format(test_data_local['Date'].unique()))\n",
    "\n",
    "    # Driverless AI予測の実施\n",
    "    preds = dai_get_forecast(train_data=train_data_local, \n",
    "                             test_data=test_data_local, \n",
    "                             predictors=predictors, target='Weekly_Sales', \n",
    "                             date_col='Date',\n",
    "                             time_group_cols=[\"Store\", \"Dept\"])\n",
    "    forecast_predictions = forecast_predictions.append(preds)"
   ]
  },
  {
   "cell_type": "code",
   "execution_count": 21,
   "metadata": {},
   "outputs": [
    {
     "data": {
      "text/plain": [
       "(11875, 7)"
      ]
     },
     "execution_count": 21,
     "metadata": {},
     "output_type": "execute_result"
    }
   ],
   "source": [
    "forecast_predictions.shape"
   ]
  },
  {
   "cell_type": "code",
   "execution_count": 22,
   "metadata": {},
   "outputs": [
    {
     "data": {
      "text/plain": [
       "array(['2012-10-05', '2012-10-12', '2012-10-19', '2012-10-26'],\n",
       "      dtype=object)"
      ]
     },
     "execution_count": 22,
     "metadata": {},
     "output_type": "execute_result"
    }
   ],
   "source": [
    "# テストデータは各1日のみ。合計4つのテストデータWindow\n",
    "forecast_predictions['Date'].unique()"
   ]
  },
  {
   "cell_type": "code",
   "execution_count": 23,
   "metadata": {},
   "outputs": [
    {
     "data": {
      "text/html": [
       "<div>\n",
       "<style scoped>\n",
       "    .dataframe tbody tr th:only-of-type {\n",
       "        vertical-align: middle;\n",
       "    }\n",
       "\n",
       "    .dataframe tbody tr th {\n",
       "        vertical-align: top;\n",
       "    }\n",
       "\n",
       "    .dataframe thead th {\n",
       "        text-align: right;\n",
       "    }\n",
       "</style>\n",
       "<table border=\"1\" class=\"dataframe\">\n",
       "  <thead>\n",
       "    <tr style=\"text-align: right;\">\n",
       "      <th></th>\n",
       "      <th>Weekly_Sales</th>\n",
       "      <th>Dept</th>\n",
       "      <th>Store</th>\n",
       "      <th>Date</th>\n",
       "      <th>Weekly_Sales.predicted</th>\n",
       "      <th>Weekly_Sales.predicted.lower</th>\n",
       "      <th>Weekly_Sales.predicted.upper</th>\n",
       "    </tr>\n",
       "  </thead>\n",
       "  <tbody>\n",
       "    <tr>\n",
       "      <th>0</th>\n",
       "      <td>21904.47</td>\n",
       "      <td>1</td>\n",
       "      <td>1</td>\n",
       "      <td>2012-10-05</td>\n",
       "      <td>19164.223</td>\n",
       "      <td>1087.738789</td>\n",
       "      <td>33253.242086</td>\n",
       "    </tr>\n",
       "    <tr>\n",
       "      <th>1</th>\n",
       "      <td>48577.08</td>\n",
       "      <td>2</td>\n",
       "      <td>1</td>\n",
       "      <td>2012-10-05</td>\n",
       "      <td>46317.516</td>\n",
       "      <td>42595.535586</td>\n",
       "      <td>50645.047117</td>\n",
       "    </tr>\n",
       "    <tr>\n",
       "      <th>2</th>\n",
       "      <td>11676.98</td>\n",
       "      <td>3</td>\n",
       "      <td>1</td>\n",
       "      <td>2012-10-05</td>\n",
       "      <td>14119.062</td>\n",
       "      <td>10600.086898</td>\n",
       "      <td>22705.786588</td>\n",
       "    </tr>\n",
       "    <tr>\n",
       "      <th>3</th>\n",
       "      <td>39311.93</td>\n",
       "      <td>4</td>\n",
       "      <td>1</td>\n",
       "      <td>2012-10-05</td>\n",
       "      <td>37001.637</td>\n",
       "      <td>32999.175672</td>\n",
       "      <td>41430.120812</td>\n",
       "    </tr>\n",
       "    <tr>\n",
       "      <th>4</th>\n",
       "      <td>25508.81</td>\n",
       "      <td>5</td>\n",
       "      <td>1</td>\n",
       "      <td>2012-10-05</td>\n",
       "      <td>22046.750</td>\n",
       "      <td>8944.144172</td>\n",
       "      <td>34217.192461</td>\n",
       "    </tr>\n",
       "  </tbody>\n",
       "</table>\n",
       "</div>"
      ],
      "text/plain": [
       "   Weekly_Sales  Dept  Store        Date  Weekly_Sales.predicted  \\\n",
       "0      21904.47     1      1  2012-10-05               19164.223   \n",
       "1      48577.08     2      1  2012-10-05               46317.516   \n",
       "2      11676.98     3      1  2012-10-05               14119.062   \n",
       "3      39311.93     4      1  2012-10-05               37001.637   \n",
       "4      25508.81     5      1  2012-10-05               22046.750   \n",
       "\n",
       "   Weekly_Sales.predicted.lower  Weekly_Sales.predicted.upper  \n",
       "0                   1087.738789                  33253.242086  \n",
       "1                  42595.535586                  50645.047117  \n",
       "2                  10600.086898                  22705.786588  \n",
       "3                  32999.175672                  41430.120812  \n",
       "4                   8944.144172                  34217.192461  "
      ]
     },
     "execution_count": 23,
     "metadata": {},
     "output_type": "execute_result"
    }
   ],
   "source": [
    "forecast_predictions.head()"
   ]
  },
  {
   "cell_type": "code",
   "execution_count": 24,
   "metadata": {},
   "outputs": [
    {
     "data": {
      "text/html": [
       "<div>\n",
       "<style scoped>\n",
       "    .dataframe tbody tr th:only-of-type {\n",
       "        vertical-align: middle;\n",
       "    }\n",
       "\n",
       "    .dataframe tbody tr th {\n",
       "        vertical-align: top;\n",
       "    }\n",
       "\n",
       "    .dataframe thead th {\n",
       "        text-align: right;\n",
       "    }\n",
       "</style>\n",
       "<table border=\"1\" class=\"dataframe\">\n",
       "  <thead>\n",
       "    <tr style=\"text-align: right;\">\n",
       "      <th></th>\n",
       "      <th>Weekly_Sales</th>\n",
       "      <th>Dept</th>\n",
       "      <th>Store</th>\n",
       "      <th>Date</th>\n",
       "      <th>Weekly_Sales.predicted</th>\n",
       "      <th>Weekly_Sales.predicted.lower</th>\n",
       "      <th>Weekly_Sales.predicted.upper</th>\n",
       "    </tr>\n",
       "  </thead>\n",
       "  <tbody>\n",
       "    <tr>\n",
       "      <th>0</th>\n",
       "      <td>21904.47</td>\n",
       "      <td>1</td>\n",
       "      <td>1</td>\n",
       "      <td>2012-10-05</td>\n",
       "      <td>19164.223</td>\n",
       "      <td>1087.738789</td>\n",
       "      <td>33253.242086</td>\n",
       "    </tr>\n",
       "    <tr>\n",
       "      <th>0</th>\n",
       "      <td>22764.01</td>\n",
       "      <td>1</td>\n",
       "      <td>1</td>\n",
       "      <td>2012-10-12</td>\n",
       "      <td>21454.732</td>\n",
       "      <td>3563.688594</td>\n",
       "      <td>36387.560445</td>\n",
       "    </tr>\n",
       "    <tr>\n",
       "      <th>0</th>\n",
       "      <td>24185.27</td>\n",
       "      <td>1</td>\n",
       "      <td>1</td>\n",
       "      <td>2012-10-19</td>\n",
       "      <td>22815.848</td>\n",
       "      <td>4026.443086</td>\n",
       "      <td>37206.846285</td>\n",
       "    </tr>\n",
       "    <tr>\n",
       "      <th>0</th>\n",
       "      <td>27390.81</td>\n",
       "      <td>1</td>\n",
       "      <td>1</td>\n",
       "      <td>2012-10-26</td>\n",
       "      <td>23584.477</td>\n",
       "      <td>6803.611633</td>\n",
       "      <td>37111.713668</td>\n",
       "    </tr>\n",
       "  </tbody>\n",
       "</table>\n",
       "</div>"
      ],
      "text/plain": [
       "   Weekly_Sales  Dept  Store        Date  Weekly_Sales.predicted  \\\n",
       "0      21904.47     1      1  2012-10-05               19164.223   \n",
       "0      22764.01     1      1  2012-10-12               21454.732   \n",
       "0      24185.27     1      1  2012-10-19               22815.848   \n",
       "0      27390.81     1      1  2012-10-26               23584.477   \n",
       "\n",
       "   Weekly_Sales.predicted.lower  Weekly_Sales.predicted.upper  \n",
       "0                   1087.738789                  33253.242086  \n",
       "0                   3563.688594                  36387.560445  \n",
       "0                   4026.443086                  37206.846285  \n",
       "0                   6803.611633                  37111.713668  "
      ]
     },
     "execution_count": 24,
     "metadata": {},
     "output_type": "execute_result"
    }
   ],
   "source": [
    "# Store=1, Dept=1のみ表示\n",
    "forecast_predictions.loc[(forecast_predictions[\"Store\"] == 1) & (forecast_predictions[\"Dept\"] == 1),:]"
   ]
  },
  {
   "cell_type": "code",
   "execution_count": null,
   "metadata": {},
   "outputs": [],
   "source": []
  },
  {
   "cell_type": "markdown",
   "metadata": {},
   "source": [
    "## Test Time Augmentation(TTA)の実施"
   ]
  },
  {
   "cell_type": "markdown",
   "metadata": {},
   "source": [
    "#### TTAでは、最初の139週でモデル学習（予測期間は１週先）を行い、残りの4週はその同じモデルを利用する"
   ]
  },
  {
   "cell_type": "code",
   "execution_count": 25,
   "metadata": {
    "scrolled": true
   },
   "outputs": [
    {
     "name": "stdout",
     "output_type": "stream",
     "text": [
      "['2012-10-05T00:00:00.000000000' '2012-10-12T00:00:00.000000000'\n",
      " '2012-10-19T00:00:00.000000000' '2012-10-26T00:00:00.000000000']\n"
     ]
    }
   ],
   "source": [
    "# 最後の4週\n",
    "date_show = dai_data['Date'].unique()\n",
    "date_show.sort()\n",
    "print(date_show[-4:])"
   ]
  },
  {
   "cell_type": "code",
   "execution_count": 26,
   "metadata": {},
   "outputs": [
    {
     "data": {
      "text/plain": [
       "numpy.datetime64('2012-09-28T00:00:00.000000000')"
      ]
     },
     "execution_count": 26,
     "metadata": {},
     "output_type": "execute_result"
    }
   ],
   "source": [
    "# 学習期間の最終週\n",
    "date_show[-5]"
   ]
  },
  {
   "cell_type": "code",
   "execution_count": 27,
   "metadata": {},
   "outputs": [
    {
     "name": "stdout",
     "output_type": "stream",
     "text": [
      "(409695, 15)\n",
      "(11875, 15)\n"
     ]
    }
   ],
   "source": [
    "train_data = dai_data[dai_data[\"Date\"] <= \"2012-09-28\"]\n",
    "print(train_data.shape)\n",
    "test_data = dai_data[dai_data[\"Date\"] >= \"2012-10-05\"]     # 4週分\n",
    "print(test_data.shape)"
   ]
  },
  {
   "cell_type": "code",
   "execution_count": 29,
   "metadata": {},
   "outputs": [],
   "source": [
    "# 学習データをローカルへ保存\n",
    "train_path = \"../tmp/tta_refit__train_data.csv\"\n",
    "#test_path = \"../tmp/tta_refit__test_data.csv\"\n",
    "\n",
    "predictors = [\"MarkDown1\", \"MarkDown2\", \"MarkDown3\", \"MarkDown4\", \"MarkDown5\", \"IsHoliday\",\n",
    "              \"Temperature_lag\", \"Fuel_Price_lag\", \"CPI_lag\", \"Unemployment_lag\"]\n",
    "keep_cols = predictors + [\"Weekly_Sales\", \"Date\", \"Dept\", \"Store\"]\n",
    "keep_cols = list(set(keep_cols))\n",
    "\n",
    "train_data[keep_cols].to_csv(train_path, index = False)"
   ]
  },
  {
   "cell_type": "code",
   "execution_count": 31,
   "metadata": {},
   "outputs": [
    {
     "name": "stdout",
     "output_type": "stream",
     "text": [
      "Complete 100.00% - [4/4] Computed stats for column CPI_lag\n"
     ]
    }
   ],
   "source": [
    "# Driverless AIへの学習データのアップロード\n",
    "train_dai = h2oai.datasets.create(train_path, force=True)"
   ]
  },
  {
   "cell_type": "code",
   "execution_count": 32,
   "metadata": {},
   "outputs": [
    {
     "name": "stdout",
     "output_type": "stream",
     "text": [
      "Experiment launched at: http://34.203.218.123:12345/#/experiment?key=8ae0a5e0-b44e-11eb-a33c-0242ac110002\n",
      "Complete 100.00% - Status: Complete                                                \n"
     ]
    }
   ],
   "source": [
    "# Experimentの実施\n",
    "settings = {\n",
    "        'time_column': 'Date', \n",
    "        'time_groups_columns': [\"Store\", \"Dept\"],\n",
    "        'num_prediction_periods': 1,\n",
    "        'num_gap_periods': 0,\n",
    "        'accuracy': 1,\n",
    "        'time': 1,\n",
    "        'interpretability': 10,\n",
    "        'scorer': \"RMSE\",\n",
    "}\n",
    "experiment = h2oai.experiments.create(train_dataset=train_dai,\n",
    "                                      target_column='Weekly_Sales',\n",
    "                                      task='regression',\n",
    "                                      force=True,\n",
    "                                      **settings)"
   ]
  },
  {
   "cell_type": "code",
   "execution_count": 35,
   "metadata": {},
   "outputs": [
    {
     "data": {
      "text/plain": [
       "True"
      ]
     },
     "execution_count": 35,
     "metadata": {},
     "output_type": "execute_result"
    }
   ],
   "source": [
    "experiment.is_complete()"
   ]
  },
  {
   "cell_type": "markdown",
   "metadata": {},
   "source": [
    "#### TTAを実施するにあたっての予測用データセットの作成に関して\n",
    "- 予測を実施する週のターゲット変数の値はNAとする\n",
    "- Lag変数（ターゲット変数など）の値は予測時点で実測が分かっているものは含めておく"
   ]
  },
  {
   "cell_type": "markdown",
   "metadata": {},
   "source": [
    "***\n",
    "#### 運用開始２週目（テスト期間２週目）の予測を実施する場合（１週目の実績は手に入っていることを想定）"
   ]
  },
  {
   "cell_type": "code",
   "execution_count": 36,
   "metadata": {},
   "outputs": [
    {
     "name": "stdout",
     "output_type": "stream",
     "text": [
      "(5966, 15)\n"
     ]
    },
    {
     "data": {
      "text/html": [
       "<div>\n",
       "<style scoped>\n",
       "    .dataframe tbody tr th:only-of-type {\n",
       "        vertical-align: middle;\n",
       "    }\n",
       "\n",
       "    .dataframe tbody tr th {\n",
       "        vertical-align: top;\n",
       "    }\n",
       "\n",
       "    .dataframe thead th {\n",
       "        text-align: right;\n",
       "    }\n",
       "</style>\n",
       "<table border=\"1\" class=\"dataframe\">\n",
       "  <thead>\n",
       "    <tr style=\"text-align: right;\">\n",
       "      <th></th>\n",
       "      <th>Date</th>\n",
       "      <th>Store</th>\n",
       "      <th>Dept</th>\n",
       "      <th>Weekly_Sales</th>\n",
       "    </tr>\n",
       "  </thead>\n",
       "  <tbody>\n",
       "    <tr>\n",
       "      <th>409695</th>\n",
       "      <td>2012-10-05</td>\n",
       "      <td>1</td>\n",
       "      <td>1</td>\n",
       "      <td>21904.47</td>\n",
       "    </tr>\n",
       "    <tr>\n",
       "      <th>412671</th>\n",
       "      <td>2012-10-12</td>\n",
       "      <td>1</td>\n",
       "      <td>1</td>\n",
       "      <td>NaN</td>\n",
       "    </tr>\n",
       "  </tbody>\n",
       "</table>\n",
       "</div>"
      ],
      "text/plain": [
       "             Date  Store  Dept  Weekly_Sales\n",
       "409695 2012-10-05      1     1      21904.47\n",
       "412671 2012-10-12      1     1           NaN"
      ]
     },
     "execution_count": 36,
     "metadata": {},
     "output_type": "execute_result"
    }
   ],
   "source": [
    "# テスト期間２週目（2012-10-12）の予測を実施する場合(2012-10-05の実績はもう手に入っている)に作成するデータ\n",
    "\n",
    "tta_test_data_wk2 = test_data[test_data[\"Date\"] <= \"2012-10-12\"].copy()\n",
    "tta_test_data_wk2.loc[tta_test_data_wk2[\"Date\"] == \"2012-10-12\", \"Weekly_Sales\"] = None\n",
    "print(tta_test_data_wk2.shape)\n",
    "\n",
    "# Store=1, Dept=1のみ表示\n",
    "tta_test_data_wk2.loc[(tta_test_data_wk2[\"Store\"] == 1) & (tta_test_data_wk2[\"Dept\"] == 1), [\"Date\", \"Store\", \"Dept\", \"Weekly_Sales\"]]"
   ]
  },
  {
   "cell_type": "markdown",
   "metadata": {},
   "source": [
    "TTAによる予測を実施する場合、内部で自動的に、2012-10-05の実績値を用いたLag変数作成の処理が行われ、学習済みのモデルを用いた予測が実施される"
   ]
  },
  {
   "cell_type": "code",
   "execution_count": 38,
   "metadata": {},
   "outputs": [
    {
     "name": "stdout",
     "output_type": "stream",
     "text": [
      "Complete 100.00% - [4/4] Computed stats for column Unemployment_lag\n"
     ]
    }
   ],
   "source": [
    "# 上記のデータをDriverlessにアップ\n",
    "test_path = \"../tmp/tta_test_data.csv\"\n",
    "tta_test_data_wk2.to_csv(test_path, index = False)\n",
    "tta_test_data_wk2_dai = h2oai.datasets.create(test_path, force=True)"
   ]
  },
  {
   "cell_type": "code",
   "execution_count": 39,
   "metadata": {},
   "outputs": [
    {
     "name": "stdout",
     "output_type": "stream",
     "text": [
      "Complete\n",
      "Downloaded '../tmp/tta_test_data_RES.csv'\n",
      "(5966, 17)\n"
     ]
    }
   ],
   "source": [
    "# 予測の実施\n",
    "pred_job = experiment.predict(dataset=tta_test_data_wk2_dai, include_columns=keep_cols)\n",
    "result_data_name = '../tmp/tta_test_data_RES.csv'\n",
    "# 結果のダウンロード\n",
    "pred_job.download(dst_dir='.', dst_file=result_data_name, overwrite=True)\n",
    "# pandas.DataFrameへ読み込み\n",
    "preds = pd.read_csv(result_data_name)\n",
    "print(preds.shape)"
   ]
  },
  {
   "cell_type": "code",
   "execution_count": 40,
   "metadata": {},
   "outputs": [
    {
     "data": {
      "text/plain": [
       "array(['2012-10-05', '2012-10-12'], dtype=object)"
      ]
     },
     "execution_count": 40,
     "metadata": {},
     "output_type": "execute_result"
    }
   ],
   "source": [
    "preds['Date'].unique()"
   ]
  },
  {
   "cell_type": "code",
   "execution_count": 41,
   "metadata": {},
   "outputs": [
    {
     "data": {
      "text/html": [
       "<div>\n",
       "<style scoped>\n",
       "    .dataframe tbody tr th:only-of-type {\n",
       "        vertical-align: middle;\n",
       "    }\n",
       "\n",
       "    .dataframe tbody tr th {\n",
       "        vertical-align: top;\n",
       "    }\n",
       "\n",
       "    .dataframe thead th {\n",
       "        text-align: right;\n",
       "    }\n",
       "</style>\n",
       "<table border=\"1\" class=\"dataframe\">\n",
       "  <thead>\n",
       "    <tr style=\"text-align: right;\">\n",
       "      <th></th>\n",
       "      <th>Date</th>\n",
       "      <th>Store</th>\n",
       "      <th>Dept</th>\n",
       "      <th>Weekly_Sales</th>\n",
       "      <th>MarkDown1</th>\n",
       "      <th>MarkDown2</th>\n",
       "      <th>MarkDown3</th>\n",
       "      <th>MarkDown4</th>\n",
       "      <th>MarkDown5</th>\n",
       "      <th>IsHoliday</th>\n",
       "      <th>Temperature_lag</th>\n",
       "      <th>Fuel_Price_lag</th>\n",
       "      <th>CPI_lag</th>\n",
       "      <th>Unemployment_lag</th>\n",
       "      <th>Weekly_Sales.predicted</th>\n",
       "      <th>Weekly_Sales.predicted.lower</th>\n",
       "      <th>Weekly_Sales.predicted.upper</th>\n",
       "    </tr>\n",
       "  </thead>\n",
       "  <tbody>\n",
       "    <tr>\n",
       "      <th>0</th>\n",
       "      <td>2012-10-05</td>\n",
       "      <td>1</td>\n",
       "      <td>1</td>\n",
       "      <td>21904.47</td>\n",
       "      <td>8077.89</td>\n",
       "      <td>-1.0</td>\n",
       "      <td>18.22</td>\n",
       "      <td>3617.43</td>\n",
       "      <td>3626.14</td>\n",
       "      <td>0</td>\n",
       "      <td>76.08</td>\n",
       "      <td>3.666</td>\n",
       "      <td>222.981658</td>\n",
       "      <td>6.908</td>\n",
       "      <td>19164.223</td>\n",
       "      <td>1087.738789</td>\n",
       "      <td>33253.242086</td>\n",
       "    </tr>\n",
       "    <tr>\n",
       "      <th>1</th>\n",
       "      <td>2012-10-05</td>\n",
       "      <td>1</td>\n",
       "      <td>2</td>\n",
       "      <td>48577.08</td>\n",
       "      <td>8077.89</td>\n",
       "      <td>-1.0</td>\n",
       "      <td>18.22</td>\n",
       "      <td>3617.43</td>\n",
       "      <td>3626.14</td>\n",
       "      <td>0</td>\n",
       "      <td>76.08</td>\n",
       "      <td>3.666</td>\n",
       "      <td>222.981658</td>\n",
       "      <td>6.908</td>\n",
       "      <td>46317.516</td>\n",
       "      <td>42595.535586</td>\n",
       "      <td>50645.047117</td>\n",
       "    </tr>\n",
       "    <tr>\n",
       "      <th>2</th>\n",
       "      <td>2012-10-05</td>\n",
       "      <td>1</td>\n",
       "      <td>3</td>\n",
       "      <td>11676.98</td>\n",
       "      <td>8077.89</td>\n",
       "      <td>-1.0</td>\n",
       "      <td>18.22</td>\n",
       "      <td>3617.43</td>\n",
       "      <td>3626.14</td>\n",
       "      <td>0</td>\n",
       "      <td>76.08</td>\n",
       "      <td>3.666</td>\n",
       "      <td>222.981658</td>\n",
       "      <td>6.908</td>\n",
       "      <td>14119.062</td>\n",
       "      <td>10600.086898</td>\n",
       "      <td>22705.786588</td>\n",
       "    </tr>\n",
       "    <tr>\n",
       "      <th>3</th>\n",
       "      <td>2012-10-05</td>\n",
       "      <td>1</td>\n",
       "      <td>4</td>\n",
       "      <td>39311.93</td>\n",
       "      <td>8077.89</td>\n",
       "      <td>-1.0</td>\n",
       "      <td>18.22</td>\n",
       "      <td>3617.43</td>\n",
       "      <td>3626.14</td>\n",
       "      <td>0</td>\n",
       "      <td>76.08</td>\n",
       "      <td>3.666</td>\n",
       "      <td>222.981658</td>\n",
       "      <td>6.908</td>\n",
       "      <td>37001.637</td>\n",
       "      <td>32999.175672</td>\n",
       "      <td>41430.120812</td>\n",
       "    </tr>\n",
       "    <tr>\n",
       "      <th>4</th>\n",
       "      <td>2012-10-05</td>\n",
       "      <td>1</td>\n",
       "      <td>5</td>\n",
       "      <td>25508.81</td>\n",
       "      <td>8077.89</td>\n",
       "      <td>-1.0</td>\n",
       "      <td>18.22</td>\n",
       "      <td>3617.43</td>\n",
       "      <td>3626.14</td>\n",
       "      <td>0</td>\n",
       "      <td>76.08</td>\n",
       "      <td>3.666</td>\n",
       "      <td>222.981658</td>\n",
       "      <td>6.908</td>\n",
       "      <td>22046.750</td>\n",
       "      <td>8944.144172</td>\n",
       "      <td>34217.192461</td>\n",
       "    </tr>\n",
       "  </tbody>\n",
       "</table>\n",
       "</div>"
      ],
      "text/plain": [
       "         Date  Store  Dept  Weekly_Sales  MarkDown1  MarkDown2  MarkDown3  \\\n",
       "0  2012-10-05      1     1      21904.47    8077.89       -1.0      18.22   \n",
       "1  2012-10-05      1     2      48577.08    8077.89       -1.0      18.22   \n",
       "2  2012-10-05      1     3      11676.98    8077.89       -1.0      18.22   \n",
       "3  2012-10-05      1     4      39311.93    8077.89       -1.0      18.22   \n",
       "4  2012-10-05      1     5      25508.81    8077.89       -1.0      18.22   \n",
       "\n",
       "   MarkDown4  MarkDown5  IsHoliday  Temperature_lag  Fuel_Price_lag  \\\n",
       "0    3617.43    3626.14          0            76.08           3.666   \n",
       "1    3617.43    3626.14          0            76.08           3.666   \n",
       "2    3617.43    3626.14          0            76.08           3.666   \n",
       "3    3617.43    3626.14          0            76.08           3.666   \n",
       "4    3617.43    3626.14          0            76.08           3.666   \n",
       "\n",
       "      CPI_lag  Unemployment_lag  Weekly_Sales.predicted  \\\n",
       "0  222.981658             6.908               19164.223   \n",
       "1  222.981658             6.908               46317.516   \n",
       "2  222.981658             6.908               14119.062   \n",
       "3  222.981658             6.908               37001.637   \n",
       "4  222.981658             6.908               22046.750   \n",
       "\n",
       "   Weekly_Sales.predicted.lower  Weekly_Sales.predicted.upper  \n",
       "0                   1087.738789                  33253.242086  \n",
       "1                  42595.535586                  50645.047117  \n",
       "2                  10600.086898                  22705.786588  \n",
       "3                  32999.175672                  41430.120812  \n",
       "4                   8944.144172                  34217.192461  "
      ]
     },
     "execution_count": 41,
     "metadata": {},
     "output_type": "execute_result"
    }
   ],
   "source": [
    "preds.head()"
   ]
  },
  {
   "cell_type": "code",
   "execution_count": 42,
   "metadata": {},
   "outputs": [
    {
     "data": {
      "text/html": [
       "<div>\n",
       "<style scoped>\n",
       "    .dataframe tbody tr th:only-of-type {\n",
       "        vertical-align: middle;\n",
       "    }\n",
       "\n",
       "    .dataframe tbody tr th {\n",
       "        vertical-align: top;\n",
       "    }\n",
       "\n",
       "    .dataframe thead th {\n",
       "        text-align: right;\n",
       "    }\n",
       "</style>\n",
       "<table border=\"1\" class=\"dataframe\">\n",
       "  <thead>\n",
       "    <tr style=\"text-align: right;\">\n",
       "      <th></th>\n",
       "      <th>Date</th>\n",
       "      <th>Store</th>\n",
       "      <th>Dept</th>\n",
       "      <th>Weekly_Sales</th>\n",
       "      <th>Weekly_Sales.predicted</th>\n",
       "    </tr>\n",
       "  </thead>\n",
       "  <tbody>\n",
       "    <tr>\n",
       "      <th>0</th>\n",
       "      <td>2012-10-05</td>\n",
       "      <td>1</td>\n",
       "      <td>1</td>\n",
       "      <td>21904.47</td>\n",
       "      <td>19164.223</td>\n",
       "    </tr>\n",
       "    <tr>\n",
       "      <th>2976</th>\n",
       "      <td>2012-10-12</td>\n",
       "      <td>1</td>\n",
       "      <td>1</td>\n",
       "      <td>NaN</td>\n",
       "      <td>21469.748</td>\n",
       "    </tr>\n",
       "  </tbody>\n",
       "</table>\n",
       "</div>"
      ],
      "text/plain": [
       "            Date  Store  Dept  Weekly_Sales  Weekly_Sales.predicted\n",
       "0     2012-10-05      1     1      21904.47               19164.223\n",
       "2976  2012-10-12      1     1           NaN               21469.748"
      ]
     },
     "execution_count": 42,
     "metadata": {},
     "output_type": "execute_result"
    }
   ],
   "source": [
    "# Store=1, Dept=1のみ表示\n",
    "preds.loc[(preds[\"Store\"] == 1) & (preds[\"Dept\"] == 1), [\"Date\", \"Store\", \"Dept\", \"Weekly_Sales\", \"Weekly_Sales.predicted\"]]"
   ]
  },
  {
   "cell_type": "markdown",
   "metadata": {},
   "source": [
    "***"
   ]
  },
  {
   "cell_type": "markdown",
   "metadata": {},
   "source": [
    "#### 各テスト期間（2012-10-05, 2012-10-12, 2012-10-19, 2012-10-26）に対してTTAによるローリング予測を実施"
   ]
  },
  {
   "cell_type": "code",
   "execution_count": 83,
   "metadata": {},
   "outputs": [],
   "source": [
    "def get_tta_predictions(test_data, time_col, time_group_cols, target_col):\n",
    "    \n",
    "    test_preds = pd.DataFrame()\n",
    "    dates = test_data[time_col].unique()   # 予測期間=1とした実装\n",
    "    \n",
    "    for i,day in enumerate(dates):\n",
    "        print('~~~~~~~~~~~~~~~~~ ローリングWindow.{} ({}) ~~~~~~~~~~~~~~~~~'.format(i, day))\n",
    "        \n",
    "        # テストデータの作成\n",
    "        tta_test_data = test_data[test_data[time_col] <= day].copy()\n",
    "        tta_test_data.loc[test_data[time_col] == day, target_col] = None\n",
    "        print('----- テストデータ：Store=1, Dept=1のみ表示 -----')\n",
    "        display(tta_test_data.loc[(tta_test_data[\"Store\"] == 1) & (tta_test_data[\"Dept\"] == 1), [\"Date\", \"Store\", \"Dept\", \"Weekly_Sales\"]])\n",
    "        print('--------------------------------------------')\n",
    "        \n",
    "        # Driverlessへのテストデータのアップ\n",
    "        test_path = \"../tmp/tta_test_data.csv\"\n",
    "        tta_test_data.to_csv(test_path, index = False)\n",
    "        test_dai = h2oai.datasets.create(test_path, force=True)\n",
    "        \n",
    "        # 予測\n",
    "        pred_job = experiment.predict(dataset=test_dai, include_columns=keep_cols)\n",
    "        \n",
    "        # 結果のDLとフォーマット\n",
    "        result_data_name = 'tta_test_data_RES.csv'\n",
    "        pred_job.download(dst_dir='.', dst_file=result_data_name, overwrite=True)\n",
    "        preds = pd.read_csv(result_data_name)\n",
    "        preds['Window_no'] = i     # Window番号を付与\n",
    "        \n",
    "        test_preds = pd.concat([test_preds, preds], axis = 0)    # 各テストデータの連結\n",
    "        \n",
    "    out_cols = ['Window_no','Weekly_Sales','Date','Store','Dept','Weekly_Sales.predicted','Weekly_Sales.predicted.lower','Weekly_Sales.predicted.upper']\n",
    "    test_preds = test_preds[out_cols]\n",
    "    return test_preds"
   ]
  },
  {
   "cell_type": "code",
   "execution_count": 84,
   "metadata": {},
   "outputs": [
    {
     "name": "stdout",
     "output_type": "stream",
     "text": [
      "~~~~~~~~~~~~~~~~~ ローリングWindow.0 (2012-10-05T00:00:00.000000000) ~~~~~~~~~~~~~~~~~\n",
      "----- テストデータ：Store=1, Dept=1のみ表示 -----\n"
     ]
    },
    {
     "data": {
      "text/html": [
       "<div>\n",
       "<style scoped>\n",
       "    .dataframe tbody tr th:only-of-type {\n",
       "        vertical-align: middle;\n",
       "    }\n",
       "\n",
       "    .dataframe tbody tr th {\n",
       "        vertical-align: top;\n",
       "    }\n",
       "\n",
       "    .dataframe thead th {\n",
       "        text-align: right;\n",
       "    }\n",
       "</style>\n",
       "<table border=\"1\" class=\"dataframe\">\n",
       "  <thead>\n",
       "    <tr style=\"text-align: right;\">\n",
       "      <th></th>\n",
       "      <th>Date</th>\n",
       "      <th>Store</th>\n",
       "      <th>Dept</th>\n",
       "      <th>Weekly_Sales</th>\n",
       "    </tr>\n",
       "  </thead>\n",
       "  <tbody>\n",
       "    <tr>\n",
       "      <th>409695</th>\n",
       "      <td>2012-10-05</td>\n",
       "      <td>1</td>\n",
       "      <td>1</td>\n",
       "      <td>NaN</td>\n",
       "    </tr>\n",
       "  </tbody>\n",
       "</table>\n",
       "</div>"
      ],
      "text/plain": [
       "             Date  Store  Dept  Weekly_Sales\n",
       "409695 2012-10-05      1     1           NaN"
      ]
     },
     "metadata": {},
     "output_type": "display_data"
    },
    {
     "name": "stdout",
     "output_type": "stream",
     "text": [
      "--------------------------------------------\n",
      "Complete 100.00% - [4/4] Computed stats for column Unemployment_lag\n",
      "Complete\n",
      "Downloaded 'tta_test_data_RES.csv'\n",
      "~~~~~~~~~~~~~~~~~ ローリングWindow.1 (2012-10-12T00:00:00.000000000) ~~~~~~~~~~~~~~~~~\n",
      "----- テストデータ：Store=1, Dept=1のみ表示 -----\n"
     ]
    },
    {
     "data": {
      "text/html": [
       "<div>\n",
       "<style scoped>\n",
       "    .dataframe tbody tr th:only-of-type {\n",
       "        vertical-align: middle;\n",
       "    }\n",
       "\n",
       "    .dataframe tbody tr th {\n",
       "        vertical-align: top;\n",
       "    }\n",
       "\n",
       "    .dataframe thead th {\n",
       "        text-align: right;\n",
       "    }\n",
       "</style>\n",
       "<table border=\"1\" class=\"dataframe\">\n",
       "  <thead>\n",
       "    <tr style=\"text-align: right;\">\n",
       "      <th></th>\n",
       "      <th>Date</th>\n",
       "      <th>Store</th>\n",
       "      <th>Dept</th>\n",
       "      <th>Weekly_Sales</th>\n",
       "    </tr>\n",
       "  </thead>\n",
       "  <tbody>\n",
       "    <tr>\n",
       "      <th>409695</th>\n",
       "      <td>2012-10-05</td>\n",
       "      <td>1</td>\n",
       "      <td>1</td>\n",
       "      <td>21904.47</td>\n",
       "    </tr>\n",
       "    <tr>\n",
       "      <th>412671</th>\n",
       "      <td>2012-10-12</td>\n",
       "      <td>1</td>\n",
       "      <td>1</td>\n",
       "      <td>NaN</td>\n",
       "    </tr>\n",
       "  </tbody>\n",
       "</table>\n",
       "</div>"
      ],
      "text/plain": [
       "             Date  Store  Dept  Weekly_Sales\n",
       "409695 2012-10-05      1     1      21904.47\n",
       "412671 2012-10-12      1     1           NaN"
      ]
     },
     "metadata": {},
     "output_type": "display_data"
    },
    {
     "name": "stdout",
     "output_type": "stream",
     "text": [
      "--------------------------------------------\n",
      "Complete 100.00% - [4/4] Computed stats for column Unemployment_lag\n",
      "Complete\n",
      "Downloaded 'tta_test_data_RES.csv'\n",
      "~~~~~~~~~~~~~~~~~ ローリングWindow.2 (2012-10-19T00:00:00.000000000) ~~~~~~~~~~~~~~~~~\n",
      "----- テストデータ：Store=1, Dept=1のみ表示 -----\n"
     ]
    },
    {
     "data": {
      "text/html": [
       "<div>\n",
       "<style scoped>\n",
       "    .dataframe tbody tr th:only-of-type {\n",
       "        vertical-align: middle;\n",
       "    }\n",
       "\n",
       "    .dataframe tbody tr th {\n",
       "        vertical-align: top;\n",
       "    }\n",
       "\n",
       "    .dataframe thead th {\n",
       "        text-align: right;\n",
       "    }\n",
       "</style>\n",
       "<table border=\"1\" class=\"dataframe\">\n",
       "  <thead>\n",
       "    <tr style=\"text-align: right;\">\n",
       "      <th></th>\n",
       "      <th>Date</th>\n",
       "      <th>Store</th>\n",
       "      <th>Dept</th>\n",
       "      <th>Weekly_Sales</th>\n",
       "    </tr>\n",
       "  </thead>\n",
       "  <tbody>\n",
       "    <tr>\n",
       "      <th>409695</th>\n",
       "      <td>2012-10-05</td>\n",
       "      <td>1</td>\n",
       "      <td>1</td>\n",
       "      <td>21904.47</td>\n",
       "    </tr>\n",
       "    <tr>\n",
       "      <th>412671</th>\n",
       "      <td>2012-10-12</td>\n",
       "      <td>1</td>\n",
       "      <td>1</td>\n",
       "      <td>22764.01</td>\n",
       "    </tr>\n",
       "    <tr>\n",
       "      <th>415661</th>\n",
       "      <td>2012-10-19</td>\n",
       "      <td>1</td>\n",
       "      <td>1</td>\n",
       "      <td>NaN</td>\n",
       "    </tr>\n",
       "  </tbody>\n",
       "</table>\n",
       "</div>"
      ],
      "text/plain": [
       "             Date  Store  Dept  Weekly_Sales\n",
       "409695 2012-10-05      1     1      21904.47\n",
       "412671 2012-10-12      1     1      22764.01\n",
       "415661 2012-10-19      1     1           NaN"
      ]
     },
     "metadata": {},
     "output_type": "display_data"
    },
    {
     "name": "stdout",
     "output_type": "stream",
     "text": [
      "--------------------------------------------\n",
      "Complete 100.00% - [4/4] Computed stats for column Unemployment_lag\n",
      "Complete\n",
      "Downloaded 'tta_test_data_RES.csv'\n",
      "~~~~~~~~~~~~~~~~~ ローリングWindow.3 (2012-10-26T00:00:00.000000000) ~~~~~~~~~~~~~~~~~\n",
      "----- テストデータ：Store=1, Dept=1のみ表示 -----\n"
     ]
    },
    {
     "data": {
      "text/html": [
       "<div>\n",
       "<style scoped>\n",
       "    .dataframe tbody tr th:only-of-type {\n",
       "        vertical-align: middle;\n",
       "    }\n",
       "\n",
       "    .dataframe tbody tr th {\n",
       "        vertical-align: top;\n",
       "    }\n",
       "\n",
       "    .dataframe thead th {\n",
       "        text-align: right;\n",
       "    }\n",
       "</style>\n",
       "<table border=\"1\" class=\"dataframe\">\n",
       "  <thead>\n",
       "    <tr style=\"text-align: right;\">\n",
       "      <th></th>\n",
       "      <th>Date</th>\n",
       "      <th>Store</th>\n",
       "      <th>Dept</th>\n",
       "      <th>Weekly_Sales</th>\n",
       "    </tr>\n",
       "  </thead>\n",
       "  <tbody>\n",
       "    <tr>\n",
       "      <th>409695</th>\n",
       "      <td>2012-10-05</td>\n",
       "      <td>1</td>\n",
       "      <td>1</td>\n",
       "      <td>21904.47</td>\n",
       "    </tr>\n",
       "    <tr>\n",
       "      <th>412671</th>\n",
       "      <td>2012-10-12</td>\n",
       "      <td>1</td>\n",
       "      <td>1</td>\n",
       "      <td>22764.01</td>\n",
       "    </tr>\n",
       "    <tr>\n",
       "      <th>415661</th>\n",
       "      <td>2012-10-19</td>\n",
       "      <td>1</td>\n",
       "      <td>1</td>\n",
       "      <td>24185.27</td>\n",
       "    </tr>\n",
       "    <tr>\n",
       "      <th>418611</th>\n",
       "      <td>2012-10-26</td>\n",
       "      <td>1</td>\n",
       "      <td>1</td>\n",
       "      <td>NaN</td>\n",
       "    </tr>\n",
       "  </tbody>\n",
       "</table>\n",
       "</div>"
      ],
      "text/plain": [
       "             Date  Store  Dept  Weekly_Sales\n",
       "409695 2012-10-05      1     1      21904.47\n",
       "412671 2012-10-12      1     1      22764.01\n",
       "415661 2012-10-19      1     1      24185.27\n",
       "418611 2012-10-26      1     1           NaN"
      ]
     },
     "metadata": {},
     "output_type": "display_data"
    },
    {
     "name": "stdout",
     "output_type": "stream",
     "text": [
      "--------------------------------------------\n",
      "Complete 100.00% - [4/4] Computed stats for column Unemployment_lag\n",
      "Complete\n",
      "Downloaded 'tta_test_data_RES.csv'\n"
     ]
    }
   ],
   "source": [
    "# TTAによるローリング予測（Window数=４）の実施\n",
    "forecast_predictions_tta = get_tta_predictions(test_data=test_data, time_col=\"Date\", time_group_cols=[\"Store\", \"Dept\"], target_col=\"Weekly_Sales\")"
   ]
  },
  {
   "cell_type": "code",
   "execution_count": 85,
   "metadata": {},
   "outputs": [
    {
     "data": {
      "text/plain": [
       "(29733, 8)"
      ]
     },
     "execution_count": 85,
     "metadata": {},
     "output_type": "execute_result"
    }
   ],
   "source": [
    "forecast_predictions_tta.shape"
   ]
  },
  {
   "cell_type": "code",
   "execution_count": 86,
   "metadata": {},
   "outputs": [
    {
     "data": {
      "text/html": [
       "<div>\n",
       "<style scoped>\n",
       "    .dataframe tbody tr th:only-of-type {\n",
       "        vertical-align: middle;\n",
       "    }\n",
       "\n",
       "    .dataframe tbody tr th {\n",
       "        vertical-align: top;\n",
       "    }\n",
       "\n",
       "    .dataframe thead th {\n",
       "        text-align: right;\n",
       "    }\n",
       "</style>\n",
       "<table border=\"1\" class=\"dataframe\">\n",
       "  <thead>\n",
       "    <tr style=\"text-align: right;\">\n",
       "      <th></th>\n",
       "      <th>Window_no</th>\n",
       "      <th>Weekly_Sales</th>\n",
       "      <th>Date</th>\n",
       "      <th>Store</th>\n",
       "      <th>Dept</th>\n",
       "      <th>Weekly_Sales.predicted</th>\n",
       "      <th>Weekly_Sales.predicted.lower</th>\n",
       "      <th>Weekly_Sales.predicted.upper</th>\n",
       "    </tr>\n",
       "  </thead>\n",
       "  <tbody>\n",
       "    <tr>\n",
       "      <th>0</th>\n",
       "      <td>0</td>\n",
       "      <td>NaN</td>\n",
       "      <td>2012-10-05</td>\n",
       "      <td>1</td>\n",
       "      <td>1</td>\n",
       "      <td>19164.223</td>\n",
       "      <td>1087.738789</td>\n",
       "      <td>33253.242086</td>\n",
       "    </tr>\n",
       "    <tr>\n",
       "      <th>1</th>\n",
       "      <td>0</td>\n",
       "      <td>NaN</td>\n",
       "      <td>2012-10-05</td>\n",
       "      <td>1</td>\n",
       "      <td>2</td>\n",
       "      <td>46317.516</td>\n",
       "      <td>42595.535586</td>\n",
       "      <td>50645.047117</td>\n",
       "    </tr>\n",
       "    <tr>\n",
       "      <th>2</th>\n",
       "      <td>0</td>\n",
       "      <td>NaN</td>\n",
       "      <td>2012-10-05</td>\n",
       "      <td>1</td>\n",
       "      <td>3</td>\n",
       "      <td>14119.062</td>\n",
       "      <td>10600.086898</td>\n",
       "      <td>22705.786588</td>\n",
       "    </tr>\n",
       "    <tr>\n",
       "      <th>3</th>\n",
       "      <td>0</td>\n",
       "      <td>NaN</td>\n",
       "      <td>2012-10-05</td>\n",
       "      <td>1</td>\n",
       "      <td>4</td>\n",
       "      <td>37001.637</td>\n",
       "      <td>32999.175672</td>\n",
       "      <td>41430.120812</td>\n",
       "    </tr>\n",
       "    <tr>\n",
       "      <th>4</th>\n",
       "      <td>0</td>\n",
       "      <td>NaN</td>\n",
       "      <td>2012-10-05</td>\n",
       "      <td>1</td>\n",
       "      <td>5</td>\n",
       "      <td>22046.750</td>\n",
       "      <td>8944.144172</td>\n",
       "      <td>34217.192461</td>\n",
       "    </tr>\n",
       "  </tbody>\n",
       "</table>\n",
       "</div>"
      ],
      "text/plain": [
       "   Window_no  Weekly_Sales        Date  Store  Dept  Weekly_Sales.predicted  \\\n",
       "0          0           NaN  2012-10-05      1     1               19164.223   \n",
       "1          0           NaN  2012-10-05      1     2               46317.516   \n",
       "2          0           NaN  2012-10-05      1     3               14119.062   \n",
       "3          0           NaN  2012-10-05      1     4               37001.637   \n",
       "4          0           NaN  2012-10-05      1     5               22046.750   \n",
       "\n",
       "   Weekly_Sales.predicted.lower  Weekly_Sales.predicted.upper  \n",
       "0                   1087.738789                  33253.242086  \n",
       "1                  42595.535586                  50645.047117  \n",
       "2                  10600.086898                  22705.786588  \n",
       "3                  32999.175672                  41430.120812  \n",
       "4                   8944.144172                  34217.192461  "
      ]
     },
     "execution_count": 86,
     "metadata": {},
     "output_type": "execute_result"
    }
   ],
   "source": [
    "forecast_predictions_tta.head()"
   ]
  },
  {
   "cell_type": "code",
   "execution_count": 87,
   "metadata": {},
   "outputs": [
    {
     "data": {
      "text/plain": [
       "2012-10-05    11904\n",
       "2012-10-12     8970\n",
       "2012-10-19     5900\n",
       "2012-10-26     2959\n",
       "Name: Date, dtype: int64"
      ]
     },
     "execution_count": 87,
     "metadata": {},
     "output_type": "execute_result"
    }
   ],
   "source": [
    "forecast_predictions_tta['Date'].value_counts()"
   ]
  },
  {
   "cell_type": "code",
   "execution_count": 88,
   "metadata": {},
   "outputs": [
    {
     "data": {
      "text/html": [
       "<div>\n",
       "<style scoped>\n",
       "    .dataframe tbody tr th:only-of-type {\n",
       "        vertical-align: middle;\n",
       "    }\n",
       "\n",
       "    .dataframe tbody tr th {\n",
       "        vertical-align: top;\n",
       "    }\n",
       "\n",
       "    .dataframe thead th {\n",
       "        text-align: right;\n",
       "    }\n",
       "</style>\n",
       "<table border=\"1\" class=\"dataframe\">\n",
       "  <thead>\n",
       "    <tr style=\"text-align: right;\">\n",
       "      <th></th>\n",
       "      <th>Window_no</th>\n",
       "      <th>Weekly_Sales</th>\n",
       "      <th>Date</th>\n",
       "      <th>Store</th>\n",
       "      <th>Dept</th>\n",
       "      <th>Weekly_Sales.predicted</th>\n",
       "      <th>Weekly_Sales.predicted.lower</th>\n",
       "      <th>Weekly_Sales.predicted.upper</th>\n",
       "    </tr>\n",
       "  </thead>\n",
       "  <tbody>\n",
       "    <tr>\n",
       "      <th>0</th>\n",
       "      <td>0</td>\n",
       "      <td>NaN</td>\n",
       "      <td>2012-10-05</td>\n",
       "      <td>1</td>\n",
       "      <td>1</td>\n",
       "      <td>19164.223</td>\n",
       "      <td>1087.738789</td>\n",
       "      <td>33253.242086</td>\n",
       "    </tr>\n",
       "    <tr>\n",
       "      <th>0</th>\n",
       "      <td>1</td>\n",
       "      <td>21904.47</td>\n",
       "      <td>2012-10-05</td>\n",
       "      <td>1</td>\n",
       "      <td>1</td>\n",
       "      <td>19164.223</td>\n",
       "      <td>1087.738789</td>\n",
       "      <td>33253.242086</td>\n",
       "    </tr>\n",
       "    <tr>\n",
       "      <th>2976</th>\n",
       "      <td>1</td>\n",
       "      <td>NaN</td>\n",
       "      <td>2012-10-12</td>\n",
       "      <td>1</td>\n",
       "      <td>1</td>\n",
       "      <td>21469.748</td>\n",
       "      <td>3393.264180</td>\n",
       "      <td>35558.767477</td>\n",
       "    </tr>\n",
       "    <tr>\n",
       "      <th>0</th>\n",
       "      <td>2</td>\n",
       "      <td>21904.47</td>\n",
       "      <td>2012-10-05</td>\n",
       "      <td>1</td>\n",
       "      <td>1</td>\n",
       "      <td>19164.223</td>\n",
       "      <td>1087.738789</td>\n",
       "      <td>33253.242086</td>\n",
       "    </tr>\n",
       "    <tr>\n",
       "      <th>2976</th>\n",
       "      <td>2</td>\n",
       "      <td>22764.01</td>\n",
       "      <td>2012-10-12</td>\n",
       "      <td>1</td>\n",
       "      <td>1</td>\n",
       "      <td>21469.748</td>\n",
       "      <td>3393.264180</td>\n",
       "      <td>35558.767477</td>\n",
       "    </tr>\n",
       "    <tr>\n",
       "      <th>5966</th>\n",
       "      <td>2</td>\n",
       "      <td>NaN</td>\n",
       "      <td>2012-10-19</td>\n",
       "      <td>1</td>\n",
       "      <td>1</td>\n",
       "      <td>22349.893</td>\n",
       "      <td>4273.408711</td>\n",
       "      <td>36438.912008</td>\n",
       "    </tr>\n",
       "    <tr>\n",
       "      <th>0</th>\n",
       "      <td>3</td>\n",
       "      <td>21904.47</td>\n",
       "      <td>2012-10-05</td>\n",
       "      <td>1</td>\n",
       "      <td>1</td>\n",
       "      <td>19164.223</td>\n",
       "      <td>1087.738789</td>\n",
       "      <td>33253.242086</td>\n",
       "    </tr>\n",
       "    <tr>\n",
       "      <th>2976</th>\n",
       "      <td>3</td>\n",
       "      <td>22764.01</td>\n",
       "      <td>2012-10-12</td>\n",
       "      <td>1</td>\n",
       "      <td>1</td>\n",
       "      <td>21469.748</td>\n",
       "      <td>3393.264180</td>\n",
       "      <td>35558.767477</td>\n",
       "    </tr>\n",
       "    <tr>\n",
       "      <th>5966</th>\n",
       "      <td>3</td>\n",
       "      <td>24185.27</td>\n",
       "      <td>2012-10-19</td>\n",
       "      <td>1</td>\n",
       "      <td>1</td>\n",
       "      <td>22349.893</td>\n",
       "      <td>4273.408711</td>\n",
       "      <td>36438.912008</td>\n",
       "    </tr>\n",
       "    <tr>\n",
       "      <th>8916</th>\n",
       "      <td>3</td>\n",
       "      <td>NaN</td>\n",
       "      <td>2012-10-26</td>\n",
       "      <td>1</td>\n",
       "      <td>1</td>\n",
       "      <td>23651.750</td>\n",
       "      <td>5575.266133</td>\n",
       "      <td>37740.769430</td>\n",
       "    </tr>\n",
       "  </tbody>\n",
       "</table>\n",
       "</div>"
      ],
      "text/plain": [
       "      Window_no  Weekly_Sales        Date  Store  Dept  \\\n",
       "0             0           NaN  2012-10-05      1     1   \n",
       "0             1      21904.47  2012-10-05      1     1   \n",
       "2976          1           NaN  2012-10-12      1     1   \n",
       "0             2      21904.47  2012-10-05      1     1   \n",
       "2976          2      22764.01  2012-10-12      1     1   \n",
       "5966          2           NaN  2012-10-19      1     1   \n",
       "0             3      21904.47  2012-10-05      1     1   \n",
       "2976          3      22764.01  2012-10-12      1     1   \n",
       "5966          3      24185.27  2012-10-19      1     1   \n",
       "8916          3           NaN  2012-10-26      1     1   \n",
       "\n",
       "      Weekly_Sales.predicted  Weekly_Sales.predicted.lower  \\\n",
       "0                  19164.223                   1087.738789   \n",
       "0                  19164.223                   1087.738789   \n",
       "2976               21469.748                   3393.264180   \n",
       "0                  19164.223                   1087.738789   \n",
       "2976               21469.748                   3393.264180   \n",
       "5966               22349.893                   4273.408711   \n",
       "0                  19164.223                   1087.738789   \n",
       "2976               21469.748                   3393.264180   \n",
       "5966               22349.893                   4273.408711   \n",
       "8916               23651.750                   5575.266133   \n",
       "\n",
       "      Weekly_Sales.predicted.upper  \n",
       "0                     33253.242086  \n",
       "0                     33253.242086  \n",
       "2976                  35558.767477  \n",
       "0                     33253.242086  \n",
       "2976                  35558.767477  \n",
       "5966                  36438.912008  \n",
       "0                     33253.242086  \n",
       "2976                  35558.767477  \n",
       "5966                  36438.912008  \n",
       "8916                  37740.769430  "
      ]
     },
     "execution_count": 88,
     "metadata": {},
     "output_type": "execute_result"
    }
   ],
   "source": [
    "# Store=1, Dept=1のみ表示（Window順に表示）\n",
    "forecast_predictions_tta.loc[(forecast_predictions_tta[\"Store\"] == 1) & (forecast_predictions_tta[\"Dept\"] == 1),:]\n",
    "\n",
    "# Window_noが各ローリング予測を示す"
   ]
  },
  {
   "cell_type": "markdown",
   "metadata": {},
   "source": [
    "TTAローリング予測を実施した週のみ取得"
   ]
  },
  {
   "cell_type": "code",
   "execution_count": 89,
   "metadata": {},
   "outputs": [
    {
     "data": {
      "text/plain": [
       "(11875, 8)"
      ]
     },
     "execution_count": 89,
     "metadata": {},
     "output_type": "execute_result"
    }
   ],
   "source": [
    "# Weekly_SalesがNAの行を取得（＝TTA予測を実施した週）\n",
    "forecast_predictions_tta_eval = forecast_predictions_tta[forecast_predictions_tta['Weekly_Sales'].isna()]\n",
    "forecast_predictions_tta_eval.shape   # Refit結果データと同じ行数"
   ]
  },
  {
   "cell_type": "code",
   "execution_count": 90,
   "metadata": {
    "scrolled": true
   },
   "outputs": [
    {
     "name": "stdout",
     "output_type": "stream",
     "text": [
      "(11875, 8)\n"
     ]
    },
    {
     "data": {
      "text/html": [
       "<div>\n",
       "<style scoped>\n",
       "    .dataframe tbody tr th:only-of-type {\n",
       "        vertical-align: middle;\n",
       "    }\n",
       "\n",
       "    .dataframe tbody tr th {\n",
       "        vertical-align: top;\n",
       "    }\n",
       "\n",
       "    .dataframe thead th {\n",
       "        text-align: right;\n",
       "    }\n",
       "</style>\n",
       "<table border=\"1\" class=\"dataframe\">\n",
       "  <thead>\n",
       "    <tr style=\"text-align: right;\">\n",
       "      <th></th>\n",
       "      <th>Window_no</th>\n",
       "      <th>Date</th>\n",
       "      <th>Store</th>\n",
       "      <th>Dept</th>\n",
       "      <th>Weekly_Sales.predicted</th>\n",
       "      <th>Weekly_Sales.predicted.lower</th>\n",
       "      <th>Weekly_Sales.predicted.upper</th>\n",
       "      <th>Weekly_Sales</th>\n",
       "    </tr>\n",
       "  </thead>\n",
       "  <tbody>\n",
       "    <tr>\n",
       "      <th>0</th>\n",
       "      <td>0</td>\n",
       "      <td>2012-10-05</td>\n",
       "      <td>1</td>\n",
       "      <td>1</td>\n",
       "      <td>19164.223</td>\n",
       "      <td>1087.738789</td>\n",
       "      <td>33253.242086</td>\n",
       "      <td>21904.47</td>\n",
       "    </tr>\n",
       "    <tr>\n",
       "      <th>1</th>\n",
       "      <td>0</td>\n",
       "      <td>2012-10-05</td>\n",
       "      <td>1</td>\n",
       "      <td>2</td>\n",
       "      <td>46317.516</td>\n",
       "      <td>42595.535586</td>\n",
       "      <td>50645.047117</td>\n",
       "      <td>48577.08</td>\n",
       "    </tr>\n",
       "    <tr>\n",
       "      <th>2</th>\n",
       "      <td>0</td>\n",
       "      <td>2012-10-05</td>\n",
       "      <td>1</td>\n",
       "      <td>3</td>\n",
       "      <td>14119.062</td>\n",
       "      <td>10600.086898</td>\n",
       "      <td>22705.786588</td>\n",
       "      <td>11676.98</td>\n",
       "    </tr>\n",
       "    <tr>\n",
       "      <th>3</th>\n",
       "      <td>0</td>\n",
       "      <td>2012-10-05</td>\n",
       "      <td>1</td>\n",
       "      <td>4</td>\n",
       "      <td>37001.637</td>\n",
       "      <td>32999.175672</td>\n",
       "      <td>41430.120812</td>\n",
       "      <td>39311.93</td>\n",
       "    </tr>\n",
       "    <tr>\n",
       "      <th>4</th>\n",
       "      <td>0</td>\n",
       "      <td>2012-10-05</td>\n",
       "      <td>1</td>\n",
       "      <td>5</td>\n",
       "      <td>22046.750</td>\n",
       "      <td>8944.144172</td>\n",
       "      <td>34217.192461</td>\n",
       "      <td>25508.81</td>\n",
       "    </tr>\n",
       "  </tbody>\n",
       "</table>\n",
       "</div>"
      ],
      "text/plain": [
       "   Window_no       Date  Store  Dept  Weekly_Sales.predicted  \\\n",
       "0          0 2012-10-05      1     1               19164.223   \n",
       "1          0 2012-10-05      1     2               46317.516   \n",
       "2          0 2012-10-05      1     3               14119.062   \n",
       "3          0 2012-10-05      1     4               37001.637   \n",
       "4          0 2012-10-05      1     5               22046.750   \n",
       "\n",
       "   Weekly_Sales.predicted.lower  Weekly_Sales.predicted.upper  Weekly_Sales  \n",
       "0                   1087.738789                  33253.242086      21904.47  \n",
       "1                  42595.535586                  50645.047117      48577.08  \n",
       "2                  10600.086898                  22705.786588      11676.98  \n",
       "3                  32999.175672                  41430.120812      39311.93  \n",
       "4                   8944.144172                  34217.192461      25508.81  "
      ]
     },
     "execution_count": 90,
     "metadata": {},
     "output_type": "execute_result"
    }
   ],
   "source": [
    "# Weekly_Sales=NaNとなっているので、精度比較のために元データ（dai_data）から引っ張てくる\n",
    "dai_data_merge = dai_data[['Date','Store','Dept','Weekly_Sales']]\n",
    "forecast_predictions_tta_eval = forecast_predictions_tta_eval.drop('Weekly_Sales', axis=1)\n",
    "forecast_predictions_tta_eval[\"Date\"] = pd.to_datetime(forecast_predictions_tta_eval[\"Date\"], format=\"%Y-%m-%d\")\n",
    "forecast_predictions_tta_eval = pd.merge(forecast_predictions_tta_eval, dai_data_merge, on=['Date','Store','Dept'], how='left')\n",
    "print(forecast_predictions_tta_eval.shape)\n",
    "forecast_predictions_tta_eval.head()"
   ]
  },
  {
   "cell_type": "code",
   "execution_count": 91,
   "metadata": {},
   "outputs": [
    {
     "data": {
      "text/html": [
       "<div>\n",
       "<style scoped>\n",
       "    .dataframe tbody tr th:only-of-type {\n",
       "        vertical-align: middle;\n",
       "    }\n",
       "\n",
       "    .dataframe tbody tr th {\n",
       "        vertical-align: top;\n",
       "    }\n",
       "\n",
       "    .dataframe thead th {\n",
       "        text-align: right;\n",
       "    }\n",
       "</style>\n",
       "<table border=\"1\" class=\"dataframe\">\n",
       "  <thead>\n",
       "    <tr style=\"text-align: right;\">\n",
       "      <th></th>\n",
       "      <th>Window_no</th>\n",
       "      <th>Date</th>\n",
       "      <th>Store</th>\n",
       "      <th>Dept</th>\n",
       "      <th>Weekly_Sales.predicted</th>\n",
       "      <th>Weekly_Sales.predicted.lower</th>\n",
       "      <th>Weekly_Sales.predicted.upper</th>\n",
       "      <th>Weekly_Sales</th>\n",
       "    </tr>\n",
       "  </thead>\n",
       "  <tbody>\n",
       "    <tr>\n",
       "      <th>0</th>\n",
       "      <td>0</td>\n",
       "      <td>2012-10-05</td>\n",
       "      <td>1</td>\n",
       "      <td>1</td>\n",
       "      <td>19164.223</td>\n",
       "      <td>1087.738789</td>\n",
       "      <td>33253.242086</td>\n",
       "      <td>21904.47</td>\n",
       "    </tr>\n",
       "    <tr>\n",
       "      <th>2976</th>\n",
       "      <td>1</td>\n",
       "      <td>2012-10-12</td>\n",
       "      <td>1</td>\n",
       "      <td>1</td>\n",
       "      <td>21469.748</td>\n",
       "      <td>3393.264180</td>\n",
       "      <td>35558.767477</td>\n",
       "      <td>22764.01</td>\n",
       "    </tr>\n",
       "    <tr>\n",
       "      <th>5966</th>\n",
       "      <td>2</td>\n",
       "      <td>2012-10-19</td>\n",
       "      <td>1</td>\n",
       "      <td>1</td>\n",
       "      <td>22349.893</td>\n",
       "      <td>4273.408711</td>\n",
       "      <td>36438.912008</td>\n",
       "      <td>24185.27</td>\n",
       "    </tr>\n",
       "    <tr>\n",
       "      <th>8916</th>\n",
       "      <td>3</td>\n",
       "      <td>2012-10-26</td>\n",
       "      <td>1</td>\n",
       "      <td>1</td>\n",
       "      <td>23651.750</td>\n",
       "      <td>5575.266133</td>\n",
       "      <td>37740.769430</td>\n",
       "      <td>27390.81</td>\n",
       "    </tr>\n",
       "  </tbody>\n",
       "</table>\n",
       "</div>"
      ],
      "text/plain": [
       "      Window_no       Date  Store  Dept  Weekly_Sales.predicted  \\\n",
       "0             0 2012-10-05      1     1               19164.223   \n",
       "2976          1 2012-10-12      1     1               21469.748   \n",
       "5966          2 2012-10-19      1     1               22349.893   \n",
       "8916          3 2012-10-26      1     1               23651.750   \n",
       "\n",
       "      Weekly_Sales.predicted.lower  Weekly_Sales.predicted.upper  Weekly_Sales  \n",
       "0                      1087.738789                  33253.242086      21904.47  \n",
       "2976                   3393.264180                  35558.767477      22764.01  \n",
       "5966                   4273.408711                  36438.912008      24185.27  \n",
       "8916                   5575.266133                  37740.769430      27390.81  "
      ]
     },
     "execution_count": 91,
     "metadata": {},
     "output_type": "execute_result"
    }
   ],
   "source": [
    "# Store=1, Dept=1のみ表示\n",
    "forecast_predictions_tta_eval.loc[(forecast_predictions_tta_eval[\"Store\"] == 1) & (forecast_predictions_tta_eval[\"Dept\"] == 1),:]"
   ]
  },
  {
   "cell_type": "code",
   "execution_count": null,
   "metadata": {},
   "outputs": [],
   "source": []
  },
  {
   "cell_type": "markdown",
   "metadata": {},
   "source": [
    "## RefitとTTAの比較（テストデータ）"
   ]
  },
  {
   "cell_type": "markdown",
   "metadata": {},
   "source": [
    "#### Refit"
   ]
  },
  {
   "cell_type": "code",
   "execution_count": 92,
   "metadata": {},
   "outputs": [
    {
     "data": {
      "text/plain": [
       "(11875, 7)"
      ]
     },
     "execution_count": 92,
     "metadata": {},
     "output_type": "execute_result"
    }
   ],
   "source": [
    "forecast_predictions.shape"
   ]
  },
  {
   "cell_type": "code",
   "execution_count": 93,
   "metadata": {},
   "outputs": [],
   "source": [
    "# RMSE\n",
    "rmse_refit = mean_squared_error(y_true=forecast_predictions['Weekly_Sales'], y_pred=forecast_predictions['Weekly_Sales.predicted'], squared=False)\n",
    "# R2\n",
    "r2_refit = r2_score(y_true=forecast_predictions['Weekly_Sales'], y_pred=forecast_predictions['Weekly_Sales.predicted'])"
   ]
  },
  {
   "cell_type": "markdown",
   "metadata": {},
   "source": [
    "#### TTA"
   ]
  },
  {
   "cell_type": "code",
   "execution_count": 94,
   "metadata": {},
   "outputs": [
    {
     "data": {
      "text/plain": [
       "(11875, 8)"
      ]
     },
     "execution_count": 94,
     "metadata": {},
     "output_type": "execute_result"
    }
   ],
   "source": [
    "forecast_predictions_tta_eval.shape"
   ]
  },
  {
   "cell_type": "code",
   "execution_count": 95,
   "metadata": {},
   "outputs": [],
   "source": [
    "# RMSE\n",
    "rmse_tta = mean_squared_error(y_true=forecast_predictions_tta_eval['Weekly_Sales'], y_pred=forecast_predictions_tta_eval['Weekly_Sales.predicted'], squared=False)\n",
    "# R2\n",
    "r2_tta = r2_score(y_true=forecast_predictions_tta_eval['Weekly_Sales'], y_pred=forecast_predictions_tta_eval['Weekly_Sales.predicted'])"
   ]
  },
  {
   "cell_type": "markdown",
   "metadata": {},
   "source": [
    "#### 結果比較"
   ]
  },
  {
   "cell_type": "code",
   "execution_count": 96,
   "metadata": {},
   "outputs": [
    {
     "data": {
      "text/html": [
       "<div>\n",
       "<style scoped>\n",
       "    .dataframe tbody tr th:only-of-type {\n",
       "        vertical-align: middle;\n",
       "    }\n",
       "\n",
       "    .dataframe tbody tr th {\n",
       "        vertical-align: top;\n",
       "    }\n",
       "\n",
       "    .dataframe thead th {\n",
       "        text-align: right;\n",
       "    }\n",
       "</style>\n",
       "<table border=\"1\" class=\"dataframe\">\n",
       "  <thead>\n",
       "    <tr style=\"text-align: right;\">\n",
       "      <th></th>\n",
       "      <th>RMSE</th>\n",
       "      <th>R2</th>\n",
       "    </tr>\n",
       "  </thead>\n",
       "  <tbody>\n",
       "    <tr>\n",
       "      <th>Refit</th>\n",
       "      <td>2772.501925</td>\n",
       "      <td>0.983839</td>\n",
       "    </tr>\n",
       "    <tr>\n",
       "      <th>TTA</th>\n",
       "      <td>2745.080253</td>\n",
       "      <td>0.984157</td>\n",
       "    </tr>\n",
       "  </tbody>\n",
       "</table>\n",
       "</div>"
      ],
      "text/plain": [
       "              RMSE        R2\n",
       "Refit  2772.501925  0.983839\n",
       "TTA    2745.080253  0.984157"
      ]
     },
     "execution_count": 96,
     "metadata": {},
     "output_type": "execute_result"
    }
   ],
   "source": [
    "pd.DataFrame({'RMSE':[rmse_refit, rmse_tta], 'R2':[r2_refit, r2_tta]}, index=['Refit', 'TTA'])"
   ]
  },
  {
   "cell_type": "code",
   "execution_count": null,
   "metadata": {},
   "outputs": [],
   "source": []
  }
 ],
 "metadata": {
  "kernelspec": {
   "display_name": "Python 3",
   "language": "python",
   "name": "python3"
  },
  "language_info": {
   "codemirror_mode": {
    "name": "ipython",
    "version": 3
   },
   "file_extension": ".py",
   "mimetype": "text/x-python",
   "name": "python",
   "nbconvert_exporter": "python",
   "pygments_lexer": "ipython3",
   "version": "3.8.3"
  }
 },
 "nbformat": 4,
 "nbformat_minor": 4
}
