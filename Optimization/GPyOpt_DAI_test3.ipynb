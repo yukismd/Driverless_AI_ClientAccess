{
 "cells": [
  {
   "cell_type": "markdown",
   "id": "b74eaf72",
   "metadata": {},
   "source": [
    "## 【検証】Driverless AIのスコアリング機能を目的関数とした、GPyOptによるベイズ最適化\n",
    "- あるDriverless AIの学習済みモデルにおいて、ターゲット変数yを最小化/最大化する、特徴量Xを計算したい"
   ]
  },
  {
   "cell_type": "markdown",
   "id": "fc7dda52",
   "metadata": {},
   "source": [
    "[2021/6/20] App実装検証用に修正  \n",
    "[2021/6/28] GPyOpt引数変更  \n",
    "[2021/8/18] カテゴリカル変数テスト"
   ]
  },
  {
   "cell_type": "code",
   "execution_count": 1,
   "id": "797d8a98",
   "metadata": {},
   "outputs": [],
   "source": [
    "from GPyOpt.methods import BayesianOptimization\n",
    "import os\n",
    "import driverlessai\n",
    "import pandas as pd\n",
    "import numpy as np"
   ]
  },
  {
   "cell_type": "markdown",
   "id": "08f7c061",
   "metadata": {},
   "source": [
    "### 学習データ\n",
    "データはDriverless AIへアップロード済みだが、データ理解のため"
   ]
  },
  {
   "cell_type": "code",
   "execution_count": 2,
   "id": "43bd2605",
   "metadata": {},
   "outputs": [
    {
     "name": "stdout",
     "output_type": "stream",
     "text": [
      "(506, 14)\n"
     ]
    },
    {
     "data": {
      "text/html": [
       "<div>\n",
       "<style scoped>\n",
       "    .dataframe tbody tr th:only-of-type {\n",
       "        vertical-align: middle;\n",
       "    }\n",
       "\n",
       "    .dataframe tbody tr th {\n",
       "        vertical-align: top;\n",
       "    }\n",
       "\n",
       "    .dataframe thead th {\n",
       "        text-align: right;\n",
       "    }\n",
       "</style>\n",
       "<table border=\"1\" class=\"dataframe\">\n",
       "  <thead>\n",
       "    <tr style=\"text-align: right;\">\n",
       "      <th></th>\n",
       "      <th>CRIM</th>\n",
       "      <th>ZN</th>\n",
       "      <th>INDUS</th>\n",
       "      <th>CHAS</th>\n",
       "      <th>NOX</th>\n",
       "      <th>RM</th>\n",
       "      <th>AGE</th>\n",
       "      <th>DIS</th>\n",
       "      <th>RAD</th>\n",
       "      <th>TAX</th>\n",
       "      <th>PTRATIO</th>\n",
       "      <th>B</th>\n",
       "      <th>LSTAT</th>\n",
       "      <th>MEDV</th>\n",
       "    </tr>\n",
       "  </thead>\n",
       "  <tbody>\n",
       "    <tr>\n",
       "      <th>0</th>\n",
       "      <td>0.00632</td>\n",
       "      <td>18.0</td>\n",
       "      <td>2.31</td>\n",
       "      <td>0.0</td>\n",
       "      <td>0.538</td>\n",
       "      <td>6.575</td>\n",
       "      <td>65.2</td>\n",
       "      <td>4.0900</td>\n",
       "      <td>1.0</td>\n",
       "      <td>296.0</td>\n",
       "      <td>15.3</td>\n",
       "      <td>396.90</td>\n",
       "      <td>4.98</td>\n",
       "      <td>24.0</td>\n",
       "    </tr>\n",
       "    <tr>\n",
       "      <th>1</th>\n",
       "      <td>0.02731</td>\n",
       "      <td>0.0</td>\n",
       "      <td>7.07</td>\n",
       "      <td>0.0</td>\n",
       "      <td>0.469</td>\n",
       "      <td>6.421</td>\n",
       "      <td>78.9</td>\n",
       "      <td>4.9671</td>\n",
       "      <td>2.0</td>\n",
       "      <td>242.0</td>\n",
       "      <td>17.8</td>\n",
       "      <td>396.90</td>\n",
       "      <td>9.14</td>\n",
       "      <td>21.6</td>\n",
       "    </tr>\n",
       "    <tr>\n",
       "      <th>2</th>\n",
       "      <td>0.02729</td>\n",
       "      <td>0.0</td>\n",
       "      <td>7.07</td>\n",
       "      <td>0.0</td>\n",
       "      <td>0.469</td>\n",
       "      <td>7.185</td>\n",
       "      <td>61.1</td>\n",
       "      <td>4.9671</td>\n",
       "      <td>2.0</td>\n",
       "      <td>242.0</td>\n",
       "      <td>17.8</td>\n",
       "      <td>392.83</td>\n",
       "      <td>4.03</td>\n",
       "      <td>34.7</td>\n",
       "    </tr>\n",
       "    <tr>\n",
       "      <th>3</th>\n",
       "      <td>0.03237</td>\n",
       "      <td>0.0</td>\n",
       "      <td>2.18</td>\n",
       "      <td>0.0</td>\n",
       "      <td>0.458</td>\n",
       "      <td>6.998</td>\n",
       "      <td>45.8</td>\n",
       "      <td>6.0622</td>\n",
       "      <td>3.0</td>\n",
       "      <td>222.0</td>\n",
       "      <td>18.7</td>\n",
       "      <td>394.63</td>\n",
       "      <td>2.94</td>\n",
       "      <td>33.4</td>\n",
       "    </tr>\n",
       "    <tr>\n",
       "      <th>4</th>\n",
       "      <td>0.06905</td>\n",
       "      <td>0.0</td>\n",
       "      <td>2.18</td>\n",
       "      <td>0.0</td>\n",
       "      <td>0.458</td>\n",
       "      <td>7.147</td>\n",
       "      <td>54.2</td>\n",
       "      <td>6.0622</td>\n",
       "      <td>3.0</td>\n",
       "      <td>222.0</td>\n",
       "      <td>18.7</td>\n",
       "      <td>396.90</td>\n",
       "      <td>5.33</td>\n",
       "      <td>36.2</td>\n",
       "    </tr>\n",
       "  </tbody>\n",
       "</table>\n",
       "</div>"
      ],
      "text/plain": [
       "      CRIM    ZN  INDUS  CHAS    NOX     RM   AGE     DIS  RAD    TAX  \\\n",
       "0  0.00632  18.0   2.31   0.0  0.538  6.575  65.2  4.0900  1.0  296.0   \n",
       "1  0.02731   0.0   7.07   0.0  0.469  6.421  78.9  4.9671  2.0  242.0   \n",
       "2  0.02729   0.0   7.07   0.0  0.469  7.185  61.1  4.9671  2.0  242.0   \n",
       "3  0.03237   0.0   2.18   0.0  0.458  6.998  45.8  6.0622  3.0  222.0   \n",
       "4  0.06905   0.0   2.18   0.0  0.458  7.147  54.2  6.0622  3.0  222.0   \n",
       "\n",
       "   PTRATIO       B  LSTAT  MEDV  \n",
       "0     15.3  396.90   4.98  24.0  \n",
       "1     17.8  396.90   9.14  21.6  \n",
       "2     17.8  392.83   4.03  34.7  \n",
       "3     18.7  394.63   2.94  33.4  \n",
       "4     18.7  396.90   5.33  36.2  "
      ]
     },
     "execution_count": 2,
     "metadata": {},
     "output_type": "execute_result"
    }
   ],
   "source": [
    "data_name = os.path.join(os.environ['HOME'], 'Documents/Sample_Data/Boston_Housing/BostonHousing.csv')\n",
    "df_tmp = pd.read_csv(data_name)\n",
    "print(df_tmp.shape)\n",
    "df_tmp.head()"
   ]
  },
  {
   "cell_type": "code",
   "execution_count": 3,
   "id": "200b54ac",
   "metadata": {},
   "outputs": [
    {
     "data": {
      "text/html": [
       "<div>\n",
       "<style scoped>\n",
       "    .dataframe tbody tr th:only-of-type {\n",
       "        vertical-align: middle;\n",
       "    }\n",
       "\n",
       "    .dataframe tbody tr th {\n",
       "        vertical-align: top;\n",
       "    }\n",
       "\n",
       "    .dataframe thead th {\n",
       "        text-align: right;\n",
       "    }\n",
       "</style>\n",
       "<table border=\"1\" class=\"dataframe\">\n",
       "  <thead>\n",
       "    <tr style=\"text-align: right;\">\n",
       "      <th></th>\n",
       "      <th>CRIM</th>\n",
       "      <th>ZN</th>\n",
       "      <th>INDUS</th>\n",
       "      <th>CHAS</th>\n",
       "      <th>NOX</th>\n",
       "      <th>RM</th>\n",
       "      <th>AGE</th>\n",
       "      <th>DIS</th>\n",
       "      <th>RAD</th>\n",
       "      <th>TAX</th>\n",
       "      <th>PTRATIO</th>\n",
       "      <th>B</th>\n",
       "      <th>LSTAT</th>\n",
       "      <th>MEDV</th>\n",
       "    </tr>\n",
       "  </thead>\n",
       "  <tbody>\n",
       "    <tr>\n",
       "      <th>count</th>\n",
       "      <td>506.000000</td>\n",
       "      <td>506.000000</td>\n",
       "      <td>506.000000</td>\n",
       "      <td>506.000000</td>\n",
       "      <td>506.000000</td>\n",
       "      <td>506.000000</td>\n",
       "      <td>506.000000</td>\n",
       "      <td>506.000000</td>\n",
       "      <td>506.000000</td>\n",
       "      <td>506.000000</td>\n",
       "      <td>506.000000</td>\n",
       "      <td>506.000000</td>\n",
       "      <td>506.000000</td>\n",
       "      <td>506.000000</td>\n",
       "    </tr>\n",
       "    <tr>\n",
       "      <th>mean</th>\n",
       "      <td>3.613524</td>\n",
       "      <td>11.363636</td>\n",
       "      <td>11.136779</td>\n",
       "      <td>0.069170</td>\n",
       "      <td>0.554695</td>\n",
       "      <td>6.284634</td>\n",
       "      <td>68.574901</td>\n",
       "      <td>3.795043</td>\n",
       "      <td>9.549407</td>\n",
       "      <td>408.237154</td>\n",
       "      <td>18.455534</td>\n",
       "      <td>356.674032</td>\n",
       "      <td>12.653063</td>\n",
       "      <td>22.532806</td>\n",
       "    </tr>\n",
       "    <tr>\n",
       "      <th>std</th>\n",
       "      <td>8.601545</td>\n",
       "      <td>23.322453</td>\n",
       "      <td>6.860353</td>\n",
       "      <td>0.253994</td>\n",
       "      <td>0.115878</td>\n",
       "      <td>0.702617</td>\n",
       "      <td>28.148861</td>\n",
       "      <td>2.105710</td>\n",
       "      <td>8.707259</td>\n",
       "      <td>168.537116</td>\n",
       "      <td>2.164946</td>\n",
       "      <td>91.294864</td>\n",
       "      <td>7.141062</td>\n",
       "      <td>9.197104</td>\n",
       "    </tr>\n",
       "    <tr>\n",
       "      <th>min</th>\n",
       "      <td>0.006320</td>\n",
       "      <td>0.000000</td>\n",
       "      <td>0.460000</td>\n",
       "      <td>0.000000</td>\n",
       "      <td>0.385000</td>\n",
       "      <td>3.561000</td>\n",
       "      <td>2.900000</td>\n",
       "      <td>1.129600</td>\n",
       "      <td>1.000000</td>\n",
       "      <td>187.000000</td>\n",
       "      <td>12.600000</td>\n",
       "      <td>0.320000</td>\n",
       "      <td>1.730000</td>\n",
       "      <td>5.000000</td>\n",
       "    </tr>\n",
       "    <tr>\n",
       "      <th>25%</th>\n",
       "      <td>0.082045</td>\n",
       "      <td>0.000000</td>\n",
       "      <td>5.190000</td>\n",
       "      <td>0.000000</td>\n",
       "      <td>0.449000</td>\n",
       "      <td>5.885500</td>\n",
       "      <td>45.025000</td>\n",
       "      <td>2.100175</td>\n",
       "      <td>4.000000</td>\n",
       "      <td>279.000000</td>\n",
       "      <td>17.400000</td>\n",
       "      <td>375.377500</td>\n",
       "      <td>6.950000</td>\n",
       "      <td>17.025000</td>\n",
       "    </tr>\n",
       "    <tr>\n",
       "      <th>50%</th>\n",
       "      <td>0.256510</td>\n",
       "      <td>0.000000</td>\n",
       "      <td>9.690000</td>\n",
       "      <td>0.000000</td>\n",
       "      <td>0.538000</td>\n",
       "      <td>6.208500</td>\n",
       "      <td>77.500000</td>\n",
       "      <td>3.207450</td>\n",
       "      <td>5.000000</td>\n",
       "      <td>330.000000</td>\n",
       "      <td>19.050000</td>\n",
       "      <td>391.440000</td>\n",
       "      <td>11.360000</td>\n",
       "      <td>21.200000</td>\n",
       "    </tr>\n",
       "    <tr>\n",
       "      <th>75%</th>\n",
       "      <td>3.677083</td>\n",
       "      <td>12.500000</td>\n",
       "      <td>18.100000</td>\n",
       "      <td>0.000000</td>\n",
       "      <td>0.624000</td>\n",
       "      <td>6.623500</td>\n",
       "      <td>94.075000</td>\n",
       "      <td>5.188425</td>\n",
       "      <td>24.000000</td>\n",
       "      <td>666.000000</td>\n",
       "      <td>20.200000</td>\n",
       "      <td>396.225000</td>\n",
       "      <td>16.955000</td>\n",
       "      <td>25.000000</td>\n",
       "    </tr>\n",
       "    <tr>\n",
       "      <th>max</th>\n",
       "      <td>88.976200</td>\n",
       "      <td>100.000000</td>\n",
       "      <td>27.740000</td>\n",
       "      <td>1.000000</td>\n",
       "      <td>0.871000</td>\n",
       "      <td>8.780000</td>\n",
       "      <td>100.000000</td>\n",
       "      <td>12.126500</td>\n",
       "      <td>24.000000</td>\n",
       "      <td>711.000000</td>\n",
       "      <td>22.000000</td>\n",
       "      <td>396.900000</td>\n",
       "      <td>37.970000</td>\n",
       "      <td>50.000000</td>\n",
       "    </tr>\n",
       "  </tbody>\n",
       "</table>\n",
       "</div>"
      ],
      "text/plain": [
       "             CRIM          ZN       INDUS        CHAS         NOX          RM  \\\n",
       "count  506.000000  506.000000  506.000000  506.000000  506.000000  506.000000   \n",
       "mean     3.613524   11.363636   11.136779    0.069170    0.554695    6.284634   \n",
       "std      8.601545   23.322453    6.860353    0.253994    0.115878    0.702617   \n",
       "min      0.006320    0.000000    0.460000    0.000000    0.385000    3.561000   \n",
       "25%      0.082045    0.000000    5.190000    0.000000    0.449000    5.885500   \n",
       "50%      0.256510    0.000000    9.690000    0.000000    0.538000    6.208500   \n",
       "75%      3.677083   12.500000   18.100000    0.000000    0.624000    6.623500   \n",
       "max     88.976200  100.000000   27.740000    1.000000    0.871000    8.780000   \n",
       "\n",
       "              AGE         DIS         RAD         TAX     PTRATIO           B  \\\n",
       "count  506.000000  506.000000  506.000000  506.000000  506.000000  506.000000   \n",
       "mean    68.574901    3.795043    9.549407  408.237154   18.455534  356.674032   \n",
       "std     28.148861    2.105710    8.707259  168.537116    2.164946   91.294864   \n",
       "min      2.900000    1.129600    1.000000  187.000000   12.600000    0.320000   \n",
       "25%     45.025000    2.100175    4.000000  279.000000   17.400000  375.377500   \n",
       "50%     77.500000    3.207450    5.000000  330.000000   19.050000  391.440000   \n",
       "75%     94.075000    5.188425   24.000000  666.000000   20.200000  396.225000   \n",
       "max    100.000000   12.126500   24.000000  711.000000   22.000000  396.900000   \n",
       "\n",
       "            LSTAT        MEDV  \n",
       "count  506.000000  506.000000  \n",
       "mean    12.653063   22.532806  \n",
       "std      7.141062    9.197104  \n",
       "min      1.730000    5.000000  \n",
       "25%      6.950000   17.025000  \n",
       "50%     11.360000   21.200000  \n",
       "75%     16.955000   25.000000  \n",
       "max     37.970000   50.000000  "
      ]
     },
     "execution_count": 3,
     "metadata": {},
     "output_type": "execute_result"
    }
   ],
   "source": [
    "df_tmp.describe()"
   ]
  },
  {
   "cell_type": "markdown",
   "id": "6f1ae966",
   "metadata": {},
   "source": [
    "ターゲット変数：MEDV  \n",
    "特徴量：MEDV以外の13変数"
   ]
  },
  {
   "cell_type": "code",
   "execution_count": 6,
   "id": "5e3f8d95",
   "metadata": {},
   "outputs": [
    {
     "name": "stdout",
     "output_type": "stream",
     "text": [
      "(30000, 25)\n"
     ]
    },
    {
     "data": {
      "text/html": [
       "<div>\n",
       "<style scoped>\n",
       "    .dataframe tbody tr th:only-of-type {\n",
       "        vertical-align: middle;\n",
       "    }\n",
       "\n",
       "    .dataframe tbody tr th {\n",
       "        vertical-align: top;\n",
       "    }\n",
       "\n",
       "    .dataframe thead th {\n",
       "        text-align: right;\n",
       "    }\n",
       "</style>\n",
       "<table border=\"1\" class=\"dataframe\">\n",
       "  <thead>\n",
       "    <tr style=\"text-align: right;\">\n",
       "      <th></th>\n",
       "      <th>ID</th>\n",
       "      <th>LIMIT_BAL</th>\n",
       "      <th>SEX</th>\n",
       "      <th>EDUCATION</th>\n",
       "      <th>MARRIAGE</th>\n",
       "      <th>AGE</th>\n",
       "      <th>PAY_0</th>\n",
       "      <th>PAY_2</th>\n",
       "      <th>PAY_3</th>\n",
       "      <th>PAY_4</th>\n",
       "      <th>...</th>\n",
       "      <th>BILL_AMT4</th>\n",
       "      <th>BILL_AMT5</th>\n",
       "      <th>BILL_AMT6</th>\n",
       "      <th>PAY_AMT1</th>\n",
       "      <th>PAY_AMT2</th>\n",
       "      <th>PAY_AMT3</th>\n",
       "      <th>PAY_AMT4</th>\n",
       "      <th>PAY_AMT5</th>\n",
       "      <th>PAY_AMT6</th>\n",
       "      <th>default_payment_next_month</th>\n",
       "    </tr>\n",
       "  </thead>\n",
       "  <tbody>\n",
       "    <tr>\n",
       "      <th>0</th>\n",
       "      <td>1</td>\n",
       "      <td>20000</td>\n",
       "      <td>M</td>\n",
       "      <td>university</td>\n",
       "      <td>married</td>\n",
       "      <td>24</td>\n",
       "      <td>2</td>\n",
       "      <td>2</td>\n",
       "      <td>-1</td>\n",
       "      <td>-1</td>\n",
       "      <td>...</td>\n",
       "      <td>0</td>\n",
       "      <td>0</td>\n",
       "      <td>0</td>\n",
       "      <td>0</td>\n",
       "      <td>689</td>\n",
       "      <td>0</td>\n",
       "      <td>0</td>\n",
       "      <td>0</td>\n",
       "      <td>0</td>\n",
       "      <td>1</td>\n",
       "    </tr>\n",
       "    <tr>\n",
       "      <th>1</th>\n",
       "      <td>2</td>\n",
       "      <td>120000</td>\n",
       "      <td>M</td>\n",
       "      <td>university</td>\n",
       "      <td>single</td>\n",
       "      <td>26</td>\n",
       "      <td>-1</td>\n",
       "      <td>2</td>\n",
       "      <td>0</td>\n",
       "      <td>0</td>\n",
       "      <td>...</td>\n",
       "      <td>3272</td>\n",
       "      <td>3455</td>\n",
       "      <td>3261</td>\n",
       "      <td>0</td>\n",
       "      <td>1000</td>\n",
       "      <td>1000</td>\n",
       "      <td>1000</td>\n",
       "      <td>0</td>\n",
       "      <td>2000</td>\n",
       "      <td>1</td>\n",
       "    </tr>\n",
       "    <tr>\n",
       "      <th>2</th>\n",
       "      <td>3</td>\n",
       "      <td>90000</td>\n",
       "      <td>M</td>\n",
       "      <td>university</td>\n",
       "      <td>single</td>\n",
       "      <td>34</td>\n",
       "      <td>0</td>\n",
       "      <td>0</td>\n",
       "      <td>0</td>\n",
       "      <td>0</td>\n",
       "      <td>...</td>\n",
       "      <td>14331</td>\n",
       "      <td>14948</td>\n",
       "      <td>15549</td>\n",
       "      <td>1518</td>\n",
       "      <td>1500</td>\n",
       "      <td>1000</td>\n",
       "      <td>1000</td>\n",
       "      <td>1000</td>\n",
       "      <td>5000</td>\n",
       "      <td>0</td>\n",
       "    </tr>\n",
       "    <tr>\n",
       "      <th>3</th>\n",
       "      <td>4</td>\n",
       "      <td>50000</td>\n",
       "      <td>M</td>\n",
       "      <td>university</td>\n",
       "      <td>married</td>\n",
       "      <td>37</td>\n",
       "      <td>0</td>\n",
       "      <td>0</td>\n",
       "      <td>0</td>\n",
       "      <td>0</td>\n",
       "      <td>...</td>\n",
       "      <td>28314</td>\n",
       "      <td>28959</td>\n",
       "      <td>29547</td>\n",
       "      <td>2000</td>\n",
       "      <td>2019</td>\n",
       "      <td>1200</td>\n",
       "      <td>1100</td>\n",
       "      <td>1069</td>\n",
       "      <td>1000</td>\n",
       "      <td>0</td>\n",
       "    </tr>\n",
       "    <tr>\n",
       "      <th>4</th>\n",
       "      <td>5</td>\n",
       "      <td>50000</td>\n",
       "      <td>F</td>\n",
       "      <td>university</td>\n",
       "      <td>married</td>\n",
       "      <td>57</td>\n",
       "      <td>-1</td>\n",
       "      <td>0</td>\n",
       "      <td>-1</td>\n",
       "      <td>0</td>\n",
       "      <td>...</td>\n",
       "      <td>20940</td>\n",
       "      <td>19146</td>\n",
       "      <td>19131</td>\n",
       "      <td>2000</td>\n",
       "      <td>36681</td>\n",
       "      <td>10000</td>\n",
       "      <td>9000</td>\n",
       "      <td>689</td>\n",
       "      <td>679</td>\n",
       "      <td>0</td>\n",
       "    </tr>\n",
       "  </tbody>\n",
       "</table>\n",
       "<p>5 rows × 25 columns</p>\n",
       "</div>"
      ],
      "text/plain": [
       "   ID  LIMIT_BAL SEX   EDUCATION MARRIAGE  AGE  PAY_0  PAY_2  PAY_3  PAY_4  \\\n",
       "0   1      20000   M  university  married   24      2      2     -1     -1   \n",
       "1   2     120000   M  university   single   26     -1      2      0      0   \n",
       "2   3      90000   M  university   single   34      0      0      0      0   \n",
       "3   4      50000   M  university  married   37      0      0      0      0   \n",
       "4   5      50000   F  university  married   57     -1      0     -1      0   \n",
       "\n",
       "   ...  BILL_AMT4  BILL_AMT5  BILL_AMT6  PAY_AMT1  PAY_AMT2  PAY_AMT3  \\\n",
       "0  ...          0          0          0         0       689         0   \n",
       "1  ...       3272       3455       3261         0      1000      1000   \n",
       "2  ...      14331      14948      15549      1518      1500      1000   \n",
       "3  ...      28314      28959      29547      2000      2019      1200   \n",
       "4  ...      20940      19146      19131      2000     36681     10000   \n",
       "\n",
       "   PAY_AMT4  PAY_AMT5  PAY_AMT6  default_payment_next_month  \n",
       "0         0         0         0                           1  \n",
       "1      1000         0      2000                           1  \n",
       "2      1000      1000      5000                           0  \n",
       "3      1100      1069      1000                           0  \n",
       "4      9000       689       679                           0  \n",
       "\n",
       "[5 rows x 25 columns]"
      ]
     },
     "execution_count": 6,
     "metadata": {},
     "output_type": "execute_result"
    }
   ],
   "source": [
    "data_name = os.path.join(os.environ['HOME'], 'Documents/Sample_Data/UCI_CreditCard/UCI_Credit_Card2.csv')\n",
    "df_tmp = pd.read_csv(data_name)\n",
    "print(df_tmp.shape)\n",
    "df_tmp.head()"
   ]
  },
  {
   "cell_type": "code",
   "execution_count": 7,
   "id": "cde3949e",
   "metadata": {},
   "outputs": [
    {
     "data": {
      "text/html": [
       "<div>\n",
       "<style scoped>\n",
       "    .dataframe tbody tr th:only-of-type {\n",
       "        vertical-align: middle;\n",
       "    }\n",
       "\n",
       "    .dataframe tbody tr th {\n",
       "        vertical-align: top;\n",
       "    }\n",
       "\n",
       "    .dataframe thead th {\n",
       "        text-align: right;\n",
       "    }\n",
       "</style>\n",
       "<table border=\"1\" class=\"dataframe\">\n",
       "  <thead>\n",
       "    <tr style=\"text-align: right;\">\n",
       "      <th></th>\n",
       "      <th>ID</th>\n",
       "      <th>LIMIT_BAL</th>\n",
       "      <th>AGE</th>\n",
       "      <th>PAY_0</th>\n",
       "      <th>PAY_2</th>\n",
       "      <th>PAY_3</th>\n",
       "      <th>PAY_4</th>\n",
       "      <th>PAY_5</th>\n",
       "      <th>PAY_6</th>\n",
       "      <th>BILL_AMT1</th>\n",
       "      <th>...</th>\n",
       "      <th>BILL_AMT4</th>\n",
       "      <th>BILL_AMT5</th>\n",
       "      <th>BILL_AMT6</th>\n",
       "      <th>PAY_AMT1</th>\n",
       "      <th>PAY_AMT2</th>\n",
       "      <th>PAY_AMT3</th>\n",
       "      <th>PAY_AMT4</th>\n",
       "      <th>PAY_AMT5</th>\n",
       "      <th>PAY_AMT6</th>\n",
       "      <th>default_payment_next_month</th>\n",
       "    </tr>\n",
       "  </thead>\n",
       "  <tbody>\n",
       "    <tr>\n",
       "      <th>count</th>\n",
       "      <td>30000.000000</td>\n",
       "      <td>30000.000000</td>\n",
       "      <td>30000.000000</td>\n",
       "      <td>30000.000000</td>\n",
       "      <td>30000.000000</td>\n",
       "      <td>30000.000000</td>\n",
       "      <td>30000.000000</td>\n",
       "      <td>30000.000000</td>\n",
       "      <td>30000.000000</td>\n",
       "      <td>30000.000000</td>\n",
       "      <td>...</td>\n",
       "      <td>30000.000000</td>\n",
       "      <td>30000.000000</td>\n",
       "      <td>30000.000000</td>\n",
       "      <td>30000.000000</td>\n",
       "      <td>3.000000e+04</td>\n",
       "      <td>30000.00000</td>\n",
       "      <td>30000.000000</td>\n",
       "      <td>30000.000000</td>\n",
       "      <td>30000.000000</td>\n",
       "      <td>30000.000000</td>\n",
       "    </tr>\n",
       "    <tr>\n",
       "      <th>mean</th>\n",
       "      <td>15000.500000</td>\n",
       "      <td>167484.322667</td>\n",
       "      <td>35.485500</td>\n",
       "      <td>-0.016700</td>\n",
       "      <td>-0.133767</td>\n",
       "      <td>-0.166200</td>\n",
       "      <td>-0.220667</td>\n",
       "      <td>-0.266200</td>\n",
       "      <td>-0.291100</td>\n",
       "      <td>51223.330900</td>\n",
       "      <td>...</td>\n",
       "      <td>43262.948967</td>\n",
       "      <td>40311.400967</td>\n",
       "      <td>38871.760400</td>\n",
       "      <td>5663.580500</td>\n",
       "      <td>5.921163e+03</td>\n",
       "      <td>5225.68150</td>\n",
       "      <td>4826.076867</td>\n",
       "      <td>4799.387633</td>\n",
       "      <td>5215.502567</td>\n",
       "      <td>0.221200</td>\n",
       "    </tr>\n",
       "    <tr>\n",
       "      <th>std</th>\n",
       "      <td>8660.398374</td>\n",
       "      <td>129747.661567</td>\n",
       "      <td>9.217904</td>\n",
       "      <td>1.123802</td>\n",
       "      <td>1.197186</td>\n",
       "      <td>1.196868</td>\n",
       "      <td>1.169139</td>\n",
       "      <td>1.133187</td>\n",
       "      <td>1.149988</td>\n",
       "      <td>73635.860576</td>\n",
       "      <td>...</td>\n",
       "      <td>64332.856134</td>\n",
       "      <td>60797.155770</td>\n",
       "      <td>59554.107537</td>\n",
       "      <td>16563.280354</td>\n",
       "      <td>2.304087e+04</td>\n",
       "      <td>17606.96147</td>\n",
       "      <td>15666.159744</td>\n",
       "      <td>15278.305679</td>\n",
       "      <td>17777.465775</td>\n",
       "      <td>0.415062</td>\n",
       "    </tr>\n",
       "    <tr>\n",
       "      <th>min</th>\n",
       "      <td>1.000000</td>\n",
       "      <td>10000.000000</td>\n",
       "      <td>21.000000</td>\n",
       "      <td>-2.000000</td>\n",
       "      <td>-2.000000</td>\n",
       "      <td>-2.000000</td>\n",
       "      <td>-2.000000</td>\n",
       "      <td>-2.000000</td>\n",
       "      <td>-2.000000</td>\n",
       "      <td>-165580.000000</td>\n",
       "      <td>...</td>\n",
       "      <td>-170000.000000</td>\n",
       "      <td>-81334.000000</td>\n",
       "      <td>-339603.000000</td>\n",
       "      <td>0.000000</td>\n",
       "      <td>0.000000e+00</td>\n",
       "      <td>0.00000</td>\n",
       "      <td>0.000000</td>\n",
       "      <td>0.000000</td>\n",
       "      <td>0.000000</td>\n",
       "      <td>0.000000</td>\n",
       "    </tr>\n",
       "    <tr>\n",
       "      <th>25%</th>\n",
       "      <td>7500.750000</td>\n",
       "      <td>50000.000000</td>\n",
       "      <td>28.000000</td>\n",
       "      <td>-1.000000</td>\n",
       "      <td>-1.000000</td>\n",
       "      <td>-1.000000</td>\n",
       "      <td>-1.000000</td>\n",
       "      <td>-1.000000</td>\n",
       "      <td>-1.000000</td>\n",
       "      <td>3558.750000</td>\n",
       "      <td>...</td>\n",
       "      <td>2326.750000</td>\n",
       "      <td>1763.000000</td>\n",
       "      <td>1256.000000</td>\n",
       "      <td>1000.000000</td>\n",
       "      <td>8.330000e+02</td>\n",
       "      <td>390.00000</td>\n",
       "      <td>296.000000</td>\n",
       "      <td>252.500000</td>\n",
       "      <td>117.750000</td>\n",
       "      <td>0.000000</td>\n",
       "    </tr>\n",
       "    <tr>\n",
       "      <th>50%</th>\n",
       "      <td>15000.500000</td>\n",
       "      <td>140000.000000</td>\n",
       "      <td>34.000000</td>\n",
       "      <td>0.000000</td>\n",
       "      <td>0.000000</td>\n",
       "      <td>0.000000</td>\n",
       "      <td>0.000000</td>\n",
       "      <td>0.000000</td>\n",
       "      <td>0.000000</td>\n",
       "      <td>22381.500000</td>\n",
       "      <td>...</td>\n",
       "      <td>19052.000000</td>\n",
       "      <td>18104.500000</td>\n",
       "      <td>17071.000000</td>\n",
       "      <td>2100.000000</td>\n",
       "      <td>2.009000e+03</td>\n",
       "      <td>1800.00000</td>\n",
       "      <td>1500.000000</td>\n",
       "      <td>1500.000000</td>\n",
       "      <td>1500.000000</td>\n",
       "      <td>0.000000</td>\n",
       "    </tr>\n",
       "    <tr>\n",
       "      <th>75%</th>\n",
       "      <td>22500.250000</td>\n",
       "      <td>240000.000000</td>\n",
       "      <td>41.000000</td>\n",
       "      <td>0.000000</td>\n",
       "      <td>0.000000</td>\n",
       "      <td>0.000000</td>\n",
       "      <td>0.000000</td>\n",
       "      <td>0.000000</td>\n",
       "      <td>0.000000</td>\n",
       "      <td>67091.000000</td>\n",
       "      <td>...</td>\n",
       "      <td>54506.000000</td>\n",
       "      <td>50190.500000</td>\n",
       "      <td>49198.250000</td>\n",
       "      <td>5006.000000</td>\n",
       "      <td>5.000000e+03</td>\n",
       "      <td>4505.00000</td>\n",
       "      <td>4013.250000</td>\n",
       "      <td>4031.500000</td>\n",
       "      <td>4000.000000</td>\n",
       "      <td>0.000000</td>\n",
       "    </tr>\n",
       "    <tr>\n",
       "      <th>max</th>\n",
       "      <td>30000.000000</td>\n",
       "      <td>1000000.000000</td>\n",
       "      <td>79.000000</td>\n",
       "      <td>8.000000</td>\n",
       "      <td>8.000000</td>\n",
       "      <td>8.000000</td>\n",
       "      <td>8.000000</td>\n",
       "      <td>8.000000</td>\n",
       "      <td>8.000000</td>\n",
       "      <td>964511.000000</td>\n",
       "      <td>...</td>\n",
       "      <td>891586.000000</td>\n",
       "      <td>927171.000000</td>\n",
       "      <td>961664.000000</td>\n",
       "      <td>873552.000000</td>\n",
       "      <td>1.684259e+06</td>\n",
       "      <td>896040.00000</td>\n",
       "      <td>621000.000000</td>\n",
       "      <td>426529.000000</td>\n",
       "      <td>528666.000000</td>\n",
       "      <td>1.000000</td>\n",
       "    </tr>\n",
       "  </tbody>\n",
       "</table>\n",
       "<p>8 rows × 22 columns</p>\n",
       "</div>"
      ],
      "text/plain": [
       "                 ID       LIMIT_BAL           AGE         PAY_0         PAY_2  \\\n",
       "count  30000.000000    30000.000000  30000.000000  30000.000000  30000.000000   \n",
       "mean   15000.500000   167484.322667     35.485500     -0.016700     -0.133767   \n",
       "std     8660.398374   129747.661567      9.217904      1.123802      1.197186   \n",
       "min        1.000000    10000.000000     21.000000     -2.000000     -2.000000   \n",
       "25%     7500.750000    50000.000000     28.000000     -1.000000     -1.000000   \n",
       "50%    15000.500000   140000.000000     34.000000      0.000000      0.000000   \n",
       "75%    22500.250000   240000.000000     41.000000      0.000000      0.000000   \n",
       "max    30000.000000  1000000.000000     79.000000      8.000000      8.000000   \n",
       "\n",
       "              PAY_3         PAY_4         PAY_5         PAY_6      BILL_AMT1  \\\n",
       "count  30000.000000  30000.000000  30000.000000  30000.000000   30000.000000   \n",
       "mean      -0.166200     -0.220667     -0.266200     -0.291100   51223.330900   \n",
       "std        1.196868      1.169139      1.133187      1.149988   73635.860576   \n",
       "min       -2.000000     -2.000000     -2.000000     -2.000000 -165580.000000   \n",
       "25%       -1.000000     -1.000000     -1.000000     -1.000000    3558.750000   \n",
       "50%        0.000000      0.000000      0.000000      0.000000   22381.500000   \n",
       "75%        0.000000      0.000000      0.000000      0.000000   67091.000000   \n",
       "max        8.000000      8.000000      8.000000      8.000000  964511.000000   \n",
       "\n",
       "       ...      BILL_AMT4      BILL_AMT5      BILL_AMT6       PAY_AMT1  \\\n",
       "count  ...   30000.000000   30000.000000   30000.000000   30000.000000   \n",
       "mean   ...   43262.948967   40311.400967   38871.760400    5663.580500   \n",
       "std    ...   64332.856134   60797.155770   59554.107537   16563.280354   \n",
       "min    ... -170000.000000  -81334.000000 -339603.000000       0.000000   \n",
       "25%    ...    2326.750000    1763.000000    1256.000000    1000.000000   \n",
       "50%    ...   19052.000000   18104.500000   17071.000000    2100.000000   \n",
       "75%    ...   54506.000000   50190.500000   49198.250000    5006.000000   \n",
       "max    ...  891586.000000  927171.000000  961664.000000  873552.000000   \n",
       "\n",
       "           PAY_AMT2      PAY_AMT3       PAY_AMT4       PAY_AMT5  \\\n",
       "count  3.000000e+04   30000.00000   30000.000000   30000.000000   \n",
       "mean   5.921163e+03    5225.68150    4826.076867    4799.387633   \n",
       "std    2.304087e+04   17606.96147   15666.159744   15278.305679   \n",
       "min    0.000000e+00       0.00000       0.000000       0.000000   \n",
       "25%    8.330000e+02     390.00000     296.000000     252.500000   \n",
       "50%    2.009000e+03    1800.00000    1500.000000    1500.000000   \n",
       "75%    5.000000e+03    4505.00000    4013.250000    4031.500000   \n",
       "max    1.684259e+06  896040.00000  621000.000000  426529.000000   \n",
       "\n",
       "            PAY_AMT6  default_payment_next_month  \n",
       "count   30000.000000                30000.000000  \n",
       "mean     5215.502567                    0.221200  \n",
       "std     17777.465775                    0.415062  \n",
       "min         0.000000                    0.000000  \n",
       "25%       117.750000                    0.000000  \n",
       "50%      1500.000000                    0.000000  \n",
       "75%      4000.000000                    0.000000  \n",
       "max    528666.000000                    1.000000  \n",
       "\n",
       "[8 rows x 22 columns]"
      ]
     },
     "execution_count": 7,
     "metadata": {},
     "output_type": "execute_result"
    }
   ],
   "source": [
    "df_tmp.describe()"
   ]
  },
  {
   "cell_type": "markdown",
   "id": "1faf261a",
   "metadata": {},
   "source": [
    "ターゲット変数：LIMIT_BAL  \n",
    "特徴量：SEX, EDUCATION, BILL_AMT1, BILL_AMT2, BILL_AMT3, BILL_AMT4, BILL_AMT5, BILL_AMT6"
   ]
  },
  {
   "cell_type": "markdown",
   "id": "d0f73939",
   "metadata": {},
   "source": [
    "### Driverless AIへの接続"
   ]
  },
  {
   "cell_type": "code",
   "execution_count": 8,
   "id": "8d4ac88a",
   "metadata": {},
   "outputs": [],
   "source": [
    "import json\n",
    "with open('../idpass.json') as f:\n",
    "    idpass = json.load(f)"
   ]
  },
  {
   "cell_type": "code",
   "execution_count": 11,
   "id": "dfa34732",
   "metadata": {},
   "outputs": [
    {
     "data": {
      "text/plain": [
       "<class 'driverlessai._core.Client'> http://ec2-3-82-104-25.compute-1.amazonaws.com"
      ]
     },
     "execution_count": 11,
     "metadata": {},
     "output_type": "execute_result"
    }
   ],
   "source": [
    "# Driverless AIサーバーへの接続\n",
    "dai = driverlessai.Client(address='http://ec2-3-82-104-25.compute-1.amazonaws.com', username=idpass['id'], password=idpass['pass1930'])\n",
    "dai"
   ]
  },
  {
   "cell_type": "code",
   "execution_count": 12,
   "id": "1bb639fa",
   "metadata": {},
   "outputs": [
    {
     "data": {
      "text/plain": [
       "    | Type    | Key                                  | Name\n",
       "----+---------+--------------------------------------+----------------------------------------\n",
       "  0 | Dataset | fe9493c8-ffaf-11eb-9071-0242ac110002 | UCI_Credit_Card2.csv\n",
       "  1 | Dataset | c56363e8-f598-11eb-ba87-0242ac110002 | scsk_train.csv\n",
       "  2 | Dataset | 14552b3c-e511-11eb-9db0-0242ac110002 | sample1.zip\n",
       "  3 | Dataset | 53b3c30e-e50e-11eb-9db0-0242ac110002 | sample2.zip\n",
       "  4 | Dataset | 0fa430c6-e433-11eb-bbce-0242ac110002 | tkn.amazon_reviews_JP_Books_AMPLE.csv\n",
       "  5 | Dataset | ab4727f0-e432-11eb-bbce-0242ac110002 | amazon_reviews_JP_Books_1000SAMPLE.csv\n",
       "  6 | Dataset | e307a4a4-dfa4-11eb-9633-0242ac110002 | TitanicData2.csv\n",
       "  7 | Dataset | 0320c3ca-de23-11eb-a3ce-0242ac110002 | walmart_ts_6_fcst_grp_train.csv\n",
       "  8 | Dataset | 031da9a6-de23-11eb-a3ce-0242ac110002 | walmart_ts_6_fcst_grp_test.csv\n",
       "  9 | Dataset | c59d9454-d9f6-11eb-9ecf-0242ac110002 | uci_credit_card_TEST\n",
       " 10 | Dataset | c59d67d6-d9f6-11eb-9ecf-0242ac110002 | uci_credit_card_TRAIN\n",
       " 11 | Dataset | 8daaacfa-d535-11eb-adff-0242ac110002 | UCI_Credit_Card.csv\n",
       " 12 | Dataset | 7d9c7ac0-d3ad-11eb-a4fa-0242ac110002 | sample_simple.csv\n",
       " 13 | Dataset | 79121f1e-d3ad-11eb-a4fa-0242ac110002 | BostonHousing.csv"
      ]
     },
     "execution_count": 12,
     "metadata": {},
     "output_type": "execute_result"
    }
   ],
   "source": [
    "# 接続先Driverless AIのDatasets\n",
    "dai.datasets.list()"
   ]
  },
  {
   "cell_type": "code",
   "execution_count": 34,
   "id": "2b0233bf",
   "metadata": {},
   "outputs": [
    {
     "data": {
      "text/plain": [
       "    | Type       | Key                                  | Name\n",
       "----+------------+--------------------------------------+-----------------\n",
       "  0 | Experiment | 2f48f7fc-ffb5-11eb-9071-0242ac110002 | uci_cc_optTest2\n",
       "  1 | Experiment | 3abf4f32-ffb0-11eb-9071-0242ac110002 | uci_cc_optTest\n",
       "  2 | Experiment | a5a22a6e-f636-11eb-a9b3-0242ac110002 | dl1\n",
       "  3 | Experiment | e9818b06-f598-11eb-ba87-0242ac110002 | scsk1\n",
       "  4 | Experiment | e9f4e31a-ed9d-11eb-a164-0242ac110002 | 2.run_test\n",
       "  5 | Experiment | d90cf272-ed9d-11eb-a164-0242ac110002 | 1.run_test\n",
       "  6 | Experiment | ca7d4a7c-ed9d-11eb-a164-0242ac110002 | run_test\n",
       "  7 | Experiment | e66d1e02-e5bd-11eb-8e3d-0242ac110002 | 1.boston2\n",
       "  8 | Experiment | a087e4ce-e434-11eb-bbce-0242ac110002 | amazon1\n",
       "  9 | Experiment | 91eeeac2-de2e-11eb-a3ce-0242ac110002 | walmart2\n",
       " 10 | Experiment | 35126e7e-de23-11eb-a3ce-0242ac110002 | walmart1\n",
       " 11 | Experiment | 273b8cec-da66-11eb-91ec-0242ac110002 | tucumibo\n",
       " 12 | Experiment | 35f57a7c-da11-11eb-9ecf-0242ac110002 | boston2\n",
       " 13 | Experiment | e4e76344-d9f6-11eb-9ecf-0242ac110002 | credit1\n",
       " 14 | Experiment | a5b5eab4-d3ad-11eb-a4fa-0242ac110002 | saimple1\n",
       " 15 | Experiment | 8f6c7d7c-d3ad-11eb-a4fa-0242ac110002 | boston1"
      ]
     },
     "execution_count": 34,
     "metadata": {},
     "output_type": "execute_result"
    }
   ],
   "source": [
    "# 接続先Driverless AIのExperiments\n",
    "dai.experiments.list()"
   ]
  },
  {
   "cell_type": "markdown",
   "id": "794e8574",
   "metadata": {},
   "source": [
    "#### Experiment情報の取得"
   ]
  },
  {
   "cell_type": "code",
   "execution_count": 155,
   "id": "498a178a",
   "metadata": {},
   "outputs": [
    {
     "data": {
      "text/plain": [
       "driverlessai._experiments.Experiment"
      ]
     },
     "execution_count": 155,
     "metadata": {},
     "output_type": "execute_result"
    }
   ],
   "source": [
    "# 利用するExperimentの取得\n",
    "# 目的関数となる予測モデル\n",
    "\n",
    "experiment = dai.experiments.get(key='2f48f7fc-ffb5-11eb-9071-0242ac110002')\n",
    "#experiment = dai.experiments.get(key='8f6c7d7c-d3ad-11eb-a4fa-0242ac110002')\n",
    "type(experiment)"
   ]
  },
  {
   "cell_type": "code",
   "execution_count": 156,
   "id": "dd01aea7",
   "metadata": {},
   "outputs": [
    {
     "data": {
      "text/plain": [
       "{'train_dataset': <class 'Dataset'> fe9493c8-ffaf-11eb-9071-0242ac110002 UCI_Credit_Card2.csv,\n",
       " 'validation_dataset': None,\n",
       " 'test_dataset': None}"
      ]
     },
     "execution_count": 156,
     "metadata": {},
     "output_type": "execute_result"
    }
   ],
   "source": [
    "# Experiment作成で利用したデータ\n",
    "experiment.datasets"
   ]
  },
  {
   "cell_type": "code",
   "execution_count": 157,
   "id": "79b0b4ba",
   "metadata": {},
   "outputs": [
    {
     "data": {
      "text/plain": [
       "'fe9493c8-ffaf-11eb-9071-0242ac110002'"
      ]
     },
     "execution_count": 157,
     "metadata": {},
     "output_type": "execute_result"
    }
   ],
   "source": [
    "# 学習データのKey\n",
    "experiment.datasets['train_dataset'].key"
   ]
  },
  {
   "cell_type": "code",
   "execution_count": 158,
   "id": "c0bd2f84",
   "metadata": {},
   "outputs": [
    {
     "data": {
      "text/plain": [
       "'LIMIT_BAL'"
      ]
     },
     "execution_count": 158,
     "metadata": {},
     "output_type": "execute_result"
    }
   ],
   "source": [
    "# Experimentのターゲットカラム\n",
    "target_col = experiment.settings['target_column']\n",
    "target_col"
   ]
  },
  {
   "cell_type": "code",
   "execution_count": 159,
   "id": "75acfafc",
   "metadata": {},
   "outputs": [
    {
     "data": {
      "text/plain": [
       "['ID',\n",
       " 'MARRIAGE',\n",
       " 'AGE',\n",
       " 'PAY_AMT1',\n",
       " 'PAY_AMT2',\n",
       " 'PAY_AMT3',\n",
       " 'PAY_AMT4',\n",
       " 'PAY_AMT5',\n",
       " 'PAY_AMT6',\n",
       " 'default_payment_next_month',\n",
       " 'PAY_0',\n",
       " 'PAY_2',\n",
       " 'PAY_3',\n",
       " 'PAY_4',\n",
       " 'PAY_5',\n",
       " 'PAY_6']"
      ]
     },
     "execution_count": 159,
     "metadata": {},
     "output_type": "execute_result"
    }
   ],
   "source": [
    "# droped columns\n",
    "try:\n",
    "    drop_cols = experiment.settings['drop_columns']     # dropカラムがリストで返る\n",
    "except KeyError:\n",
    "    drop_cols = []     # dropしたカラムがない場合\n",
    "\n",
    "drop_cols"
   ]
  },
  {
   "cell_type": "code",
   "execution_count": 160,
   "id": "6694feb8",
   "metadata": {},
   "outputs": [
    {
     "name": "stdout",
     "output_type": "stream",
     "text": [
      "Status: Complete\n",
      "Experiment: uci_cc_optTest2 (2f48f7fc-ffb5-11eb-9071-0242ac110002)\n",
      "  Version: 1.9.3, 2021-08-17 23:47\n",
      "  Settings: 2/2/7, seed=293466697, GPUs disabled\n",
      "  Train data: UCI_Credit_Card2.csv (30000, 9)\n",
      "  Validation data: N/A\n",
      "  Test data: N/A\n",
      "  Target column: LIMIT_BAL (regression, identity_noclip-transformed)\n",
      "System specs: Docker/Linux, 31 GB, 8 CPU cores, 0/0 GPU\n",
      "  Max memory usage: 0.505 GB, 0 GB GPU\n",
      "Recipe: AutoDL (8 iterations, 2 individuals)\n",
      "  Validation scheme: random, 1 internal holdout\n",
      "  Feature engineering: 14 features scored (13 selected)\n",
      "Timing: MOJO latency: 0.03500 millis (366.2kB)\n",
      "  Data preparation: 4.21 secs\n",
      "  Shift/Leakage detection: 0.74 secs\n",
      "  Model and feature tuning: 23.31 secs (7 models trained)\n",
      "  Feature evolution: 7.14 secs (2 of 22 models trained)\n",
      "  Final pipeline training: 14.74 secs (9 models trained)\n",
      "  Python / MOJO scorer building: 36.67 secs / 12.35 secs\n",
      "Validation score: RMSE = 129745.5 (constant preds of 1.675e+05)\n",
      "Validation score: RMSE = 107287.1 +/- 0.015625 (baseline)\n",
      "Validation score: RMSE = 106430.1 +/- 0.0078125 (final pipeline)\n",
      "Test score:       RMSE = N/A\n"
     ]
    }
   ],
   "source": [
    "# Experiment結果のサマリ\n",
    "experiment.summary()"
   ]
  },
  {
   "cell_type": "markdown",
   "id": "0348c769",
   "metadata": {},
   "source": [
    "#### 学習データ情報の取得"
   ]
  },
  {
   "cell_type": "code",
   "execution_count": 161,
   "id": "51e70d7f",
   "metadata": {},
   "outputs": [
    {
     "data": {
      "text/plain": [
       "<class 'Dataset'> fe9493c8-ffaf-11eb-9071-0242ac110002 UCI_Credit_Card2.csv"
      ]
     },
     "execution_count": 161,
     "metadata": {},
     "output_type": "execute_result"
    }
   ],
   "source": [
    "dataset = dai.datasets.get(key=experiment.datasets['train_dataset'].key)\n",
    "dataset"
   ]
  },
  {
   "cell_type": "code",
   "execution_count": 162,
   "id": "12ca23bd",
   "metadata": {},
   "outputs": [
    {
     "data": {
      "text/plain": [
       "['ID',\n",
       " 'LIMIT_BAL',\n",
       " 'SEX',\n",
       " 'EDUCATION',\n",
       " 'MARRIAGE',\n",
       " 'AGE',\n",
       " 'PAY_0',\n",
       " 'PAY_2',\n",
       " 'PAY_3',\n",
       " 'PAY_4',\n",
       " 'PAY_5',\n",
       " 'PAY_6',\n",
       " 'BILL_AMT1',\n",
       " 'BILL_AMT2',\n",
       " 'BILL_AMT3',\n",
       " 'BILL_AMT4',\n",
       " 'BILL_AMT5',\n",
       " 'BILL_AMT6',\n",
       " 'PAY_AMT1',\n",
       " 'PAY_AMT2',\n",
       " 'PAY_AMT3',\n",
       " 'PAY_AMT4',\n",
       " 'PAY_AMT5',\n",
       " 'PAY_AMT6',\n",
       " 'default_payment_next_month']"
      ]
     },
     "execution_count": 162,
     "metadata": {},
     "output_type": "execute_result"
    }
   ],
   "source": [
    "# 学習データのカラム\n",
    "data_cols = dataset.columns\n",
    "data_cols"
   ]
  },
  {
   "cell_type": "code",
   "execution_count": 163,
   "id": "90b91644",
   "metadata": {},
   "outputs": [
    {
     "data": {
      "text/plain": [
       "['SEX',\n",
       " 'EDUCATION',\n",
       " 'BILL_AMT1',\n",
       " 'BILL_AMT2',\n",
       " 'BILL_AMT3',\n",
       " 'BILL_AMT4',\n",
       " 'BILL_AMT5',\n",
       " 'BILL_AMT6']"
      ]
     },
     "execution_count": 163,
     "metadata": {},
     "output_type": "execute_result"
    }
   ],
   "source": [
    "# Experiment作成に用いられた学習データのカラム\n",
    "\n",
    "col_no_show = drop_cols.copy()\n",
    "col_no_show.append(target_col)    # 学習データから除くカラム（ターゲット変数とdropped columns）\n",
    "\n",
    "col_show = []\n",
    "for col in data_cols:\n",
    "    if col in col_no_show: \n",
    "        continue\n",
    "    col_show.append(col)\n",
    "\n",
    "col_show"
   ]
  },
  {
   "cell_type": "code",
   "execution_count": 164,
   "id": "c687d401",
   "metadata": {},
   "outputs": [
    {
     "data": {
      "text/html": [
       "<div>\n",
       "<style scoped>\n",
       "    .dataframe tbody tr th:only-of-type {\n",
       "        vertical-align: middle;\n",
       "    }\n",
       "\n",
       "    .dataframe tbody tr th {\n",
       "        vertical-align: top;\n",
       "    }\n",
       "\n",
       "    .dataframe thead th {\n",
       "        text-align: right;\n",
       "    }\n",
       "</style>\n",
       "<table border=\"1\" class=\"dataframe\">\n",
       "  <thead>\n",
       "    <tr style=\"text-align: right;\">\n",
       "      <th></th>\n",
       "      <th>col</th>\n",
       "      <th>min</th>\n",
       "      <th>max</th>\n",
       "      <th>data_type</th>\n",
       "    </tr>\n",
       "  </thead>\n",
       "  <tbody>\n",
       "    <tr>\n",
       "      <th>0</th>\n",
       "      <td>SEX</td>\n",
       "      <td>NaN</td>\n",
       "      <td>NaN</td>\n",
       "      <td>str</td>\n",
       "    </tr>\n",
       "    <tr>\n",
       "      <th>1</th>\n",
       "      <td>EDUCATION</td>\n",
       "      <td>NaN</td>\n",
       "      <td>NaN</td>\n",
       "      <td>str</td>\n",
       "    </tr>\n",
       "    <tr>\n",
       "      <th>2</th>\n",
       "      <td>BILL_AMT1</td>\n",
       "      <td>-165580.0</td>\n",
       "      <td>964511.0</td>\n",
       "      <td>int</td>\n",
       "    </tr>\n",
       "    <tr>\n",
       "      <th>3</th>\n",
       "      <td>BILL_AMT2</td>\n",
       "      <td>-69777.0</td>\n",
       "      <td>983931.0</td>\n",
       "      <td>int</td>\n",
       "    </tr>\n",
       "    <tr>\n",
       "      <th>4</th>\n",
       "      <td>BILL_AMT3</td>\n",
       "      <td>-157264.0</td>\n",
       "      <td>1664089.0</td>\n",
       "      <td>int</td>\n",
       "    </tr>\n",
       "    <tr>\n",
       "      <th>5</th>\n",
       "      <td>BILL_AMT4</td>\n",
       "      <td>-170000.0</td>\n",
       "      <td>891586.0</td>\n",
       "      <td>int</td>\n",
       "    </tr>\n",
       "    <tr>\n",
       "      <th>6</th>\n",
       "      <td>BILL_AMT5</td>\n",
       "      <td>-81334.0</td>\n",
       "      <td>927171.0</td>\n",
       "      <td>int</td>\n",
       "    </tr>\n",
       "    <tr>\n",
       "      <th>7</th>\n",
       "      <td>BILL_AMT6</td>\n",
       "      <td>-339603.0</td>\n",
       "      <td>961664.0</td>\n",
       "      <td>int</td>\n",
       "    </tr>\n",
       "  </tbody>\n",
       "</table>\n",
       "</div>"
      ],
      "text/plain": [
       "         col       min        max data_type\n",
       "0        SEX       NaN        NaN       str\n",
       "1  EDUCATION       NaN        NaN       str\n",
       "2  BILL_AMT1 -165580.0   964511.0       int\n",
       "3  BILL_AMT2  -69777.0   983931.0       int\n",
       "4  BILL_AMT3 -157264.0  1664089.0       int\n",
       "5  BILL_AMT4 -170000.0   891586.0       int\n",
       "6  BILL_AMT5  -81334.0   927171.0       int\n",
       "7  BILL_AMT6 -339603.0   961664.0       int"
      ]
     },
     "execution_count": 164,
     "metadata": {},
     "output_type": "execute_result"
    }
   ],
   "source": [
    "# Experiment作成に用いられた学習データの特徴量の最小値・最大値、データ型\n",
    "\n",
    "min_list = []\n",
    "max_list = []\n",
    "type_list = []\n",
    "for col in col_show:\n",
    "    min_list.append(dataset.column_summaries()[col].min)\n",
    "    max_list.append(dataset.column_summaries()[col].max)\n",
    "    type_list.append(dataset.column_summaries()[col].data_type)\n",
    "\n",
    "df_domain = pd.DataFrame({'col':col_show, 'min':min_list, 'max':max_list, 'data_type':type_list})\n",
    "df_domain"
   ]
  },
  {
   "cell_type": "code",
   "execution_count": 169,
   "id": "45dd9cc3",
   "metadata": {},
   "outputs": [
    {
     "data": {
      "text/plain": [
       "['SEX', 'EDUCATION']"
      ]
     },
     "execution_count": 169,
     "metadata": {},
     "output_type": "execute_result"
    }
   ],
   "source": [
    "# カテゴリ型のカラム\n",
    "cat_cols = df_domain[df_domain['data_type']=='str']['col'].values.tolist()\n",
    "cat_cols"
   ]
  },
  {
   "cell_type": "code",
   "execution_count": 170,
   "id": "5a923f2f",
   "metadata": {},
   "outputs": [
    {
     "data": {
      "text/html": [
       "<div>\n",
       "<style scoped>\n",
       "    .dataframe tbody tr th:only-of-type {\n",
       "        vertical-align: middle;\n",
       "    }\n",
       "\n",
       "    .dataframe tbody tr th {\n",
       "        vertical-align: top;\n",
       "    }\n",
       "\n",
       "    .dataframe thead th {\n",
       "        text-align: right;\n",
       "    }\n",
       "</style>\n",
       "<table border=\"1\" class=\"dataframe\">\n",
       "  <thead>\n",
       "    <tr style=\"text-align: right;\">\n",
       "      <th></th>\n",
       "      <th>col</th>\n",
       "      <th>min</th>\n",
       "      <th>max</th>\n",
       "      <th>data_type</th>\n",
       "      <th>type</th>\n",
       "    </tr>\n",
       "  </thead>\n",
       "  <tbody>\n",
       "    <tr>\n",
       "      <th>0</th>\n",
       "      <td>SEX</td>\n",
       "      <td>NaN</td>\n",
       "      <td>NaN</td>\n",
       "      <td>str</td>\n",
       "      <td>continuous</td>\n",
       "    </tr>\n",
       "    <tr>\n",
       "      <th>1</th>\n",
       "      <td>EDUCATION</td>\n",
       "      <td>NaN</td>\n",
       "      <td>NaN</td>\n",
       "      <td>str</td>\n",
       "      <td>continuous</td>\n",
       "    </tr>\n",
       "    <tr>\n",
       "      <th>2</th>\n",
       "      <td>BILL_AMT1</td>\n",
       "      <td>-165580.0</td>\n",
       "      <td>964511.0</td>\n",
       "      <td>int</td>\n",
       "      <td>continuous</td>\n",
       "    </tr>\n",
       "    <tr>\n",
       "      <th>3</th>\n",
       "      <td>BILL_AMT2</td>\n",
       "      <td>-69777.0</td>\n",
       "      <td>983931.0</td>\n",
       "      <td>int</td>\n",
       "      <td>continuous</td>\n",
       "    </tr>\n",
       "    <tr>\n",
       "      <th>4</th>\n",
       "      <td>BILL_AMT3</td>\n",
       "      <td>-157264.0</td>\n",
       "      <td>1664089.0</td>\n",
       "      <td>int</td>\n",
       "      <td>continuous</td>\n",
       "    </tr>\n",
       "    <tr>\n",
       "      <th>5</th>\n",
       "      <td>BILL_AMT4</td>\n",
       "      <td>-170000.0</td>\n",
       "      <td>891586.0</td>\n",
       "      <td>int</td>\n",
       "      <td>continuous</td>\n",
       "    </tr>\n",
       "    <tr>\n",
       "      <th>6</th>\n",
       "      <td>BILL_AMT5</td>\n",
       "      <td>-81334.0</td>\n",
       "      <td>927171.0</td>\n",
       "      <td>int</td>\n",
       "      <td>continuous</td>\n",
       "    </tr>\n",
       "    <tr>\n",
       "      <th>7</th>\n",
       "      <td>BILL_AMT6</td>\n",
       "      <td>-339603.0</td>\n",
       "      <td>961664.0</td>\n",
       "      <td>int</td>\n",
       "      <td>continuous</td>\n",
       "    </tr>\n",
       "  </tbody>\n",
       "</table>\n",
       "</div>"
      ],
      "text/plain": [
       "         col       min        max data_type        type\n",
       "0        SEX       NaN        NaN       str  continuous\n",
       "1  EDUCATION       NaN        NaN       str  continuous\n",
       "2  BILL_AMT1 -165580.0   964511.0       int  continuous\n",
       "3  BILL_AMT2  -69777.0   983931.0       int  continuous\n",
       "4  BILL_AMT3 -157264.0  1664089.0       int  continuous\n",
       "5  BILL_AMT4 -170000.0   891586.0       int  continuous\n",
       "6  BILL_AMT5  -81334.0   927171.0       int  continuous\n",
       "7  BILL_AMT6 -339603.0   961664.0       int  continuous"
      ]
     },
     "execution_count": 170,
     "metadata": {},
     "output_type": "execute_result"
    }
   ],
   "source": [
    "# 特徴量のデータタイプ指定（'continuous', 'discrete'）\n",
    "# ToDo: Appではカラム別にタイプ指定できるようにする\n",
    "\n",
    "df_domain['type'] = 'continuous'\n",
    "df_domain"
   ]
  },
  {
   "cell_type": "markdown",
   "id": "e34e3ad8",
   "metadata": {},
   "source": [
    "### GPyOptによるベイズ最適化"
   ]
  },
  {
   "cell_type": "markdown",
   "id": "0fb3079d",
   "metadata": {},
   "source": [
    "#### GPyOpt.methods.bayesian_optimization.BayesianOptimization\n",
    "- Main class to initialize a Bayesian Optimization method\n",
    "- https://gpyopt.readthedocs.io/en/latest/GPyOpt.methods.html#GPyOpt.methods.bayesian_optimization.BayesianOptimization"
   ]
  },
  {
   "cell_type": "code",
   "execution_count": 171,
   "id": "7680de5c",
   "metadata": {},
   "outputs": [
    {
     "name": "stdout",
     "output_type": "stream",
     "text": [
      "['SEX', 'EDUCATION', 'BILL_AMT1', 'BILL_AMT2', 'BILL_AMT3', 'BILL_AMT4', 'BILL_AMT5', 'BILL_AMT6']\n"
     ]
    }
   ],
   "source": [
    "# 目的関数（スコアリング用関数）\n",
    "# daimodel(x)が最小、もしくは最大となるxを計算したい\n",
    "\n",
    "print(col_show)\n",
    "\n",
    "def daimodel(x):\n",
    "    ''' col_show（学習に使われたカラム名のリスト）が必要\n",
    "    '''\n",
    "    # スコアリングデータの作成\n",
    "    df = pd.DataFrame(np.array([x[:,i] for i in range(len(col_show))]).reshape(1, len(col_show)), columns=col_show)\n",
    "    #print(df)\n",
    "    df.to_csv('tmp_pred.csv', index=False)\n",
    "    # スコアリングデータをDAIへアップロード\n",
    "    data_to_predict = dai.datasets.create(data='./tmp_pred.csv', data_source='upload', name='tmp_pred.csv', force=True)\n",
    "    # 予測\n",
    "    dai_predictions = experiment.predict(dataset=data_to_predict, include_columns=data_to_predict.columns)\n",
    "    # スコアリングデータの削除\n",
    "    data_to_predict.delete()\n",
    "    # クライアント実行ディレクトリ上にダウンロード\n",
    "    dai_predictions.download(dst_dir='', dst_file='tmp_res.csv', overwrite=True)    # tmp_res.csvとしてダウンロード\n",
    "    df_res = pd.read_csv('tmp_res.csv')\n",
    "    print('---------- Done ----------')\n",
    "    # 予測結果（ターゲット変数のみ）をnp.arrayで返す\n",
    "    return np.array(df_res[experiment.settings['target_column']])"
   ]
  },
  {
   "cell_type": "code",
   "execution_count": 172,
   "id": "5b3d134f",
   "metadata": {},
   "outputs": [
    {
     "data": {
      "text/plain": [
       "[{'name': 'SEX', 'type': 'continuous', 'domain': (nan, nan)},\n",
       " {'name': 'EDUCATION', 'type': 'continuous', 'domain': (nan, nan)},\n",
       " {'name': 'BILL_AMT1', 'type': 'continuous', 'domain': (-165580.0, 964511.0)},\n",
       " {'name': 'BILL_AMT2', 'type': 'continuous', 'domain': (-69777.0, 983931.0)},\n",
       " {'name': 'BILL_AMT3', 'type': 'continuous', 'domain': (-157264.0, 1664089.0)},\n",
       " {'name': 'BILL_AMT4', 'type': 'continuous', 'domain': (-170000.0, 891586.0)},\n",
       " {'name': 'BILL_AMT5', 'type': 'continuous', 'domain': (-81334.0, 927171.0)},\n",
       " {'name': 'BILL_AMT6', 'type': 'continuous', 'domain': (-339603.0, 961664.0)}]"
      ]
     },
     "execution_count": 172,
     "metadata": {},
     "output_type": "execute_result"
    }
   ],
   "source": [
    "# 各変数の情報。domeinは入力の定義域（学習データの[最小値,最大値]と設定）\n",
    "bounds = [{'name':row['col'], 'type':row['type'], 'domain':(row['min'],row['max'])} for _, row in df_domain.iterrows()]\n",
    "bounds"
   ]
  },
  {
   "cell_type": "code",
   "execution_count": 173,
   "id": "96dc2304",
   "metadata": {},
   "outputs": [
    {
     "data": {
      "text/plain": [
       "[{'name': 'SEX', 'type': 'continuous', 'domain': (0.01239, 0.01239)},\n",
       " {'name': 'EDUCATION', 'type': 'continuous', 'domain': (0.01239, 0.01239)},\n",
       " {'name': 'BILL_AMT1', 'type': 'continuous', 'domain': (-165580.0, 964511.0)},\n",
       " {'name': 'BILL_AMT2', 'type': 'continuous', 'domain': (-69777.0, 983931.0)},\n",
       " {'name': 'BILL_AMT3', 'type': 'continuous', 'domain': (-157264.0, 1664089.0)},\n",
       " {'name': 'BILL_AMT4', 'type': 'continuous', 'domain': (-170000.0, 891586.0)},\n",
       " {'name': 'BILL_AMT5', 'type': 'continuous', 'domain': (-81334.0, 927171.0)},\n",
       " {'name': 'BILL_AMT6', 'type': 'continuous', 'domain': (-339603.0, 961664.0)}]"
      ]
     },
     "execution_count": 173,
     "metadata": {},
     "output_type": "execute_result"
    }
   ],
   "source": [
    "# カテゴリ型の置き換え\n",
    "\n",
    "for i in range(len(bounds)):\n",
    "    if bounds[i]['name'] in cat_cols:\n",
    "        bounds[i]['domain'] = (0.01239, 0.01239)      # 0.01239に置き換える（たまたま一致してしまいそうにない数値）\n",
    "\n",
    "bounds\n",
    "\n",
    "# Driverless AIでスコアリングする際、カラム自体は含めておく必要がある\n",
    "# 値を0.01239に固定し（学習データのカテゴリカルカラムに入っていない想定）、Driverless AIでスコアリング\n",
    "# 学習データに入っていない値は欠損としてスコアリングされる"
   ]
  },
  {
   "cell_type": "code",
   "execution_count": 174,
   "id": "58f5df77",
   "metadata": {
    "scrolled": false
   },
   "outputs": [
    {
     "name": "stdout",
     "output_type": "stream",
     "text": [
      "Complete 100.00% - [4/4] Computed stats for column BILL_AMT6\n",
      "Complete\n",
      "Driverless AI Server reported dataset b523c63a-ffc5-11eb-9071-0242ac110002 deleted.\n",
      "Downloaded 'tmp_res.csv'\n",
      "---------- Done ----------\n",
      "Complete 100.00% - [4/4] Computed stats for column BILL_AMT6\n",
      "Complete\n",
      "Driverless AI Server reported dataset ba849898-ffc5-11eb-9071-0242ac110002 deleted.\n",
      "Downloaded 'tmp_res.csv'\n",
      "---------- Done ----------\n",
      "Complete 100.00% - [4/4] Computed stats for column BILL_AMT6\n",
      "Complete\n",
      "Driverless AI Server reported dataset bf8edf4c-ffc5-11eb-9071-0242ac110002 deleted.\n",
      "Downloaded 'tmp_res.csv'\n",
      "---------- Done ----------\n",
      "Complete 100.00% - [4/4] Computed stats for column BILL_AMT6\n",
      "Complete\n",
      "Driverless AI Server reported dataset c4e5b902-ffc5-11eb-9071-0242ac110002 deleted.\n",
      "Downloaded 'tmp_res.csv'\n",
      "---------- Done ----------\n",
      "Complete 100.00% - [4/4] Computed stats for column BILL_AMT6\n",
      "Complete\n",
      "Driverless AI Server reported dataset c9821b04-ffc5-11eb-9071-0242ac110002 deleted.\n",
      "Downloaded 'tmp_res.csv'\n",
      "---------- Done ----------\n",
      "Complete 100.00% - [4/4] Computed stats for column BILL_AMT6\n",
      "Complete\n",
      "Driverless AI Server reported dataset cea41b96-ffc5-11eb-9071-0242ac110002 deleted.\n",
      "Downloaded 'tmp_res.csv'\n",
      "---------- Done ----------\n",
      "Complete 100.00% - [4/4] Computed stats for column BILL_AMT6\n",
      "Complete\n",
      "Driverless AI Server reported dataset d3c0ed7a-ffc5-11eb-9071-0242ac110002 deleted.\n",
      "Downloaded 'tmp_res.csv'\n",
      "---------- Done ----------\n",
      "Complete 100.00% - [4/4] Computed stats for column BILL_AMT6\n",
      "Complete\n",
      "Driverless AI Server reported dataset d8e6bcc6-ffc5-11eb-9071-0242ac110002 deleted.\n",
      "Downloaded 'tmp_res.csv'\n",
      "---------- Done ----------\n"
     ]
    }
   ],
   "source": [
    "# ベイズ最適化関数の定義と最適化の実施\n",
    "myBopt = BayesianOptimization(f=daimodel, \n",
    "                              domain=bounds, \n",
    "                              acquisition_type='EI',    # 'EI', 'MPI', 'LCB'\n",
    "                              # ToDo: constraints\n",
    "                              constraints=None, \n",
    "                              maximize=True)  # maximize=True：最大化問題（-fを最小化）\n",
    "myBopt.run_optimization(max_iter=3, max_time=600)"
   ]
  },
  {
   "cell_type": "code",
   "execution_count": 175,
   "id": "1d1dd769",
   "metadata": {},
   "outputs": [
    {
     "data": {
      "text/plain": [
       "array([1.23900000e-02, 1.23900000e-02, 5.04913030e+05, 1.58440548e+05,\n",
       "       7.38342762e+05, 3.29799898e+05, 2.09258851e+05, 3.12047201e+05])"
      ]
     },
     "execution_count": 175,
     "metadata": {},
     "output_type": "execute_result"
    }
   ],
   "source": [
    "# 結果（xの最適解）\n",
    "myBopt.x_opt"
   ]
  },
  {
   "cell_type": "code",
   "execution_count": 176,
   "id": "dd5ee927",
   "metadata": {},
   "outputs": [
    {
     "data": {
      "text/html": [
       "<div>\n",
       "<style scoped>\n",
       "    .dataframe tbody tr th:only-of-type {\n",
       "        vertical-align: middle;\n",
       "    }\n",
       "\n",
       "    .dataframe tbody tr th {\n",
       "        vertical-align: top;\n",
       "    }\n",
       "\n",
       "    .dataframe thead th {\n",
       "        text-align: right;\n",
       "    }\n",
       "</style>\n",
       "<table border=\"1\" class=\"dataframe\">\n",
       "  <thead>\n",
       "    <tr style=\"text-align: right;\">\n",
       "      <th></th>\n",
       "      <th>SEX</th>\n",
       "      <th>EDUCATION</th>\n",
       "      <th>BILL_AMT1</th>\n",
       "      <th>BILL_AMT2</th>\n",
       "      <th>BILL_AMT3</th>\n",
       "      <th>BILL_AMT4</th>\n",
       "      <th>BILL_AMT5</th>\n",
       "      <th>BILL_AMT6</th>\n",
       "    </tr>\n",
       "  </thead>\n",
       "  <tbody>\n",
       "    <tr>\n",
       "      <th>0</th>\n",
       "      <td>0.01239</td>\n",
       "      <td>0.01239</td>\n",
       "      <td>504913.029574</td>\n",
       "      <td>158440.548451</td>\n",
       "      <td>738342.762408</td>\n",
       "      <td>329799.897517</td>\n",
       "      <td>209258.851417</td>\n",
       "      <td>312047.20094</td>\n",
       "    </tr>\n",
       "  </tbody>\n",
       "</table>\n",
       "</div>"
      ],
      "text/plain": [
       "       SEX  EDUCATION      BILL_AMT1      BILL_AMT2      BILL_AMT3  \\\n",
       "0  0.01239    0.01239  504913.029574  158440.548451  738342.762408   \n",
       "\n",
       "       BILL_AMT4      BILL_AMT5     BILL_AMT6  \n",
       "0  329799.897517  209258.851417  312047.20094  "
      ]
     },
     "execution_count": 176,
     "metadata": {},
     "output_type": "execute_result"
    }
   ],
   "source": [
    "result_x_opt = pd.DataFrame(myBopt.x_opt.reshape(1,len(col_show)), columns=col_show)\n",
    "result_x_opt"
   ]
  },
  {
   "cell_type": "code",
   "execution_count": 177,
   "id": "2d3e3bd5",
   "metadata": {},
   "outputs": [
    {
     "data": {
      "text/html": [
       "<div>\n",
       "<style scoped>\n",
       "    .dataframe tbody tr th:only-of-type {\n",
       "        vertical-align: middle;\n",
       "    }\n",
       "\n",
       "    .dataframe tbody tr th {\n",
       "        vertical-align: top;\n",
       "    }\n",
       "\n",
       "    .dataframe thead th {\n",
       "        text-align: right;\n",
       "    }\n",
       "</style>\n",
       "<table border=\"1\" class=\"dataframe\">\n",
       "  <thead>\n",
       "    <tr style=\"text-align: right;\">\n",
       "      <th></th>\n",
       "      <th>SEX</th>\n",
       "      <th>EDUCATION</th>\n",
       "      <th>BILL_AMT1</th>\n",
       "      <th>BILL_AMT2</th>\n",
       "      <th>BILL_AMT3</th>\n",
       "      <th>BILL_AMT4</th>\n",
       "      <th>BILL_AMT5</th>\n",
       "      <th>BILL_AMT6</th>\n",
       "    </tr>\n",
       "  </thead>\n",
       "  <tbody>\n",
       "    <tr>\n",
       "      <th>0</th>\n",
       "      <td>NaN</td>\n",
       "      <td>NaN</td>\n",
       "      <td>504913.029574</td>\n",
       "      <td>158440.548451</td>\n",
       "      <td>738342.762408</td>\n",
       "      <td>329799.897517</td>\n",
       "      <td>209258.851417</td>\n",
       "      <td>312047.20094</td>\n",
       "    </tr>\n",
       "  </tbody>\n",
       "</table>\n",
       "</div>"
      ],
      "text/plain": [
       "   SEX  EDUCATION      BILL_AMT1      BILL_AMT2      BILL_AMT3      BILL_AMT4  \\\n",
       "0  NaN        NaN  504913.029574  158440.548451  738342.762408  329799.897517   \n",
       "\n",
       "       BILL_AMT5     BILL_AMT6  \n",
       "0  209258.851417  312047.20094  "
      ]
     },
     "execution_count": 177,
     "metadata": {},
     "output_type": "execute_result"
    }
   ],
   "source": [
    "# カテゴリカル変数をNaNに置き換え\n",
    "for col in result_x_opt.columns:\n",
    "    if col in cat_cols:\n",
    "        result_x_opt[col] = np.nan\n",
    "\n",
    "result_x_opt"
   ]
  },
  {
   "cell_type": "code",
   "execution_count": 178,
   "id": "61406949",
   "metadata": {},
   "outputs": [
    {
     "data": {
      "text/plain": [
       "-591916.25"
      ]
     },
     "execution_count": 178,
     "metadata": {},
     "output_type": "execute_result"
    }
   ],
   "source": [
    "# 最適解xの時の、目的関数の値\n",
    "# 最大化問題として解いたので、-1*myBopt.fx_optが達成した値\n",
    "myBopt.fx_opt"
   ]
  },
  {
   "cell_type": "code",
   "execution_count": 151,
   "id": "4cc161ba",
   "metadata": {},
   "outputs": [
    {
     "data": {
      "image/png": "[encoded data removed]",
      "text/plain": [
       "<Figure size 720x360 with 2 Axes>"
      ]
     },
     "metadata": {
      "needs_background": "light"
     },
     "output_type": "display_data"
    }
   ],
   "source": [
    "# 最適化履歴\n",
    "myBopt.plot_convergence()"
   ]
  },
  {
   "cell_type": "code",
   "execution_count": 152,
   "id": "8913674e",
   "metadata": {},
   "outputs": [
    {
     "name": "stdout",
     "output_type": "stream",
     "text": [
      "<class 'numpy.ndarray'>\n",
      "(13, 13)\n",
      "<class 'numpy.ndarray'>\n",
      "(13, 1)\n"
     ]
    }
   ],
   "source": [
    "# 途中計算されたインプットとアウトプット\n",
    "#print(myBopt.X)\n",
    "print(type(myBopt.X))\n",
    "print(myBopt.X.shape)\n",
    "#print(myBopt.Y)\n",
    "print(type(myBopt.Y))\n",
    "print(myBopt.Y.shape)"
   ]
  },
  {
   "cell_type": "code",
   "execution_count": 60,
   "id": "6314ba04",
   "metadata": {},
   "outputs": [],
   "source": [
    "#myBopt.model.model "
   ]
  },
  {
   "cell_type": "code",
   "execution_count": null,
   "id": "fe6e94b2",
   "metadata": {},
   "outputs": [],
   "source": []
  }
 ],
 "metadata": {
  "kernelspec": {
   "display_name": "Python 3",
   "language": "python",
   "name": "python3"
  },
  "language_info": {
   "codemirror_mode": {
    "name": "ipython",
    "version": 3
   },
   "file_extension": ".py",
   "mimetype": "text/x-python",
   "name": "python",
   "nbconvert_exporter": "python",
   "pygments_lexer": "ipython3",
   "version": "3.8.3"
  }
 },
 "nbformat": 4,
 "nbformat_minor": 5
}
