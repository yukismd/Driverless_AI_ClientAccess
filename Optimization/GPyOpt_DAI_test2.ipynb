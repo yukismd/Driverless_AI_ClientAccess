{
 "cells": [
  {
   "cell_type": "markdown",
   "id": "b74eaf72",
   "metadata": {},
   "source": [
    "## 【検証】Driverless AIのスコアリング機能を目的関数とした、GPyOptによるベイズ最適化\n",
    "- あるDriverless AIの学習済みモデルにおいて、ターゲット変数yを最小化/最大化する、特徴量Xを計算したい"
   ]
  },
  {
   "cell_type": "markdown",
   "id": "fc7dda52",
   "metadata": {},
   "source": [
    "[2021/6/20] App実装検証用に修正"
   ]
  },
  {
   "cell_type": "code",
   "execution_count": 1,
   "id": "797d8a98",
   "metadata": {},
   "outputs": [],
   "source": [
    "from GPyOpt.methods import BayesianOptimization\n",
    "import os\n",
    "import driverlessai\n",
    "import pandas as pd\n",
    "import numpy as np"
   ]
  },
  {
   "cell_type": "markdown",
   "id": "08f7c061",
   "metadata": {},
   "source": [
    "### 学習データ\n",
    "データはDriverless AIへアップロード済みだが、データ理解のため"
   ]
  },
  {
   "cell_type": "code",
   "execution_count": 2,
   "id": "43bd2605",
   "metadata": {},
   "outputs": [
    {
     "name": "stdout",
     "output_type": "stream",
     "text": [
      "(506, 14)\n"
     ]
    },
    {
     "data": {
      "text/html": [
       "<div>\n",
       "<style scoped>\n",
       "    .dataframe tbody tr th:only-of-type {\n",
       "        vertical-align: middle;\n",
       "    }\n",
       "\n",
       "    .dataframe tbody tr th {\n",
       "        vertical-align: top;\n",
       "    }\n",
       "\n",
       "    .dataframe thead th {\n",
       "        text-align: right;\n",
       "    }\n",
       "</style>\n",
       "<table border=\"1\" class=\"dataframe\">\n",
       "  <thead>\n",
       "    <tr style=\"text-align: right;\">\n",
       "      <th></th>\n",
       "      <th>CRIM</th>\n",
       "      <th>ZN</th>\n",
       "      <th>INDUS</th>\n",
       "      <th>CHAS</th>\n",
       "      <th>NOX</th>\n",
       "      <th>RM</th>\n",
       "      <th>AGE</th>\n",
       "      <th>DIS</th>\n",
       "      <th>RAD</th>\n",
       "      <th>TAX</th>\n",
       "      <th>PTRATIO</th>\n",
       "      <th>B</th>\n",
       "      <th>LSTAT</th>\n",
       "      <th>MEDV</th>\n",
       "    </tr>\n",
       "  </thead>\n",
       "  <tbody>\n",
       "    <tr>\n",
       "      <th>0</th>\n",
       "      <td>0.00632</td>\n",
       "      <td>18.0</td>\n",
       "      <td>2.31</td>\n",
       "      <td>0.0</td>\n",
       "      <td>0.538</td>\n",
       "      <td>6.575</td>\n",
       "      <td>65.2</td>\n",
       "      <td>4.0900</td>\n",
       "      <td>1.0</td>\n",
       "      <td>296.0</td>\n",
       "      <td>15.3</td>\n",
       "      <td>396.90</td>\n",
       "      <td>4.98</td>\n",
       "      <td>24.0</td>\n",
       "    </tr>\n",
       "    <tr>\n",
       "      <th>1</th>\n",
       "      <td>0.02731</td>\n",
       "      <td>0.0</td>\n",
       "      <td>7.07</td>\n",
       "      <td>0.0</td>\n",
       "      <td>0.469</td>\n",
       "      <td>6.421</td>\n",
       "      <td>78.9</td>\n",
       "      <td>4.9671</td>\n",
       "      <td>2.0</td>\n",
       "      <td>242.0</td>\n",
       "      <td>17.8</td>\n",
       "      <td>396.90</td>\n",
       "      <td>9.14</td>\n",
       "      <td>21.6</td>\n",
       "    </tr>\n",
       "    <tr>\n",
       "      <th>2</th>\n",
       "      <td>0.02729</td>\n",
       "      <td>0.0</td>\n",
       "      <td>7.07</td>\n",
       "      <td>0.0</td>\n",
       "      <td>0.469</td>\n",
       "      <td>7.185</td>\n",
       "      <td>61.1</td>\n",
       "      <td>4.9671</td>\n",
       "      <td>2.0</td>\n",
       "      <td>242.0</td>\n",
       "      <td>17.8</td>\n",
       "      <td>392.83</td>\n",
       "      <td>4.03</td>\n",
       "      <td>34.7</td>\n",
       "    </tr>\n",
       "    <tr>\n",
       "      <th>3</th>\n",
       "      <td>0.03237</td>\n",
       "      <td>0.0</td>\n",
       "      <td>2.18</td>\n",
       "      <td>0.0</td>\n",
       "      <td>0.458</td>\n",
       "      <td>6.998</td>\n",
       "      <td>45.8</td>\n",
       "      <td>6.0622</td>\n",
       "      <td>3.0</td>\n",
       "      <td>222.0</td>\n",
       "      <td>18.7</td>\n",
       "      <td>394.63</td>\n",
       "      <td>2.94</td>\n",
       "      <td>33.4</td>\n",
       "    </tr>\n",
       "    <tr>\n",
       "      <th>4</th>\n",
       "      <td>0.06905</td>\n",
       "      <td>0.0</td>\n",
       "      <td>2.18</td>\n",
       "      <td>0.0</td>\n",
       "      <td>0.458</td>\n",
       "      <td>7.147</td>\n",
       "      <td>54.2</td>\n",
       "      <td>6.0622</td>\n",
       "      <td>3.0</td>\n",
       "      <td>222.0</td>\n",
       "      <td>18.7</td>\n",
       "      <td>396.90</td>\n",
       "      <td>5.33</td>\n",
       "      <td>36.2</td>\n",
       "    </tr>\n",
       "  </tbody>\n",
       "</table>\n",
       "</div>"
      ],
      "text/plain": [
       "      CRIM    ZN  INDUS  CHAS    NOX     RM   AGE     DIS  RAD    TAX  \\\n",
       "0  0.00632  18.0   2.31   0.0  0.538  6.575  65.2  4.0900  1.0  296.0   \n",
       "1  0.02731   0.0   7.07   0.0  0.469  6.421  78.9  4.9671  2.0  242.0   \n",
       "2  0.02729   0.0   7.07   0.0  0.469  7.185  61.1  4.9671  2.0  242.0   \n",
       "3  0.03237   0.0   2.18   0.0  0.458  6.998  45.8  6.0622  3.0  222.0   \n",
       "4  0.06905   0.0   2.18   0.0  0.458  7.147  54.2  6.0622  3.0  222.0   \n",
       "\n",
       "   PTRATIO       B  LSTAT  MEDV  \n",
       "0     15.3  396.90   4.98  24.0  \n",
       "1     17.8  396.90   9.14  21.6  \n",
       "2     17.8  392.83   4.03  34.7  \n",
       "3     18.7  394.63   2.94  33.4  \n",
       "4     18.7  396.90   5.33  36.2  "
      ]
     },
     "execution_count": 2,
     "metadata": {},
     "output_type": "execute_result"
    }
   ],
   "source": [
    "data_name = os.path.join(os.environ['HOME'], 'Documents/Sample_Data/Boston_Housing/BostonHousing.csv')\n",
    "df_tmp = pd.read_csv(data_name)\n",
    "print(df_tmp.shape)\n",
    "df_tmp.head()"
   ]
  },
  {
   "cell_type": "markdown",
   "id": "ac892f00",
   "metadata": {},
   "source": [
    "[The Boston Housing Dataset](https://www.cs.toronto.edu/~delve/data/boston/bostonDetail.html)"
   ]
  },
  {
   "cell_type": "code",
   "execution_count": 3,
   "id": "200b54ac",
   "metadata": {},
   "outputs": [
    {
     "data": {
      "text/html": [
       "<div>\n",
       "<style scoped>\n",
       "    .dataframe tbody tr th:only-of-type {\n",
       "        vertical-align: middle;\n",
       "    }\n",
       "\n",
       "    .dataframe tbody tr th {\n",
       "        vertical-align: top;\n",
       "    }\n",
       "\n",
       "    .dataframe thead th {\n",
       "        text-align: right;\n",
       "    }\n",
       "</style>\n",
       "<table border=\"1\" class=\"dataframe\">\n",
       "  <thead>\n",
       "    <tr style=\"text-align: right;\">\n",
       "      <th></th>\n",
       "      <th>CRIM</th>\n",
       "      <th>ZN</th>\n",
       "      <th>INDUS</th>\n",
       "      <th>CHAS</th>\n",
       "      <th>NOX</th>\n",
       "      <th>RM</th>\n",
       "      <th>AGE</th>\n",
       "      <th>DIS</th>\n",
       "      <th>RAD</th>\n",
       "      <th>TAX</th>\n",
       "      <th>PTRATIO</th>\n",
       "      <th>B</th>\n",
       "      <th>LSTAT</th>\n",
       "      <th>MEDV</th>\n",
       "    </tr>\n",
       "  </thead>\n",
       "  <tbody>\n",
       "    <tr>\n",
       "      <th>count</th>\n",
       "      <td>506.000000</td>\n",
       "      <td>506.000000</td>\n",
       "      <td>506.000000</td>\n",
       "      <td>506.000000</td>\n",
       "      <td>506.000000</td>\n",
       "      <td>506.000000</td>\n",
       "      <td>506.000000</td>\n",
       "      <td>506.000000</td>\n",
       "      <td>506.000000</td>\n",
       "      <td>506.000000</td>\n",
       "      <td>506.000000</td>\n",
       "      <td>506.000000</td>\n",
       "      <td>506.000000</td>\n",
       "      <td>506.000000</td>\n",
       "    </tr>\n",
       "    <tr>\n",
       "      <th>mean</th>\n",
       "      <td>3.613524</td>\n",
       "      <td>11.363636</td>\n",
       "      <td>11.136779</td>\n",
       "      <td>0.069170</td>\n",
       "      <td>0.554695</td>\n",
       "      <td>6.284634</td>\n",
       "      <td>68.574901</td>\n",
       "      <td>3.795043</td>\n",
       "      <td>9.549407</td>\n",
       "      <td>408.237154</td>\n",
       "      <td>18.455534</td>\n",
       "      <td>356.674032</td>\n",
       "      <td>12.653063</td>\n",
       "      <td>22.532806</td>\n",
       "    </tr>\n",
       "    <tr>\n",
       "      <th>std</th>\n",
       "      <td>8.601545</td>\n",
       "      <td>23.322453</td>\n",
       "      <td>6.860353</td>\n",
       "      <td>0.253994</td>\n",
       "      <td>0.115878</td>\n",
       "      <td>0.702617</td>\n",
       "      <td>28.148861</td>\n",
       "      <td>2.105710</td>\n",
       "      <td>8.707259</td>\n",
       "      <td>168.537116</td>\n",
       "      <td>2.164946</td>\n",
       "      <td>91.294864</td>\n",
       "      <td>7.141062</td>\n",
       "      <td>9.197104</td>\n",
       "    </tr>\n",
       "    <tr>\n",
       "      <th>min</th>\n",
       "      <td>0.006320</td>\n",
       "      <td>0.000000</td>\n",
       "      <td>0.460000</td>\n",
       "      <td>0.000000</td>\n",
       "      <td>0.385000</td>\n",
       "      <td>3.561000</td>\n",
       "      <td>2.900000</td>\n",
       "      <td>1.129600</td>\n",
       "      <td>1.000000</td>\n",
       "      <td>187.000000</td>\n",
       "      <td>12.600000</td>\n",
       "      <td>0.320000</td>\n",
       "      <td>1.730000</td>\n",
       "      <td>5.000000</td>\n",
       "    </tr>\n",
       "    <tr>\n",
       "      <th>25%</th>\n",
       "      <td>0.082045</td>\n",
       "      <td>0.000000</td>\n",
       "      <td>5.190000</td>\n",
       "      <td>0.000000</td>\n",
       "      <td>0.449000</td>\n",
       "      <td>5.885500</td>\n",
       "      <td>45.025000</td>\n",
       "      <td>2.100175</td>\n",
       "      <td>4.000000</td>\n",
       "      <td>279.000000</td>\n",
       "      <td>17.400000</td>\n",
       "      <td>375.377500</td>\n",
       "      <td>6.950000</td>\n",
       "      <td>17.025000</td>\n",
       "    </tr>\n",
       "    <tr>\n",
       "      <th>50%</th>\n",
       "      <td>0.256510</td>\n",
       "      <td>0.000000</td>\n",
       "      <td>9.690000</td>\n",
       "      <td>0.000000</td>\n",
       "      <td>0.538000</td>\n",
       "      <td>6.208500</td>\n",
       "      <td>77.500000</td>\n",
       "      <td>3.207450</td>\n",
       "      <td>5.000000</td>\n",
       "      <td>330.000000</td>\n",
       "      <td>19.050000</td>\n",
       "      <td>391.440000</td>\n",
       "      <td>11.360000</td>\n",
       "      <td>21.200000</td>\n",
       "    </tr>\n",
       "    <tr>\n",
       "      <th>75%</th>\n",
       "      <td>3.677083</td>\n",
       "      <td>12.500000</td>\n",
       "      <td>18.100000</td>\n",
       "      <td>0.000000</td>\n",
       "      <td>0.624000</td>\n",
       "      <td>6.623500</td>\n",
       "      <td>94.075000</td>\n",
       "      <td>5.188425</td>\n",
       "      <td>24.000000</td>\n",
       "      <td>666.000000</td>\n",
       "      <td>20.200000</td>\n",
       "      <td>396.225000</td>\n",
       "      <td>16.955000</td>\n",
       "      <td>25.000000</td>\n",
       "    </tr>\n",
       "    <tr>\n",
       "      <th>max</th>\n",
       "      <td>88.976200</td>\n",
       "      <td>100.000000</td>\n",
       "      <td>27.740000</td>\n",
       "      <td>1.000000</td>\n",
       "      <td>0.871000</td>\n",
       "      <td>8.780000</td>\n",
       "      <td>100.000000</td>\n",
       "      <td>12.126500</td>\n",
       "      <td>24.000000</td>\n",
       "      <td>711.000000</td>\n",
       "      <td>22.000000</td>\n",
       "      <td>396.900000</td>\n",
       "      <td>37.970000</td>\n",
       "      <td>50.000000</td>\n",
       "    </tr>\n",
       "  </tbody>\n",
       "</table>\n",
       "</div>"
      ],
      "text/plain": [
       "             CRIM          ZN       INDUS        CHAS         NOX          RM  \\\n",
       "count  506.000000  506.000000  506.000000  506.000000  506.000000  506.000000   \n",
       "mean     3.613524   11.363636   11.136779    0.069170    0.554695    6.284634   \n",
       "std      8.601545   23.322453    6.860353    0.253994    0.115878    0.702617   \n",
       "min      0.006320    0.000000    0.460000    0.000000    0.385000    3.561000   \n",
       "25%      0.082045    0.000000    5.190000    0.000000    0.449000    5.885500   \n",
       "50%      0.256510    0.000000    9.690000    0.000000    0.538000    6.208500   \n",
       "75%      3.677083   12.500000   18.100000    0.000000    0.624000    6.623500   \n",
       "max     88.976200  100.000000   27.740000    1.000000    0.871000    8.780000   \n",
       "\n",
       "              AGE         DIS         RAD         TAX     PTRATIO           B  \\\n",
       "count  506.000000  506.000000  506.000000  506.000000  506.000000  506.000000   \n",
       "mean    68.574901    3.795043    9.549407  408.237154   18.455534  356.674032   \n",
       "std     28.148861    2.105710    8.707259  168.537116    2.164946   91.294864   \n",
       "min      2.900000    1.129600    1.000000  187.000000   12.600000    0.320000   \n",
       "25%     45.025000    2.100175    4.000000  279.000000   17.400000  375.377500   \n",
       "50%     77.500000    3.207450    5.000000  330.000000   19.050000  391.440000   \n",
       "75%     94.075000    5.188425   24.000000  666.000000   20.200000  396.225000   \n",
       "max    100.000000   12.126500   24.000000  711.000000   22.000000  396.900000   \n",
       "\n",
       "            LSTAT        MEDV  \n",
       "count  506.000000  506.000000  \n",
       "mean    12.653063   22.532806  \n",
       "std      7.141062    9.197104  \n",
       "min      1.730000    5.000000  \n",
       "25%      6.950000   17.025000  \n",
       "50%     11.360000   21.200000  \n",
       "75%     16.955000   25.000000  \n",
       "max     37.970000   50.000000  "
      ]
     },
     "execution_count": 3,
     "metadata": {},
     "output_type": "execute_result"
    }
   ],
   "source": [
    "df_tmp.describe()"
   ]
  },
  {
   "cell_type": "markdown",
   "id": "6f1ae966",
   "metadata": {},
   "source": [
    "ターゲット変数：MEDV  \n",
    "特徴量：MEDV以外の13変数"
   ]
  },
  {
   "cell_type": "markdown",
   "id": "d0f73939",
   "metadata": {},
   "source": [
    "### Driverless AIへの接続"
   ]
  },
  {
   "cell_type": "code",
   "execution_count": 4,
   "id": "8d4ac88a",
   "metadata": {},
   "outputs": [],
   "source": [
    "import json\n",
    "with open('../idpass.json') as f:\n",
    "    idpass = json.load(f)"
   ]
  },
  {
   "cell_type": "code",
   "execution_count": 5,
   "id": "dfa34732",
   "metadata": {},
   "outputs": [
    {
     "data": {
      "text/plain": [
       "<class 'driverlessai._core.Client'> http://54.209.194.59:12345"
      ]
     },
     "execution_count": 5,
     "metadata": {},
     "output_type": "execute_result"
    }
   ],
   "source": [
    "# Driverless AIサーバーへの接続\n",
    "dai = driverlessai.Client(address='http://54.209.194.59:12345', username=idpass['id'], password=idpass['pass1921_2'])\n",
    "dai"
   ]
  },
  {
   "cell_type": "code",
   "execution_count": 6,
   "id": "1bb639fa",
   "metadata": {},
   "outputs": [
    {
     "data": {
      "text/plain": [
       "    | Type    | Key                                  | Name\n",
       "----+---------+--------------------------------------+---------------------------------\n",
       "  0 | Dataset | da200da0-d16b-11eb-bded-0242ac110002 | tmp_pred.csv\n",
       "  1 | Dataset | a8a489e2-d169-11eb-bded-0242ac110002 | tmp_pred.csv\n",
       "  2 | Dataset | 783e4bf8-d169-11eb-bded-0242ac110002 | tmp_pred.csv\n",
       "  3 | Dataset | 63ed5e8c-d169-11eb-bded-0242ac110002 | tmp_pred.csv\n",
       "  4 | Dataset | 1ff439bc-d169-11eb-bded-0242ac110002 | tmp_pred.csv\n",
       "  5 | Dataset | 16d59c36-d169-11eb-bded-0242ac110002 | tmp_pred.csv\n",
       "  6 | Dataset | 7020a422-cefb-11eb-88a5-0242ac110002 | BostonHousing_Cate.csv\n",
       "  7 | Dataset | d01699e0-ce51-11eb-869d-0242ac110002 | walmart_ts_6_fcst_grp_test.csv\n",
       "  8 | Dataset | cda6e46c-ce51-11eb-869d-0242ac110002 | walmart_ts_6_fcst_grp_train.csv\n",
       "  9 | Dataset | c94324ee-ce51-11eb-869d-0242ac110002 | AirPassengers.csv\n",
       " 10 | Dataset | 3b5a67c8-c8b1-11eb-a4d7-0242ac110002 | Boston_Test\n",
       " 11 | Dataset | 3b5a3fe6-c8b1-11eb-a4d7-0242ac110002 | Boston_Train\n",
       " 12 | Dataset | 20951d84-c8b1-11eb-a4d7-0242ac110002 | BostonHousing.csv\n",
       " 13 | Dataset | 45a6878e-c7e9-11eb-8705-0242ac110002 | TitanicData2.csv"
      ]
     },
     "execution_count": 6,
     "metadata": {},
     "output_type": "execute_result"
    }
   ],
   "source": [
    "# 接続先Driverless AIのDatasets\n",
    "dai.datasets.list()"
   ]
  },
  {
   "cell_type": "code",
   "execution_count": 7,
   "id": "2b0233bf",
   "metadata": {},
   "outputs": [
    {
     "data": {
      "text/plain": [
       "    | Type       | Key                                  | Name\n",
       "----+------------+--------------------------------------+-----------------\n",
       "  0 | Experiment | 11985ddc-cf00-11eb-88a5-0242ac110002 | 1.fecuficu\n",
       "  1 | Experiment | 838303d4-cefb-11eb-88a5-0242ac110002 | fecuficu\n",
       "  2 | Experiment | 21f08096-ce52-11eb-869d-0242ac110002 | wallmart_1\n",
       "  3 | Experiment | 42f05b12-c9b7-11eb-9503-0242ac110002 | boston\n",
       "  4 | Experiment | 4e4b1c9c-c8b1-11eb-a4d7-0242ac110002 | fapofuvi\n",
       "  5 | Experiment | 6cae13a6-c7e9-11eb-8705-0242ac110002 | titanic_default"
      ]
     },
     "execution_count": 7,
     "metadata": {},
     "output_type": "execute_result"
    }
   ],
   "source": [
    "# 接続先Driverless AIのExperiments\n",
    "dai.experiments.list()"
   ]
  },
  {
   "cell_type": "markdown",
   "id": "794e8574",
   "metadata": {},
   "source": [
    "#### Experiment情報の取得"
   ]
  },
  {
   "cell_type": "code",
   "execution_count": 8,
   "id": "498a178a",
   "metadata": {},
   "outputs": [
    {
     "data": {
      "text/plain": [
       "driverlessai._experiments.Experiment"
      ]
     },
     "execution_count": 8,
     "metadata": {},
     "output_type": "execute_result"
    }
   ],
   "source": [
    "# 利用するExperimentの取得\n",
    "# 目的関数となる予測モデル\n",
    "\n",
    "experiment = dai.experiments.get(key='42f05b12-c9b7-11eb-9503-0242ac110002')\n",
    "type(experiment)"
   ]
  },
  {
   "cell_type": "code",
   "execution_count": 9,
   "id": "dd01aea7",
   "metadata": {},
   "outputs": [
    {
     "data": {
      "text/plain": [
       "{'train_dataset': <class 'Dataset'> 20951d84-c8b1-11eb-a4d7-0242ac110002 BostonHousing.csv,\n",
       " 'validation_dataset': None,\n",
       " 'test_dataset': None}"
      ]
     },
     "execution_count": 9,
     "metadata": {},
     "output_type": "execute_result"
    }
   ],
   "source": [
    "# Experiment作成で利用したデータ\n",
    "experiment.datasets"
   ]
  },
  {
   "cell_type": "code",
   "execution_count": 10,
   "id": "79b0b4ba",
   "metadata": {},
   "outputs": [
    {
     "data": {
      "text/plain": [
       "'20951d84-c8b1-11eb-a4d7-0242ac110002'"
      ]
     },
     "execution_count": 10,
     "metadata": {},
     "output_type": "execute_result"
    }
   ],
   "source": [
    "# 学習データのKey\n",
    "experiment.datasets['train_dataset'].key"
   ]
  },
  {
   "cell_type": "code",
   "execution_count": 11,
   "id": "c0bd2f84",
   "metadata": {},
   "outputs": [
    {
     "data": {
      "text/plain": [
       "'MEDV'"
      ]
     },
     "execution_count": 11,
     "metadata": {},
     "output_type": "execute_result"
    }
   ],
   "source": [
    "# Experimentのターゲットカラム\n",
    "target_col = experiment.settings['target_column']\n",
    "target_col"
   ]
  },
  {
   "cell_type": "code",
   "execution_count": 12,
   "id": "75acfafc",
   "metadata": {},
   "outputs": [
    {
     "data": {
      "text/plain": [
       "[]"
      ]
     },
     "execution_count": 12,
     "metadata": {},
     "output_type": "execute_result"
    }
   ],
   "source": [
    "# droped columns\n",
    "try:\n",
    "    drop_cols = experiment.settings['drop_columns']     # dropカラムがリストで返る\n",
    "except KeyError:\n",
    "    drop_cols = []     # dropしたカラムがない場合\n",
    "\n",
    "drop_cols"
   ]
  },
  {
   "cell_type": "code",
   "execution_count": 13,
   "id": "6694feb8",
   "metadata": {},
   "outputs": [
    {
     "name": "stdout",
     "output_type": "stream",
     "text": [
      "Status: Complete\n",
      "Experiment: nutepuli (42f05b12-c9b7-11eb-9503-0242ac110002)\n",
      "  Version: 1.9.2.1, 2021-06-10 06:52\n",
      "  Settings: 7/2/8, seed=718318666, GPUs disabled\n",
      "  Train data: BostonHousing.csv (506, 14)\n",
      "  Validation data: N/A\n",
      "  Test data: N/A\n",
      "  Target column: MEDV (regression)\n",
      "System specs: Docker/Linux, 31 GB, 8 CPU cores, 0/0 GPU\n",
      "  Max memory usage: 0.758 GB, 0 GB GPU\n",
      "Recipe: AutoDL (38 iterations, 8 individuals)\n",
      "  Validation scheme: random, 6 internal holdouts (3-fold CV)\n",
      "  Feature engineering: 311 features scored (17 selected)\n",
      "Timing: MOJO latency: 0.21310 millis (2.3MB)\n",
      "  Data preparation: 4.59 secs\n",
      "  Shift/Leakage detection: 0.68 secs\n",
      "  Model and feature tuning: 273.23 secs (151 of 210 models trained)\n",
      "  Feature evolution: 143.30 secs (222 of 528 models trained)\n",
      "  Final pipeline training: 10.12 secs (6 models trained)\n",
      "  Python / MOJO scorer building: 38.22 secs / 20.79 secs\n",
      "Validation score: RMSE = 9.188011 (constant preds of 22.53)\n",
      "Validation score: RMSE = 3.675483 +/- 0.2390894 (baseline)\n",
      "Validation score: RMSE = 3.139668 +/- 0.3659943 (final pipeline)\n",
      "Test score:       RMSE = N/A\n"
     ]
    }
   ],
   "source": [
    "# Experiment結果のサマリ\n",
    "experiment.summary()"
   ]
  },
  {
   "cell_type": "markdown",
   "id": "0348c769",
   "metadata": {},
   "source": [
    "#### 学習データ情報の取得"
   ]
  },
  {
   "cell_type": "code",
   "execution_count": 14,
   "id": "51e70d7f",
   "metadata": {},
   "outputs": [
    {
     "data": {
      "text/plain": [
       "<class 'Dataset'> 20951d84-c8b1-11eb-a4d7-0242ac110002 BostonHousing.csv"
      ]
     },
     "execution_count": 14,
     "metadata": {},
     "output_type": "execute_result"
    }
   ],
   "source": [
    "dataset = dai.datasets.get(key=experiment.datasets['train_dataset'].key)\n",
    "dataset"
   ]
  },
  {
   "cell_type": "code",
   "execution_count": 15,
   "id": "12ca23bd",
   "metadata": {},
   "outputs": [
    {
     "data": {
      "text/plain": [
       "['CRIM',\n",
       " 'ZN',\n",
       " 'INDUS',\n",
       " 'CHAS',\n",
       " 'NOX',\n",
       " 'RM',\n",
       " 'AGE',\n",
       " 'DIS',\n",
       " 'RAD',\n",
       " 'TAX',\n",
       " 'PTRATIO',\n",
       " 'B',\n",
       " 'LSTAT',\n",
       " 'MEDV']"
      ]
     },
     "execution_count": 15,
     "metadata": {},
     "output_type": "execute_result"
    }
   ],
   "source": [
    "# 学習データのカラム\n",
    "data_cols = dataset.columns\n",
    "data_cols"
   ]
  },
  {
   "cell_type": "code",
   "execution_count": 16,
   "id": "90b91644",
   "metadata": {},
   "outputs": [
    {
     "data": {
      "text/plain": [
       "['CRIM',\n",
       " 'ZN',\n",
       " 'INDUS',\n",
       " 'CHAS',\n",
       " 'NOX',\n",
       " 'RM',\n",
       " 'AGE',\n",
       " 'DIS',\n",
       " 'RAD',\n",
       " 'TAX',\n",
       " 'PTRATIO',\n",
       " 'B',\n",
       " 'LSTAT']"
      ]
     },
     "execution_count": 16,
     "metadata": {},
     "output_type": "execute_result"
    }
   ],
   "source": [
    "# Experiment作成に用いられた学習データのカラム\n",
    "\n",
    "col_no_show = drop_cols.copy()\n",
    "col_no_show.append(target_col)    # 学習データから除くカラム（ターゲット変数とdropped columns）\n",
    "\n",
    "col_show = []\n",
    "for col in data_cols:\n",
    "    if col in col_no_show: \n",
    "        continue\n",
    "    col_show.append(col)\n",
    "\n",
    "col_show"
   ]
  },
  {
   "cell_type": "code",
   "execution_count": 17,
   "id": "30145fa5",
   "metadata": {},
   "outputs": [
    {
     "data": {
      "text/html": [
       "<div>\n",
       "<style scoped>\n",
       "    .dataframe tbody tr th:only-of-type {\n",
       "        vertical-align: middle;\n",
       "    }\n",
       "\n",
       "    .dataframe tbody tr th {\n",
       "        vertical-align: top;\n",
       "    }\n",
       "\n",
       "    .dataframe thead th {\n",
       "        text-align: right;\n",
       "    }\n",
       "</style>\n",
       "<table border=\"1\" class=\"dataframe\">\n",
       "  <thead>\n",
       "    <tr style=\"text-align: right;\">\n",
       "      <th></th>\n",
       "      <th>col</th>\n",
       "      <th>min</th>\n",
       "      <th>max</th>\n",
       "    </tr>\n",
       "  </thead>\n",
       "  <tbody>\n",
       "    <tr>\n",
       "      <th>0</th>\n",
       "      <td>CRIM</td>\n",
       "      <td>0.00632</td>\n",
       "      <td>88.9762</td>\n",
       "    </tr>\n",
       "    <tr>\n",
       "      <th>1</th>\n",
       "      <td>ZN</td>\n",
       "      <td>0.00000</td>\n",
       "      <td>100.0000</td>\n",
       "    </tr>\n",
       "    <tr>\n",
       "      <th>2</th>\n",
       "      <td>INDUS</td>\n",
       "      <td>0.46000</td>\n",
       "      <td>27.7400</td>\n",
       "    </tr>\n",
       "    <tr>\n",
       "      <th>3</th>\n",
       "      <td>CHAS</td>\n",
       "      <td>0.00000</td>\n",
       "      <td>1.0000</td>\n",
       "    </tr>\n",
       "    <tr>\n",
       "      <th>4</th>\n",
       "      <td>NOX</td>\n",
       "      <td>0.38500</td>\n",
       "      <td>0.8710</td>\n",
       "    </tr>\n",
       "    <tr>\n",
       "      <th>5</th>\n",
       "      <td>RM</td>\n",
       "      <td>3.56100</td>\n",
       "      <td>8.7800</td>\n",
       "    </tr>\n",
       "    <tr>\n",
       "      <th>6</th>\n",
       "      <td>AGE</td>\n",
       "      <td>2.90000</td>\n",
       "      <td>100.0000</td>\n",
       "    </tr>\n",
       "    <tr>\n",
       "      <th>7</th>\n",
       "      <td>DIS</td>\n",
       "      <td>1.12960</td>\n",
       "      <td>12.1265</td>\n",
       "    </tr>\n",
       "    <tr>\n",
       "      <th>8</th>\n",
       "      <td>RAD</td>\n",
       "      <td>1.00000</td>\n",
       "      <td>24.0000</td>\n",
       "    </tr>\n",
       "    <tr>\n",
       "      <th>9</th>\n",
       "      <td>TAX</td>\n",
       "      <td>187.00000</td>\n",
       "      <td>711.0000</td>\n",
       "    </tr>\n",
       "    <tr>\n",
       "      <th>10</th>\n",
       "      <td>PTRATIO</td>\n",
       "      <td>12.60000</td>\n",
       "      <td>22.0000</td>\n",
       "    </tr>\n",
       "    <tr>\n",
       "      <th>11</th>\n",
       "      <td>B</td>\n",
       "      <td>0.32000</td>\n",
       "      <td>396.9000</td>\n",
       "    </tr>\n",
       "    <tr>\n",
       "      <th>12</th>\n",
       "      <td>LSTAT</td>\n",
       "      <td>1.73000</td>\n",
       "      <td>37.9700</td>\n",
       "    </tr>\n",
       "  </tbody>\n",
       "</table>\n",
       "</div>"
      ],
      "text/plain": [
       "        col        min       max\n",
       "0      CRIM    0.00632   88.9762\n",
       "1        ZN    0.00000  100.0000\n",
       "2     INDUS    0.46000   27.7400\n",
       "3      CHAS    0.00000    1.0000\n",
       "4       NOX    0.38500    0.8710\n",
       "5        RM    3.56100    8.7800\n",
       "6       AGE    2.90000  100.0000\n",
       "7       DIS    1.12960   12.1265\n",
       "8       RAD    1.00000   24.0000\n",
       "9       TAX  187.00000  711.0000\n",
       "10  PTRATIO   12.60000   22.0000\n",
       "11        B    0.32000  396.9000\n",
       "12    LSTAT    1.73000   37.9700"
      ]
     },
     "execution_count": 17,
     "metadata": {},
     "output_type": "execute_result"
    }
   ],
   "source": [
    "# Experiment作成に用いられた学習データの特徴量の最小値・最大値\n",
    "\n",
    "min_list = []\n",
    "max_list = []\n",
    "for col in col_show:\n",
    "    min_list.append(dataset.column_summaries()[col].min)\n",
    "    max_list.append(dataset.column_summaries()[col].max)\n",
    "\n",
    "df_domain = pd.DataFrame({'col':col_show, 'min':min_list, 'max':max_list})\n",
    "df_domain"
   ]
  },
  {
   "cell_type": "code",
   "execution_count": 18,
   "id": "5a923f2f",
   "metadata": {},
   "outputs": [
    {
     "data": {
      "text/html": [
       "<div>\n",
       "<style scoped>\n",
       "    .dataframe tbody tr th:only-of-type {\n",
       "        vertical-align: middle;\n",
       "    }\n",
       "\n",
       "    .dataframe tbody tr th {\n",
       "        vertical-align: top;\n",
       "    }\n",
       "\n",
       "    .dataframe thead th {\n",
       "        text-align: right;\n",
       "    }\n",
       "</style>\n",
       "<table border=\"1\" class=\"dataframe\">\n",
       "  <thead>\n",
       "    <tr style=\"text-align: right;\">\n",
       "      <th></th>\n",
       "      <th>col</th>\n",
       "      <th>min</th>\n",
       "      <th>max</th>\n",
       "      <th>type</th>\n",
       "    </tr>\n",
       "  </thead>\n",
       "  <tbody>\n",
       "    <tr>\n",
       "      <th>0</th>\n",
       "      <td>CRIM</td>\n",
       "      <td>0.00632</td>\n",
       "      <td>88.9762</td>\n",
       "      <td>continuous</td>\n",
       "    </tr>\n",
       "    <tr>\n",
       "      <th>1</th>\n",
       "      <td>ZN</td>\n",
       "      <td>0.00000</td>\n",
       "      <td>100.0000</td>\n",
       "      <td>continuous</td>\n",
       "    </tr>\n",
       "    <tr>\n",
       "      <th>2</th>\n",
       "      <td>INDUS</td>\n",
       "      <td>0.46000</td>\n",
       "      <td>27.7400</td>\n",
       "      <td>continuous</td>\n",
       "    </tr>\n",
       "    <tr>\n",
       "      <th>3</th>\n",
       "      <td>CHAS</td>\n",
       "      <td>0.00000</td>\n",
       "      <td>1.0000</td>\n",
       "      <td>continuous</td>\n",
       "    </tr>\n",
       "    <tr>\n",
       "      <th>4</th>\n",
       "      <td>NOX</td>\n",
       "      <td>0.38500</td>\n",
       "      <td>0.8710</td>\n",
       "      <td>continuous</td>\n",
       "    </tr>\n",
       "    <tr>\n",
       "      <th>5</th>\n",
       "      <td>RM</td>\n",
       "      <td>3.56100</td>\n",
       "      <td>8.7800</td>\n",
       "      <td>continuous</td>\n",
       "    </tr>\n",
       "    <tr>\n",
       "      <th>6</th>\n",
       "      <td>AGE</td>\n",
       "      <td>2.90000</td>\n",
       "      <td>100.0000</td>\n",
       "      <td>continuous</td>\n",
       "    </tr>\n",
       "    <tr>\n",
       "      <th>7</th>\n",
       "      <td>DIS</td>\n",
       "      <td>1.12960</td>\n",
       "      <td>12.1265</td>\n",
       "      <td>continuous</td>\n",
       "    </tr>\n",
       "    <tr>\n",
       "      <th>8</th>\n",
       "      <td>RAD</td>\n",
       "      <td>1.00000</td>\n",
       "      <td>24.0000</td>\n",
       "      <td>continuous</td>\n",
       "    </tr>\n",
       "    <tr>\n",
       "      <th>9</th>\n",
       "      <td>TAX</td>\n",
       "      <td>187.00000</td>\n",
       "      <td>711.0000</td>\n",
       "      <td>continuous</td>\n",
       "    </tr>\n",
       "    <tr>\n",
       "      <th>10</th>\n",
       "      <td>PTRATIO</td>\n",
       "      <td>12.60000</td>\n",
       "      <td>22.0000</td>\n",
       "      <td>continuous</td>\n",
       "    </tr>\n",
       "    <tr>\n",
       "      <th>11</th>\n",
       "      <td>B</td>\n",
       "      <td>0.32000</td>\n",
       "      <td>396.9000</td>\n",
       "      <td>continuous</td>\n",
       "    </tr>\n",
       "    <tr>\n",
       "      <th>12</th>\n",
       "      <td>LSTAT</td>\n",
       "      <td>1.73000</td>\n",
       "      <td>37.9700</td>\n",
       "      <td>continuous</td>\n",
       "    </tr>\n",
       "  </tbody>\n",
       "</table>\n",
       "</div>"
      ],
      "text/plain": [
       "        col        min       max        type\n",
       "0      CRIM    0.00632   88.9762  continuous\n",
       "1        ZN    0.00000  100.0000  continuous\n",
       "2     INDUS    0.46000   27.7400  continuous\n",
       "3      CHAS    0.00000    1.0000  continuous\n",
       "4       NOX    0.38500    0.8710  continuous\n",
       "5        RM    3.56100    8.7800  continuous\n",
       "6       AGE    2.90000  100.0000  continuous\n",
       "7       DIS    1.12960   12.1265  continuous\n",
       "8       RAD    1.00000   24.0000  continuous\n",
       "9       TAX  187.00000  711.0000  continuous\n",
       "10  PTRATIO   12.60000   22.0000  continuous\n",
       "11        B    0.32000  396.9000  continuous\n",
       "12    LSTAT    1.73000   37.9700  continuous"
      ]
     },
     "execution_count": 18,
     "metadata": {},
     "output_type": "execute_result"
    }
   ],
   "source": [
    "# 特徴量のデータタイプ指定（'continuous', 'discrete'）\n",
    "# ToDo: 絡むによる指定\n",
    "\n",
    "df_domain['type'] = 'continuous'\n",
    "df_domain"
   ]
  },
  {
   "cell_type": "markdown",
   "id": "e34e3ad8",
   "metadata": {},
   "source": [
    "### GPyOptによるベイズ最適化"
   ]
  },
  {
   "cell_type": "markdown",
   "id": "0fb3079d",
   "metadata": {},
   "source": [
    "#### GPyOpt.methods.bayesian_optimization.BayesianOptimization\n",
    "- Main class to initialize a Bayesian Optimization method\n",
    "- https://gpyopt.readthedocs.io/en/latest/GPyOpt.methods.html#GPyOpt.methods.bayesian_optimization.BayesianOptimization"
   ]
  },
  {
   "cell_type": "code",
   "execution_count": 19,
   "id": "7680de5c",
   "metadata": {},
   "outputs": [],
   "source": [
    "# 目的関数（スコアリング用関数）\n",
    "# daimodel(x)が最小、もしくは最大となるxを計算したい\n",
    "\n",
    "def daimodel(x):\n",
    "    ''' col_show（学習に使われたカラム名のリスト）が必要\n",
    "    '''\n",
    "    # スコアリングデータの作成\n",
    "    df = pd.DataFrame(np.array([x[:,i] for i in range(len(col_show))]).reshape(1, len(col_show)), columns=col_show)\n",
    "    #print(df)\n",
    "    df.to_csv('tmp_pred.csv', index=False)\n",
    "    # スコアリングデータをDAIへアップロード\n",
    "    data_to_predict = dai.datasets.create(data='./tmp_pred.csv', data_source='upload', name='tmp_pred.csv', force=True)\n",
    "    # 予測\n",
    "    dai_predictions = experiment.predict(dataset=data_to_predict, include_columns=data_to_predict.columns)\n",
    "    # スコアリングデータの削除\n",
    "    data_to_predict.delete()\n",
    "    # クライアント実行ディレクトリ上にダウンロード\n",
    "    dai_predictions.download(dst_dir='', dst_file='tmp_res.csv', overwrite=True)    # tmp_res.csvとしてダウンロード\n",
    "    df_res = pd.read_csv('tmp_res.csv')\n",
    "    print('---------- Done ----------')\n",
    "    # 予測結果（ターゲット変数のみ）をnp.arrayで返す\n",
    "    return np.array(df_res[experiment.settings['target_column']])"
   ]
  },
  {
   "cell_type": "code",
   "execution_count": 22,
   "id": "5b3d134f",
   "metadata": {},
   "outputs": [
    {
     "data": {
      "text/plain": [
       "[{'name': 'CRIM', 'type': 'continuous', 'domain': (0.00632, 88.9762)},\n",
       " {'name': 'ZN', 'type': 'continuous', 'domain': (0.0, 100.0)},\n",
       " {'name': 'INDUS', 'type': 'continuous', 'domain': (0.46, 27.74)},\n",
       " {'name': 'CHAS', 'type': 'continuous', 'domain': (0.0, 1.0)},\n",
       " {'name': 'NOX', 'type': 'continuous', 'domain': (0.385, 0.871)},\n",
       " {'name': 'RM', 'type': 'continuous', 'domain': (3.561, 8.78)},\n",
       " {'name': 'AGE', 'type': 'continuous', 'domain': (2.9, 100.0)},\n",
       " {'name': 'DIS', 'type': 'continuous', 'domain': (1.1296, 12.1265)},\n",
       " {'name': 'RAD', 'type': 'continuous', 'domain': (1.0, 24.0)},\n",
       " {'name': 'TAX', 'type': 'continuous', 'domain': (187.0, 711.0)},\n",
       " {'name': 'PTRATIO', 'type': 'continuous', 'domain': (12.6, 22.0)},\n",
       " {'name': 'B', 'type': 'continuous', 'domain': (0.32, 396.9)},\n",
       " {'name': 'LSTAT', 'type': 'continuous', 'domain': (1.73, 37.97)}]"
      ]
     },
     "execution_count": 22,
     "metadata": {},
     "output_type": "execute_result"
    }
   ],
   "source": [
    "# 各変数の情報。domeinは入力の定義域（学習データの[最小値,最大値]と設定）\n",
    "bounds = [{'name':row['col'], 'type':row['type'], 'domain':(row['min'],row['max'])} for _, row in df_domain.iterrows()]\n",
    "bounds"
   ]
  },
  {
   "cell_type": "code",
   "execution_count": 23,
   "id": "58f5df77",
   "metadata": {
    "scrolled": false
   },
   "outputs": [
    {
     "name": "stdout",
     "output_type": "stream",
     "text": [
      "Complete 100.00% - [4/4] Computed stats for column LSTAT\n",
      "Complete\n",
      "Driverless AI Server reported dataset tmp_pred.csv (78a8951e-d16c-11eb-bded-0242ac110002) deleted.\n",
      "Downloaded 'tmp_res.csv'\n",
      "---------- Done ----------\n",
      "Complete 100.00% - [4/4] Computed stats for column LSTAT\n",
      "Complete\n",
      "Driverless AI Server reported dataset tmp_pred.csv (7cc02b80-d16c-11eb-bded-0242ac110002) deleted.\n",
      "Downloaded 'tmp_res.csv'\n",
      "---------- Done ----------\n",
      "Complete 100.00% - [4/4] Computed stats for column LSTAT\n",
      "Complete\n",
      "Driverless AI Server reported dataset tmp_pred.csv (80d6e6dc-d16c-11eb-bded-0242ac110002) deleted.\n",
      "Downloaded 'tmp_res.csv'\n",
      "---------- Done ----------\n",
      "Complete 100.00% - [4/4] Computed stats for column LSTAT\n",
      "Complete\n",
      "Driverless AI Server reported dataset tmp_pred.csv (84ed800a-d16c-11eb-bded-0242ac110002) deleted.\n",
      "Downloaded 'tmp_res.csv'\n",
      "---------- Done ----------\n",
      "Complete 100.00% - [4/4] Computed stats for column LSTAT\n",
      "Complete\n",
      "Driverless AI Server reported dataset tmp_pred.csv (890f6b4e-d16c-11eb-bded-0242ac110002) deleted.\n",
      "Downloaded 'tmp_res.csv'\n",
      "---------- Done ----------\n",
      "Complete 100.00% - [4/4] Computed stats for column LSTAT\n",
      "Complete\n",
      "Driverless AI Server reported dataset tmp_pred.csv (8d36dcb6-d16c-11eb-bded-0242ac110002) deleted.\n",
      "Downloaded 'tmp_res.csv'\n",
      "---------- Done ----------\n",
      "Complete 100.00% - [4/4] Computed stats for column LSTAT\n",
      "Complete\n",
      "Driverless AI Server reported dataset tmp_pred.csv (917a2d3c-d16c-11eb-bded-0242ac110002) deleted.\n",
      "Downloaded 'tmp_res.csv'\n",
      "---------- Done ----------\n",
      "Complete 100.00% - [4/4] Computed stats for column LSTAT\n",
      "Complete\n",
      "Driverless AI Server reported dataset tmp_pred.csv (959ed78c-d16c-11eb-bded-0242ac110002) deleted.\n",
      "Downloaded 'tmp_res.csv'\n",
      "---------- Done ----------\n",
      "Complete 100.00% - [4/4] Computed stats for column LSTAT\n",
      "Complete\n",
      "Driverless AI Server reported dataset tmp_pred.csv (99c62112-d16c-11eb-bded-0242ac110002) deleted.\n",
      "Downloaded 'tmp_res.csv'\n",
      "---------- Done ----------\n",
      "Complete 100.00% - [4/4] Computed stats for column LSTAT\n",
      "Complete\n",
      "Driverless AI Server reported dataset tmp_pred.csv (9de7d330-d16c-11eb-bded-0242ac110002) deleted.\n",
      "Downloaded 'tmp_res.csv'\n",
      "---------- Done ----------\n",
      "Complete 100.00% - [4/4] Computed stats for column LSTAT\n",
      "Complete\n",
      "Driverless AI Server reported dataset tmp_pred.csv (a20bec6c-d16c-11eb-bded-0242ac110002) deleted.\n",
      "Downloaded 'tmp_res.csv'\n",
      "---------- Done ----------\n",
      "Complete 100.00% - [4/4] Computed stats for column LSTAT\n",
      "Complete\n",
      "Driverless AI Server reported dataset tmp_pred.csv (a630265a-d16c-11eb-bded-0242ac110002) deleted.\n",
      "Downloaded 'tmp_res.csv'\n",
      "---------- Done ----------\n",
      "Complete 100.00% - [4/4] Computed stats for column LSTAT\n",
      "Complete\n",
      "Driverless AI Server reported dataset tmp_pred.csv (aa8205d4-d16c-11eb-bded-0242ac110002) deleted.\n",
      "Downloaded 'tmp_res.csv'\n",
      "---------- Done ----------\n",
      "Complete 100.00% - [4/4] Computed stats for column LSTAT\n",
      "Complete\n",
      "Driverless AI Server reported dataset tmp_pred.csv (aea5d30c-d16c-11eb-bded-0242ac110002) deleted.\n",
      "Downloaded 'tmp_res.csv'\n",
      "---------- Done ----------\n",
      "Complete 100.00% - [4/4] Computed stats for column LSTAT\n",
      "Complete\n",
      "Driverless AI Server reported dataset tmp_pred.csv (b31b91a6-d16c-11eb-bded-0242ac110002) deleted.\n",
      "Downloaded 'tmp_res.csv'\n",
      "---------- Done ----------\n"
     ]
    }
   ],
   "source": [
    "# ベイズ最適化関数の定義と最適化の実施\n",
    "myBopt = BayesianOptimization(f=daimodel, domain=bounds, maximize=True)  # maximize=True：最大化問題（-fを最小化）\n",
    "myBopt.run_optimization(max_iter=10)"
   ]
  },
  {
   "cell_type": "code",
   "execution_count": 24,
   "id": "1d1dd769",
   "metadata": {},
   "outputs": [
    {
     "data": {
      "text/plain": [
       "array([5.06235325e+01, 1.36479601e+01, 8.66215569e+00, 6.35748896e-01,\n",
       "       6.49800649e-01, 8.05514694e+00, 2.86518170e+01, 8.49271905e+00,\n",
       "       8.35491810e+00, 6.40812184e+02, 1.84972209e+01, 3.23978975e+02,\n",
       "       1.84529328e+00])"
      ]
     },
     "execution_count": 24,
     "metadata": {},
     "output_type": "execute_result"
    }
   ],
   "source": [
    "# 結果（xの最適解）\n",
    "myBopt.x_opt"
   ]
  },
  {
   "cell_type": "code",
   "execution_count": 37,
   "id": "dd5ee927",
   "metadata": {},
   "outputs": [
    {
     "data": {
      "text/html": [
       "<div>\n",
       "<style scoped>\n",
       "    .dataframe tbody tr th:only-of-type {\n",
       "        vertical-align: middle;\n",
       "    }\n",
       "\n",
       "    .dataframe tbody tr th {\n",
       "        vertical-align: top;\n",
       "    }\n",
       "\n",
       "    .dataframe thead th {\n",
       "        text-align: right;\n",
       "    }\n",
       "</style>\n",
       "<table border=\"1\" class=\"dataframe\">\n",
       "  <thead>\n",
       "    <tr style=\"text-align: right;\">\n",
       "      <th></th>\n",
       "      <th>CRIM</th>\n",
       "      <th>ZN</th>\n",
       "      <th>INDUS</th>\n",
       "      <th>CHAS</th>\n",
       "      <th>NOX</th>\n",
       "      <th>RM</th>\n",
       "      <th>AGE</th>\n",
       "      <th>DIS</th>\n",
       "      <th>RAD</th>\n",
       "      <th>TAX</th>\n",
       "      <th>PTRATIO</th>\n",
       "      <th>B</th>\n",
       "      <th>LSTAT</th>\n",
       "    </tr>\n",
       "  </thead>\n",
       "  <tbody>\n",
       "    <tr>\n",
       "      <th>0</th>\n",
       "      <td>50.623532</td>\n",
       "      <td>13.64796</td>\n",
       "      <td>8.662156</td>\n",
       "      <td>0.635749</td>\n",
       "      <td>0.649801</td>\n",
       "      <td>8.055147</td>\n",
       "      <td>28.651817</td>\n",
       "      <td>8.492719</td>\n",
       "      <td>8.354918</td>\n",
       "      <td>640.812184</td>\n",
       "      <td>18.497221</td>\n",
       "      <td>323.978975</td>\n",
       "      <td>1.845293</td>\n",
       "    </tr>\n",
       "  </tbody>\n",
       "</table>\n",
       "</div>"
      ],
      "text/plain": [
       "        CRIM        ZN     INDUS      CHAS       NOX        RM        AGE  \\\n",
       "0  50.623532  13.64796  8.662156  0.635749  0.649801  8.055147  28.651817   \n",
       "\n",
       "        DIS       RAD         TAX    PTRATIO           B     LSTAT  \n",
       "0  8.492719  8.354918  640.812184  18.497221  323.978975  1.845293  "
      ]
     },
     "execution_count": 37,
     "metadata": {},
     "output_type": "execute_result"
    }
   ],
   "source": [
    "pd.DataFrame(myBopt.x_opt.reshape(1,len(col_show)), columns=col_show)"
   ]
  },
  {
   "cell_type": "code",
   "execution_count": 25,
   "id": "61406949",
   "metadata": {},
   "outputs": [
    {
     "data": {
      "text/plain": [
       "-43.589596"
      ]
     },
     "execution_count": 25,
     "metadata": {},
     "output_type": "execute_result"
    }
   ],
   "source": [
    "# 最適解xの時の、目的関数の値\n",
    "# 最大化問題として解いたので、-1*myBopt.fx_optが達成した値\n",
    "myBopt.fx_opt"
   ]
  },
  {
   "cell_type": "code",
   "execution_count": 26,
   "id": "4cc161ba",
   "metadata": {},
   "outputs": [
    {
     "data": {
      "image/png": "[encoded data removed]",
      "text/plain": [
       "<Figure size 720x360 with 2 Axes>"
      ]
     },
     "metadata": {
      "needs_background": "light"
     },
     "output_type": "display_data"
    }
   ],
   "source": [
    "# 最適化履歴\n",
    "myBopt.plot_convergence()"
   ]
  },
  {
   "cell_type": "code",
   "execution_count": 27,
   "id": "8913674e",
   "metadata": {},
   "outputs": [
    {
     "name": "stdout",
     "output_type": "stream",
     "text": [
      "(15, 13)\n",
      "(15, 1)\n"
     ]
    }
   ],
   "source": [
    "# 途中計算されたインプットとアウトプット\n",
    "#print(myBopt.X)\n",
    "print(myBopt.X.shape)\n",
    "#print(myBopt.Y)\n",
    "print(myBopt.Y.shape)"
   ]
  },
  {
   "cell_type": "code",
   "execution_count": 28,
   "id": "6314ba04",
   "metadata": {},
   "outputs": [],
   "source": [
    "#myBopt.model.model "
   ]
  },
  {
   "cell_type": "markdown",
   "id": "c81d1f7c",
   "metadata": {},
   "source": [
    "#### xの最適解(myBopt.x_opt)を入力として、スコアリングを実施してみる"
   ]
  },
  {
   "cell_type": "code",
   "execution_count": 30,
   "id": "4ead56ed",
   "metadata": {},
   "outputs": [
    {
     "data": {
      "text/html": [
       "<div>\n",
       "<style scoped>\n",
       "    .dataframe tbody tr th:only-of-type {\n",
       "        vertical-align: middle;\n",
       "    }\n",
       "\n",
       "    .dataframe tbody tr th {\n",
       "        vertical-align: top;\n",
       "    }\n",
       "\n",
       "    .dataframe thead th {\n",
       "        text-align: right;\n",
       "    }\n",
       "</style>\n",
       "<table border=\"1\" class=\"dataframe\">\n",
       "  <thead>\n",
       "    <tr style=\"text-align: right;\">\n",
       "      <th></th>\n",
       "      <th>CRIM</th>\n",
       "      <th>ZN</th>\n",
       "      <th>INDUS</th>\n",
       "      <th>CHAS</th>\n",
       "      <th>NOX</th>\n",
       "      <th>RM</th>\n",
       "      <th>AGE</th>\n",
       "      <th>DIS</th>\n",
       "      <th>RAD</th>\n",
       "      <th>TAX</th>\n",
       "      <th>PTRATIO</th>\n",
       "      <th>B</th>\n",
       "      <th>LSTAT</th>\n",
       "    </tr>\n",
       "  </thead>\n",
       "  <tbody>\n",
       "    <tr>\n",
       "      <th>0</th>\n",
       "      <td>50.623532</td>\n",
       "      <td>13.64796</td>\n",
       "      <td>8.662156</td>\n",
       "      <td>0.635749</td>\n",
       "      <td>0.649801</td>\n",
       "      <td>8.055147</td>\n",
       "      <td>28.651817</td>\n",
       "      <td>8.492719</td>\n",
       "      <td>8.354918</td>\n",
       "      <td>640.812184</td>\n",
       "      <td>18.497221</td>\n",
       "      <td>323.978975</td>\n",
       "      <td>1.845293</td>\n",
       "    </tr>\n",
       "  </tbody>\n",
       "</table>\n",
       "</div>"
      ],
      "text/plain": [
       "        CRIM        ZN     INDUS      CHAS       NOX        RM        AGE  \\\n",
       "0  50.623532  13.64796  8.662156  0.635749  0.649801  8.055147  28.651817   \n",
       "\n",
       "        DIS       RAD         TAX    PTRATIO           B     LSTAT  \n",
       "0  8.492719  8.354918  640.812184  18.497221  323.978975  1.845293  "
      ]
     },
     "execution_count": 30,
     "metadata": {},
     "output_type": "execute_result"
    }
   ],
   "source": [
    "df_scoring = pd.DataFrame({'CRIM': [myBopt.x_opt[0]],\n",
    "                           'ZN': [myBopt.x_opt[1]],\n",
    "                           'INDUS': [myBopt.x_opt[2]],\n",
    "                           'CHAS': [myBopt.x_opt[3]],\n",
    "                           'NOX': [myBopt.x_opt[4]],\n",
    "                           'RM': [myBopt.x_opt[5]],\n",
    "                           'AGE': [myBopt.x_opt[6]],\n",
    "                           'DIS': [myBopt.x_opt[7]],\n",
    "                           'RAD': [myBopt.x_opt[8]],\n",
    "                           'TAX': [myBopt.x_opt[9]],\n",
    "                           'PTRATIO': [myBopt.x_opt[10]],\n",
    "                           'B': [myBopt.x_opt[11]],\n",
    "                           'LSTAT': [myBopt.x_opt[12]]}) \n",
    "df_scoring"
   ]
  },
  {
   "cell_type": "code",
   "execution_count": 31,
   "id": "fbd51487",
   "metadata": {},
   "outputs": [
    {
     "name": "stdout",
     "output_type": "stream",
     "text": [
      "Complete 100.00% - [4/4] Computed stats for column LSTAT\n",
      "Complete\n",
      "Driverless AI Server reported dataset scoring_test.csv (f8f6f9ea-d16c-11eb-bded-0242ac110002) deleted.\n",
      "Downloaded 'res.csv'\n"
     ]
    },
    {
     "data": {
      "text/html": [
       "<div>\n",
       "<style scoped>\n",
       "    .dataframe tbody tr th:only-of-type {\n",
       "        vertical-align: middle;\n",
       "    }\n",
       "\n",
       "    .dataframe tbody tr th {\n",
       "        vertical-align: top;\n",
       "    }\n",
       "\n",
       "    .dataframe thead th {\n",
       "        text-align: right;\n",
       "    }\n",
       "</style>\n",
       "<table border=\"1\" class=\"dataframe\">\n",
       "  <thead>\n",
       "    <tr style=\"text-align: right;\">\n",
       "      <th></th>\n",
       "      <th>CRIM</th>\n",
       "      <th>ZN</th>\n",
       "      <th>INDUS</th>\n",
       "      <th>CHAS</th>\n",
       "      <th>NOX</th>\n",
       "      <th>RM</th>\n",
       "      <th>AGE</th>\n",
       "      <th>DIS</th>\n",
       "      <th>RAD</th>\n",
       "      <th>TAX</th>\n",
       "      <th>PTRATIO</th>\n",
       "      <th>B</th>\n",
       "      <th>LSTAT</th>\n",
       "      <th>MEDV</th>\n",
       "      <th>MEDV.lower</th>\n",
       "      <th>MEDV.upper</th>\n",
       "    </tr>\n",
       "  </thead>\n",
       "  <tbody>\n",
       "    <tr>\n",
       "      <th>0</th>\n",
       "      <td>50.623532</td>\n",
       "      <td>13.64796</td>\n",
       "      <td>8.662156</td>\n",
       "      <td>0.635749</td>\n",
       "      <td>0.649801</td>\n",
       "      <td>8.055147</td>\n",
       "      <td>28.651817</td>\n",
       "      <td>8.492719</td>\n",
       "      <td>8.354918</td>\n",
       "      <td>640.812184</td>\n",
       "      <td>18.497221</td>\n",
       "      <td>323.978975</td>\n",
       "      <td>1.845293</td>\n",
       "      <td>43.589596</td>\n",
       "      <td>38.768272</td>\n",
       "      <td>47.68873</td>\n",
       "    </tr>\n",
       "  </tbody>\n",
       "</table>\n",
       "</div>"
      ],
      "text/plain": [
       "        CRIM        ZN     INDUS      CHAS       NOX        RM        AGE  \\\n",
       "0  50.623532  13.64796  8.662156  0.635749  0.649801  8.055147  28.651817   \n",
       "\n",
       "        DIS       RAD         TAX    PTRATIO           B     LSTAT       MEDV  \\\n",
       "0  8.492719  8.354918  640.812184  18.497221  323.978975  1.845293  43.589596   \n",
       "\n",
       "   MEDV.lower  MEDV.upper  \n",
       "0   38.768272    47.68873  "
      ]
     },
     "execution_count": 31,
     "metadata": {},
     "output_type": "execute_result"
    }
   ],
   "source": [
    "# ローカル保存\n",
    "df_scoring.to_csv('scoring_test.csv', index=False)\n",
    "# DAIへアップロード\n",
    "data_to_predict = dai.datasets.create(data='./scoring_test.csv', data_source='upload', name='scoring_test.csv', force=True)\n",
    "# 予測\n",
    "dai_predictions = experiment.predict(dataset=data_to_predict, include_columns=data_to_predict.columns)\n",
    "# スコアリングデータの削除\n",
    "data_to_predict.delete()\n",
    "# クライアント実行ディレクトリ上にダウンロード\n",
    "dai_predictions.download(dst_dir='', dst_file='res.csv', overwrite=True)    # res.csvとしてダウンロード\n",
    "df_res = pd.read_csv('res.csv')\n",
    "df_res"
   ]
  },
  {
   "cell_type": "code",
   "execution_count": 32,
   "id": "914c1005",
   "metadata": {},
   "outputs": [
    {
     "data": {
      "text/plain": [
       "0    43.589596\n",
       "Name: MEDV, dtype: float64"
      ]
     },
     "execution_count": 32,
     "metadata": {},
     "output_type": "execute_result"
    }
   ],
   "source": [
    "# myBopt.x_optを入力とした時の、予測結果\n",
    "df_res['MEDV']"
   ]
  },
  {
   "cell_type": "code",
   "execution_count": null,
   "id": "fe6e94b2",
   "metadata": {},
   "outputs": [],
   "source": []
  }
 ],
 "metadata": {
  "kernelspec": {
   "display_name": "Python 3",
   "language": "python",
   "name": "python3"
  },
  "language_info": {
   "codemirror_mode": {
    "name": "ipython",
    "version": 3
   },
   "file_extension": ".py",
   "mimetype": "text/x-python",
   "name": "python",
   "nbconvert_exporter": "python",
   "pygments_lexer": "ipython3",
   "version": "3.8.3"
  }
 },
 "nbformat": 4,
 "nbformat_minor": 5
}
