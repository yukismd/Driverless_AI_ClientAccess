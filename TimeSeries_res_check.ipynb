{
 "cells": [
  {
   "cell_type": "markdown",
   "metadata": {},
   "source": [
    "## Time Series Experimentの予測結果確認\n",
    "- Time Series Experimentの予測結果の確認(テストデータにおける結果をまとめて確認したい)\n",
    "    - Group別、精度指標\n",
    "    - Group別、時系列プロット"
   ]
  },
  {
   "cell_type": "code",
   "execution_count": 1,
   "metadata": {},
   "outputs": [],
   "source": [
    "import os\n",
    "import pandas as pd\n",
    "from sklearn import metrics\n",
    "import matplotlib.pyplot as plt\n",
    "import driverlessai"
   ]
  },
  {
   "cell_type": "code",
   "execution_count": 2,
   "metadata": {},
   "outputs": [],
   "source": [
    "# Driverless AIのuser nameとpasswordの読み込み\n",
    "import json\n",
    "with open('idpass.json') as f:\n",
    "    idpass = json.load(f)"
   ]
  },
  {
   "cell_type": "code",
   "execution_count": 3,
   "metadata": {},
   "outputs": [
    {
     "data": {
      "text/plain": [
       "<class 'driverlessai._core.Client'> http://3.87.69.161:12345"
      ]
     },
     "execution_count": 3,
     "metadata": {},
     "output_type": "execute_result"
    }
   ],
   "source": [
    "# Driverless AIサーバーへの接続\n",
    "dai = driverlessai.Client(address='http://3.87.69.161:12345', username=idpass['id'], password=idpass['pass'])\n",
    "dai"
   ]
  },
  {
   "cell_type": "markdown",
   "metadata": {},
   "source": [
    "### Experimentの確認と取得"
   ]
  },
  {
   "cell_type": "code",
   "execution_count": 9,
   "metadata": {},
   "outputs": [
    {
     "data": {
      "text/plain": [
       "    | Type       | Key                                  | Name\n",
       "----+------------+--------------------------------------+---------------\n",
       "  0 | Experiment | 9fdcbbca-853a-11eb-afb9-0242ac110002 | c1_no_rmse\n",
       "  1 | Experiment | 4629e1c6-8525-11eb-afb9-0242ac110002 | c1_no\n",
       "  2 | Experiment | 9b9ac016-8521-11eb-afb9-0242ac110002 | cc1\n",
       "  3 | Experiment | 5358afe2-82b6-11eb-b42a-0242ac110002 | imb2.fix\n",
       "  4 | Experiment | 60913d84-823c-11eb-b626-0242ac110002 | imb3\n",
       "  5 | Experiment | ee6e1e34-822c-11eb-b626-0242ac110002 | imb2\n",
       "  6 | Experiment | 8f99d742-822a-11eb-b626-0242ac110002 | imb1\n",
       "  7 | Experiment | 67a26bb0-7fcc-11eb-aca6-0242ac110002 | kafalupa\n",
       "  8 | Experiment | 04ee51a2-77f5-11eb-ae7b-0242ac110002 | 1.kedefohi\n",
       "  9 | Experiment | 33984388-77ef-11eb-ae7b-0242ac110002 | kedefohi\n",
       " 10 | Experiment | 8959fc3a-76f0-11eb-a90c-0242ac110002 | 1.gomavole\n",
       " 11 | Experiment | 6bc656d8-73e3-11eb-ab9b-0242ac110002 | test2\n",
       " 12 | Experiment | 60030ea8-73d5-11eb-ab9b-0242ac110002 | test1\n",
       " 13 | Experiment | 0559f2ec-678b-11eb-930d-0242ac110002 | fufukuco\n",
       " 14 | Experiment | b64d1b36-66b1-11eb-ab16-0242ac110002 | simple\n",
       " 15 | Experiment | 478c2032-65c8-11eb-b5cf-0242ac110002 | default\n",
       " 16 | Experiment | 62c31e2a-635f-11eb-b18a-0242ac110002 | default2\n",
       " 17 | Experiment | f81f9d54-6201-11eb-94d4-0242ac110002 | simple\n",
       " 18 | Experiment | af53600a-604a-11eb-9a4f-0242ac110002 | mojo_small\n",
       " 19 | Experiment | 5a9c6598-604a-11eb-9a4f-0242ac110002 | default\n",
       " 20 | Experiment | 6c9e16e8-5c89-11eb-a8f5-0242ac110002 | is_holiday_y2\n",
       " 21 | Experiment | 25d2480c-5c88-11eb-a8f5-0242ac110002 | is_holiday_y3"
      ]
     },
     "execution_count": 9,
     "metadata": {},
     "output_type": "execute_result"
    }
   ],
   "source": [
    "# 接続先Driverless AIのExperiments\n",
    "dai.experiments.list()"
   ]
  },
  {
   "cell_type": "code",
   "execution_count": 10,
   "metadata": {},
   "outputs": [
    {
     "data": {
      "text/plain": [
       "driverlessai._experiments.Experiment"
      ]
     },
     "execution_count": 10,
     "metadata": {},
     "output_type": "execute_result"
    }
   ],
   "source": [
    "# 利用するExperimentの取得\n",
    "experiment = dai.experiments.get(key='60030ea8-73d5-11eb-ab9b-0242ac110002')\n",
    "# 12 | Experiment | 60030ea8-73d5-11eb-ab9b-0242ac110002 | test1\n",
    "type(experiment)"
   ]
  },
  {
   "cell_type": "code",
   "execution_count": 11,
   "metadata": {},
   "outputs": [
    {
     "name": "stdout",
     "output_type": "stream",
     "text": [
      "Status: Complete\n",
      "Experiment: test1 (60030ea8-73d5-11eb-ab9b-0242ac110002)\n",
      "  Version: 1.9.1, 2021-02-21 00:16\n",
      "  Settings: 8/4/8, seed=962482440, GPUs disabled\n",
      "  Train data: walmart_ts_6_fcst_grp_train.csv (702, 10)\n",
      "  Validation data: N/A\n",
      "  Test data: [Test] (36, 9)\n",
      "  Target column: Weekly_Sales (regression)\n",
      "System specs: Docker/Linux, 31 GB, 8 CPU cores, 0/0 GPU\n",
      "  Max memory usage: 1.19 GB, 0 GB GPU\n",
      "Recipe: AutoDL (79 iterations, 8 individuals)\n",
      "  Validation scheme: time-based, 4 internal holdouts\n",
      "  Feature engineering: 1726 features scored (7 selected)\n",
      "Timing: MOJO latency: 0.09093 millis (1.5MB)\n",
      "  Data preparation: 5.25 secs\n",
      "  Shift/Leakage detection: 2.45 secs\n",
      "  Model and feature tuning: 518.56 secs (157 models trained)\n",
      "  Feature evolution: 1379.70 secs (644 of 672 models trained)\n",
      "  Final pipeline training: 20.87 secs (1 model trained)\n",
      "  Python / MOJO scorer building: 41.02 secs / 13.49 secs\n",
      "Validation score: RMSE = 9664.004 (constant preds of 4.012e+04)\n",
      "Validation score: RMSE = 3059.768 +/- 849.2607 (baseline)\n",
      "Validation score: RMSE = 3165.547 +/- 176.269 (final pipeline)\n",
      "Test score:       RMSE = 1951.401 +/- 176.269 (final pipeline)\n"
     ]
    }
   ],
   "source": [
    "# Experiment結果のサマリ\n",
    "experiment.summary()"
   ]
  },
  {
   "cell_type": "code",
   "execution_count": 12,
   "metadata": {},
   "outputs": [
    {
     "data": {
      "text/plain": [
       "{'train_dataset': <class 'Dataset'> 5eb74434-73d4-11eb-ab9b-0242ac110002 walmart_ts_6_fcst_grp_train.csv,\n",
       " 'validation_dataset': None,\n",
       " 'test_dataset': <class 'Dataset'> 5eb6cfc2-73d4-11eb-ab9b-0242ac110002 walmart_ts_6_fcst_grp_test.csv}"
      ]
     },
     "execution_count": 12,
     "metadata": {},
     "output_type": "execute_result"
    }
   ],
   "source": [
    "# Experimentのデータ\n",
    "experiment.datasets"
   ]
  },
  {
   "cell_type": "markdown",
   "metadata": {},
   "source": [
    "### DAIにアップされているデータの確認と取得"
   ]
  },
  {
   "cell_type": "code",
   "execution_count": 13,
   "metadata": {},
   "outputs": [
    {
     "data": {
      "text/plain": [
       "    | Type    | Key                                  | Name\n",
       "----+---------+--------------------------------------+--------------------------------------------------------\n",
       "  0 | Dataset | ec7e8dc0-8524-11eb-afb9-0242ac110002 | cust_c_modeling_noOtc_train_20210315.csv\n",
       "  1 | Dataset | ebb61af2-8524-11eb-afb9-0242ac110002 | cust_c_modeling_noOtc_test_20210315.csv\n",
       "  2 | Dataset | 0cea8ab0-851f-11eb-afb9-0242ac110002 | cust_c_modeling_train_20210315.csv\n",
       "  3 | Dataset | 0c653b94-851f-11eb-afb9-0242ac110002 | cust_c_modeling_test_20210315.csv\n",
       "  4 | Dataset | 18aa6f52-8211-11eb-b626-0242ac110002 | sample_simple_imbalance.csv\n",
       "  5 | Dataset | 4169f86e-7fcc-11eb-aca6-0242ac110002 | long_train_20210308.csv\n",
       "  6 | Dataset | 3f6ec2a6-7fcc-11eb-aca6-0242ac110002 | long_test_20210308.csv\n",
       "  7 | Dataset | c11cc064-7c75-11eb-8063-0242ac110002 | 2019.0709watcher__watcher4_utf8.csv\n",
       "  8 | Dataset | 97619466-7c75-11eb-8063-0242ac110002 | 2018_0709watcher__watcher4_utf8.csv\n",
       "  9 | Dataset | 2169995e-7bdd-11eb-8a47-0242ac110002 | 1.T2020-1-7-SAMPLE.csv\n",
       " 10 | Dataset | b18f5cd6-7bdc-11eb-8a47-0242ac110002 | amazon_reviews_multilingual_JP_v1_00_cleaned_Books.csv\n",
       " 11 | Dataset | 7f0307e0-7bdc-11eb-8a47-0242ac110002 | T15-2020-1-7-SAMPLE.csv\n",
       " 12 | Dataset | f17054e0-78a8-11eb-b9f6-0242ac110002 | titanic_scoring\n",
       " 13 | Dataset | 07c28a00-77f1-11eb-ae7b-0242ac110002 | sample_uneqal_interval_scoring1.csv\n",
       " 14 | Dataset | fd62eeb2-77ee-11eb-ae7b-0242ac110002 | sample_unequal_interval.csv\n",
       " 15 | Dataset | 6e0cd35e-7677-11eb-b908-0242ac110002 | dataset_temp.csv\n",
       " 16 | Dataset | 6f800ef8-7664-11eb-b908-0242ac110002 | wallmart_scoring.csv\n",
       " 17 | Dataset | 5eb74434-73d4-11eb-ab9b-0242ac110002 | walmart_ts_6_fcst_grp_train.csv\n",
       " 18 | Dataset | 5eb6cfc2-73d4-11eb-ab9b-0242ac110002 | walmart_ts_6_fcst_grp_test.csv\n",
       " 19 | Dataset | 0325cee0-678d-11eb-930d-0242ac110002 | Covid_Chest.zip\n",
       " 20 | Dataset | ef6185b4-65c7-11eb-b5cf-0242ac110002 | dh_mijyushin_test\n",
       " 21 | Dataset | ef615d46-65c7-11eb-b5cf-0242ac110002 | dh_mijyushin_train\n",
       " 22 | Dataset | 7cbe6cc0-65c7-11eb-b5cf-0242ac110002 | forML_mijyushin_mask_20210126_1529.csv\n",
       " 23 | Dataset | d17c41ee-5ecc-11eb-b134-0242ac110002 | sample_simple.csv\n",
       " 24 | Dataset | 110fae96-5c88-11eb-a8f5-0242ac110002 | date_sample3.csv\n",
       " 25 | Dataset | cae49b84-5bab-11eb-96ed-0242ac110002 | TitanicData.csv"
      ]
     },
     "execution_count": 13,
     "metadata": {},
     "output_type": "execute_result"
    }
   ],
   "source": [
    "# 接続先Driverless AIのDatasets\n",
    "dai.datasets.list()"
   ]
  },
  {
   "cell_type": "code",
   "execution_count": 14,
   "metadata": {},
   "outputs": [
    {
     "data": {
      "text/plain": [
       "driverlessai._datasets.Dataset"
      ]
     },
     "execution_count": 14,
     "metadata": {},
     "output_type": "execute_result"
    }
   ],
   "source": [
    "# スコアリングを実施するデータの取得\n",
    "data_to_predict = dai.datasets.get(key='5eb6cfc2-73d4-11eb-ab9b-0242ac110002')\n",
    "# 18 | Dataset | 5eb6cfc2-73d4-11eb-ab9b-0242ac110002 | walmart_ts_6_fcst_grp_test.csv\n",
    "type(data_to_predict)"
   ]
  },
  {
   "cell_type": "code",
   "execution_count": 15,
   "metadata": {},
   "outputs": [
    {
     "data": {
      "text/plain": [
       "(36, 11)"
      ]
     },
     "execution_count": 15,
     "metadata": {},
     "output_type": "execute_result"
    }
   ],
   "source": [
    "data_to_predict.shape"
   ]
  },
  {
   "cell_type": "code",
   "execution_count": 16,
   "metadata": {},
   "outputs": [
    {
     "data": {
      "text/html": [
       "<table>\n",
       "<thead>\n",
       "<tr><th style=\"text-align: right;\">  Store</th><th style=\"text-align: right;\">  Dept</th><th>Date     </th><th style=\"text-align: right;\">  Weekly_Sales</th><th style=\"text-align: right;\">  MarkDown1</th><th style=\"text-align: right;\">  MarkDown2</th><th style=\"text-align: right;\">  MarkDown3</th><th style=\"text-align: right;\">  MarkDown4</th><th style=\"text-align: right;\">  MarkDown5</th><th>IsHoliday  </th><th>sample_weight  </th></tr>\n",
       "</thead>\n",
       "<tbody>\n",
       "<tr><td style=\"text-align: right;\">      4</td><td style=\"text-align: right;\">     4</td><td>2012/5/4 </td><td style=\"text-align: right;\">       60576.4</td><td style=\"text-align: right;\">   13737.9 </td><td style=\"text-align: right;\">       -1  </td><td style=\"text-align: right;\">      93.65</td><td style=\"text-align: right;\">    6993.97</td><td style=\"text-align: right;\">    4541.89</td><td>False      </td><td>True           </td></tr>\n",
       "<tr><td style=\"text-align: right;\">      4</td><td style=\"text-align: right;\">     4</td><td>2012/5/11</td><td style=\"text-align: right;\">       57583.9</td><td style=\"text-align: right;\">   20499.9 </td><td style=\"text-align: right;\">       86  </td><td style=\"text-align: right;\">     103.05</td><td style=\"text-align: right;\">    5005.96</td><td style=\"text-align: right;\">    3815.16</td><td>False      </td><td>True           </td></tr>\n",
       "<tr><td style=\"text-align: right;\">      4</td><td style=\"text-align: right;\">     4</td><td>2012/5/18</td><td style=\"text-align: right;\">       60832.9</td><td style=\"text-align: right;\">    6531.12</td><td style=\"text-align: right;\">       -1  </td><td style=\"text-align: right;\">      99.91</td><td style=\"text-align: right;\">    2290.18</td><td style=\"text-align: right;\">    2521.84</td><td>False      </td><td>True           </td></tr>\n",
       "<tr><td style=\"text-align: right;\">      4</td><td style=\"text-align: right;\">     4</td><td>2012/5/25</td><td style=\"text-align: right;\">       57781.9</td><td style=\"text-align: right;\">    4330.02</td><td style=\"text-align: right;\">      436  </td><td style=\"text-align: right;\">     862.31</td><td style=\"text-align: right;\">    3268.41</td><td style=\"text-align: right;\">    3749.53</td><td>False      </td><td>True           </td></tr>\n",
       "<tr><td style=\"text-align: right;\">      4</td><td style=\"text-align: right;\">     4</td><td>2012/6/1 </td><td style=\"text-align: right;\">       62758.5</td><td style=\"text-align: right;\">   10165.2 </td><td style=\"text-align: right;\">        8.6</td><td style=\"text-align: right;\">      47.93</td><td style=\"text-align: right;\">    2676.33</td><td style=\"text-align: right;\">    4896.34</td><td>False      </td><td>True           </td></tr>\n",
       "</tbody>\n",
       "</table>"
      ],
      "text/plain": [
       "<driverlessai._utils.Table at 0x7fb8b9efbb20>"
      ]
     },
     "execution_count": 16,
     "metadata": {},
     "output_type": "execute_result"
    }
   ],
   "source": [
    "data_to_predict.head()"
   ]
  },
  {
   "cell_type": "markdown",
   "metadata": {},
   "source": [
    "#### pandas.DataFrameでデータ確認"
   ]
  },
  {
   "cell_type": "code",
   "execution_count": 17,
   "metadata": {
    "scrolled": true
   },
   "outputs": [
    {
     "name": "stdout",
     "output_type": "stream",
     "text": [
      "Downloaded 'walmart_ts_6_fcst_grp_test.csv.1613864152.700513.csv'\n"
     ]
    }
   ],
   "source": [
    "# クライアント実行ディレクトリ上にデータのDLと、パス（ファイル名）の取得\n",
    "local_path = data_to_predict.download(dst_dir='', overwrite=True)   # Client実行パス上へDL"
   ]
  },
  {
   "cell_type": "code",
   "execution_count": 18,
   "metadata": {},
   "outputs": [
    {
     "data": {
      "text/plain": [
       "pandas.core.frame.DataFrame"
      ]
     },
     "execution_count": 18,
     "metadata": {},
     "output_type": "execute_result"
    }
   ],
   "source": [
    "df_test = pd.read_csv(local_path)\n",
    "type(df_test)"
   ]
  },
  {
   "cell_type": "code",
   "execution_count": 19,
   "metadata": {},
   "outputs": [
    {
     "data": {
      "text/plain": [
       "(36, 11)"
      ]
     },
     "execution_count": 19,
     "metadata": {},
     "output_type": "execute_result"
    }
   ],
   "source": [
    "df_test.shape"
   ]
  },
  {
   "cell_type": "code",
   "execution_count": 20,
   "metadata": {},
   "outputs": [
    {
     "data": {
      "text/html": [
       "<div>\n",
       "<style scoped>\n",
       "    .dataframe tbody tr th:only-of-type {\n",
       "        vertical-align: middle;\n",
       "    }\n",
       "\n",
       "    .dataframe tbody tr th {\n",
       "        vertical-align: top;\n",
       "    }\n",
       "\n",
       "    .dataframe thead th {\n",
       "        text-align: right;\n",
       "    }\n",
       "</style>\n",
       "<table border=\"1\" class=\"dataframe\">\n",
       "  <thead>\n",
       "    <tr style=\"text-align: right;\">\n",
       "      <th></th>\n",
       "      <th>Store</th>\n",
       "      <th>Dept</th>\n",
       "      <th>Weekly_Sales</th>\n",
       "      <th>MarkDown1</th>\n",
       "      <th>MarkDown2</th>\n",
       "      <th>MarkDown3</th>\n",
       "      <th>MarkDown4</th>\n",
       "      <th>MarkDown5</th>\n",
       "      <th>IsHoliday</th>\n",
       "      <th>sample_weight</th>\n",
       "    </tr>\n",
       "  </thead>\n",
       "  <tbody>\n",
       "    <tr>\n",
       "      <th>count</th>\n",
       "      <td>36.000000</td>\n",
       "      <td>36.000000</td>\n",
       "      <td>36.000000</td>\n",
       "      <td>36.000000</td>\n",
       "      <td>36.000000</td>\n",
       "      <td>36.000000</td>\n",
       "      <td>36.000000</td>\n",
       "      <td>36.000000</td>\n",
       "      <td>36.0</td>\n",
       "      <td>36.0</td>\n",
       "    </tr>\n",
       "    <tr>\n",
       "      <th>mean</th>\n",
       "      <td>12.666667</td>\n",
       "      <td>9.833333</td>\n",
       "      <td>41219.515833</td>\n",
       "      <td>10495.218056</td>\n",
       "      <td>73.827778</td>\n",
       "      <td>199.830556</td>\n",
       "      <td>2763.526389</td>\n",
       "      <td>5088.300000</td>\n",
       "      <td>0.0</td>\n",
       "      <td>1.0</td>\n",
       "    </tr>\n",
       "    <tr>\n",
       "      <th>std</th>\n",
       "      <td>10.220428</td>\n",
       "      <td>3.484660</td>\n",
       "      <td>10722.794463</td>\n",
       "      <td>4433.167101</td>\n",
       "      <td>141.509609</td>\n",
       "      <td>268.832696</td>\n",
       "      <td>1964.497878</td>\n",
       "      <td>3010.273333</td>\n",
       "      <td>0.0</td>\n",
       "      <td>0.0</td>\n",
       "    </tr>\n",
       "    <tr>\n",
       "      <th>min</th>\n",
       "      <td>1.000000</td>\n",
       "      <td>4.000000</td>\n",
       "      <td>23516.130000</td>\n",
       "      <td>2989.940000</td>\n",
       "      <td>-1.000000</td>\n",
       "      <td>1.010000</td>\n",
       "      <td>148.750000</td>\n",
       "      <td>2044.720000</td>\n",
       "      <td>0.0</td>\n",
       "      <td>1.0</td>\n",
       "    </tr>\n",
       "    <tr>\n",
       "      <th>25%</th>\n",
       "      <td>4.000000</td>\n",
       "      <td>8.000000</td>\n",
       "      <td>35972.912500</td>\n",
       "      <td>7394.110000</td>\n",
       "      <td>-1.000000</td>\n",
       "      <td>36.015000</td>\n",
       "      <td>1399.100000</td>\n",
       "      <td>3254.907500</td>\n",
       "      <td>0.0</td>\n",
       "      <td>1.0</td>\n",
       "    </tr>\n",
       "    <tr>\n",
       "      <th>50%</th>\n",
       "      <td>10.500000</td>\n",
       "      <td>10.500000</td>\n",
       "      <td>41275.320000</td>\n",
       "      <td>10395.235000</td>\n",
       "      <td>-1.000000</td>\n",
       "      <td>78.440000</td>\n",
       "      <td>2366.660000</td>\n",
       "      <td>4376.860000</td>\n",
       "      <td>0.0</td>\n",
       "      <td>1.0</td>\n",
       "    </tr>\n",
       "    <tr>\n",
       "      <th>75%</th>\n",
       "      <td>19.000000</td>\n",
       "      <td>13.000000</td>\n",
       "      <td>44199.890000</td>\n",
       "      <td>12662.392500</td>\n",
       "      <td>86.000000</td>\n",
       "      <td>279.780000</td>\n",
       "      <td>3452.015000</td>\n",
       "      <td>5906.930000</td>\n",
       "      <td>0.0</td>\n",
       "      <td>1.0</td>\n",
       "    </tr>\n",
       "    <tr>\n",
       "      <th>max</th>\n",
       "      <td>31.000000</td>\n",
       "      <td>13.000000</td>\n",
       "      <td>62758.520000</td>\n",
       "      <td>21290.130000</td>\n",
       "      <td>532.000000</td>\n",
       "      <td>1095.850000</td>\n",
       "      <td>7557.140000</td>\n",
       "      <td>17903.640000</td>\n",
       "      <td>0.0</td>\n",
       "      <td>1.0</td>\n",
       "    </tr>\n",
       "  </tbody>\n",
       "</table>\n",
       "</div>"
      ],
      "text/plain": [
       "           Store       Dept  Weekly_Sales     MarkDown1   MarkDown2  \\\n",
       "count  36.000000  36.000000     36.000000     36.000000   36.000000   \n",
       "mean   12.666667   9.833333  41219.515833  10495.218056   73.827778   \n",
       "std    10.220428   3.484660  10722.794463   4433.167101  141.509609   \n",
       "min     1.000000   4.000000  23516.130000   2989.940000   -1.000000   \n",
       "25%     4.000000   8.000000  35972.912500   7394.110000   -1.000000   \n",
       "50%    10.500000  10.500000  41275.320000  10395.235000   -1.000000   \n",
       "75%    19.000000  13.000000  44199.890000  12662.392500   86.000000   \n",
       "max    31.000000  13.000000  62758.520000  21290.130000  532.000000   \n",
       "\n",
       "         MarkDown3    MarkDown4     MarkDown5  IsHoliday  sample_weight  \n",
       "count    36.000000    36.000000     36.000000       36.0           36.0  \n",
       "mean    199.830556  2763.526389   5088.300000        0.0            1.0  \n",
       "std     268.832696  1964.497878   3010.273333        0.0            0.0  \n",
       "min       1.010000   148.750000   2044.720000        0.0            1.0  \n",
       "25%      36.015000  1399.100000   3254.907500        0.0            1.0  \n",
       "50%      78.440000  2366.660000   4376.860000        0.0            1.0  \n",
       "75%     279.780000  3452.015000   5906.930000        0.0            1.0  \n",
       "max    1095.850000  7557.140000  17903.640000        0.0            1.0  "
      ]
     },
     "execution_count": 20,
     "metadata": {},
     "output_type": "execute_result"
    }
   ],
   "source": [
    "df_test.describe()"
   ]
  },
  {
   "cell_type": "code",
   "execution_count": 21,
   "metadata": {},
   "outputs": [
    {
     "name": "stdout",
     "output_type": "stream",
     "text": [
      "Store             6\n",
      "Dept              3\n",
      "Date              6\n",
      "Weekly_Sales     36\n",
      "MarkDown1        36\n",
      "MarkDown2        14\n",
      "MarkDown3        36\n",
      "MarkDown4        36\n",
      "MarkDown5        36\n",
      "IsHoliday         1\n",
      "sample_weight     1\n",
      "dtype: int64\n"
     ]
    }
   ],
   "source": [
    "print(df_test.nunique())"
   ]
  },
  {
   "cell_type": "code",
   "execution_count": 22,
   "metadata": {},
   "outputs": [],
   "source": [
    "# DLしたファイルを削除\n",
    "os.remove(local_path)"
   ]
  },
  {
   "cell_type": "markdown",
   "metadata": {},
   "source": [
    "### 予測"
   ]
  },
  {
   "cell_type": "code",
   "execution_count": 23,
   "metadata": {},
   "outputs": [
    {
     "name": "stdout",
     "output_type": "stream",
     "text": [
      "Complete\n"
     ]
    }
   ],
   "source": [
    "# data_to_predictに対するスコアリングを実施\n",
    "dai_predictions = experiment.predict(dataset=data_to_predict, include_columns=data_to_predict.columns)"
   ]
  },
  {
   "cell_type": "code",
   "execution_count": 24,
   "metadata": {},
   "outputs": [
    {
     "name": "stdout",
     "output_type": "stream",
     "text": [
      "Downloaded '60030ea8-73d5-11eb-ab9b-0242ac110002_preds_723c0e3b.csv'\n"
     ]
    }
   ],
   "source": [
    "# クライアント実行ディレクトリ上にデータのDLと、パス（ファイル名）の取得\n",
    "local_path = dai_predictions.download(dst_dir='', overwrite=True)   # Client実行パス上へDL"
   ]
  },
  {
   "cell_type": "code",
   "execution_count": 25,
   "metadata": {},
   "outputs": [
    {
     "name": "stdout",
     "output_type": "stream",
     "text": [
      "(36, 14)\n"
     ]
    },
    {
     "data": {
      "text/html": [
       "<div>\n",
       "<style scoped>\n",
       "    .dataframe tbody tr th:only-of-type {\n",
       "        vertical-align: middle;\n",
       "    }\n",
       "\n",
       "    .dataframe tbody tr th {\n",
       "        vertical-align: top;\n",
       "    }\n",
       "\n",
       "    .dataframe thead th {\n",
       "        text-align: right;\n",
       "    }\n",
       "</style>\n",
       "<table border=\"1\" class=\"dataframe\">\n",
       "  <thead>\n",
       "    <tr style=\"text-align: right;\">\n",
       "      <th></th>\n",
       "      <th>Store</th>\n",
       "      <th>Dept</th>\n",
       "      <th>Date</th>\n",
       "      <th>Weekly_Sales</th>\n",
       "      <th>MarkDown1</th>\n",
       "      <th>MarkDown2</th>\n",
       "      <th>MarkDown3</th>\n",
       "      <th>MarkDown4</th>\n",
       "      <th>MarkDown5</th>\n",
       "      <th>IsHoliday</th>\n",
       "      <th>sample_weight</th>\n",
       "      <th>Weekly_Sales.predicted</th>\n",
       "      <th>Weekly_Sales.predicted.lower</th>\n",
       "      <th>Weekly_Sales.predicted.upper</th>\n",
       "    </tr>\n",
       "  </thead>\n",
       "  <tbody>\n",
       "    <tr>\n",
       "      <th>0</th>\n",
       "      <td>4</td>\n",
       "      <td>4</td>\n",
       "      <td>2012/5/4</td>\n",
       "      <td>60576.41</td>\n",
       "      <td>13737.91</td>\n",
       "      <td>-1.0</td>\n",
       "      <td>93.65</td>\n",
       "      <td>6993.97</td>\n",
       "      <td>4541.89</td>\n",
       "      <td>0</td>\n",
       "      <td>1</td>\n",
       "      <td>61616.300</td>\n",
       "      <td>57133.427490</td>\n",
       "      <td>69878.614337</td>\n",
       "    </tr>\n",
       "    <tr>\n",
       "      <th>1</th>\n",
       "      <td>4</td>\n",
       "      <td>4</td>\n",
       "      <td>2012/5/11</td>\n",
       "      <td>57583.94</td>\n",
       "      <td>20499.88</td>\n",
       "      <td>86.0</td>\n",
       "      <td>103.05</td>\n",
       "      <td>5005.96</td>\n",
       "      <td>3815.16</td>\n",
       "      <td>0</td>\n",
       "      <td>1</td>\n",
       "      <td>58854.586</td>\n",
       "      <td>54371.712646</td>\n",
       "      <td>67116.899493</td>\n",
       "    </tr>\n",
       "    <tr>\n",
       "      <th>2</th>\n",
       "      <td>4</td>\n",
       "      <td>4</td>\n",
       "      <td>2012/5/18</td>\n",
       "      <td>60832.91</td>\n",
       "      <td>6531.12</td>\n",
       "      <td>-1.0</td>\n",
       "      <td>99.91</td>\n",
       "      <td>2290.18</td>\n",
       "      <td>2521.84</td>\n",
       "      <td>0</td>\n",
       "      <td>1</td>\n",
       "      <td>58565.293</td>\n",
       "      <td>54082.419677</td>\n",
       "      <td>66827.606524</td>\n",
       "    </tr>\n",
       "    <tr>\n",
       "      <th>3</th>\n",
       "      <td>4</td>\n",
       "      <td>4</td>\n",
       "      <td>2012/5/25</td>\n",
       "      <td>57781.87</td>\n",
       "      <td>4330.02</td>\n",
       "      <td>436.0</td>\n",
       "      <td>862.31</td>\n",
       "      <td>3268.41</td>\n",
       "      <td>3749.53</td>\n",
       "      <td>0</td>\n",
       "      <td>1</td>\n",
       "      <td>58622.414</td>\n",
       "      <td>54139.540771</td>\n",
       "      <td>66884.727618</td>\n",
       "    </tr>\n",
       "    <tr>\n",
       "      <th>4</th>\n",
       "      <td>4</td>\n",
       "      <td>4</td>\n",
       "      <td>2012/6/1</td>\n",
       "      <td>62758.52</td>\n",
       "      <td>10165.22</td>\n",
       "      <td>8.6</td>\n",
       "      <td>47.93</td>\n",
       "      <td>2676.33</td>\n",
       "      <td>4896.34</td>\n",
       "      <td>0</td>\n",
       "      <td>1</td>\n",
       "      <td>58578.832</td>\n",
       "      <td>54095.958740</td>\n",
       "      <td>66841.145587</td>\n",
       "    </tr>\n",
       "  </tbody>\n",
       "</table>\n",
       "</div>"
      ],
      "text/plain": [
       "   Store  Dept       Date  Weekly_Sales  MarkDown1  MarkDown2  MarkDown3  \\\n",
       "0      4     4   2012/5/4      60576.41   13737.91       -1.0      93.65   \n",
       "1      4     4  2012/5/11      57583.94   20499.88       86.0     103.05   \n",
       "2      4     4  2012/5/18      60832.91    6531.12       -1.0      99.91   \n",
       "3      4     4  2012/5/25      57781.87    4330.02      436.0     862.31   \n",
       "4      4     4   2012/6/1      62758.52   10165.22        8.6      47.93   \n",
       "\n",
       "   MarkDown4  MarkDown5  IsHoliday  sample_weight  Weekly_Sales.predicted  \\\n",
       "0    6993.97    4541.89          0              1               61616.300   \n",
       "1    5005.96    3815.16          0              1               58854.586   \n",
       "2    2290.18    2521.84          0              1               58565.293   \n",
       "3    3268.41    3749.53          0              1               58622.414   \n",
       "4    2676.33    4896.34          0              1               58578.832   \n",
       "\n",
       "   Weekly_Sales.predicted.lower  Weekly_Sales.predicted.upper  \n",
       "0                  57133.427490                  69878.614337  \n",
       "1                  54371.712646                  67116.899493  \n",
       "2                  54082.419677                  66827.606524  \n",
       "3                  54139.540771                  66884.727618  \n",
       "4                  54095.958740                  66841.145587  "
      ]
     },
     "execution_count": 25,
     "metadata": {},
     "output_type": "execute_result"
    }
   ],
   "source": [
    "df_scored = pd.read_csv(local_path)\n",
    "print(df_scored.shape)\n",
    "df_scored.head()"
   ]
  },
  {
   "cell_type": "markdown",
   "metadata": {},
   "source": [
    "#### 精度評価"
   ]
  },
  {
   "cell_type": "markdown",
   "metadata": {},
   "source": [
    "[sklearn.metrics](https://scikit-learn.org/stable/modules/classes.html#module-sklearn.metrics)"
   ]
  },
  {
   "cell_type": "code",
   "execution_count": 26,
   "metadata": {},
   "outputs": [
    {
     "data": {
      "text/plain": [
       "Store  Dept\n",
       "1      13      2.632013e+06\n",
       "4      4       7.575833e+06\n",
       "8      13      1.527327e+06\n",
       "13     8       5.026340e+06\n",
       "19     8       3.247411e+06\n",
       "31     13      2.838870e+06\n",
       "dtype: float64"
      ]
     },
     "execution_count": 26,
     "metadata": {},
     "output_type": "execute_result"
    }
   ],
   "source": [
    "# DataFrameにグループ別でsklearn.metricsを適用する方法\n",
    "df_scored.groupby(['Store','Dept'],).apply(lambda group: metrics.mean_squared_error(group['Weekly_Sales'], group['Weekly_Sales.predicted']))"
   ]
  },
  {
   "cell_type": "code",
   "execution_count": 27,
   "metadata": {},
   "outputs": [],
   "source": [
    "# 関数化\n",
    "def get_score_by_group(group_cols: list, actual_col: str, pred_col: str, df: pd.DataFrame, meric: metrics, score_name='score') -> pd.DataFrame: \n",
    "    ''' Return sklearn.metrics.*** by group_cols\n",
    "    '''\n",
    "    res = df.groupby(group_cols).apply(lambda group: meric(group[actual_col], group[pred_col]))\n",
    "    res = pd.DataFrame(res).reset_index()\n",
    "    res = res.rename(columns={0: score_name})\n",
    "    return res"
   ]
  },
  {
   "cell_type": "code",
   "execution_count": 28,
   "metadata": {},
   "outputs": [
    {
     "data": {
      "text/html": [
       "<div>\n",
       "<style scoped>\n",
       "    .dataframe tbody tr th:only-of-type {\n",
       "        vertical-align: middle;\n",
       "    }\n",
       "\n",
       "    .dataframe tbody tr th {\n",
       "        vertical-align: top;\n",
       "    }\n",
       "\n",
       "    .dataframe thead th {\n",
       "        text-align: right;\n",
       "    }\n",
       "</style>\n",
       "<table border=\"1\" class=\"dataframe\">\n",
       "  <thead>\n",
       "    <tr style=\"text-align: right;\">\n",
       "      <th></th>\n",
       "      <th>Store</th>\n",
       "      <th>Dept</th>\n",
       "      <th>MSE</th>\n",
       "    </tr>\n",
       "  </thead>\n",
       "  <tbody>\n",
       "    <tr>\n",
       "      <th>0</th>\n",
       "      <td>1</td>\n",
       "      <td>13</td>\n",
       "      <td>2.632013e+06</td>\n",
       "    </tr>\n",
       "    <tr>\n",
       "      <th>1</th>\n",
       "      <td>4</td>\n",
       "      <td>4</td>\n",
       "      <td>7.575833e+06</td>\n",
       "    </tr>\n",
       "    <tr>\n",
       "      <th>2</th>\n",
       "      <td>8</td>\n",
       "      <td>13</td>\n",
       "      <td>1.527327e+06</td>\n",
       "    </tr>\n",
       "    <tr>\n",
       "      <th>3</th>\n",
       "      <td>13</td>\n",
       "      <td>8</td>\n",
       "      <td>5.026340e+06</td>\n",
       "    </tr>\n",
       "    <tr>\n",
       "      <th>4</th>\n",
       "      <td>19</td>\n",
       "      <td>8</td>\n",
       "      <td>3.247411e+06</td>\n",
       "    </tr>\n",
       "    <tr>\n",
       "      <th>5</th>\n",
       "      <td>31</td>\n",
       "      <td>13</td>\n",
       "      <td>2.838870e+06</td>\n",
       "    </tr>\n",
       "  </tbody>\n",
       "</table>\n",
       "</div>"
      ],
      "text/plain": [
       "   Store  Dept           MSE\n",
       "0      1    13  2.632013e+06\n",
       "1      4     4  7.575833e+06\n",
       "2      8    13  1.527327e+06\n",
       "3     13     8  5.026340e+06\n",
       "4     19     8  3.247411e+06\n",
       "5     31    13  2.838870e+06"
      ]
     },
     "metadata": {},
     "output_type": "display_data"
    },
    {
     "data": {
      "text/html": [
       "<div>\n",
       "<style scoped>\n",
       "    .dataframe tbody tr th:only-of-type {\n",
       "        vertical-align: middle;\n",
       "    }\n",
       "\n",
       "    .dataframe tbody tr th {\n",
       "        vertical-align: top;\n",
       "    }\n",
       "\n",
       "    .dataframe thead th {\n",
       "        text-align: right;\n",
       "    }\n",
       "</style>\n",
       "<table border=\"1\" class=\"dataframe\">\n",
       "  <thead>\n",
       "    <tr style=\"text-align: right;\">\n",
       "      <th></th>\n",
       "      <th>Store</th>\n",
       "      <th>Dept</th>\n",
       "      <th>MAE</th>\n",
       "    </tr>\n",
       "  </thead>\n",
       "  <tbody>\n",
       "    <tr>\n",
       "      <th>0</th>\n",
       "      <td>1</td>\n",
       "      <td>13</td>\n",
       "      <td>1292.421833</td>\n",
       "    </tr>\n",
       "    <tr>\n",
       "      <th>1</th>\n",
       "      <td>4</td>\n",
       "      <td>4</td>\n",
       "      <td>2334.590833</td>\n",
       "    </tr>\n",
       "    <tr>\n",
       "      <th>2</th>\n",
       "      <td>8</td>\n",
       "      <td>13</td>\n",
       "      <td>1000.556500</td>\n",
       "    </tr>\n",
       "    <tr>\n",
       "      <th>3</th>\n",
       "      <td>13</td>\n",
       "      <td>8</td>\n",
       "      <td>1949.740000</td>\n",
       "    </tr>\n",
       "    <tr>\n",
       "      <th>4</th>\n",
       "      <td>19</td>\n",
       "      <td>8</td>\n",
       "      <td>1451.824333</td>\n",
       "    </tr>\n",
       "    <tr>\n",
       "      <th>5</th>\n",
       "      <td>31</td>\n",
       "      <td>13</td>\n",
       "      <td>1133.924833</td>\n",
       "    </tr>\n",
       "  </tbody>\n",
       "</table>\n",
       "</div>"
      ],
      "text/plain": [
       "   Store  Dept          MAE\n",
       "0      1    13  1292.421833\n",
       "1      4     4  2334.590833\n",
       "2      8    13  1000.556500\n",
       "3     13     8  1949.740000\n",
       "4     19     8  1451.824333\n",
       "5     31    13  1133.924833"
      ]
     },
     "metadata": {},
     "output_type": "display_data"
    },
    {
     "data": {
      "text/html": [
       "<div>\n",
       "<style scoped>\n",
       "    .dataframe tbody tr th:only-of-type {\n",
       "        vertical-align: middle;\n",
       "    }\n",
       "\n",
       "    .dataframe tbody tr th {\n",
       "        vertical-align: top;\n",
       "    }\n",
       "\n",
       "    .dataframe thead th {\n",
       "        text-align: right;\n",
       "    }\n",
       "</style>\n",
       "<table border=\"1\" class=\"dataframe\">\n",
       "  <thead>\n",
       "    <tr style=\"text-align: right;\">\n",
       "      <th></th>\n",
       "      <th>Store</th>\n",
       "      <th>Dept</th>\n",
       "      <th>MAPE</th>\n",
       "    </tr>\n",
       "  </thead>\n",
       "  <tbody>\n",
       "    <tr>\n",
       "      <th>0</th>\n",
       "      <td>1</td>\n",
       "      <td>13</td>\n",
       "      <td>0.031511</td>\n",
       "    </tr>\n",
       "    <tr>\n",
       "      <th>1</th>\n",
       "      <td>4</td>\n",
       "      <td>4</td>\n",
       "      <td>0.037989</td>\n",
       "    </tr>\n",
       "    <tr>\n",
       "      <th>2</th>\n",
       "      <td>8</td>\n",
       "      <td>13</td>\n",
       "      <td>0.038785</td>\n",
       "    </tr>\n",
       "    <tr>\n",
       "      <th>3</th>\n",
       "      <td>13</td>\n",
       "      <td>8</td>\n",
       "      <td>0.055399</td>\n",
       "    </tr>\n",
       "    <tr>\n",
       "      <th>4</th>\n",
       "      <td>19</td>\n",
       "      <td>8</td>\n",
       "      <td>0.035288</td>\n",
       "    </tr>\n",
       "    <tr>\n",
       "      <th>5</th>\n",
       "      <td>31</td>\n",
       "      <td>13</td>\n",
       "      <td>0.026853</td>\n",
       "    </tr>\n",
       "  </tbody>\n",
       "</table>\n",
       "</div>"
      ],
      "text/plain": [
       "   Store  Dept      MAPE\n",
       "0      1    13  0.031511\n",
       "1      4     4  0.037989\n",
       "2      8    13  0.038785\n",
       "3     13     8  0.055399\n",
       "4     19     8  0.035288\n",
       "5     31    13  0.026853"
      ]
     },
     "metadata": {},
     "output_type": "display_data"
    }
   ],
   "source": [
    "# Mean Squared Error\n",
    "mse = get_score_by_group(group_cols=['Store','Dept'],  actual_col='Weekly_Sales', pred_col='Weekly_Sales.predicted', df=df_scored, meric=metrics.mean_squared_error, score_name='MSE')\n",
    "display(mse)\n",
    "# Mean Absolute Error\n",
    "mae = get_score_by_group(group_cols=['Store','Dept'],  actual_col='Weekly_Sales', pred_col='Weekly_Sales.predicted', df=df_scored, meric=metrics.mean_absolute_error, score_name='MAE')\n",
    "display(mae)\n",
    "# Mean Absolute Percent Error\n",
    "mape = get_score_by_group(group_cols=['Store','Dept'],  actual_col='Weekly_Sales', pred_col='Weekly_Sales.predicted', df=df_scored, meric=metrics.mean_absolute_percentage_error, score_name='MAPE')\n",
    "display(mape)"
   ]
  },
  {
   "cell_type": "markdown",
   "metadata": {},
   "source": [
    "#### 予測値実測値の時系列プロット"
   ]
  },
  {
   "cell_type": "code",
   "execution_count": 110,
   "metadata": {
    "scrolled": false
   },
   "outputs": [],
   "source": [
    "def plot_actual_pred_overlay(group_cols: list, actual_col: str, pred_col: str, time_col: str, df: pd.DataFrame, fig_size=(10,1.5)):\n",
    "    df_groups = df[group_cols].drop_duplicates().reset_index(drop=True)  # グループ変数でのユニークな組み合わせDataFrame\n",
    "    print('組み合わせのグループ数とグループ変数の数：{}'.format(df_groups.shape))\n",
    "    for _, row in df_groups.iterrows(): # ユニークな組み合わせを一行ずつ\n",
    "        title = [str(col)+':'+str(val) for val,col in zip(row, group_cols)]\n",
    "        df_subset = df\n",
    "        for filter_val, col in zip(row, group_cols):  # group_colsでループさせ、必要な組み合わせにデータを絞る\n",
    "            df_subset = df_subset[df_subset[col]==filter_val]\n",
    "        plt.figure(figsize=fig_size)\n",
    "        plt.plot(df_subset[time_col], df_subset[actual_col])   # 実測\n",
    "        plt.plot(df_subset[time_col], df_subset[pred_col], linestyle='dashed')    # 予測\n",
    "        plt.title(title)"
   ]
  },
  {
   "cell_type": "code",
   "execution_count": 111,
   "metadata": {},
   "outputs": [
    {
     "name": "stdout",
     "output_type": "stream",
     "text": [
      "組み合わせのグループ数とグループ変数の数：(6, 2)\n"
     ]
    },
    {
     "data": {
      "image/png": "[encoded data removed]",
      "text/plain": [
       "<Figure size 720x108 with 1 Axes>"
      ]
     },
     "metadata": {
      "needs_background": "light"
     },
     "output_type": "display_data"
    },
    {
     "data": {
      "image/png": "[encoded data removed]",
      "text/plain": [
       "<Figure size 720x108 with 1 Axes>"
      ]
     },
     "metadata": {
      "needs_background": "light"
     },
     "output_type": "display_data"
    },
    {
     "data": {
      "image/png": "[encoded data removed]",
      "text/plain": [
       "<Figure size 720x108 with 1 Axes>"
      ]
     },
     "metadata": {
      "needs_background": "light"
     },
     "output_type": "display_data"
    },
    {
     "data": {
      "image/png": "[encoded data removed]",
      "text/plain": [
       "<Figure size 720x108 with 1 Axes>"
      ]
     },
     "metadata": {
      "needs_background": "light"
     },
     "output_type": "display_data"
    },
    {
     "data": {
      "image/png": "[encoded data removed]",
      "text/plain": [
       "<Figure size 720x108 with 1 Axes>"
      ]
     },
     "metadata": {
      "needs_background": "light"
     },
     "output_type": "display_data"
    },
    {
     "data": {
      "image/png": "[encoded data removed]",
      "text/plain": [
       "<Figure size 720x108 with 1 Axes>"
      ]
     },
     "metadata": {
      "needs_background": "light"
     },
     "output_type": "display_data"
    }
   ],
   "source": [
    "plot_actual_pred_overlay(group_cols=['Store','Dept'],  \n",
    "                         actual_col='Weekly_Sales', pred_col='Weekly_Sales.predicted', time_col='Date', df=df_scored)"
   ]
  },
  {
   "cell_type": "code",
   "execution_count": 93,
   "metadata": {},
   "outputs": [],
   "source": [
    "# DLしたファイルを削除\n",
    "os.remove(local_path)"
   ]
  },
  {
   "cell_type": "markdown",
   "metadata": {},
   "source": [
    "### MLI"
   ]
  },
  {
   "cell_type": "code",
   "execution_count": 95,
   "metadata": {},
   "outputs": [
    {
     "data": {
      "text/plain": [
       "    | Type           | Key                                  | Name\n",
       "----+----------------+--------------------------------------+----------\n",
       "  0 | Interpretation | e7a3f9ba-8548-11eb-afb9-0242ac110002 | wapenige\n",
       "  1 | Interpretation | 609eadea-8532-11eb-afb9-0242ac110002 | dekuhima\n",
       "  2 | Interpretation | 5e5ed168-8532-11eb-afb9-0242ac110002 | logegimu\n",
       "  3 | Interpretation | 6ca23e6c-7fcf-11eb-aca6-0242ac110002 | vamecihi\n",
       "  4 | Interpretation | 8a8b200a-7cab-11eb-83fe-0242ac110002 | fomodatu\n",
       "  5 | Interpretation | b495ad5e-77ef-11eb-ae7b-0242ac110002 | bubowafe\n",
       "  6 | Interpretation | b3aca93c-76f6-11eb-a90c-0242ac110002 | kabasoho\n",
       "  7 | Interpretation | d7236050-73f3-11eb-ab9b-0242ac110002 | rakehufa\n",
       "  8 | Interpretation | f3f4390e-65d7-11eb-b5cf-0242ac110002 | vocodolu\n",
       "  9 | Interpretation | 2b8e1486-6077-11eb-b16e-0242ac110002 | wesehobu\n",
       " 10 | Interpretation | f382aa5c-5c89-11eb-a8f5-0242ac110002 | danonaru"
      ]
     },
     "execution_count": 95,
     "metadata": {},
     "output_type": "execute_result"
    }
   ],
   "source": [
    "# 接続先Driverless AIのMLI　（iid table）\n",
    "dai.mli.iid.list()"
   ]
  },
  {
   "cell_type": "code",
   "execution_count": 96,
   "metadata": {},
   "outputs": [
    {
     "data": {
      "text/plain": [
       "    | Type           | Key                                  | Name\n",
       "----+----------------+--------------------------------------+----------\n",
       "  0 | Interpretation | e7a3f9ba-8548-11eb-afb9-0242ac110002 | wapenige\n",
       "  1 | Interpretation | 609eadea-8532-11eb-afb9-0242ac110002 | dekuhima\n",
       "  2 | Interpretation | 5e5ed168-8532-11eb-afb9-0242ac110002 | logegimu\n",
       "  3 | Interpretation | 6ca23e6c-7fcf-11eb-aca6-0242ac110002 | vamecihi\n",
       "  4 | Interpretation | 8a8b200a-7cab-11eb-83fe-0242ac110002 | fomodatu\n",
       "  5 | Interpretation | b495ad5e-77ef-11eb-ae7b-0242ac110002 | bubowafe\n",
       "  6 | Interpretation | b3aca93c-76f6-11eb-a90c-0242ac110002 | kabasoho\n",
       "  7 | Interpretation | d7236050-73f3-11eb-ab9b-0242ac110002 | rakehufa"
      ]
     },
     "execution_count": 96,
     "metadata": {},
     "output_type": "execute_result"
    }
   ],
   "source": [
    "# 接続先Driverless AIのMLI　（Time series）\n",
    "dai.mli.timeseries.list()"
   ]
  },
  {
   "cell_type": "code",
   "execution_count": 97,
   "metadata": {},
   "outputs": [
    {
     "data": {
      "text/plain": [
       "driverlessai._mli.Interpretation"
      ]
     },
     "execution_count": 97,
     "metadata": {},
     "output_type": "execute_result"
    }
   ],
   "source": [
    "# MLIの取得\n",
    "mli = dai.mli.timeseries.get(key='d7236050-73f3-11eb-ab9b-0242ac110002')\n",
    "#  7 | Interpretation | d7236050-73f3-11eb-ab9b-0242ac110002 | rakehufa\n",
    "type(mli)"
   ]
  },
  {
   "cell_type": "code",
   "execution_count": 98,
   "metadata": {},
   "outputs": [
    {
     "data": {
      "text/plain": [
       "['log']"
      ]
     },
     "execution_count": 98,
     "metadata": {},
     "output_type": "execute_result"
    }
   ],
   "source": [
    "# MLIで作成されたファイル\n",
    "mli.artifacts.list()\n",
    "\n",
    "# Time seriesはlogしかDLできるものがない"
   ]
  },
  {
   "cell_type": "code",
   "execution_count": 99,
   "metadata": {},
   "outputs": [
    {
     "name": "stdout",
     "output_type": "stream",
     "text": [
      "Downloaded 'mli_experiment_timeseries_logs_d7236050-73f3-11eb-ab9b-0242ac110002.zip'\n"
     ]
    },
    {
     "data": {
      "text/plain": [
       "{'log': 'mli_experiment_timeseries_logs_d7236050-73f3-11eb-ab9b-0242ac110002.zip'}"
      ]
     },
     "execution_count": 99,
     "metadata": {},
     "output_type": "execute_result"
    }
   ],
   "source": [
    "# 実行パス上へDL\n",
    "mli.artifacts.download()"
   ]
  },
  {
   "cell_type": "code",
   "execution_count": null,
   "metadata": {},
   "outputs": [],
   "source": []
  }
 ],
 "metadata": {
  "kernelspec": {
   "display_name": "Python 3",
   "language": "python",
   "name": "python3"
  },
  "language_info": {
   "codemirror_mode": {
    "name": "ipython",
    "version": 3
   },
   "file_extension": ".py",
   "mimetype": "text/x-python",
   "name": "python",
   "nbconvert_exporter": "python",
   "pygments_lexer": "ipython3",
   "version": "3.8.3"
  }
 },
 "nbformat": 4,
 "nbformat_minor": 4
}
