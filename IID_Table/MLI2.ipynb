{
 "cells": [
  {
   "cell_type": "markdown",
   "id": "30f64abb-91b4-4aea-a623-43b8fc880659",
   "metadata": {},
   "source": [
    "### DAI Machine Learning Interpretability (MLI)\n",
    "API Document: https://docs.h2o.ai/driverless-ai/pyclient/docs/html/api/mli.html  \n",
    "Examples: https://docs.h2o.ai/driverless-ai/pyclient/docs/html/examples/mli/access-explainer-data.html"
   ]
  },
  {
   "cell_type": "code",
   "execution_count": 1,
   "id": "1fff45a7-86d6-4545-8cee-af9d872e6ab6",
   "metadata": {},
   "outputs": [
    {
     "data": {
      "text/plain": [
       "'1.10.7'"
      ]
     },
     "execution_count": 1,
     "metadata": {},
     "output_type": "execute_result"
    }
   ],
   "source": [
    "import driverlessai\n",
    "#from vega import Vega\n",
    "\n",
    "driverlessai.__version__"
   ]
  },
  {
   "cell_type": "code",
   "execution_count": 2,
   "id": "a13c4455-9063-46e0-91fb-3fd377e910b5",
   "metadata": {},
   "outputs": [
    {
     "data": {
      "text/plain": [
       "<class 'driverlessai._core.Client'> http://18.143.93.66:12345"
      ]
     },
     "execution_count": 2,
     "metadata": {},
     "output_type": "execute_result"
    }
   ],
   "source": [
    "# Driverless AIサーバーへの接続\n",
    "dai = driverlessai.Client(address='http://18.143.93.66:12345', username='yuki', password='yuki')\n",
    "dai"
   ]
  },
  {
   "cell_type": "code",
   "execution_count": 3,
   "id": "f9e54033-6259-40cd-89dc-10364deb6864",
   "metadata": {},
   "outputs": [
    {
     "data": {
      "text/plain": [
       "    | Type    | Key                                  | Name\n",
       "----+---------+--------------------------------------+------------------------\n",
       "  0 | Dataset | 7f133952-513b-11ef-8970-0242ac110002 | TitanicData2.csv.test\n",
       "  1 | Dataset | 7f12e3f8-513b-11ef-8970-0242ac110002 | TitanicData2.csv.train\n",
       "  2 | Dataset | 6d8b4260-513b-11ef-8970-0242ac110002 | TitanicData2.csv"
      ]
     },
     "execution_count": 3,
     "metadata": {},
     "output_type": "execute_result"
    }
   ],
   "source": [
    "# 接続先Driverless AIのDatasets\n",
    "dai.datasets.list()"
   ]
  },
  {
   "cell_type": "code",
   "execution_count": 4,
   "id": "9bbe2218-8a80-41f0-a93b-f331bdd96754",
   "metadata": {},
   "outputs": [
    {
     "data": {
      "text/plain": [
       "    | Type       | Key                                  | Name\n",
       "----+------------+--------------------------------------+-----------------\n",
       "  0 | Experiment | 9d52d684-513b-11ef-8970-0242ac110002 | titanic-default"
      ]
     },
     "execution_count": 4,
     "metadata": {},
     "output_type": "execute_result"
    }
   ],
   "source": [
    "# 接続先Driverless AIのExperiments\n",
    "dai.experiments.list()"
   ]
  },
  {
   "cell_type": "code",
   "execution_count": 5,
   "id": "52d1a3fe-5c40-454a-9a8e-a659ce49751d",
   "metadata": {},
   "outputs": [
    {
     "data": {
      "text/plain": [
       "driverlessai._experiments.Experiment"
      ]
     },
     "execution_count": 5,
     "metadata": {},
     "output_type": "execute_result"
    }
   ],
   "source": [
    "# 特定のExperimentの取得\n",
    "experiment = dai.experiments.get(key=dai.experiments.list()[0].key)     # titanic-defaultを取得\n",
    "type(experiment)"
   ]
  },
  {
   "cell_type": "code",
   "execution_count": null,
   "id": "faee17c4-01fd-45e2-bca5-f29eba25dd22",
   "metadata": {},
   "outputs": [],
   "source": []
  },
  {
   "cell_type": "markdown",
   "id": "f0c88a5b-f01c-4565-8741-f847d5c69edf",
   "metadata": {},
   "source": [
    "### MLI"
   ]
  },
  {
   "cell_type": "code",
   "execution_count": 6,
   "id": "2df8af7f-6e20-4ab3-ab24-2d37b7f182cf",
   "metadata": {},
   "outputs": [
    {
     "data": {
      "text/plain": [
       "    | Type   | Key   | Name\n",
       "----+--------+-------+--------"
      ]
     },
     "execution_count": 6,
     "metadata": {},
     "output_type": "execute_result"
    }
   ],
   "source": [
    "dai.mli.list()"
   ]
  },
  {
   "cell_type": "code",
   "execution_count": 7,
   "id": "a07d3cca-4400-45c3-8db3-8a53bb2e9c56",
   "metadata": {},
   "outputs": [
    {
     "name": "stderr",
     "output_type": "stream",
     "text": [
      "/opt/anaconda3/envs/ML/lib/python3.10/site-packages/driverlessai/_commons_mli.py:273: FutureWarning: IIDMethods functionality will be migrated to driverlessai._mli.MLI\n",
      "  existing_names = [i.name for i in client.mli.iid.list()]\n"
     ]
    },
    {
     "name": "stdout",
     "output_type": "stream",
     "text": [
      "Complete 100.00% - Interpretation successfully finished.\n"
     ]
    }
   ],
   "source": [
    "# MLIの実行\n",
    "interpretation = dai.mli.create(\n",
    "    experiment=experiment,\n",
    "    name=\"mli-test\"\n",
    ")"
   ]
  },
  {
   "cell_type": "code",
   "execution_count": 8,
   "id": "e5ead8ac-d066-457e-87b1-79d4aedadc73",
   "metadata": {},
   "outputs": [
    {
     "data": {
      "text/plain": [
       "<class 'Interpretation'> 494a60f6-5ab5-11ef-ac0a-0242ac110002 mli-test"
      ]
     },
     "execution_count": 8,
     "metadata": {},
     "output_type": "execute_result"
    }
   ],
   "source": [
    "interpretation"
   ]
  },
  {
   "cell_type": "code",
   "execution_count": 9,
   "id": "ad08b4bc-a799-4a94-9ce7-9b000f364426",
   "metadata": {},
   "outputs": [
    {
     "name": "stderr",
     "output_type": "stream",
     "text": [
      "/var/folders/50/glkvvhjx03g22fwy2r0tgylr0000gn/T/ipykernel_6128/2428974936.py:1: UserWarning: 'Interpretation.explainers' is a beta API that is subject to future changes.\n",
      "  interpretation.explainers\n"
     ]
    },
    {
     "data": {
      "text/html": [
       "<table>\n",
       "<thead>\n",
       "<tr><th style=\"text-align: right;\">  </th><th>Key                                 </th><th>Name                                                             </th></tr>\n",
       "</thead>\n",
       "<tbody>\n",
       "<tr><td style=\"text-align: right;\"> 0</td><td>49837c1a-5ab5-11ef-ac0a-0242ac110002</td><td>Disparate Impact Analysis                                        </td></tr>\n",
       "<tr><td style=\"text-align: right;\"> 1</td><td>49839088-5ab5-11ef-ac0a-0242ac110002</td><td>Sensitivity Analysis                                             </td></tr>\n",
       "<tr><td style=\"text-align: right;\"> 2</td><td>498392f4-5ab5-11ef-ac0a-0242ac110002</td><td>Shapley Values for Original Features (Naive Method)              </td></tr>\n",
       "<tr><td style=\"text-align: right;\"> 3</td><td>4983951a-5ab5-11ef-ac0a-0242ac110002</td><td>Shapley Summary Plot for Original Features (Naive Shapley Method)</td></tr>\n",
       "<tr><td style=\"text-align: right;\"> 4</td><td>498396aa-5ab5-11ef-ac0a-0242ac110002</td><td>Shapley Values for Transformed Features                          </td></tr>\n",
       "<tr><td style=\"text-align: right;\"> 5</td><td>49839830-5ab5-11ef-ac0a-0242ac110002</td><td>Decision Tree                                                    </td></tr>\n",
       "<tr><td style=\"text-align: right;\"> 6</td><td>498399ac-5ab5-11ef-ac0a-0242ac110002</td><td>NLP Leave-one-covariate-out (LOCO)                               </td></tr>\n",
       "<tr><td style=\"text-align: right;\"> 7</td><td>49839b3c-5ab5-11ef-ac0a-0242ac110002</td><td>NLP Partial Dependence Plot                                      </td></tr>\n",
       "<tr><td style=\"text-align: right;\"> 8</td><td>49839cae-5ab5-11ef-ac0a-0242ac110002</td><td>Partial Dependence Plot                                          </td></tr>\n",
       "</tbody>\n",
       "</table>"
      ],
      "text/plain": [
       "    | Key                                  | Name\n",
       "----+--------------------------------------+-------------------------------------------------------------------\n",
       "  0 | 49837c1a-5ab5-11ef-ac0a-0242ac110002 | Disparate Impact Analysis\n",
       "  1 | 49839088-5ab5-11ef-ac0a-0242ac110002 | Sensitivity Analysis\n",
       "  2 | 498392f4-5ab5-11ef-ac0a-0242ac110002 | Shapley Values for Original Features (Naive Method)\n",
       "  3 | 4983951a-5ab5-11ef-ac0a-0242ac110002 | Shapley Summary Plot for Original Features (Naive Shapley Method)\n",
       "  4 | 498396aa-5ab5-11ef-ac0a-0242ac110002 | Shapley Values for Transformed Features\n",
       "  5 | 49839830-5ab5-11ef-ac0a-0242ac110002 | Decision Tree\n",
       "  6 | 498399ac-5ab5-11ef-ac0a-0242ac110002 | NLP Leave-one-covariate-out (LOCO)\n",
       "  7 | 49839b3c-5ab5-11ef-ac0a-0242ac110002 | NLP Partial Dependence Plot\n",
       "  8 | 49839cae-5ab5-11ef-ac0a-0242ac110002 | Partial Dependence Plot"
      ]
     },
     "execution_count": 9,
     "metadata": {},
     "output_type": "execute_result"
    }
   ],
   "source": [
    "interpretation.explainers"
   ]
  },
  {
   "cell_type": "code",
   "execution_count": 10,
   "id": "73dc0705-3466-4451-a69c-5700b311a314",
   "metadata": {},
   "outputs": [
    {
     "data": {
      "text/plain": [
       "    | Type           | Key                                  | Name\n",
       "----+----------------+--------------------------------------+----------\n",
       "  0 | Interpretation | 494a60f6-5ab5-11ef-ac0a-0242ac110002 | mli-test"
      ]
     },
     "execution_count": 10,
     "metadata": {},
     "output_type": "execute_result"
    }
   ],
   "source": [
    "dai.mli.list()"
   ]
  },
  {
   "cell_type": "markdown",
   "id": "7ca44784-7c76-4df7-8493-456109dc596d",
   "metadata": {},
   "source": [
    "【作成したMLI】\n",
    "<img src=\"img/mli.png\" width=800px>"
   ]
  },
  {
   "cell_type": "code",
   "execution_count": 11,
   "id": "d8ecac40-e281-46a9-afa0-e439aeddd9d4",
   "metadata": {},
   "outputs": [
    {
     "name": "stderr",
     "output_type": "stream",
     "text": [
      "/var/folders/50/glkvvhjx03g22fwy2r0tgylr0000gn/T/ipykernel_6128/2287243191.py:1: UserWarning: 'Interpretation.explainers' is a beta API that is subject to future changes.\n",
      "  native_shaply = interpretation.explainers[2]\n"
     ]
    },
    {
     "data": {
      "text/plain": [
       "<class 'Explainer'> 494a60f6-5ab5-11ef-ac0a-0242ac110002/498392f4-5ab5-11ef-ac0a-0242ac110002 Shapley Values for Original Features (Naive Method)"
      ]
     },
     "execution_count": 11,
     "metadata": {},
     "output_type": "execute_result"
    }
   ],
   "source": [
    "native_shaply = interpretation.explainers[2]\n",
    "native_shaply"
   ]
  },
  {
   "cell_type": "code",
   "execution_count": 12,
   "id": "f38902ee-b43e-404f-b600-2be260c1c3ca",
   "metadata": {},
   "outputs": [
    {
     "data": {
      "text/plain": [
       "{'title': {'text': 'Shapley Values for Original Features (Naive Method)',\n",
       "  'subtitle': 'Global bias: -0.52636, Target Transformation: LabelEncoder',\n",
       "  'align': 'right'},\n",
       " '$schema': 'https://vega.github.io/schema/vega-lite/v5.json',\n",
       " 'width': 600,\n",
       " 'height': 180,\n",
       " 'data': {'values': [{'label': 'sex',\n",
       "    'value': 1.218333,\n",
       "    'scope': 'global',\n",
       "    'value+bias': 0.6919745743827821},\n",
       "   {'label': 'pclass',\n",
       "    'value': 0.325957,\n",
       "    'scope': 'global',\n",
       "    'value+bias': -0.20040142561721802},\n",
       "   {'label': 'age',\n",
       "    'value': 0.254291,\n",
       "    'scope': 'global',\n",
       "    'value+bias': -0.27206742561721803},\n",
       "   {'label': 'fare',\n",
       "    'value': 0.238655,\n",
       "    'scope': 'global',\n",
       "    'value+bias': -0.287703425617218},\n",
       "   {'label': 'cabin',\n",
       "    'value': 0.208265,\n",
       "    'scope': 'global',\n",
       "    'value+bias': -0.318093425617218},\n",
       "   {'label': 'sibsp',\n",
       "    'value': 0.092146,\n",
       "    'scope': 'global',\n",
       "    'value+bias': -0.434212425617218}]},\n",
       " 'encoding': {'y': {'field': 'label',\n",
       "   'type': 'nominal',\n",
       "   'sort': {'field': 'x', 'op': 'average'},\n",
       "   'title': 'Feature name (ordered by average absolute Shapley value)'},\n",
       "  'x': {'field': 'value', 'type': 'quantitative', 'title': 'Shapley value'},\n",
       "  'color': {'field': 'scope'},\n",
       "  'yOffset': {'field': 'scope'},\n",
       "  'tooltip': [{'field': 'label', 'type': 'nominal', 'title': 'Feature name'},\n",
       "   {'field': 'value', 'type': 'quantitative'},\n",
       "   {'field': 'value+bias', 'type': 'quantitative'}]},\n",
       " 'layer': [{'mark': 'bar'},\n",
       "  {'mark': {'type': 'text', 'align': 'left', 'baseline': 'middle', 'dx': 5},\n",
       "   'encoding': {'text': {'field': 'value', 'type': 'quantitative'}}}]}"
      ]
     },
     "execution_count": 12,
     "metadata": {},
     "output_type": "execute_result"
    }
   ],
   "source": [
    "native_shaply.explanation_plots[0].get_plot()    # vega-lite/v3 形式"
   ]
  },
  {
   "cell_type": "code",
   "execution_count": 80,
   "id": "5030dcb5-d611-4381-b510-73aebb1b688b",
   "metadata": {},
   "outputs": [
    {
     "data": {
      "text/plain": [
       "dict"
      ]
     },
     "execution_count": 80,
     "metadata": {},
     "output_type": "execute_result"
    }
   ],
   "source": [
    "type(native_shaply.explanation_plots[0].get_plot())"
   ]
  },
  {
   "cell_type": "code",
   "execution_count": 19,
   "id": "7688b089-5d18-4747-8c73-8ac5b6f42489",
   "metadata": {},
   "outputs": [],
   "source": [
    "## 参考：https://github.com/jupyterlab/jupyterlab/tree/main/examples/vega ##\n",
    "from IPython.display import display\n",
    "def VegaLite_display(spec):\n",
    "    bundle = {}\n",
    "    bundle['application/vnd.vegalite.v4+json'] = spec\n",
    "    display(bundle, raw=True)"
   ]
  },
  {
   "cell_type": "code",
   "execution_count": 14,
   "id": "62b31bdf-a765-4e05-9edc-985dd7546200",
   "metadata": {},
   "outputs": [
    {
     "data": {
      "application/vnd.vegalite.v4+json": {
       "$schema": "https://vega.github.io/schema/vega-lite/v5.json",
       "data": {
        "values": [
         {
          "label": "sex",
          "scope": "global",
          "value": 1.218333,
          "value+bias": 0.6919745743827821
         },
         {
          "label": "pclass",
          "scope": "global",
          "value": 0.325957,
          "value+bias": -0.20040142561721802
         },
         {
          "label": "age",
          "scope": "global",
          "value": 0.254291,
          "value+bias": -0.27206742561721803
         },
         {
          "label": "fare",
          "scope": "global",
          "value": 0.238655,
          "value+bias": -0.287703425617218
         },
         {
          "label": "cabin",
          "scope": "global",
          "value": 0.208265,
          "value+bias": -0.318093425617218
         },
         {
          "label": "sibsp",
          "scope": "global",
          "value": 0.092146,
          "value+bias": -0.434212425617218
         }
        ]
       },
       "encoding": {
        "color": {
         "field": "scope"
        },
        "tooltip": [
         {
          "field": "label",
          "title": "Feature name",
          "type": "nominal"
         },
         {
          "field": "value",
          "type": "quantitative"
         },
         {
          "field": "value+bias",
          "type": "quantitative"
         }
        ],
        "x": {
         "field": "value",
         "title": "Shapley value",
         "type": "quantitative"
        },
        "y": {
         "field": "label",
         "sort": {
          "field": "x",
          "op": "average"
         },
         "title": "Feature name (ordered by average absolute Shapley value)",
         "type": "nominal"
        },
        "yOffset": {
         "field": "scope"
        }
       },
       "height": 180,
       "layer": [
        {
         "mark": "bar"
        },
        {
         "encoding": {
          "text": {
           "field": "value",
           "type": "quantitative"
          }
         },
         "mark": {
          "align": "left",
          "baseline": "middle",
          "dx": 5,
          "type": "text"
         }
        }
       ],
       "title": {
        "align": "right",
        "subtitle": "Global bias: -0.52636, Target Transformation: LabelEncoder",
        "text": "Shapley Values for Original Features (Naive Method)"
       },
       "width": 600
      },
      "image/png": "[encoded data removed]"
     },
     "metadata": {},
     "output_type": "display_data"
    }
   ],
   "source": [
    "VegaLite_display(native_shaply.explanation_plots[0].get_plot())"
   ]
  },
  {
   "cell_type": "code",
   "execution_count": 15,
   "id": "7049988d-148d-4d62-ba0f-6607ba68795a",
   "metadata": {},
   "outputs": [
    {
     "name": "stderr",
     "output_type": "stream",
     "text": [
      "/var/folders/50/glkvvhjx03g22fwy2r0tgylr0000gn/T/ipykernel_6128/3207575695.py:1: UserWarning: 'Interpretation.explainers' is a beta API that is subject to future changes.\n",
      "  pdp = interpretation.explainers[8]\n"
     ]
    },
    {
     "data": {
      "text/plain": [
       "<class 'Explainer'> 494a60f6-5ab5-11ef-ac0a-0242ac110002/49839cae-5ab5-11ef-ac0a-0242ac110002 Partial Dependence Plot"
      ]
     },
     "execution_count": 15,
     "metadata": {},
     "output_type": "execute_result"
    }
   ],
   "source": [
    "pdp = interpretation.explainers[8]\n",
    "pdp"
   ]
  },
  {
   "cell_type": "code",
   "execution_count": 16,
   "id": "d6599479-fe3f-4b01-9583-d7a126beea0a",
   "metadata": {},
   "outputs": [
    {
     "data": {
      "text/plain": [
       "{'title': {'text': 'Partial Dependence Plot',\n",
       "  'subtitle': '',\n",
       "  'align': 'center'},\n",
       " '$schema': 'https://vega.github.io/schema/vega-lite/v5.json',\n",
       " 'vconcat': [{'width': 800,\n",
       "   'height': 300,\n",
       "   'data': {'values': [{'bin': 0,\n",
       "      'pd': 0.39888817071914673,\n",
       "      'sd': 0.3316114842891693,\n",
       "      'oor': False,\n",
       "      'band_top': 0.730499655008316,\n",
       "      'band_bottom': 0.06727668642997742},\n",
       "     {'bin': 1,\n",
       "      'pd': 0.39581748843193054,\n",
       "      'sd': 0.3313959240913391,\n",
       "      'oor': False,\n",
       "      'band_top': 0.7272134125232697,\n",
       "      'band_bottom': 0.06442156434059143},\n",
       "     {'bin': 2,\n",
       "      'pd': 0.4040237069129944,\n",
       "      'sd': 0.3328492343425751,\n",
       "      'oor': False,\n",
       "      'band_top': 0.7368729412555695,\n",
       "      'band_bottom': 0.07117447257041931},\n",
       "     {'bin': 3,\n",
       "      'pd': 0.2675727903842926,\n",
       "      'sd': 0.3120537996292114,\n",
       "      'oor': False,\n",
       "      'band_top': 0.579626590013504,\n",
       "      'band_bottom': -0.04448100924491882},\n",
       "     {'bin': 4,\n",
       "      'pd': 0.26599565148353577,\n",
       "      'sd': 0.30915674567222595,\n",
       "      'oor': False,\n",
       "      'band_top': 0.5751523971557617,\n",
       "      'band_bottom': -0.043161094188690186},\n",
       "     {'bin': 5,\n",
       "      'pd': 0.269194096326828,\n",
       "      'sd': 0.3066881000995636,\n",
       "      'oor': False,\n",
       "      'band_top': 0.5758821964263916,\n",
       "      'band_bottom': -0.037494003772735596},\n",
       "     {'bin': 8,\n",
       "      'pd': 0.2911486327648163,\n",
       "      'sd': 0.3137224018573761,\n",
       "      'oor': False,\n",
       "      'band_top': 0.6048710346221924,\n",
       "      'band_bottom': -0.022573769092559814}]},\n",
       "   'layer': [{'mark': {'type': 'bar', 'opacity': 0.2},\n",
       "     'encoding': {'x': {'field': 'bin', 'type': 'ordinal', 'title': 'sibsp'},\n",
       "      'y': {'field': 'band_top',\n",
       "       'type': 'quantitative',\n",
       "       'title': 'Average prediction'},\n",
       "      'y2': {'field': 'band_bottom', 'type': 'quantitative', 'title': ''},\n",
       "      'tooltip': [{'field': 'bin', 'type': 'ordinal'},\n",
       "       {'field': 'pd', 'type': 'quantitative', 'title': 'Average prediction'},\n",
       "       {'field': 'sd',\n",
       "        'type': 'quantitative',\n",
       "        'title': 'Standard deviation'}]}},\n",
       "    {'mark': {'type': 'point'},\n",
       "     'encoding': {'y': {'field': 'pd', 'type': 'quantitative'},\n",
       "      'x': {'field': 'bin', 'type': 'ordinal'}}},\n",
       "    {'data': {'values': []},\n",
       "     'mark': 'point',\n",
       "     'encoding': {'x': {'field': 'bin', 'type': 'ordinal', 'title': 'sibsp'},\n",
       "      'y': {'field': 'ice',\n",
       "       'type': 'quantitative',\n",
       "       'title': 'Average prediction'},\n",
       "      'color': {'value': 'grey'},\n",
       "      'tooltip': [{'field': 'bin', 'type': 'ordinal'},\n",
       "       {'field': 'ice', 'type': 'quantitative'}]}}]},\n",
       "  {'width': 800,\n",
       "   'height': 100,\n",
       "   'data': {'values': [{'x': 0, 'frequency': 721},\n",
       "     {'x': 1, 'frequency': 250},\n",
       "     {'x': 2, 'frequency': 31},\n",
       "     {'x': 3, 'frequency': 18},\n",
       "     {'x': 4, 'frequency': 17},\n",
       "     {'x': 5, 'frequency': 6},\n",
       "     {'x': 8, 'frequency': 4}]},\n",
       "   'mark': {'type': 'bar'},\n",
       "   'encoding': {'x': {'field': 'x',\n",
       "     'type': 'ordinal',\n",
       "     'title': 'x',\n",
       "     'scale': {'zero': '', 'nice': ''}},\n",
       "    'y': {'field': 'frequency', 'type': 'quantitative'},\n",
       "    'tooltip': [{'field': 'frequency', 'type': 'quantitative'}]},\n",
       "   'config': {'binSpacing': 0}}]}"
      ]
     },
     "execution_count": 16,
     "metadata": {},
     "output_type": "execute_result"
    }
   ],
   "source": [
    "pdp.explanation_plots[0].get_plot()"
   ]
  },
  {
   "cell_type": "code",
   "execution_count": 18,
   "id": "4a310072-6ddf-4795-8839-fe60d5ed6c58",
   "metadata": {},
   "outputs": [
    {
     "data": {
      "application/vnd.vegalite.v4+json": {
       "$schema": "https://vega.github.io/schema/vega-lite/v5.json",
       "title": {
        "align": "center",
        "subtitle": "",
        "text": "Partial Dependence Plot"
       },
       "vconcat": [
        {
         "data": {
          "values": [
           {
            "band_bottom": 0.06727668642997742,
            "band_top": 0.730499655008316,
            "bin": 0,
            "oor": false,
            "pd": 0.39888817071914673,
            "sd": 0.3316114842891693
           },
           {
            "band_bottom": 0.06442156434059143,
            "band_top": 0.7272134125232697,
            "bin": 1,
            "oor": false,
            "pd": 0.39581748843193054,
            "sd": 0.3313959240913391
           },
           {
            "band_bottom": 0.07117447257041931,
            "band_top": 0.7368729412555695,
            "bin": 2,
            "oor": false,
            "pd": 0.4040237069129944,
            "sd": 0.3328492343425751
           },
           {
            "band_bottom": -0.04448100924491882,
            "band_top": 0.579626590013504,
            "bin": 3,
            "oor": false,
            "pd": 0.2675727903842926,
            "sd": 0.3120537996292114
           },
           {
            "band_bottom": -0.043161094188690186,
            "band_top": 0.5751523971557617,
            "bin": 4,
            "oor": false,
            "pd": 0.26599565148353577,
            "sd": 0.30915674567222595
           },
           {
            "band_bottom": -0.037494003772735596,
            "band_top": 0.5758821964263916,
            "bin": 5,
            "oor": false,
            "pd": 0.269194096326828,
            "sd": 0.3066881000995636
           },
           {
            "band_bottom": -0.022573769092559814,
            "band_top": 0.6048710346221924,
            "bin": 8,
            "oor": false,
            "pd": 0.2911486327648163,
            "sd": 0.3137224018573761
           }
          ]
         },
         "height": 300,
         "layer": [
          {
           "encoding": {
            "tooltip": [
             {
              "field": "bin",
              "type": "ordinal"
             },
             {
              "field": "pd",
              "title": "Average prediction",
              "type": "quantitative"
             },
             {
              "field": "sd",
              "title": "Standard deviation",
              "type": "quantitative"
             }
            ],
            "x": {
             "field": "bin",
             "title": "sibsp",
             "type": "ordinal"
            },
            "y": {
             "field": "band_top",
             "title": "Average prediction",
             "type": "quantitative"
            },
            "y2": {
             "field": "band_bottom",
             "title": "",
             "type": "quantitative"
            }
           },
           "mark": {
            "opacity": 0.2,
            "type": "bar"
           }
          },
          {
           "encoding": {
            "x": {
             "field": "bin",
             "type": "ordinal"
            },
            "y": {
             "field": "pd",
             "type": "quantitative"
            }
           },
           "mark": {
            "type": "point"
           }
          },
          {
           "data": {
            "values": []
           },
           "encoding": {
            "color": {
             "value": "grey"
            },
            "tooltip": [
             {
              "field": "bin",
              "type": "ordinal"
             },
             {
              "field": "ice",
              "type": "quantitative"
             }
            ],
            "x": {
             "field": "bin",
             "title": "sibsp",
             "type": "ordinal"
            },
            "y": {
             "field": "ice",
             "title": "Average prediction",
             "type": "quantitative"
            }
           },
           "mark": "point"
          }
         ],
         "width": 800
        },
        {
         "config": {
          "binSpacing": 0
         },
         "data": {
          "values": [
           {
            "frequency": 721,
            "x": 0
           },
           {
            "frequency": 250,
            "x": 1
           },
           {
            "frequency": 31,
            "x": 2
           },
           {
            "frequency": 18,
            "x": 3
           },
           {
            "frequency": 17,
            "x": 4
           },
           {
            "frequency": 6,
            "x": 5
           },
           {
            "frequency": 4,
            "x": 8
           }
          ]
         },
         "encoding": {
          "tooltip": [
           {
            "field": "frequency",
            "type": "quantitative"
           }
          ],
          "x": {
           "field": "x",
           "scale": {
            "nice": "",
            "zero": ""
           },
           "title": "x",
           "type": "ordinal"
          },
          "y": {
           "field": "frequency",
           "type": "quantitative"
          }
         },
         "height": 100,
         "mark": {
          "type": "bar"
         },
         "width": 800
        }
       ]
      },
      "image/png": "[encoded data removed]"
     },
     "metadata": {},
     "output_type": "display_data"
    }
   ],
   "source": [
    "VegaLite_display((pdp.explanation_plots[0].get_plot()))"
   ]
  },
  {
   "cell_type": "code",
   "execution_count": null,
   "id": "cc8cf3cb-8931-4cb2-a3b1-898880e8d8e8",
   "metadata": {},
   "outputs": [],
   "source": []
  },
  {
   "cell_type": "markdown",
   "id": "0c98eccd-d2fb-4907-bf3e-537865ecaa0b",
   "metadata": {},
   "source": [
    "#### 任意のExplainerの実行"
   ]
  },
  {
   "cell_type": "code",
   "execution_count": 20,
   "id": "a3e78576-9533-4bac-baa7-e62121e40d42",
   "metadata": {},
   "outputs": [
    {
     "data": {
      "text/plain": [
       "    | Type            | Key   | Name\n",
       "----+-----------------+-------+-------------------------------------------------------------------\n",
       "  0 | ExplainerRecipe |       | Absolute Permutation-Based Feature Importance\n",
       "  1 | ExplainerRecipe |       | AutoDoc\n",
       "  2 | ExplainerRecipe |       | Decision Tree\n",
       "  3 | ExplainerRecipe |       | Disparate Impact Analysis\n",
       "  4 | ExplainerRecipe |       | Friedman's H-statistic\n",
       "  5 | ExplainerRecipe |       | Interpretability Data Zip (Surrogate and Shapley Techniques)\n",
       "  6 | ExplainerRecipe |       | NLP Leave-one-covariate-out (LOCO)\n",
       "  7 | ExplainerRecipe |       | NLP Partial Dependence Plot\n",
       "  8 | ExplainerRecipe |       | NLP Tokenizer\n",
       "  9 | ExplainerRecipe |       | NLP Vectorizer + Linear Model (VLM) Text Feature Importance\n",
       " 10 | ExplainerRecipe |       | Original Feature Importance\n",
       " 11 | ExplainerRecipe |       | Partial Dependence Plot\n",
       " 12 | ExplainerRecipe |       | Partial Dependence Plot for Two Features\n",
       " 13 | ExplainerRecipe |       | Relative Permutation-Based Feature Importance\n",
       " 14 | ExplainerRecipe |       | Sensitivity Analysis\n",
       " 15 | ExplainerRecipe |       | Shapley Summary Plot for Original Features (Naive Shapley Method)\n",
       " 16 | ExplainerRecipe |       | Shapley Values for Original Features (Kernel SHAP Method)\n",
       " 17 | ExplainerRecipe |       | Shapley Values for Original Features (Naive Method)\n",
       " 18 | ExplainerRecipe |       | Shapley Values for Transformed Features\n",
       " 19 | ExplainerRecipe |       | Surrogate Random Forest Feature Importance\n",
       " 20 | ExplainerRecipe |       | Surrogate Random Forest Leave-one-covariate-out (LOCO)\n",
       " 21 | ExplainerRecipe |       | Surrogate Random Forest Partial Dependence Plot\n",
       " 22 | ExplainerRecipe |       | Transformed Feature Importance\n",
       " 23 | ExplainerRecipe |       | k-LIME/LIME-SUP\n",
       " 24 | ExplainerRecipe |       | Time series explainer"
      ]
     },
     "execution_count": 20,
     "metadata": {},
     "output_type": "execute_result"
    }
   ],
   "source": [
    "dai.recipes.explainers.list()"
   ]
  },
  {
   "cell_type": "code",
   "execution_count": 21,
   "id": "f638b127-ab2b-4046-bdb3-1b52dc4603b6",
   "metadata": {},
   "outputs": [
    {
     "data": {
      "text/plain": [
       "<class 'ExplainerRecipe'> Original Feature Importance"
      ]
     },
     "execution_count": 21,
     "metadata": {},
     "output_type": "execute_result"
    }
   ],
   "source": [
    "dai.recipes.explainers.list()[10]"
   ]
  },
  {
   "cell_type": "code",
   "execution_count": 22,
   "id": "e7493732-8241-4751-8d85-0c7d3089187f",
   "metadata": {},
   "outputs": [],
   "source": [
    "explainers = [dai.recipes.explainers.list()[10]]"
   ]
  },
  {
   "cell_type": "code",
   "execution_count": 23,
   "id": "b90db3a8-5df0-424d-a298-ce931162a6ec",
   "metadata": {},
   "outputs": [
    {
     "name": "stdout",
     "output_type": "stream",
     "text": [
      "Complete 100.00% - Interpretation successfully finished.\n"
     ]
    }
   ],
   "source": [
    "interpretation2 = dai.mli.create(\n",
    "    experiment=experiment,\n",
    "    explainers=explainers,\n",
    "    name=\"mli-test2\"\n",
    ")"
   ]
  },
  {
   "cell_type": "code",
   "execution_count": 24,
   "id": "6c4d5258-fa0b-45c0-8c08-ca6f10449c9b",
   "metadata": {},
   "outputs": [
    {
     "data": {
      "text/plain": [
       "    | Type           | Key                                  | Name\n",
       "----+----------------+--------------------------------------+-----------\n",
       "  0 | Interpretation | d937a412-5ab5-11ef-ac0a-0242ac110002 | mli-test2\n",
       "  1 | Interpretation | 494a60f6-5ab5-11ef-ac0a-0242ac110002 | mli-test"
      ]
     },
     "execution_count": 24,
     "metadata": {},
     "output_type": "execute_result"
    }
   ],
   "source": [
    "dai.mli.list()"
   ]
  },
  {
   "cell_type": "code",
   "execution_count": 25,
   "id": "ee945bd9-f765-4f87-a997-9ea43b2499d4",
   "metadata": {},
   "outputs": [
    {
     "name": "stderr",
     "output_type": "stream",
     "text": [
      "/var/folders/50/glkvvhjx03g22fwy2r0tgylr0000gn/T/ipykernel_6128/45200515.py:1: UserWarning: 'Interpretation.explainers' is a beta API that is subject to future changes.\n",
      "  interpretation2.explainers\n"
     ]
    },
    {
     "data": {
      "text/html": [
       "<table>\n",
       "<thead>\n",
       "<tr><th style=\"text-align: right;\">  </th><th>Key                                 </th><th>Name                       </th></tr>\n",
       "</thead>\n",
       "<tbody>\n",
       "<tr><td style=\"text-align: right;\"> 0</td><td>d970970e-5ab5-11ef-ac0a-0242ac110002</td><td>Original Feature Importance</td></tr>\n",
       "</tbody>\n",
       "</table>"
      ],
      "text/plain": [
       "    | Key                                  | Name\n",
       "----+--------------------------------------+-----------------------------\n",
       "  0 | d970970e-5ab5-11ef-ac0a-0242ac110002 | Original Feature Importance"
      ]
     },
     "execution_count": 25,
     "metadata": {},
     "output_type": "execute_result"
    }
   ],
   "source": [
    "interpretation2.explainers"
   ]
  },
  {
   "cell_type": "markdown",
   "id": "c6a3e551-a0d5-4f99-9d45-b22cb9e24cbc",
   "metadata": {},
   "source": [
    "<img src=\"img/mli2.png\" width=800px>"
   ]
  },
  {
   "cell_type": "code",
   "execution_count": 28,
   "id": "4b34493a-aeb5-4ce2-aba6-0e0dc1ea6f5d",
   "metadata": {},
   "outputs": [
    {
     "name": "stderr",
     "output_type": "stream",
     "text": [
      "/var/folders/50/glkvvhjx03g22fwy2r0tgylr0000gn/T/ipykernel_6128/1828882939.py:1: UserWarning: 'Interpretation.explainers' is a beta API that is subject to future changes.\n",
      "  interpretation2.explainers[0]\n"
     ]
    },
    {
     "data": {
      "text/plain": [
       "<class 'Explainer'> d937a412-5ab5-11ef-ac0a-0242ac110002/d970970e-5ab5-11ef-ac0a-0242ac110002 Original Feature Importance"
      ]
     },
     "execution_count": 28,
     "metadata": {},
     "output_type": "execute_result"
    }
   ],
   "source": [
    "interpretation2.explainers[0]"
   ]
  },
  {
   "cell_type": "code",
   "execution_count": 40,
   "id": "ad88eaf4-ec4b-4013-93cb-a2a4b9f20b5e",
   "metadata": {},
   "outputs": [
    {
     "name": "stderr",
     "output_type": "stream",
     "text": [
      "/var/folders/50/glkvvhjx03g22fwy2r0tgylr0000gn/T/ipykernel_6128/2514469082.py:1: UserWarning: 'Interpretation.explainers' is a beta API that is subject to future changes.\n",
      "  VegaLite_display(interpretation2.explainers[0].explanation_plots[0].get_plot())\n"
     ]
    },
    {
     "data": {
      "application/vnd.vegalite.v4+json": {
       "$schema": "https://vega.github.io/schema/vega-lite/v5.json",
       "data": {
        "values": [
         {
          "label": "sibsp",
          "scope": "global",
          "value": 1
         },
         {
          "label": "cabin",
          "scope": "global",
          "value": 0.7821
         },
         {
          "label": "age",
          "scope": "global",
          "value": 0.1962
         },
         {
          "label": "pclass",
          "scope": "global",
          "value": 0.1587
         },
         {
          "label": "parch",
          "scope": "global",
          "value": 0.042
         },
         {
          "label": "sex",
          "scope": "global",
          "value": 0.0418
         },
         {
          "label": "fare",
          "scope": "global",
          "value": 0.0202
         }
        ]
       },
       "encoding": {
        "color": {
         "field": "scope"
        },
        "tooltip": [
         {
          "field": "label",
          "title": "Feature name",
          "type": "nominal"
         },
         {
          "field": "value",
          "type": "quantitative"
         }
        ],
        "x": {
         "field": "value",
         "title": "Feature importance",
         "type": "quantitative"
        },
        "y": {
         "field": "label",
         "sort": {
          "field": "x",
          "op": "average"
         },
         "title": "Feature name (Ordered by feature importance value)",
         "type": "nominal"
        },
        "yOffset": {
         "field": "scope"
        }
       },
       "height": 210,
       "layer": [
        {
         "mark": "bar"
        },
        {
         "encoding": {
          "text": {
           "field": "value",
           "type": "quantitative"
          }
         },
         "mark": {
          "align": "left",
          "baseline": "middle",
          "dx": 5,
          "type": "text"
         }
        }
       ],
       "title": {
        "align": "right",
        "subtitle": "",
        "text": "Original Feature Importance"
       },
       "width": 600
      },
      "image/png": "[encoded data removed]"
     },
     "metadata": {},
     "output_type": "display_data"
    }
   ],
   "source": [
    "VegaLite_display(interpretation2.explainers[0].explanation_plots[0].get_plot())"
   ]
  },
  {
   "cell_type": "code",
   "execution_count": null,
   "id": "5976a1f8-3b06-4f8e-9ad2-c3ef574f94a7",
   "metadata": {},
   "outputs": [],
   "source": []
  }
 ],
 "metadata": {
  "kernelspec": {
   "display_name": "Python 3 (ipykernel)",
   "language": "python",
   "name": "python3"
  },
  "language_info": {
   "codemirror_mode": {
    "name": "ipython",
    "version": 3
   },
   "file_extension": ".py",
   "mimetype": "text/x-python",
   "name": "python",
   "nbconvert_exporter": "python",
   "pygments_lexer": "ipython3",
   "version": "3.10.14"
  }
 },
 "nbformat": 4,
 "nbformat_minor": 5
}
