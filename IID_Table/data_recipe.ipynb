{
 "cells": [
  {
   "cell_type": "markdown",
   "id": "02a3874e",
   "metadata": {},
   "source": [
    "# スコアリングデータへのData Recipeの適用と、予測の実施\n",
    "Driverless AI [Custom Recipe](https://docs.h2o.ai/driverless-ai/latest-stable/docs/userguide/custom-recipes.html)"
   ]
  },
  {
   "cell_type": "code",
   "execution_count": 1,
   "id": "9ff0ddb0",
   "metadata": {},
   "outputs": [],
   "source": [
    "import os\n",
    "import shutil\n",
    "import urllib\n",
    "import datetime\n",
    "\n",
    "import numpy as np\n",
    "import pandas as pd\n",
    "\n",
    "import driverlessai"
   ]
  },
  {
   "cell_type": "code",
   "execution_count": 78,
   "id": "7b2471ed",
   "metadata": {},
   "outputs": [
    {
     "data": {
      "text/plain": [
       "'1.9.3'"
      ]
     },
     "execution_count": 78,
     "metadata": {},
     "output_type": "execute_result"
    }
   ],
   "source": [
    "driverlessai.__version__"
   ]
  },
  {
   "cell_type": "code",
   "execution_count": 7,
   "id": "5e6719d1",
   "metadata": {},
   "outputs": [],
   "source": [
    "# Driverless AIのuser nameとpasswordの読み込み\n",
    "import json\n",
    "with open('../idpass.json') as f:\n",
    "    idpass = json.load(f)"
   ]
  },
  {
   "cell_type": "code",
   "execution_count": 8,
   "id": "66ae164f",
   "metadata": {},
   "outputs": [
    {
     "data": {
      "text/plain": [
       "<class 'driverlessai._core.Client'> http://3.91.96.189"
      ]
     },
     "execution_count": 8,
     "metadata": {},
     "output_type": "execute_result"
    }
   ],
   "source": [
    "# Driverless AIサーバーへの接続\n",
    "dai = driverlessai.Client(address='http://3.91.96.189', username=idpass['id'], password=idpass['pass1930'])\n",
    "dai"
   ]
  },
  {
   "cell_type": "markdown",
   "id": "8dd1c129",
   "metadata": {},
   "source": [
    "## Experimentの選択"
   ]
  },
  {
   "cell_type": "code",
   "execution_count": 9,
   "id": "96280621",
   "metadata": {},
   "outputs": [
    {
     "data": {
      "text/plain": [
       "    | Type       | Key                                  | Name\n",
       "----+------------+--------------------------------------+------------------\n",
       "  0 | Experiment | eaae200e-0c7f-11ec-8e41-0242ac110002 | amazon_mulCate_1\n",
       "  1 | Experiment | 2f48f7fc-ffb5-11eb-9071-0242ac110002 | uci_cc_optTest2\n",
       "  2 | Experiment | 3abf4f32-ffb0-11eb-9071-0242ac110002 | uci_cc_optTest\n",
       "  3 | Experiment | 35f57a7c-da11-11eb-9ecf-0242ac110002 | boston2\n",
       "  4 | Experiment | e4e76344-d9f6-11eb-9ecf-0242ac110002 | credit1\n",
       "  5 | Experiment | a5b5eab4-d3ad-11eb-a4fa-0242ac110002 | saimple1\n",
       "  6 | Experiment | 8f6c7d7c-d3ad-11eb-a4fa-0242ac110002 | boston1"
      ]
     },
     "execution_count": 9,
     "metadata": {},
     "output_type": "execute_result"
    }
   ],
   "source": [
    "# 接続先Driverless AIのExperiments\n",
    "dai.experiments.list()"
   ]
  },
  {
   "cell_type": "code",
   "execution_count": 10,
   "id": "c23d7cf4",
   "metadata": {},
   "outputs": [
    {
     "data": {
      "text/plain": [
       "driverlessai._experiments.Experiment"
      ]
     },
     "execution_count": 10,
     "metadata": {},
     "output_type": "execute_result"
    }
   ],
   "source": [
    "# 特定のExperimentの取得\n",
    "experiment = dai.experiments.get(key='eaae200e-0c7f-11ec-8e41-0242ac110002')\n",
    "type(experiment)"
   ]
  },
  {
   "cell_type": "code",
   "execution_count": 11,
   "id": "74bbac1d",
   "metadata": {},
   "outputs": [
    {
     "data": {
      "text/plain": [
       "{'train_dataset': <class 'Dataset'> efb0cd00-0c7e-11ec-8e41-0242ac110002 amazon_reviews_JP_MultiCategory_train_TOKEN,\n",
       " 'validation_dataset': None,\n",
       " 'test_dataset': <class 'Dataset'> ae85d7f2-0c7f-11ec-8e41-0242ac110002 amazon_reviews_JP_MultiCategory_test_TOKEN}"
      ]
     },
     "execution_count": 11,
     "metadata": {},
     "output_type": "execute_result"
    }
   ],
   "source": [
    "# Experimentのデータ\n",
    "experiment.datasets"
   ]
  },
  {
   "cell_type": "code",
   "execution_count": 12,
   "id": "f9d7ebd5",
   "metadata": {},
   "outputs": [
    {
     "data": {
      "text/plain": [
       "'product_category'"
      ]
     },
     "execution_count": 12,
     "metadata": {},
     "output_type": "execute_result"
    }
   ],
   "source": [
    "# ターゲット変数\n",
    "experiment.settings['target_column']"
   ]
  },
  {
   "cell_type": "code",
   "execution_count": 13,
   "id": "54679167",
   "metadata": {},
   "outputs": [
    {
     "name": "stdout",
     "output_type": "stream",
     "text": [
      "--- product_category ---\n",
      "\n",
      "  Toys|█████████████████\n",
      "    PC|██████████████\n",
      " Other|████████████████████\n",
      "\n",
      "Data Type: str\n",
      "Logical Types: []\n",
      "Datetime Format: \n",
      "Count: 15583\n",
      "Missing: 0\n",
      "Unique: 6\n",
      "Freq: 5242\n"
     ]
    }
   ],
   "source": [
    "# ターゲット変数のサマリ\n",
    "print(experiment.datasets['train_dataset'].column_summaries()[experiment.settings['target_column']])\n",
    "\n",
    "# 6水準のカテゴリカルデータ"
   ]
  },
  {
   "cell_type": "code",
   "execution_count": 14,
   "id": "08697ef8",
   "metadata": {},
   "outputs": [
    {
     "data": {
      "text/plain": [
       "['C1', 'review_id', 'product_id', 'product_title']"
      ]
     },
     "execution_count": 14,
     "metadata": {},
     "output_type": "execute_result"
    }
   ],
   "source": [
    "# Dropped Columns\n",
    "experiment.settings['drop_columns']"
   ]
  },
  {
   "cell_type": "code",
   "execution_count": 15,
   "id": "a79f49f7",
   "metadata": {},
   "outputs": [
    {
     "name": "stdout",
     "output_type": "stream",
     "text": [
      "Status: Complete\n",
      "Experiment: amazon_mulCate_1 (eaae200e-0c7f-11ec-8e41-0242ac110002)\n",
      "  Version: 1.9.3, 2021-09-03 06:29\n",
      "  Settings: 2/2/7, seed=176118131, GPUs disabled\n",
      "  Train data: amazon_reviews_JP_MultiCategory_train_TOKEN (15583, 5)\n",
      "  Validation data: N/A\n",
      "  Test data: [Test] (2751, 4)\n",
      "  Target column: product_category (6-class)\n",
      "System specs: Docker/Linux, 31 GB, 8 CPU cores, 0/0 GPU\n",
      "  Max memory usage: 0.679 GB, 0 GB GPU\n",
      "Recipe: AutoDL (7 iterations, 2 individuals)\n",
      "  Validation scheme: stratified, 1 internal holdout\n",
      "  Feature engineering: 134 features scored (58 selected)\n",
      "Timing: MOJO latency: 0.57213 millis (672.4kB)\n",
      "  Data preparation: 5.11 secs\n",
      "  Shift/Leakage detection: 1.88 secs\n",
      "  Model and feature tuning: 29.76 secs (6 models trained)\n",
      "  Feature evolution: 9.17 secs (2 of 22 models trained)\n",
      "  Final pipeline training: 44.67 secs (9 models trained)\n",
      "  Python / MOJO scorer building: 42.35 secs / 13.66 secs\n",
      "Validation score: LOGLOSS = 1.52847 (constant preds)\n",
      "Validation score: LOGLOSS = 1.449944 +/- 2.220446e-16 (baseline)\n",
      "Validation score: LOGLOSS = 1.215325 +/- 0 (final pipeline)\n",
      "Test score:       LOGLOSS = 1.224894 +/- 4.440892e-16 (final pipeline)\n"
     ]
    }
   ],
   "source": [
    "# Experiment結果のサマリ\n",
    "experiment.summary()"
   ]
  },
  {
   "cell_type": "markdown",
   "id": "b3952c90",
   "metadata": {},
   "source": [
    "## 予測の実施"
   ]
  },
  {
   "cell_type": "code",
   "execution_count": 16,
   "id": "cd73e243",
   "metadata": {},
   "outputs": [
    {
     "data": {
      "text/plain": [
       "'../data/amazon_reviews_JP_MultiCategory_scoring.csv'"
      ]
     },
     "execution_count": 16,
     "metadata": {},
     "output_type": "execute_result"
    }
   ],
   "source": [
    "# ローカルにあるスコアリングデータ\n",
    "scoring_data = 'amazon_reviews_JP_MultiCategory_scoring.csv'\n",
    "scoring_data_path = os.path.join('..', 'data', scoring_data)\n",
    "scoring_data_path"
   ]
  },
  {
   "cell_type": "code",
   "execution_count": 17,
   "id": "1cf98e6a",
   "metadata": {},
   "outputs": [
    {
     "data": {
      "text/plain": [
       "'scoring_20210906-073019'"
      ]
     },
     "execution_count": 17,
     "metadata": {},
     "output_type": "execute_result"
    }
   ],
   "source": [
    "# スコアリングデータのDriverless上で指定する名前（実行時点日時）\n",
    "scoring_data_name = 'scoring_' + datetime.datetime.now().strftime('%Y%m%d-%H%M%S')\n",
    "scoring_data_name"
   ]
  },
  {
   "cell_type": "code",
   "execution_count": 18,
   "id": "a037b871",
   "metadata": {},
   "outputs": [
    {
     "name": "stdout",
     "output_type": "stream",
     "text": [
      "Complete 100.00% - [4/4] Computed stats for column review\n"
     ]
    }
   ],
   "source": [
    "# スコアリングデータをクライアント環境からDriveless AIへアップロード\n",
    "data_to_predict = dai.datasets.create(data=scoring_data_path, \n",
    "                                                                    data_source='upload', \n",
    "                                                                    name=scoring_data_name, \n",
    "                                                                    force=True)"
   ]
  },
  {
   "cell_type": "code",
   "execution_count": 19,
   "id": "c918fc3d",
   "metadata": {},
   "outputs": [
    {
     "data": {
      "text/plain": [
       "<class 'Dataset'> dba0e0ae-0e98-11ec-b41d-0242ac110002 scoring_20210906-073019"
      ]
     },
     "execution_count": 19,
     "metadata": {},
     "output_type": "execute_result"
    }
   ],
   "source": [
    "data_to_predict"
   ]
  },
  {
   "cell_type": "code",
   "execution_count": 20,
   "id": "ba30ca61",
   "metadata": {},
   "outputs": [
    {
     "data": {
      "text/plain": [
       "'scoring_20210906-073019'"
      ]
     },
     "execution_count": 20,
     "metadata": {},
     "output_type": "execute_result"
    }
   ],
   "source": [
    "data_to_predict.name"
   ]
  },
  {
   "cell_type": "code",
   "execution_count": 21,
   "id": "acbb4f2b",
   "metadata": {},
   "outputs": [
    {
     "data": {
      "text/html": [
       "<table>\n",
       "<thead>\n",
       "<tr><th>review_id     </th><th>product_id  </th><th>product_title                                                         </th><th style=\"text-align: right;\">  star_rating</th><th style=\"text-align: right;\">  helpful_votes</th><th>review_date  </th><th>review                                                                                                                                                                                                                                                                                                                                                                                                                                                                                                                                                                                                                                                                                                                                                                                                                                                                                                                                                                                                                                                                                                                                                                                                                                                                            </th></tr>\n",
       "</thead>\n",
       "<tbody>\n",
       "<tr><td>R14IFZ98UPM5YD</td><td>B009LGO88E  </td><td>ニンテンドー3DS LL 専用拡張スライドパッド                             </td><td style=\"text-align: right;\">            1</td><td style=\"text-align: right;\">             11</td><td>2012-12-14   </td><td>モンスターハンター3G用に購入&lt;br /&gt;LL本体がそこそこ重量あるので、それ＋スライドパッドでかなり重くなる&lt;br /&gt;普通に持っていても腕が疲れてくるので長時間のプレイには適さない&lt;br /&gt;個人的にはスライドパッドがあるからといって操作が格段に良くなる訳でもなく、むしろ腕に余計な負担がかかってゲームに集中できずイライラするだけなので一日使っただけで箱に戻した。LL本体の重量が携帯機であるギリギリの重さなんだなと思った。                                                                                                                                                                                                                                                                                                                                                                                                                                                                                                                                                                                                                                                                                                                                                                                                                                                              </td></tr>\n",
       "<tr><td>RRFAQCR7MBQSZ </td><td>B002KCNVMA  </td><td>レゴ (LEGO) シティ 空港 3182                                          </td><td style=\"text-align: right;\">            5</td><td style=\"text-align: right;\">              0</td><td>2012-08-18   </td><td>6才の子供と一緒に作りました。&lt;br /&gt;飛行機は思っていたよりも大きくて作って楽しめました。&lt;br /&gt;ドアの部分が難しかったようですが、他の部分は子供がほとんど作ることができました。&lt;br /&gt;空港も回転扉があったりチケットカウンターがあったりと結構リアルです。&lt;br /&gt;作りごたえがあり、親子とも非常に満足しています。                                                                                                                                                                                                                                                                                                                                                                                                                                                                                                                                                                                                                                                                                                                                                                                                                                                                                                                                                                     </td></tr>\n",
       "<tr><td>R1NEOQWC8FGQC5</td><td>B00712Y28Q  </td><td>figma METROID Other M  サムス・アラン(ABS&amp;PVC製塗装済み可動フィギュア)</td><td style=\"text-align: right;\">            5</td><td style=\"text-align: right;\">              4</td><td>2012-07-08   </td><td>まず、あの有名なサムス・アランがフィギュアとして実体化したことがとても嬉しく思います。&lt;br /&gt;当時はあの屈強なパワードスーツに金髪美女がいるなんて思いませんでしたが、、、&lt;br /&gt;このモデルはOther:Mのパワードスーツになりますね。&lt;br /&gt;&lt;br /&gt;まず塗装は全体的に非常に綺麗です。メタリック！&lt;br /&gt;塗装のはみ出しなんかもありませんでした。&lt;br /&gt;可動もかなり動くんではないでしょうか、常軌を逸したポーズ以外で作品中のポーズはだいたいこなせると思います。&lt;br /&gt;あと関節部分もすごく自然な感じで目立たないのがGoodです！足先は曲がるので地面を蹴り走るサムスの躍動感が出て良いですし、&lt;br /&gt;股の付け根は目立たないよう覆われています。&lt;br /&gt;&lt;br /&gt;しかし気になるのも股でしょうかね、股を開かせようとすると覆いの部分が干渉してすこし外れやすいことぐらいですかね。&lt;br /&gt;股を開かせようとするポージングなんてあまりしませんが笑&lt;br /&gt;&lt;br /&gt;あとは銃口が未塗装なのが残念ですね、主要武器の肝心な部分が塗装されていないのは良くないですよ、&lt;br /&gt;他がほぼ完璧なため目立ちます。&lt;br /&gt;付属品も少なめですし銃口パーツを付けても良かったのでは？&lt;br /&gt;&lt;br /&gt;結論としては超カッコイイ！サムスファンならもちろん買うべきですよこれは！&lt;br /&gt;&lt;br /&gt;願わくばスーパーメトロイドのスーツも欲しいなぁ（フュージョンのスーツは･･･自分は好きですが･･･）&lt;br /&gt;&lt;br /&gt;あとはモーフボールをどう飾れば…笑</td></tr>\n",
       "</tbody>\n",
       "</table>"
      ],
      "text/plain": [
       "<driverlessai._utils.Table at 0x7f8fa01b3580>"
      ]
     },
     "execution_count": 21,
     "metadata": {},
     "output_type": "execute_result"
    }
   ],
   "source": [
    "data_to_predict.head(3)"
   ]
  },
  {
   "cell_type": "markdown",
   "id": "3d50afdd",
   "metadata": {},
   "source": [
    "### Data Recipeの適用"
   ]
  },
  {
   "cell_type": "markdown",
   "id": "ff52fbb6",
   "metadata": {},
   "source": [
    "#### Data Recipe（元データに加工を加えて、新しいデータを作成  ）\n",
    "日本語テキストカラムをトークン化するデータレシピ: [tokenization_japanese.py](https://github.com/yukismd/Driverless_AI_Recipe/blob/main/Data_recipe/tokenization_japanese.py)\n",
    "- `cols_to_tokenize`にカラム名をリストで指定"
   ]
  },
  {
   "cell_type": "code",
   "execution_count": 22,
   "id": "4e0d5e4c",
   "metadata": {},
   "outputs": [
    {
     "data": {
      "text/plain": [
       "('../tmp/tokenization_japanese.py',\n",
       " <http.client.HTTPMessage at 0x7f8f9057beb0>)"
      ]
     },
     "execution_count": 22,
     "metadata": {},
     "output_type": "execute_result"
    }
   ],
   "source": [
    "# Data Recipeのダウンロード\n",
    "data_recipe_url = 'https://raw.githubusercontent.com/yukismd/Driverless_AI_Recipe/main/Data_recipe/tokenization_japanese.py'\n",
    "data_recipe_path = os.path.join('..', 'tmp', 'tokenization_japanese.py')   # 保存先\n",
    "\n",
    "urllib.request.urlretrieve(data_recipe_url, data_recipe_path)"
   ]
  },
  {
   "cell_type": "code",
   "execution_count": 23,
   "id": "6a0cbb46",
   "metadata": {},
   "outputs": [
    {
     "name": "stdout",
     "output_type": "stream",
     "text": [
      "../tmp/copied_data_recipe.py\n"
     ]
    },
    {
     "data": {
      "text/plain": [
       "'../tmp/copied_data_recipe.py'"
      ]
     },
     "execution_count": 23,
     "metadata": {},
     "output_type": "execute_result"
    }
   ],
   "source": [
    "# tokenization_japanese.pyのコピーを作成（copied_data_recipe.py）\n",
    "data_recipe_path_copy = os.path.join('..', 'tmp', 'copied_data_recipe.py')\n",
    "print(data_recipe_path_copy)\n",
    "shutil.copyfile(data_recipe_path, data_recipe_path_copy)"
   ]
  },
  {
   "cell_type": "code",
   "execution_count": 24,
   "id": "8ff0dcd9",
   "metadata": {},
   "outputs": [],
   "source": [
    "# トークン化を実施するカラム（学習データで用いたカラム名と一致している必要）\n",
    "text_colms = ['review']"
   ]
  },
  {
   "cell_type": "code",
   "execution_count": 25,
   "id": "bd7eba82",
   "metadata": {},
   "outputs": [
    {
     "data": {
      "text/plain": [
       "\"cols_to_tokenize = ['review']\""
      ]
     },
     "execution_count": 25,
     "metadata": {},
     "output_type": "execute_result"
    }
   ],
   "source": [
    "text_colms_to_replace = \"cols_to_tokenize = \" + str(text_colms)\n",
    "text_colms_to_replace   # 置換後の文字列"
   ]
  },
  {
   "cell_type": "code",
   "execution_count": 26,
   "id": "79e755f8",
   "metadata": {},
   "outputs": [],
   "source": [
    "# copied_data_recipe.pyのcols_to_tokenizeの置き換え\n",
    "\n",
    "with open(data_recipe_path_copy) as f:\n",
    "    text = f.read()\n",
    "\n",
    "text = text.replace(\"cols_to_tokenize = []\", text_colms_to_replace)   #テキストの置換\n",
    "\n",
    "with open(data_recipe_path_copy, mode=\"w\") as f:\n",
    "    f.write(text)"
   ]
  },
  {
   "cell_type": "code",
   "execution_count": 27,
   "id": "b9ac9a9e",
   "metadata": {},
   "outputs": [
    {
     "name": "stdout",
     "output_type": "stream",
     "text": [
      "\"\"\"\n",
      "Japanese text tokenization using janome package - https://mocobeta.github.io/janome/en/\n",
      "\"\"\"\n",
      "from typing import Union, List\n",
      "from h2oaicore.data import CustomData\n",
      "import datatable as dt\n",
      "import numpy as np\n",
      "import pandas as pd\n",
      "\n",
      "cols_to_tokenize = ['review']  # Column name list to tokenize\n",
      "\n",
      "_global_modules_needed_by_name = [\"janome\"]\n",
      "\n",
      "\n",
      "class TokenizeJapanese(CustomData):\n",
      "\n",
      "    @staticmethod\n",
      "    def create_data(X: dt.Frame = None) -> Union[str, List[str],\n",
      "                                                 dt.Frame, List[dt.Frame],\n",
      "                                                 np.ndarray, List[np.ndarray],\n",
      "                                                 pd.DataFrame, List[pd.DataFrame]]:\n",
      "        # exit gracefully if method is called as a data upload rather than data modify\n",
      "        if X is None:\n",
      "            return []\n",
      "        # Tokenize the chinese text\n",
      "        from janome.tokenizer import Tokenizer\n",
      "        t = Tokenizer(wakati=True)\n",
      "        X = dt.Frame(X).to_pandas()\n",
      "        # If no columns to tokenize, use the first column\n",
      "        if len(cols_to_tokenize) == 0:\n",
      "            cols_to_tokenize.append(X.columns[0])\n",
      "        for col in cols_to_tokenize:\n",
      "            X[col] = X[col].apply(lambda x: \" \".join([tkn for tkn in t.tokenize(x)]))\n",
      "        return dt.Frame(X)\n",
      "\n"
     ]
    }
   ],
   "source": [
    "# 置換できているか確認\n",
    "with open(data_recipe_path_copy, 'r') as f:\n",
    "    print(f.read())"
   ]
  },
  {
   "cell_type": "code",
   "execution_count": 28,
   "id": "2979964a",
   "metadata": {},
   "outputs": [
    {
     "data": {
      "text/plain": [
       "'scoring_20210906-073019_token'"
      ]
     },
     "execution_count": 28,
     "metadata": {},
     "output_type": "execute_result"
    }
   ],
   "source": [
    "# テキストカラムのトークン化後のスコアリングデータ名（Driverless上）\n",
    "scoring_data_name_token = data_to_predict.name + '_token'\n",
    "scoring_data_name_token"
   ]
  },
  {
   "cell_type": "markdown",
   "id": "0d302608",
   "metadata": {},
   "source": [
    "[Dataset.modify_by_recipe](https://docs.h2o.ai/driverless-ai/pyclient/docs/html/objects.html#driverlessai._datasets.Dataset.modify_by_recipe)"
   ]
  },
  {
   "cell_type": "code",
   "execution_count": 29,
   "id": "ecdd9722",
   "metadata": {},
   "outputs": [
    {
     "name": "stdout",
     "output_type": "stream",
     "text": [
      "Complete                                                            \n"
     ]
    }
   ],
   "source": [
    "# Data Recipeを適用\n",
    "data_to_predict_token = data_to_predict.modify_by_recipe(\n",
    "    recipe=data_recipe_path_copy,\n",
    "    names=[scoring_data_name_token]\n",
    ")"
   ]
  },
  {
   "cell_type": "code",
   "execution_count": 30,
   "id": "04eccd5b",
   "metadata": {},
   "outputs": [
    {
     "data": {
      "text/plain": [
       "<class 'Dataset'> 32971090-0e99-11ec-b41d-0242ac110002 scoring_20210906-073019_token"
      ]
     },
     "execution_count": 30,
     "metadata": {},
     "output_type": "execute_result"
    }
   ],
   "source": [
    "data_to_predict_token = data_to_predict_token[scoring_data_name_token]  # dictからDatasetオブジェクトを取り出す\n",
    "data_to_predict_token"
   ]
  },
  {
   "cell_type": "code",
   "execution_count": 31,
   "id": "9b897ed5",
   "metadata": {},
   "outputs": [
    {
     "data": {
      "text/html": [
       "<table>\n",
       "<thead>\n",
       "<tr><th>review_id     </th><th>product_id  </th><th>product_title                                                         </th><th style=\"text-align: right;\">  star_rating</th><th style=\"text-align: right;\">  helpful_votes</th><th>review_date  </th><th>review                                                                                                                                                                                                                                                                                                                                                                                                                                                                                                                                                                                                                                                                                                                                                                                                                                                                                                                                                                                                                                                                                                                                                                                                                                                                                                                                                                                                                                                                                                                                                                                                                                                                                    </th></tr>\n",
       "</thead>\n",
       "<tbody>\n",
       "<tr><td>R14IFZ98UPM5YD</td><td>B009LGO88E  </td><td>ニンテンドー3DS LL 専用拡張スライドパッド                             </td><td style=\"text-align: right;\">            1</td><td style=\"text-align: right;\">             11</td><td>2012-12-14   </td><td>モンスター ハンター 3 G 用 に 購入 &lt; br   /&gt; LL 本体 が そこそこ 重量 ある ので 、 それ ＋ スライド パッド で かなり 重く なる &lt; br   /&gt; 普通 に 持っ て い て も 腕 が 疲れ て くる ので 長時間 の プレイ に は 適さ ない &lt; br   /&gt; 個人 的 に は スライド パッド が ある から と いっ て 操作 が 格段 に 良く なる 訳 で も なく 、 むしろ 腕 に 余計 な 負担 が かかっ て ゲーム に 集中 でき ず イライラ する だけ な ので 一 日 使っ た だけ で 箱 に 戻し た 。 LL 本体 の 重量 が 携帯 機 で ある ギリギリ の 重 さ な ん だ な と 思っ た 。                                                                                                                                                                                                                                                                                                                                                                                                                                                                                                                                                                                                                                                                                                                                                                                                                                                                                                                                                                                                                                                                                                                                      </td></tr>\n",
       "<tr><td>RRFAQCR7MBQSZ </td><td>B002KCNVMA  </td><td>レゴ (LEGO) シティ 空港 3182                                          </td><td style=\"text-align: right;\">            5</td><td style=\"text-align: right;\">              0</td><td>2012-08-18   </td><td>6 才 の 子供 と 一緒 に 作り まし た 。 &lt; br   /&gt; 飛行機 は 思っ て い た より も 大きく て 作っ て 楽しめ まし た 。 &lt; br   /&gt; ドア の 部分 が 難しかっ た よう です が 、 他 の 部分 は 子供 が ほとんど 作る こと が でき まし た 。 &lt; br   /&gt; 空港 も 回転 扉 が あっ たり チケット カウンター が あっ たり と 結構 リアル です 。 &lt; br   /&gt; 作り ごたえ が あり 、 親子 とも 非常 に 満足 し て い ます 。                                                                                                                                                                                                                                                                                                                                                                                                                                                                                                                                                                                                                                                                                                                                                                                                                                                                                                                                                                                                                                                                                                                                                                                                                                                                           </td></tr>\n",
       "<tr><td>R1NEOQWC8FGQC5</td><td>B00712Y28Q  </td><td>figma METROID Other M  サムス・アラン(ABS&amp;PVC製塗装済み可動フィギュア)</td><td style=\"text-align: right;\">            5</td><td style=\"text-align: right;\">              4</td><td>2012-07-08   </td><td>まず 、 あの 有名 な サムス ・ アラン が フィギュア として 実体 化 し た こと が とても 嬉しく 思い ます 。 &lt; br   /&gt; 当時 は あの 屈強 な パワードスーツ に 金髪 美女 が いる なんて 思い ませ ん でし た が 、 、 、 &lt; br   /&gt; この モデル は Other : M の パワードスーツ に なり ます ね 。 &lt; br   /&gt;&lt; br   /&gt; まず 塗装 は 全体 的 に 非常 に 綺麗 です 。 メタ リック ！ &lt; br   /&gt; 塗装 の はみ出し なんか も あり ませ ん でし た 。 &lt; br   /&gt; 可動 も かなり 動く ん で は ない でしょ う か 、 常軌 を 逸し た ポーズ 以外 で 作品 中 の ポーズ は だいたい こなせる と 思い ます 。 &lt; br   /&gt; あと 関節 部分 も すごく 自然 な 感じ で 目立た ない の が Good です ！ 足 先 は 曲がる ので 地面 を 蹴り 走る サムス の 躍動 感 が 出 て 良い です し 、 &lt; br   /&gt; 股 の 付け根 は 目立た ない よう 覆わ れ て い ます 。 &lt; br   /&gt;&lt; br   /&gt; しかし 気 に なる の も 股 でしょ う か ね 、 股 を 開か せよ う と する と 覆い の 部分 が 干渉 し て すこし 外れ やすい こと ぐらい です か ね 。 &lt; br   /&gt; 股 を 開か せよ う と する ポージング なんて あまり し ませ ん が 笑 &lt; br   /&gt;&lt; br   /&gt; あと は 銃口 が 未 塗装 な の が 残念 です ね 、 主要 武器 の 肝心 な 部分 が 塗装 さ れ て い ない の は 良く ない です よ 、 &lt; br   /&gt; 他 が ほぼ 完璧 な ため 目立ち ます 。 &lt; br   /&gt; 付属 品 も 少なめ です し 銃口 パーツ を 付け て も 良かっ た の で は ？&lt; br   /&gt;&lt; br   /&gt; 結論 として は 超 カッコイイ ！ サムス ファン なら もちろん 買う べき です よ これ は ！&lt; br   /&gt;&lt; br   /&gt; 願 わく ば スーパーメトロイド の スーツ も 欲しい なぁ （ フュージョン の スーツ は ･･･ 自分 は 好き です が ･･･）&lt; br   /&gt;&lt; br   /&gt; あと は モーフボール を どう 飾れ ば … 笑</td></tr>\n",
       "</tbody>\n",
       "</table>"
      ],
      "text/plain": [
       "<driverlessai._utils.Table at 0x7f8fd1a2de80>"
      ]
     },
     "execution_count": 31,
     "metadata": {},
     "output_type": "execute_result"
    }
   ],
   "source": [
    "data_to_predict_token.head(3)\n",
    "\n",
    "# reviewにトークン化が実施されている"
   ]
  },
  {
   "cell_type": "markdown",
   "id": "33760652",
   "metadata": {},
   "source": [
    "### スコアリングの実施"
   ]
  },
  {
   "cell_type": "code",
   "execution_count": 32,
   "id": "dd0a00bc",
   "metadata": {},
   "outputs": [
    {
     "name": "stdout",
     "output_type": "stream",
     "text": [
      "Complete\n"
     ]
    }
   ],
   "source": [
    "# スコアリングの実施\n",
    "dai_prediction = experiment.predict(dataset=data_to_predict_token)"
   ]
  },
  {
   "cell_type": "code",
   "execution_count": 33,
   "id": "6b90d7ab",
   "metadata": {},
   "outputs": [
    {
     "data": {
      "text/plain": [
       "<driverlessai._experiments.Prediction at 0x7f8fd1a78280>"
      ]
     },
     "execution_count": 33,
     "metadata": {},
     "output_type": "execute_result"
    }
   ],
   "source": [
    "dai_prediction"
   ]
  },
  {
   "cell_type": "code",
   "execution_count": 34,
   "id": "44c89c09",
   "metadata": {},
   "outputs": [
    {
     "name": "stdout",
     "output_type": "stream",
     "text": [
      "Downloaded '../tmp/eaae200e-0c7f-11ec-8e41-0242ac110002_preds_f9661d86.csv'\n"
     ]
    }
   ],
   "source": [
    "# クライアント上に結果をダウンロード\n",
    "download_name = dai_prediction.download(dst_dir=os.path.join('..', 'tmp'), overwrite=True)   # DLとパス名の取得"
   ]
  },
  {
   "cell_type": "code",
   "execution_count": 35,
   "id": "5ee087cd",
   "metadata": {},
   "outputs": [
    {
     "name": "stdout",
     "output_type": "stream",
     "text": [
      "Driverless AI Server reported dataset dba0e0ae-0e98-11ec-b41d-0242ac110002 deleted.\n",
      "Driverless AI Server reported dataset 32971090-0e99-11ec-b41d-0242ac110002 deleted.\n"
     ]
    }
   ],
   "source": [
    "# Driveless上のデータ（アップしたスコアリングデータ、トークン化したデータ）を削除\n",
    "data_to_predict.delete()\n",
    "data_to_predict_token.delete()"
   ]
  },
  {
   "cell_type": "markdown",
   "id": "4ea5c8bb",
   "metadata": {},
   "source": [
    "## ローカルへの読み込み"
   ]
  },
  {
   "cell_type": "code",
   "execution_count": 36,
   "id": "cbbd772e",
   "metadata": {},
   "outputs": [
    {
     "name": "stdout",
     "output_type": "stream",
     "text": [
      "(25, 6)\n"
     ]
    },
    {
     "data": {
      "text/html": [
       "<div>\n",
       "<style scoped>\n",
       "    .dataframe tbody tr th:only-of-type {\n",
       "        vertical-align: middle;\n",
       "    }\n",
       "\n",
       "    .dataframe tbody tr th {\n",
       "        vertical-align: top;\n",
       "    }\n",
       "\n",
       "    .dataframe thead th {\n",
       "        text-align: right;\n",
       "    }\n",
       "</style>\n",
       "<table border=\"1\" class=\"dataframe\">\n",
       "  <thead>\n",
       "    <tr style=\"text-align: right;\">\n",
       "      <th></th>\n",
       "      <th>product_category.Camera</th>\n",
       "      <th>product_category.PC</th>\n",
       "      <th>product_category.Shoes</th>\n",
       "      <th>product_category.Toys</th>\n",
       "      <th>product_category.Video Games</th>\n",
       "      <th>product_category.Watches</th>\n",
       "    </tr>\n",
       "  </thead>\n",
       "  <tbody>\n",
       "    <tr>\n",
       "      <th>0</th>\n",
       "      <td>0.033033</td>\n",
       "      <td>0.657850</td>\n",
       "      <td>0.012718</td>\n",
       "      <td>0.034772</td>\n",
       "      <td>0.247328</td>\n",
       "      <td>0.014299</td>\n",
       "    </tr>\n",
       "    <tr>\n",
       "      <th>1</th>\n",
       "      <td>0.035455</td>\n",
       "      <td>0.080561</td>\n",
       "      <td>0.024357</td>\n",
       "      <td>0.843720</td>\n",
       "      <td>0.006359</td>\n",
       "      <td>0.009548</td>\n",
       "    </tr>\n",
       "    <tr>\n",
       "      <th>2</th>\n",
       "      <td>0.081445</td>\n",
       "      <td>0.087765</td>\n",
       "      <td>0.022668</td>\n",
       "      <td>0.308333</td>\n",
       "      <td>0.015241</td>\n",
       "      <td>0.484547</td>\n",
       "    </tr>\n",
       "    <tr>\n",
       "      <th>3</th>\n",
       "      <td>0.121096</td>\n",
       "      <td>0.251459</td>\n",
       "      <td>0.076027</td>\n",
       "      <td>0.500707</td>\n",
       "      <td>0.020909</td>\n",
       "      <td>0.029802</td>\n",
       "    </tr>\n",
       "    <tr>\n",
       "      <th>4</th>\n",
       "      <td>0.564591</td>\n",
       "      <td>0.281474</td>\n",
       "      <td>0.032015</td>\n",
       "      <td>0.087534</td>\n",
       "      <td>0.013452</td>\n",
       "      <td>0.020934</td>\n",
       "    </tr>\n",
       "  </tbody>\n",
       "</table>\n",
       "</div>"
      ],
      "text/plain": [
       "   product_category.Camera  product_category.PC  product_category.Shoes  \\\n",
       "0                 0.033033             0.657850                0.012718   \n",
       "1                 0.035455             0.080561                0.024357   \n",
       "2                 0.081445             0.087765                0.022668   \n",
       "3                 0.121096             0.251459                0.076027   \n",
       "4                 0.564591             0.281474                0.032015   \n",
       "\n",
       "   product_category.Toys  product_category.Video Games  \\\n",
       "0               0.034772                      0.247328   \n",
       "1               0.843720                      0.006359   \n",
       "2               0.308333                      0.015241   \n",
       "3               0.500707                      0.020909   \n",
       "4               0.087534                      0.013452   \n",
       "\n",
       "   product_category.Watches  \n",
       "0                  0.014299  \n",
       "1                  0.009548  \n",
       "2                  0.484547  \n",
       "3                  0.029802  \n",
       "4                  0.020934  "
      ]
     },
     "execution_count": 36,
     "metadata": {},
     "output_type": "execute_result"
    }
   ],
   "source": [
    "# DLしたスコアリング結果\n",
    "df_dai = pd.read_csv(download_name)\n",
    "print(df_dai.shape)\n",
    "df_dai.head()"
   ]
  },
  {
   "cell_type": "code",
   "execution_count": 37,
   "id": "1c871ede",
   "metadata": {},
   "outputs": [
    {
     "data": {
      "text/plain": [
       "['product_category.Camera',\n",
       " 'product_category.PC',\n",
       " 'product_category.Shoes',\n",
       " 'product_category.Toys',\n",
       " 'product_category.Video Games',\n",
       " 'product_category.Watches']"
      ]
     },
     "execution_count": 37,
     "metadata": {},
     "output_type": "execute_result"
    }
   ],
   "source": [
    "res_cols = df_dai.columns.to_list()\n",
    "res_cols"
   ]
  },
  {
   "cell_type": "code",
   "execution_count": 38,
   "id": "2574ec6e",
   "metadata": {},
   "outputs": [
    {
     "data": {
      "text/plain": [
       "['Camera', 'PC', 'Shoes', 'Toys', 'Video Games', 'Watches']"
      ]
     },
     "execution_count": 38,
     "metadata": {},
     "output_type": "execute_result"
    }
   ],
   "source": [
    "prod_category = [i.replace('product_category.', '') for i in res_cols]\n",
    "prod_category"
   ]
  },
  {
   "cell_type": "code",
   "execution_count": 70,
   "id": "38513bb6",
   "metadata": {},
   "outputs": [
    {
     "name": "stdout",
     "output_type": "stream",
     "text": [
      "(25, 7)\n",
      "(25, 13)\n"
     ]
    },
    {
     "data": {
      "text/html": [
       "<div>\n",
       "<style scoped>\n",
       "    .dataframe tbody tr th:only-of-type {\n",
       "        vertical-align: middle;\n",
       "    }\n",
       "\n",
       "    .dataframe tbody tr th {\n",
       "        vertical-align: top;\n",
       "    }\n",
       "\n",
       "    .dataframe thead th {\n",
       "        text-align: right;\n",
       "    }\n",
       "</style>\n",
       "<table border=\"1\" class=\"dataframe\">\n",
       "  <thead>\n",
       "    <tr style=\"text-align: right;\">\n",
       "      <th></th>\n",
       "      <th>review_id</th>\n",
       "      <th>product_id</th>\n",
       "      <th>product_title</th>\n",
       "      <th>star_rating</th>\n",
       "      <th>helpful_votes</th>\n",
       "      <th>review_date</th>\n",
       "      <th>review</th>\n",
       "      <th>product_category.Camera</th>\n",
       "      <th>product_category.PC</th>\n",
       "      <th>product_category.Shoes</th>\n",
       "      <th>product_category.Toys</th>\n",
       "      <th>product_category.Video Games</th>\n",
       "      <th>product_category.Watches</th>\n",
       "    </tr>\n",
       "  </thead>\n",
       "  <tbody>\n",
       "    <tr>\n",
       "      <th>0</th>\n",
       "      <td>R14IFZ98UPM5YD</td>\n",
       "      <td>B009LGO88E</td>\n",
       "      <td>ニンテンドー3DS LL 専用拡張スライドパッド</td>\n",
       "      <td>1</td>\n",
       "      <td>11</td>\n",
       "      <td>2012-12-14</td>\n",
       "      <td>モンスターハンター3G用に購入&lt;br /&gt;LL本体がそこそこ重量あるので、それ＋スライドパッ...</td>\n",
       "      <td>0.033033</td>\n",
       "      <td>0.657850</td>\n",
       "      <td>0.012718</td>\n",
       "      <td>0.034772</td>\n",
       "      <td>0.247328</td>\n",
       "      <td>0.014299</td>\n",
       "    </tr>\n",
       "    <tr>\n",
       "      <th>1</th>\n",
       "      <td>RRFAQCR7MBQSZ</td>\n",
       "      <td>B002KCNVMA</td>\n",
       "      <td>レゴ (LEGO) シティ 空港 3182</td>\n",
       "      <td>5</td>\n",
       "      <td>0</td>\n",
       "      <td>2012-08-18</td>\n",
       "      <td>6才の子供と一緒に作りました。&lt;br /&gt;飛行機は思っていたよりも大きくて作って楽しめました...</td>\n",
       "      <td>0.035455</td>\n",
       "      <td>0.080561</td>\n",
       "      <td>0.024357</td>\n",
       "      <td>0.843720</td>\n",
       "      <td>0.006359</td>\n",
       "      <td>0.009548</td>\n",
       "    </tr>\n",
       "    <tr>\n",
       "      <th>2</th>\n",
       "      <td>R1NEOQWC8FGQC5</td>\n",
       "      <td>B00712Y28Q</td>\n",
       "      <td>figma METROID Other M  サムス・アラン(ABS&amp;PVC製塗装済み可動フ...</td>\n",
       "      <td>5</td>\n",
       "      <td>4</td>\n",
       "      <td>2012-07-08</td>\n",
       "      <td>まず、あの有名なサムス・アランがフィギュアとして実体化したことがとても嬉しく思います。&lt;br...</td>\n",
       "      <td>0.081445</td>\n",
       "      <td>0.087765</td>\n",
       "      <td>0.022668</td>\n",
       "      <td>0.308333</td>\n",
       "      <td>0.015241</td>\n",
       "      <td>0.484547</td>\n",
       "    </tr>\n",
       "  </tbody>\n",
       "</table>\n",
       "</div>"
      ],
      "text/plain": [
       "        review_id  product_id  \\\n",
       "0  R14IFZ98UPM5YD  B009LGO88E   \n",
       "1   RRFAQCR7MBQSZ  B002KCNVMA   \n",
       "2  R1NEOQWC8FGQC5  B00712Y28Q   \n",
       "\n",
       "                                       product_title  star_rating  \\\n",
       "0                           ニンテンドー3DS LL 専用拡張スライドパッド            1   \n",
       "1                              レゴ (LEGO) シティ 空港 3182            5   \n",
       "2  figma METROID Other M  サムス・アラン(ABS&PVC製塗装済み可動フ...            5   \n",
       "\n",
       "   helpful_votes review_date  \\\n",
       "0             11  2012-12-14   \n",
       "1              0  2012-08-18   \n",
       "2              4  2012-07-08   \n",
       "\n",
       "                                              review  product_category.Camera  \\\n",
       "0  モンスターハンター3G用に購入<br />LL本体がそこそこ重量あるので、それ＋スライドパッ...                 0.033033   \n",
       "1  6才の子供と一緒に作りました。<br />飛行機は思っていたよりも大きくて作って楽しめました...                 0.035455   \n",
       "2  まず、あの有名なサムス・アランがフィギュアとして実体化したことがとても嬉しく思います。<br...                 0.081445   \n",
       "\n",
       "   product_category.PC  product_category.Shoes  product_category.Toys  \\\n",
       "0             0.657850                0.012718               0.034772   \n",
       "1             0.080561                0.024357               0.843720   \n",
       "2             0.087765                0.022668               0.308333   \n",
       "\n",
       "   product_category.Video Games  product_category.Watches  \n",
       "0                      0.247328                  0.014299  \n",
       "1                      0.006359                  0.009548  \n",
       "2                      0.015241                  0.484547  "
      ]
     },
     "execution_count": 70,
     "metadata": {},
     "output_type": "execute_result"
    }
   ],
   "source": [
    "# 元データへの結果の結合\n",
    "df_res = pd.read_csv(scoring_data_path)\n",
    "print(df_res.shape)\n",
    "\n",
    "df_res = pd.concat([df_res, df_dai], axis=1)\n",
    "print(df_res.shape)\n",
    "\n",
    "df_res.head(3)"
   ]
  },
  {
   "cell_type": "markdown",
   "id": "42b7f676",
   "metadata": {},
   "source": [
    "### 追加情報の付与"
   ]
  },
  {
   "cell_type": "code",
   "execution_count": 71,
   "id": "54501710",
   "metadata": {},
   "outputs": [],
   "source": [
    "def get_ranking(series):\n",
    "    ''' 「確率の高い順の商品カテゴリ」「確率を大きい順」のリストを返す\n",
    "    required:  prod_category which is ['Camera', 'PC', 'Shoes', 'Toys', 'Video Games', 'Watches']\n",
    "    '''\n",
    "    series = series.reset_index(drop=True)\n",
    "    # Ranked Product Category\n",
    "    prod_ranking = [prod_category[i] for i in series.argsort()]\n",
    "    prod_ranking.reverse()\n",
    "    # Ranked Prediction Value\n",
    "    prediction_ranking = [series[i] for i in series.argsort()]\n",
    "    prediction_ranking.reverse()\n",
    "    return (prod_ranking, prediction_ranking)"
   ]
  },
  {
   "cell_type": "code",
   "execution_count": 72,
   "id": "894977f7",
   "metadata": {},
   "outputs": [
    {
     "name": "stdout",
     "output_type": "stream",
     "text": [
      "(['PC', 'Video Games', 'Toys', 'Camera', 'Watches', 'Shoes'], [0.65785, 0.24732834, 0.03477205, 0.033033088, 0.014298992, 0.012717536])\n",
      "(['Toys', 'PC', 'Camera', 'Shoes', 'Watches', 'Video Games'], [0.8437197, 0.08056103, 0.035455216, 0.024357103, 0.009547653, 0.006359275])\n",
      "(['Watches', 'Toys', 'PC', 'Camera', 'Shoes', 'Video Games'], [0.4845471, 0.3083335, 0.08776479, 0.08144523, 0.022668106, 0.015241274])\n"
     ]
    }
   ],
   "source": [
    "print( get_ranking(df_res.loc[0, res_cols]) )\n",
    "print( get_ranking(df_res.loc[1, res_cols]) )\n",
    "print( get_ranking(df_res.loc[2, res_cols]) )"
   ]
  },
  {
   "cell_type": "code",
   "execution_count": 73,
   "id": "415e3791",
   "metadata": {},
   "outputs": [],
   "source": [
    "# 結果データに対して適用\n",
    "res_prod, res_prediction = [], []\n",
    "for i in df_res[res_cols].apply(get_ranking, axis=1):\n",
    "    res_prod.append(i[0])    # カテゴリーランキング\n",
    "    res_prediction.append(i[1])  # 予測値ランキング"
   ]
  },
  {
   "cell_type": "code",
   "execution_count": 76,
   "id": "9383fa0f",
   "metadata": {},
   "outputs": [
    {
     "data": {
      "text/plain": [
       "(25, 18)"
      ]
     },
     "execution_count": 76,
     "metadata": {},
     "output_type": "execute_result"
    }
   ],
   "source": [
    "# 結果データに変数として付与\n",
    "df_res['Rank1'] = np.array(res_prod)[:,0] \n",
    "df_res['Rank2'] = np.array(res_prod)[:,1]\n",
    "df_res['Rank3'] = np.array(res_prod)[:,2]\n",
    "df_res['Pred_Rank1'] = np.array(res_prediction)[:,0]\n",
    "df_res['Pred_Rank2'] = np.array(res_prediction)[:,1]\n",
    "df_res.shape"
   ]
  },
  {
   "cell_type": "code",
   "execution_count": 77,
   "id": "f4c2b876",
   "metadata": {},
   "outputs": [
    {
     "data": {
      "text/html": [
       "<div>\n",
       "<style scoped>\n",
       "    .dataframe tbody tr th:only-of-type {\n",
       "        vertical-align: middle;\n",
       "    }\n",
       "\n",
       "    .dataframe tbody tr th {\n",
       "        vertical-align: top;\n",
       "    }\n",
       "\n",
       "    .dataframe thead th {\n",
       "        text-align: right;\n",
       "    }\n",
       "</style>\n",
       "<table border=\"1\" class=\"dataframe\">\n",
       "  <thead>\n",
       "    <tr style=\"text-align: right;\">\n",
       "      <th></th>\n",
       "      <th>review_id</th>\n",
       "      <th>product_id</th>\n",
       "      <th>product_title</th>\n",
       "      <th>star_rating</th>\n",
       "      <th>helpful_votes</th>\n",
       "      <th>review_date</th>\n",
       "      <th>review</th>\n",
       "      <th>product_category.Camera</th>\n",
       "      <th>product_category.PC</th>\n",
       "      <th>product_category.Shoes</th>\n",
       "      <th>product_category.Toys</th>\n",
       "      <th>product_category.Video Games</th>\n",
       "      <th>product_category.Watches</th>\n",
       "      <th>Rank1</th>\n",
       "      <th>Rank2</th>\n",
       "      <th>Rank3</th>\n",
       "      <th>Pred_Rank1</th>\n",
       "      <th>Pred_Rank2</th>\n",
       "    </tr>\n",
       "  </thead>\n",
       "  <tbody>\n",
       "    <tr>\n",
       "      <th>0</th>\n",
       "      <td>R14IFZ98UPM5YD</td>\n",
       "      <td>B009LGO88E</td>\n",
       "      <td>ニンテンドー3DS LL 専用拡張スライドパッド</td>\n",
       "      <td>1</td>\n",
       "      <td>11</td>\n",
       "      <td>2012-12-14</td>\n",
       "      <td>モンスターハンター3G用に購入&lt;br /&gt;LL本体がそこそこ重量あるので、それ＋スライドパッ...</td>\n",
       "      <td>0.033033</td>\n",
       "      <td>0.657850</td>\n",
       "      <td>0.012718</td>\n",
       "      <td>0.034772</td>\n",
       "      <td>0.247328</td>\n",
       "      <td>0.014299</td>\n",
       "      <td>PC</td>\n",
       "      <td>Video Games</td>\n",
       "      <td>Toys</td>\n",
       "      <td>0.657850</td>\n",
       "      <td>0.247328</td>\n",
       "    </tr>\n",
       "    <tr>\n",
       "      <th>1</th>\n",
       "      <td>RRFAQCR7MBQSZ</td>\n",
       "      <td>B002KCNVMA</td>\n",
       "      <td>レゴ (LEGO) シティ 空港 3182</td>\n",
       "      <td>5</td>\n",
       "      <td>0</td>\n",
       "      <td>2012-08-18</td>\n",
       "      <td>6才の子供と一緒に作りました。&lt;br /&gt;飛行機は思っていたよりも大きくて作って楽しめました...</td>\n",
       "      <td>0.035455</td>\n",
       "      <td>0.080561</td>\n",
       "      <td>0.024357</td>\n",
       "      <td>0.843720</td>\n",
       "      <td>0.006359</td>\n",
       "      <td>0.009548</td>\n",
       "      <td>Toys</td>\n",
       "      <td>PC</td>\n",
       "      <td>Camera</td>\n",
       "      <td>0.843720</td>\n",
       "      <td>0.080561</td>\n",
       "    </tr>\n",
       "    <tr>\n",
       "      <th>2</th>\n",
       "      <td>R1NEOQWC8FGQC5</td>\n",
       "      <td>B00712Y28Q</td>\n",
       "      <td>figma METROID Other M  サムス・アラン(ABS&amp;PVC製塗装済み可動フ...</td>\n",
       "      <td>5</td>\n",
       "      <td>4</td>\n",
       "      <td>2012-07-08</td>\n",
       "      <td>まず、あの有名なサムス・アランがフィギュアとして実体化したことがとても嬉しく思います。&lt;br...</td>\n",
       "      <td>0.081445</td>\n",
       "      <td>0.087765</td>\n",
       "      <td>0.022668</td>\n",
       "      <td>0.308333</td>\n",
       "      <td>0.015241</td>\n",
       "      <td>0.484547</td>\n",
       "      <td>Watches</td>\n",
       "      <td>Toys</td>\n",
       "      <td>PC</td>\n",
       "      <td>0.484547</td>\n",
       "      <td>0.308333</td>\n",
       "    </tr>\n",
       "    <tr>\n",
       "      <th>3</th>\n",
       "      <td>R1LAKF7QVAA7ZB</td>\n",
       "      <td>B005M2V2K8</td>\n",
       "      <td>Beanie Boos ビーニー ブーズ  カシミア ネコ</td>\n",
       "      <td>4</td>\n",
       "      <td>0</td>\n",
       "      <td>2014-09-08</td>\n",
       "      <td>写真よりも全体的に顔のパーツが中央に寄った感じの物が届きました。&lt;br /&gt;あまり可愛くない...</td>\n",
       "      <td>0.121096</td>\n",
       "      <td>0.251459</td>\n",
       "      <td>0.076027</td>\n",
       "      <td>0.500707</td>\n",
       "      <td>0.020909</td>\n",
       "      <td>0.029802</td>\n",
       "      <td>Toys</td>\n",
       "      <td>PC</td>\n",
       "      <td>Camera</td>\n",
       "      <td>0.500707</td>\n",
       "      <td>0.251459</td>\n",
       "    </tr>\n",
       "    <tr>\n",
       "      <th>4</th>\n",
       "      <td>R38WP9YSEVBCIG</td>\n",
       "      <td>B007G3T2XU</td>\n",
       "      <td>Canon GPSレシーバーGP-E2</td>\n",
       "      <td>5</td>\n",
       "      <td>29</td>\n",
       "      <td>2014-01-25</td>\n",
       "      <td>EOS KISS X6iにて使用してます。&lt;br /&gt;オプションアイテムとしてどうなんだろう...</td>\n",
       "      <td>0.564591</td>\n",
       "      <td>0.281474</td>\n",
       "      <td>0.032015</td>\n",
       "      <td>0.087534</td>\n",
       "      <td>0.013452</td>\n",
       "      <td>0.020934</td>\n",
       "      <td>Camera</td>\n",
       "      <td>PC</td>\n",
       "      <td>Toys</td>\n",
       "      <td>0.564591</td>\n",
       "      <td>0.281474</td>\n",
       "    </tr>\n",
       "  </tbody>\n",
       "</table>\n",
       "</div>"
      ],
      "text/plain": [
       "        review_id  product_id  \\\n",
       "0  R14IFZ98UPM5YD  B009LGO88E   \n",
       "1   RRFAQCR7MBQSZ  B002KCNVMA   \n",
       "2  R1NEOQWC8FGQC5  B00712Y28Q   \n",
       "3  R1LAKF7QVAA7ZB  B005M2V2K8   \n",
       "4  R38WP9YSEVBCIG  B007G3T2XU   \n",
       "\n",
       "                                       product_title  star_rating  \\\n",
       "0                           ニンテンドー3DS LL 専用拡張スライドパッド            1   \n",
       "1                              レゴ (LEGO) シティ 空港 3182            5   \n",
       "2  figma METROID Other M  サムス・アラン(ABS&PVC製塗装済み可動フ...            5   \n",
       "3                      Beanie Boos ビーニー ブーズ  カシミア ネコ            4   \n",
       "4                                Canon GPSレシーバーGP-E2            5   \n",
       "\n",
       "   helpful_votes review_date  \\\n",
       "0             11  2012-12-14   \n",
       "1              0  2012-08-18   \n",
       "2              4  2012-07-08   \n",
       "3              0  2014-09-08   \n",
       "4             29  2014-01-25   \n",
       "\n",
       "                                              review  product_category.Camera  \\\n",
       "0  モンスターハンター3G用に購入<br />LL本体がそこそこ重量あるので、それ＋スライドパッ...                 0.033033   \n",
       "1  6才の子供と一緒に作りました。<br />飛行機は思っていたよりも大きくて作って楽しめました...                 0.035455   \n",
       "2  まず、あの有名なサムス・アランがフィギュアとして実体化したことがとても嬉しく思います。<br...                 0.081445   \n",
       "3  写真よりも全体的に顔のパーツが中央に寄った感じの物が届きました。<br />あまり可愛くない...                 0.121096   \n",
       "4  EOS KISS X6iにて使用してます。<br />オプションアイテムとしてどうなんだろう...                 0.564591   \n",
       "\n",
       "   product_category.PC  product_category.Shoes  product_category.Toys  \\\n",
       "0             0.657850                0.012718               0.034772   \n",
       "1             0.080561                0.024357               0.843720   \n",
       "2             0.087765                0.022668               0.308333   \n",
       "3             0.251459                0.076027               0.500707   \n",
       "4             0.281474                0.032015               0.087534   \n",
       "\n",
       "   product_category.Video Games  product_category.Watches    Rank1  \\\n",
       "0                      0.247328                  0.014299       PC   \n",
       "1                      0.006359                  0.009548     Toys   \n",
       "2                      0.015241                  0.484547  Watches   \n",
       "3                      0.020909                  0.029802     Toys   \n",
       "4                      0.013452                  0.020934   Camera   \n",
       "\n",
       "         Rank2   Rank3  Pred_Rank1  Pred_Rank2  \n",
       "0  Video Games    Toys    0.657850    0.247328  \n",
       "1           PC  Camera    0.843720    0.080561  \n",
       "2         Toys      PC    0.484547    0.308333  \n",
       "3           PC  Camera    0.500707    0.251459  \n",
       "4           PC    Toys    0.564591    0.281474  "
      ]
     },
     "execution_count": 77,
     "metadata": {},
     "output_type": "execute_result"
    }
   ],
   "source": [
    "df_res.head()"
   ]
  },
  {
   "cell_type": "code",
   "execution_count": null,
   "id": "14a48184",
   "metadata": {},
   "outputs": [],
   "source": []
  }
 ],
 "metadata": {
  "kernelspec": {
   "display_name": "Python 3",
   "language": "python",
   "name": "python3"
  },
  "language_info": {
   "codemirror_mode": {
    "name": "ipython",
    "version": 3
   },
   "file_extension": ".py",
   "mimetype": "text/x-python",
   "name": "python",
   "nbconvert_exporter": "python",
   "pygments_lexer": "ipython3",
   "version": "3.8.3"
  }
 },
 "nbformat": 4,
 "nbformat_minor": 5
}
