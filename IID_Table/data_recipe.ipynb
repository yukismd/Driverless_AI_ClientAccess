{
 "cells": [
  {
   "cell_type": "code",
   "execution_count": null,
   "id": "839c2f6c",
   "metadata": {},
   "outputs": [],
   "source": []
  },
  {
   "cell_type": "code",
   "execution_count": 2,
   "id": "2a1cf052",
   "metadata": {},
   "outputs": [],
   "source": [
    "import os\n",
    "import driverlessai"
   ]
  },
  {
   "cell_type": "code",
   "execution_count": 4,
   "id": "9c1f1e81",
   "metadata": {},
   "outputs": [],
   "source": [
    "# Driverless AIのuser nameとpasswordの読み込み\n",
    "import json\n",
    "with open('../idpass.json') as f:\n",
    "    idpass = json.load(f)"
   ]
  },
  {
   "cell_type": "code",
   "execution_count": 12,
   "id": "d7f374c8",
   "metadata": {},
   "outputs": [
    {
     "data": {
      "text/plain": [
       "<class 'driverlessai._core.Client'> http://54.173.236.251"
      ]
     },
     "execution_count": 12,
     "metadata": {},
     "output_type": "execute_result"
    }
   ],
   "source": [
    "# Driverless AIサーバーへの接続\n",
    "dai = driverlessai.Client(address='http://54.173.236.251', username=idpass['id'], password=idpass['pass1930'])\n",
    "dai"
   ]
  },
  {
   "cell_type": "code",
   "execution_count": 13,
   "id": "90e7f638",
   "metadata": {},
   "outputs": [
    {
     "data": {
      "text/plain": [
       "    | Type    | Key                                  | Name\n",
       "----+---------+--------------------------------------+---------------------------------------------\n",
       "  0 | Dataset | ae85d7f2-0c7f-11ec-8e41-0242ac110002 | amazon_reviews_JP_MultiCategory_test_TOKEN\n",
       "  1 | Dataset | 8ed1970c-0c7f-11ec-8e41-0242ac110002 | amazon_reviews_JP_MultiCategory_test.csv\n",
       "  2 | Dataset | efb0cd00-0c7e-11ec-8e41-0242ac110002 | amazon_reviews_JP_MultiCategory_train_TOKEN\n",
       "  3 | Dataset | 25b38ff6-0c7e-11ec-8e41-0242ac110002 | amazon_reviews_JP_MultiCategory_train.csv\n",
       "  4 | Dataset | 61fa6e7c-0bb5-11ec-ac0c-0242ac110002 | amazon_reviews_JP_Books.csv\n",
       "  5 | Dataset | c60cbc24-ffb9-11eb-9071-0242ac110002 | tmp_res__s2.csv\n",
       "  6 | Dataset | 7fd98f28-ffb6-11eb-9071-0242ac110002 | tmp_res__s1.csv\n",
       "  7 | Dataset | fe9493c8-ffaf-11eb-9071-0242ac110002 | UCI_Credit_Card2.csv\n",
       "  8 | Dataset | c56363e8-f598-11eb-ba87-0242ac110002 | scsk_train.csv\n",
       "  9 | Dataset | 14552b3c-e511-11eb-9db0-0242ac110002 | sample1.zip\n",
       " 10 | Dataset | 53b3c30e-e50e-11eb-9db0-0242ac110002 | sample2.zip\n",
       " 11 | Dataset | 0fa430c6-e433-11eb-bbce-0242ac110002 | tkn.amazon_reviews_JP_Books_AMPLE.csv\n",
       " 12 | Dataset | ab4727f0-e432-11eb-bbce-0242ac110002 | amazon_reviews_JP_Books_1000SAMPLE.csv\n",
       " 13 | Dataset | e307a4a4-dfa4-11eb-9633-0242ac110002 | TitanicData2.csv\n",
       " 14 | Dataset | 0320c3ca-de23-11eb-a3ce-0242ac110002 | walmart_ts_6_fcst_grp_train.csv\n",
       " 15 | Dataset | 031da9a6-de23-11eb-a3ce-0242ac110002 | walmart_ts_6_fcst_grp_test.csv\n",
       " 16 | Dataset | c59d9454-d9f6-11eb-9ecf-0242ac110002 | uci_credit_card_TEST\n",
       " 17 | Dataset | c59d67d6-d9f6-11eb-9ecf-0242ac110002 | uci_credit_card_TRAIN\n",
       " 18 | Dataset | 8daaacfa-d535-11eb-adff-0242ac110002 | UCI_Credit_Card.csv\n",
       " 19 | Dataset | 7d9c7ac0-d3ad-11eb-a4fa-0242ac110002 | sample_simple.csv\n",
       " 20 | Dataset | 79121f1e-d3ad-11eb-a4fa-0242ac110002 | BostonHousing.csv"
      ]
     },
     "execution_count": 13,
     "metadata": {},
     "output_type": "execute_result"
    }
   ],
   "source": [
    "# 接続先Driverless AIのDatasets\n",
    "dai.datasets.list()"
   ]
  },
  {
   "cell_type": "code",
   "execution_count": 15,
   "id": "41baa356",
   "metadata": {},
   "outputs": [
    {
     "data": {
      "text/plain": [
       "    | Type       | Key                                  | Name\n",
       "----+------------+--------------------------------------+------------------\n",
       "  0 | Experiment | eaae200e-0c7f-11ec-8e41-0242ac110002 | amazon_mulCate_1\n",
       "  1 | Experiment | 2f48f7fc-ffb5-11eb-9071-0242ac110002 | uci_cc_optTest2\n",
       "  2 | Experiment | 3abf4f32-ffb0-11eb-9071-0242ac110002 | uci_cc_optTest\n",
       "  3 | Experiment | a5a22a6e-f636-11eb-a9b3-0242ac110002 | dl1\n",
       "  4 | Experiment | e9818b06-f598-11eb-ba87-0242ac110002 | scsk1\n",
       "  5 | Experiment | e66d1e02-e5bd-11eb-8e3d-0242ac110002 | 1.boston2\n",
       "  6 | Experiment | a087e4ce-e434-11eb-bbce-0242ac110002 | amazon1\n",
       "  7 | Experiment | 91eeeac2-de2e-11eb-a3ce-0242ac110002 | walmart2\n",
       "  8 | Experiment | 35126e7e-de23-11eb-a3ce-0242ac110002 | walmart1\n",
       "  9 | Experiment | 273b8cec-da66-11eb-91ec-0242ac110002 | tucumibo\n",
       " 10 | Experiment | 35f57a7c-da11-11eb-9ecf-0242ac110002 | boston2\n",
       " 11 | Experiment | e4e76344-d9f6-11eb-9ecf-0242ac110002 | credit1\n",
       " 12 | Experiment | a5b5eab4-d3ad-11eb-a4fa-0242ac110002 | saimple1\n",
       " 13 | Experiment | 8f6c7d7c-d3ad-11eb-a4fa-0242ac110002 | boston1"
      ]
     },
     "execution_count": 15,
     "metadata": {},
     "output_type": "execute_result"
    }
   ],
   "source": [
    "# 接続先Driverless AIのExperiments\n",
    "dai.experiments.list()"
   ]
  },
  {
   "cell_type": "code",
   "execution_count": 16,
   "id": "728d3aa4",
   "metadata": {},
   "outputs": [
    {
     "data": {
      "text/plain": [
       "driverlessai._experiments.Experiment"
      ]
     },
     "execution_count": 16,
     "metadata": {},
     "output_type": "execute_result"
    }
   ],
   "source": [
    "# 特定のExperimentの取得\n",
    "experiment = dai.experiments.get(key='eaae200e-0c7f-11ec-8e41-0242ac110002')\n",
    "type(experiment)"
   ]
  },
  {
   "cell_type": "code",
   "execution_count": 17,
   "id": "f8fd52c4",
   "metadata": {},
   "outputs": [
    {
     "data": {
      "text/plain": [
       "{'train_dataset': <class 'Dataset'> efb0cd00-0c7e-11ec-8e41-0242ac110002 amazon_reviews_JP_MultiCategory_train_TOKEN,\n",
       " 'validation_dataset': None,\n",
       " 'test_dataset': <class 'Dataset'> ae85d7f2-0c7f-11ec-8e41-0242ac110002 amazon_reviews_JP_MultiCategory_test_TOKEN}"
      ]
     },
     "execution_count": 17,
     "metadata": {},
     "output_type": "execute_result"
    }
   ],
   "source": [
    "# Experimentのデータ\n",
    "experiment.datasets"
   ]
  },
  {
   "cell_type": "code",
   "execution_count": 18,
   "id": "7bc62c62",
   "metadata": {},
   "outputs": [
    {
     "name": "stdout",
     "output_type": "stream",
     "text": [
      "amazon_mulCate_1\n",
      "eaae200e-0c7f-11ec-8e41-0242ac110002\n"
     ]
    }
   ],
   "source": [
    "# Experiment NameとKey\n",
    "print(experiment.name)\n",
    "print(experiment.key)"
   ]
  },
  {
   "cell_type": "code",
   "execution_count": 19,
   "id": "8e74b372",
   "metadata": {},
   "outputs": [
    {
     "name": "stdout",
     "output_type": "stream",
     "text": [
      "Status: Complete\n",
      "Experiment: amazon_mulCate_1 (eaae200e-0c7f-11ec-8e41-0242ac110002)\n",
      "  Version: 1.9.3, 2021-09-03 06:29\n",
      "  Settings: 2/2/7, seed=176118131, GPUs disabled\n",
      "  Train data: amazon_reviews_JP_MultiCategory_train_TOKEN (15583, 5)\n",
      "  Validation data: N/A\n",
      "  Test data: [Test] (2751, 4)\n",
      "  Target column: product_category (6-class)\n",
      "System specs: Docker/Linux, 31 GB, 8 CPU cores, 0/0 GPU\n",
      "  Max memory usage: 0.679 GB, 0 GB GPU\n",
      "Recipe: AutoDL (7 iterations, 2 individuals)\n",
      "  Validation scheme: stratified, 1 internal holdout\n",
      "  Feature engineering: 134 features scored (58 selected)\n",
      "Timing: MOJO latency: 0.57213 millis (672.4kB)\n",
      "  Data preparation: 5.11 secs\n",
      "  Shift/Leakage detection: 1.88 secs\n",
      "  Model and feature tuning: 29.76 secs (6 models trained)\n",
      "  Feature evolution: 9.17 secs (2 of 22 models trained)\n",
      "  Final pipeline training: 44.67 secs (9 models trained)\n",
      "  Python / MOJO scorer building: 42.35 secs / 13.66 secs\n",
      "Validation score: LOGLOSS = 1.52847 (constant preds)\n",
      "Validation score: LOGLOSS = 1.449944 +/- 2.220446e-16 (baseline)\n",
      "Validation score: LOGLOSS = 1.215325 +/- 0 (final pipeline)\n",
      "Test score:       LOGLOSS = 1.224894 +/- 4.440892e-16 (final pipeline)\n"
     ]
    }
   ],
   "source": [
    "# Experiment結果のサマリ\n",
    "experiment.summary()"
   ]
  },
  {
   "cell_type": "code",
   "execution_count": 20,
   "id": "826b1486",
   "metadata": {},
   "outputs": [
    {
     "name": "stdout",
     "output_type": "stream",
     "text": [
      "classification\n",
      "product_category\n"
     ]
    }
   ],
   "source": [
    "# experiment.settingsでExperiment設定詳細を確認\n",
    "\n",
    "print( experiment.settings['task'] )\n",
    "print( experiment.settings['target_column'] )"
   ]
  },
  {
   "cell_type": "code",
   "execution_count": null,
   "id": "ad646432",
   "metadata": {},
   "outputs": [],
   "source": [
    "### 結果の確認\n",
    "\n",
    "# \n",
    "# MLI"
   ]
  },
  {
   "cell_type": "code",
   "execution_count": 21,
   "id": "bd2de897",
   "metadata": {},
   "outputs": [],
   "source": [
    "### 予測\n",
    "\n",
    "# Dataのアップ\n",
    "# Data recipeの適用（後と前の確認）\n",
    "# スコアリング\n",
    "# 結果のDL\n",
    "# アップしたデータの削除"
   ]
  },
  {
   "cell_type": "code",
   "execution_count": null,
   "id": "60a71d0e",
   "metadata": {},
   "outputs": [],
   "source": []
  },
  {
   "cell_type": "code",
   "execution_count": null,
   "id": "c50f8685",
   "metadata": {},
   "outputs": [],
   "source": []
  },
  {
   "cell_type": "code",
   "execution_count": null,
   "id": "d0e5d24f",
   "metadata": {},
   "outputs": [],
   "source": []
  },
  {
   "cell_type": "code",
   "execution_count": null,
   "id": "5437ee95",
   "metadata": {},
   "outputs": [],
   "source": []
  }
 ],
 "metadata": {
  "kernelspec": {
   "display_name": "Python 3",
   "language": "python",
   "name": "python3"
  },
  "language_info": {
   "codemirror_mode": {
    "name": "ipython",
    "version": 3
   },
   "file_extension": ".py",
   "mimetype": "text/x-python",
   "name": "python",
   "nbconvert_exporter": "python",
   "pygments_lexer": "ipython3",
   "version": "3.8.3"
  }
 },
 "nbformat": 4,
 "nbformat_minor": 5
}
