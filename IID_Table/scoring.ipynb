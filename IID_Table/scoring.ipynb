{
 "cells": [
  {
   "cell_type": "markdown",
   "metadata": {},
   "source": [
    "## Python Clientからのスコアリングの実施\n",
    "- Experimentの操作（実行済みExperimentの確認）\n",
    "- 予測の実施（スコアリングデータのアップロードと、結果のダウンロード）"
   ]
  },
  {
   "cell_type": "code",
   "execution_count": 120,
   "metadata": {},
   "outputs": [],
   "source": [
    "import os\n",
    "import driverlessai\n",
    "import pandas"
   ]
  },
  {
   "cell_type": "code",
   "execution_count": 2,
   "metadata": {},
   "outputs": [],
   "source": [
    "# Driverless AIのuser nameとpasswordの読み込み\n",
    "import json\n",
    "with open('idpass.json') as f:\n",
    "    idpass = json.load(f)"
   ]
  },
  {
   "cell_type": "code",
   "execution_count": 4,
   "metadata": {},
   "outputs": [
    {
     "data": {
      "text/plain": [
       "<class 'driverlessai._core.Client'> http://54.157.227.21:12345"
      ]
     },
     "execution_count": 4,
     "metadata": {},
     "output_type": "execute_result"
    }
   ],
   "source": [
    "# Driverless AIサーバーへの接続\n",
    "dai = driverlessai.Client(address='http://54.157.227.21:12345', username=idpass['id'], password=idpass['pass'])\n",
    "dai"
   ]
  },
  {
   "cell_type": "code",
   "execution_count": 10,
   "metadata": {},
   "outputs": [
    {
     "data": {
      "text/plain": [
       "[<class 'Dataset'> 07c28a00-77f1-11eb-ae7b-0242ac110002 sample_uneqal_interval_scoring1.csv,\n",
       " <class 'Dataset'> fd62eeb2-77ee-11eb-ae7b-0242ac110002 sample_unequal_interval.csv,\n",
       " <class 'Dataset'> 6e0cd35e-7677-11eb-b908-0242ac110002 dataset_temp.csv,\n",
       " <class 'Dataset'> 6f800ef8-7664-11eb-b908-0242ac110002 wallmart_scoring.csv,\n",
       " <class 'Dataset'> 5eb74434-73d4-11eb-ab9b-0242ac110002 walmart_ts_6_fcst_grp_train.csv,\n",
       " <class 'Dataset'> 5eb6cfc2-73d4-11eb-ab9b-0242ac110002 walmart_ts_6_fcst_grp_test.csv,\n",
       " <class 'Dataset'> 0325cee0-678d-11eb-930d-0242ac110002 Covid_Chest.zip,\n",
       " <class 'Dataset'> ef6185b4-65c7-11eb-b5cf-0242ac110002 dh_mijyushin_test,\n",
       " <class 'Dataset'> ef615d46-65c7-11eb-b5cf-0242ac110002 dh_mijyushin_train,\n",
       " <class 'Dataset'> 7cbe6cc0-65c7-11eb-b5cf-0242ac110002 forML_mijyushin_mask_20210126_1529.csv,\n",
       " <class 'Dataset'> 46d33edc-603c-11eb-9a4f-0242ac110002 iris_train,\n",
       " <class 'Dataset'> d17c41ee-5ecc-11eb-b134-0242ac110002 sample_simple.csv,\n",
       " <class 'Dataset'> 110fae96-5c88-11eb-a8f5-0242ac110002 date_sample3.csv,\n",
       " <class 'Dataset'> 1f09a98e-5c42-11eb-bf60-0242ac110002 date_sample.csv,\n",
       " <class 'Dataset'> cae49b84-5bab-11eb-96ed-0242ac110002 TitanicData.csv]"
      ]
     },
     "execution_count": 10,
     "metadata": {},
     "output_type": "execute_result"
    }
   ],
   "source": [
    "# 接続先Driverless AIのDatasets\n",
    "dai.datasets.list()"
   ]
  },
  {
   "cell_type": "code",
   "execution_count": 13,
   "metadata": {},
   "outputs": [
    {
     "data": {
      "text/plain": [
       "[<class 'Project'> 01410d54-65c8-11eb-b5cf-0242ac110002 cust-dh]"
      ]
     },
     "execution_count": 13,
     "metadata": {},
     "output_type": "execute_result"
    }
   ],
   "source": [
    "# 接続先Driverless AIのProjects\n",
    "dai.projects.list()"
   ]
  },
  {
   "cell_type": "markdown",
   "metadata": {},
   "source": [
    "## Experimentの操作"
   ]
  },
  {
   "cell_type": "markdown",
   "metadata": {},
   "source": [
    "**Experiments** Class:  http://docs.h2o.ai/driverless-ai/pyclient/docs/html/client.html#experiments"
   ]
  },
  {
   "cell_type": "code",
   "execution_count": 21,
   "metadata": {},
   "outputs": [
    {
     "data": {
      "text/plain": [
       "driverlessai._experiments.Experiments"
      ]
     },
     "execution_count": 21,
     "metadata": {},
     "output_type": "execute_result"
    }
   ],
   "source": [
    "type(dai.experiments)"
   ]
  },
  {
   "cell_type": "code",
   "execution_count": 39,
   "metadata": {},
   "outputs": [
    {
     "data": {
      "text/plain": [
       "[<class 'Experiment'> 04ee51a2-77f5-11eb-ae7b-0242ac110002 1.kedefohi,\n",
       " <class 'Experiment'> 33984388-77ef-11eb-ae7b-0242ac110002 kedefohi,\n",
       " <class 'Experiment'> 8959fc3a-76f0-11eb-a90c-0242ac110002 1.gomavole,\n",
       " <class 'Experiment'> 6bc656d8-73e3-11eb-ab9b-0242ac110002 test2,\n",
       " <class 'Experiment'> 60030ea8-73d5-11eb-ab9b-0242ac110002 test1,\n",
       " <class 'Experiment'> 0559f2ec-678b-11eb-930d-0242ac110002 fufukuco,\n",
       " <class 'Experiment'> b64d1b36-66b1-11eb-ab16-0242ac110002 simple,\n",
       " <class 'Experiment'> 478c2032-65c8-11eb-b5cf-0242ac110002 default,\n",
       " <class 'Experiment'> 62c31e2a-635f-11eb-b18a-0242ac110002 default2,\n",
       " <class 'Experiment'> f81f9d54-6201-11eb-94d4-0242ac110002 simple,\n",
       " <class 'Experiment'> af53600a-604a-11eb-9a4f-0242ac110002 mojo_small,\n",
       " <class 'Experiment'> 5a9c6598-604a-11eb-9a4f-0242ac110002 default,\n",
       " <class 'Experiment'> 98616740-603e-11eb-9a4f-0242ac110002 iris-getting-started,\n",
       " <class 'Experiment'> 6c9e16e8-5c89-11eb-a8f5-0242ac110002 is_holiday_y2,\n",
       " <class 'Experiment'> 25d2480c-5c88-11eb-a8f5-0242ac110002 is_holiday_y3,\n",
       " <class 'Experiment'> 856319da-5c43-11eb-bf60-0242ac110002 towavusa]"
      ]
     },
     "execution_count": 39,
     "metadata": {},
     "output_type": "execute_result"
    }
   ],
   "source": [
    "# 接続先Driverless AIのExperiments\n",
    "dai.experiments.list()"
   ]
  },
  {
   "cell_type": "code",
   "execution_count": 58,
   "metadata": {
    "scrolled": true
   },
   "outputs": [
    {
     "data": {
      "text/plain": [
       "driverlessai._experiments.Experiment"
      ]
     },
     "execution_count": 58,
     "metadata": {},
     "output_type": "execute_result"
    }
   ],
   "source": [
    "# 特定のExperimentの取得\n",
    "experiment = dai.experiments.get(key='0559f2ec-678b-11eb-930d-0242ac110002')\n",
    "type(experiment)"
   ]
  },
  {
   "cell_type": "markdown",
   "metadata": {},
   "source": [
    "**Experiment** Class:  http://docs.h2o.ai/driverless-ai/pyclient/docs/html/objects.html#experiment"
   ]
  },
  {
   "cell_type": "code",
   "execution_count": 44,
   "metadata": {},
   "outputs": [
    {
     "data": {
      "text/plain": [
       "{'train_dataset': <class 'Dataset'> cae49b84-5bab-11eb-96ed-0242ac110002 TitanicData.csv,\n",
       " 'validation_dataset': None,\n",
       " 'test_dataset': None}"
      ]
     },
     "execution_count": 44,
     "metadata": {},
     "output_type": "execute_result"
    }
   ],
   "source": [
    "# Experimentのデータ\n",
    "experiment.datasets"
   ]
  },
  {
   "cell_type": "code",
   "execution_count": 59,
   "metadata": {},
   "outputs": [
    {
     "name": "stdout",
     "output_type": "stream",
     "text": [
      "fufukuco\n",
      "0559f2ec-678b-11eb-930d-0242ac110002\n"
     ]
    }
   ],
   "source": [
    "# Experiment NameとKey\n",
    "print(experiment.name)\n",
    "print(experiment.key)"
   ]
  },
  {
   "cell_type": "code",
   "execution_count": 60,
   "metadata": {},
   "outputs": [
    {
     "name": "stdout",
     "output_type": "stream",
     "text": [
      "Status: Complete\n",
      "Experiment: fufukuco (0559f2ec-678b-11eb-930d-0242ac110002)\n",
      "  Version: 1.9.1, 2021-02-05 08:23\n",
      "  Settings: 7/2/8, seed=431669286, GPUs disabled\n",
      "  Train data: TitanicData.csv (1309, 15)\n",
      "  Validation data: N/A\n",
      "  Test data: N/A\n",
      "  Target column: survived (binary, 38.197% target class)\n",
      "System specs: Docker/Linux, 31 GB, 8 CPU cores, 0/0 GPU\n",
      "  Max memory usage: 0.579 GB, 0 GB GPU\n",
      "Recipe: AutoDL (25 iterations, 8 individuals)\n",
      "  Validation scheme: stratified, 6 internal holdouts (3-fold CV)\n",
      "  Feature engineering: 66 features scored (5 selected)\n",
      "Timing: MOJO latency: 0.03163 millis (204.2kB)\n",
      "  Data preparation: 5.12 secs\n",
      "  Shift/Leakage detection: 1.95 secs\n",
      "  Model and feature tuning: 89.50 secs (25 of 192 models trained)\n",
      "  Feature evolution: 1.26 secs (0 of 288 model trained)\n",
      "  Final pipeline training: 14.01 secs (6 models trained)\n",
      "  Python / MOJO scorer building: 40.42 secs / 11.71 secs\n",
      "Validation score: AUC = 0.5 (constant preds of 0.382)\n",
      "Validation score: AUC = 0.9891366 +/- 0.002705324 (baseline)\n",
      "Validation score: AUC = 0.9935078 +/- 0.004116994 (final pipeline)\n",
      "Test score:       AUC = N/A\n"
     ]
    }
   ],
   "source": [
    "# Experiment結果のサマリ\n",
    "experiment.summary()"
   ]
  },
  {
   "cell_type": "code",
   "execution_count": 70,
   "metadata": {},
   "outputs": [
    {
     "data": {
      "text/html": [
       "<table>\n",
       "<thead>\n",
       "<tr><th style=\"text-align: right;\">     gain</th><th>interaction  </th><th>description                                                                                                      </th></tr>\n",
       "</thead>\n",
       "<tbody>\n",
       "<tr><td style=\"text-align: right;\">1        </td><td>5_Freq:boat  </td><td>Encoding of categorical levels of feature(s) [&#x27;boat&#x27;] to value between 0 and 1 based on their relative frequency </td></tr>\n",
       "<tr><td style=\"text-align: right;\">0.142774 </td><td>9_Freq:sex   </td><td>Encoding of categorical levels of feature(s) [&#x27;sex&#x27;] to value between 0 and 1 based on their relative frequency  </td></tr>\n",
       "<tr><td style=\"text-align: right;\">0.0441479</td><td>0_age        </td><td>age (Original)                                                                                                   </td></tr>\n",
       "<tr><td style=\"text-align: right;\">0.0113822</td><td>6_Freq:cabin </td><td>Encoding of categorical levels of feature(s) [&#x27;cabin&#x27;] to value between 0 and 1 based on their relative frequency</td></tr>\n",
       "<tr><td style=\"text-align: right;\">0.0108434</td><td>1_fare       </td><td>fare (Original)                                                                                                  </td></tr>\n",
       "</tbody>\n",
       "</table>"
      ],
      "text/plain": [
       "<driverlessai._utils.Table at 0x7fec211158d0>"
      ]
     },
     "execution_count": 70,
     "metadata": {},
     "output_type": "execute_result"
    }
   ],
   "source": [
    "# ExperimentのVariable Importance\n",
    "experiment.variable_importance()"
   ]
  },
  {
   "cell_type": "code",
   "execution_count": 62,
   "metadata": {
    "scrolled": false
   },
   "outputs": [
    {
     "name": "stdout",
     "output_type": "stream",
     "text": [
      "classification\n",
      "survived\n"
     ]
    }
   ],
   "source": [
    "# experiment.settingsでExperiment設定詳細を確認\n",
    "\n",
    "print( experiment.settings['task'] )\n",
    "print( experiment.settings['target_column'] )"
   ]
  },
  {
   "cell_type": "markdown",
   "metadata": {},
   "source": [
    "### 予測"
   ]
  },
  {
   "cell_type": "code",
   "execution_count": 125,
   "metadata": {},
   "outputs": [
    {
     "data": {
      "text/plain": [
       "<driverlessai._datasets.Datasets at 0x7fec20aebe10>"
      ]
     },
     "execution_count": 125,
     "metadata": {},
     "output_type": "execute_result"
    }
   ],
   "source": [
    "dai.datasets"
   ]
  },
  {
   "cell_type": "markdown",
   "metadata": {},
   "source": [
    "**Datasets** Class:  http://docs.h2o.ai/driverless-ai/pyclient/docs/html/client.html#datasets"
   ]
  },
  {
   "cell_type": "code",
   "execution_count": 126,
   "metadata": {},
   "outputs": [
    {
     "name": "stdout",
     "output_type": "stream",
     "text": [
      "Complete 100.00% - [4/4] Computed stats for column home.dest\n"
     ]
    },
    {
     "data": {
      "text/plain": [
       "driverlessai._datasets.Dataset"
      ]
     },
     "execution_count": 126,
     "metadata": {},
     "output_type": "execute_result"
    }
   ],
   "source": [
    "# スコアリングデータをクライアント環境からDriveless AIへアップロード\n",
    "data_to_predict = dai.datasets.create(data='./data/TitanicData_sample.csv', \n",
    "                                                                    data_source='upload', \n",
    "                                                                    name='titanic_scoring', \n",
    "                                                                    force=True)\n",
    "type(data_to_predict)\n",
    "\n",
    "# Driverless AIのDatasets画面から、'titanic_scoring'の名前で確認できる"
   ]
  },
  {
   "cell_type": "markdown",
   "metadata": {},
   "source": [
    "**Dataset** Class:  http://docs.h2o.ai/driverless-ai/pyclient/docs/html/objects.html#dataset"
   ]
  },
  {
   "cell_type": "code",
   "execution_count": 127,
   "metadata": {},
   "outputs": [
    {
     "name": "stdout",
     "output_type": "stream",
     "text": [
      "データ名:  titanic_scoring\n",
      "カラム:  ['Passenger_Id', 'pclass', 'survived', 'name_with_salutions', 'name_without_salutions', 'sex', 'age', 'sibsp', 'parch', 'ticket', 'fare', 'cabin', 'embarked', 'boat', 'home.dest']\n",
      "データシェープ:  (10, 15)\n"
     ]
    }
   ],
   "source": [
    "# データ情報\n",
    "print(\"データ名: \", data_to_predict.name)\n",
    "print(\"カラム: \", data_to_predict.columns)\n",
    "print(\"データシェープ: \", data_to_predict.shape)"
   ]
  },
  {
   "cell_type": "code",
   "execution_count": 128,
   "metadata": {},
   "outputs": [
    {
     "data": {
      "text/html": [
       "<table>\n",
       "<thead>\n",
       "<tr><th style=\"text-align: right;\">  Passenger_Id</th><th style=\"text-align: right;\">  pclass</th><th>survived  </th><th>name_with_salutions         </th><th>name_without_salutions   </th><th>sex   </th><th style=\"text-align: right;\">  age</th><th>sibsp  </th><th style=\"text-align: right;\">  parch</th><th style=\"text-align: right;\">  ticket</th><th style=\"text-align: right;\">   fare</th><th>cabin  </th><th>embarked  </th><th>boat  </th><th>home.dest                        </th></tr>\n",
       "</thead>\n",
       "<tbody>\n",
       "<tr><td style=\"text-align: right;\">             1</td><td style=\"text-align: right;\">       3</td><td>False     </td><td>Andersson, Mr. Anders Johan </td><td>Andersson,  Anders Johan </td><td>male  </td><td style=\"text-align: right;\">   39</td><td>True   </td><td style=\"text-align: right;\">      5</td><td style=\"text-align: right;\">  347082</td><td style=\"text-align: right;\">31.275 </td><td>       </td><td>S         </td><td>      </td><td>Sweden Winnipeg, MN              </td></tr>\n",
       "<tr><td style=\"text-align: right;\">             2</td><td style=\"text-align: right;\">       3</td><td>True      </td><td>McGowan, Miss. Anna &quot;Annie&quot; </td><td>McGowan,  Anna &quot;Annie&quot;   </td><td>female</td><td style=\"text-align: right;\">   15</td><td>False  </td><td style=\"text-align: right;\">      0</td><td style=\"text-align: right;\">  330923</td><td style=\"text-align: right;\"> 8.0292</td><td>       </td><td>Q         </td><td>      </td><td>                                 </td></tr>\n",
       "<tr><td style=\"text-align: right;\">             3</td><td style=\"text-align: right;\">       2</td><td>True      </td><td>Caldwell, Mr. Albert Francis</td><td>Caldwell,  Albert Francis</td><td>male  </td><td style=\"text-align: right;\">   26</td><td>True   </td><td style=\"text-align: right;\">      1</td><td style=\"text-align: right;\">  248738</td><td style=\"text-align: right;\">29     </td><td>       </td><td>S         </td><td>13    </td><td>Bangkok, Thailand / Roseville, IL</td></tr>\n",
       "</tbody>\n",
       "</table>"
      ],
      "text/plain": [
       "<driverlessai._utils.Table at 0x7fec21bd3080>"
      ]
     },
     "execution_count": 128,
     "metadata": {},
     "output_type": "execute_result"
    }
   ],
   "source": [
    "data_to_predict.head(3)"
   ]
  },
  {
   "cell_type": "code",
   "execution_count": 129,
   "metadata": {},
   "outputs": [
    {
     "name": "stdout",
     "output_type": "stream",
     "text": [
      "Complete\n"
     ]
    },
    {
     "data": {
      "text/plain": [
       "driverlessai._experiments.Prediction"
      ]
     },
     "execution_count": 129,
     "metadata": {},
     "output_type": "execute_result"
    }
   ],
   "source": [
    "# スコアリングの実施\n",
    "dai_predictions = experiment.predict(dataset=data_to_predict, include_columns=data_to_predict.columns)\n",
    "type(dai_predictions)"
   ]
  },
  {
   "cell_type": "markdown",
   "metadata": {},
   "source": [
    "**Prediction** Class:  http://docs.h2o.ai/driverless-ai/pyclient/docs/html/objects.html#driverlessai._experiments.Prediction"
   ]
  },
  {
   "cell_type": "code",
   "execution_count": 130,
   "metadata": {},
   "outputs": [
    {
     "data": {
      "text/plain": [
       "['h2oai/h2oai_experiment_0559f2ec-678b-11eb-930d-0242ac110002/0559f2ec-678b-11eb-930d-0242ac110002_preds_dd1b9d43.csv']"
      ]
     },
     "execution_count": 130,
     "metadata": {},
     "output_type": "execute_result"
    }
   ],
   "source": [
    "# スコアリング結果のDriverless AI上のパス\n",
    "dai_predictions.file_paths"
   ]
  },
  {
   "cell_type": "code",
   "execution_count": 131,
   "metadata": {},
   "outputs": [
    {
     "name": "stdout",
     "output_type": "stream",
     "text": [
      "Downloaded '0559f2ec-678b-11eb-930d-0242ac110002_preds_dd1b9d43.csv'\n"
     ]
    },
    {
     "data": {
      "text/plain": [
       "'0559f2ec-678b-11eb-930d-0242ac110002_preds_dd1b9d43.csv'"
      ]
     },
     "execution_count": 131,
     "metadata": {},
     "output_type": "execute_result"
    }
   ],
   "source": [
    "# クライアント実行ディレクトリ上にダウンロード\n",
    "dai_predictions.download(dst_dir='')"
   ]
  },
  {
   "cell_type": "code",
   "execution_count": 132,
   "metadata": {},
   "outputs": [
    {
     "data": {
      "text/plain": [
       "'0559f2ec-678b-11eb-930d-0242ac110002_preds_dd1b9d43.csv'"
      ]
     },
     "execution_count": 132,
     "metadata": {},
     "output_type": "execute_result"
    }
   ],
   "source": [
    "# クライアント実行ディレクトリ上に保存されたデータ\n",
    "local_path = dai_predictions.file_paths[0].split('/')[-1]\n",
    "local_path"
   ]
  },
  {
   "cell_type": "code",
   "execution_count": 134,
   "metadata": {},
   "outputs": [
    {
     "data": {
      "text/html": [
       "<div>\n",
       "<style scoped>\n",
       "    .dataframe tbody tr th:only-of-type {\n",
       "        vertical-align: middle;\n",
       "    }\n",
       "\n",
       "    .dataframe tbody tr th {\n",
       "        vertical-align: top;\n",
       "    }\n",
       "\n",
       "    .dataframe thead th {\n",
       "        text-align: right;\n",
       "    }\n",
       "</style>\n",
       "<table border=\"1\" class=\"dataframe\">\n",
       "  <thead>\n",
       "    <tr style=\"text-align: right;\">\n",
       "      <th></th>\n",
       "      <th>Passenger_Id</th>\n",
       "      <th>pclass</th>\n",
       "      <th>survived</th>\n",
       "      <th>name_with_salutions</th>\n",
       "      <th>name_without_salutions</th>\n",
       "      <th>sex</th>\n",
       "      <th>age</th>\n",
       "      <th>sibsp</th>\n",
       "      <th>parch</th>\n",
       "      <th>ticket</th>\n",
       "      <th>fare</th>\n",
       "      <th>cabin</th>\n",
       "      <th>embarked</th>\n",
       "      <th>boat</th>\n",
       "      <th>home_dest</th>\n",
       "      <th>survived.0</th>\n",
       "      <th>survived.1</th>\n",
       "    </tr>\n",
       "  </thead>\n",
       "  <tbody>\n",
       "    <tr>\n",
       "      <th>0</th>\n",
       "      <td>1</td>\n",
       "      <td>3</td>\n",
       "      <td>0</td>\n",
       "      <td>Andersson, Mr. Anders Johan</td>\n",
       "      <td>Andersson,  Anders Johan</td>\n",
       "      <td>male</td>\n",
       "      <td>39.0</td>\n",
       "      <td>1</td>\n",
       "      <td>5</td>\n",
       "      <td>347082</td>\n",
       "      <td>31.2750</td>\n",
       "      <td>NaN</td>\n",
       "      <td>S</td>\n",
       "      <td>NaN</td>\n",
       "      <td>Sweden Winnipeg, MN</td>\n",
       "      <td>0.975623</td>\n",
       "      <td>0.024377</td>\n",
       "    </tr>\n",
       "    <tr>\n",
       "      <th>1</th>\n",
       "      <td>2</td>\n",
       "      <td>3</td>\n",
       "      <td>1</td>\n",
       "      <td>McGowan, Miss. Anna \"Annie\"</td>\n",
       "      <td>McGowan,  Anna \"Annie\"</td>\n",
       "      <td>female</td>\n",
       "      <td>15.0</td>\n",
       "      <td>0</td>\n",
       "      <td>0</td>\n",
       "      <td>330923</td>\n",
       "      <td>8.0292</td>\n",
       "      <td>NaN</td>\n",
       "      <td>Q</td>\n",
       "      <td>NaN</td>\n",
       "      <td>NaN</td>\n",
       "      <td>0.677209</td>\n",
       "      <td>0.322791</td>\n",
       "    </tr>\n",
       "    <tr>\n",
       "      <th>2</th>\n",
       "      <td>3</td>\n",
       "      <td>2</td>\n",
       "      <td>1</td>\n",
       "      <td>Caldwell, Mr. Albert Francis</td>\n",
       "      <td>Caldwell,  Albert Francis</td>\n",
       "      <td>male</td>\n",
       "      <td>26.0</td>\n",
       "      <td>1</td>\n",
       "      <td>1</td>\n",
       "      <td>248738</td>\n",
       "      <td>29.0000</td>\n",
       "      <td>NaN</td>\n",
       "      <td>S</td>\n",
       "      <td>13.0</td>\n",
       "      <td>Bangkok, Thailand / Roseville, IL</td>\n",
       "      <td>0.101499</td>\n",
       "      <td>0.898501</td>\n",
       "    </tr>\n",
       "    <tr>\n",
       "      <th>3</th>\n",
       "      <td>4</td>\n",
       "      <td>3</td>\n",
       "      <td>0</td>\n",
       "      <td>Augustsson, Mr. Albert</td>\n",
       "      <td>Augustsson,  Albert</td>\n",
       "      <td>male</td>\n",
       "      <td>23.0</td>\n",
       "      <td>0</td>\n",
       "      <td>0</td>\n",
       "      <td>347468</td>\n",
       "      <td>7.8542</td>\n",
       "      <td>NaN</td>\n",
       "      <td>S</td>\n",
       "      <td>NaN</td>\n",
       "      <td>Krakoryd, Sweden Bloomington, IL</td>\n",
       "      <td>0.976323</td>\n",
       "      <td>0.023677</td>\n",
       "    </tr>\n",
       "    <tr>\n",
       "      <th>4</th>\n",
       "      <td>5</td>\n",
       "      <td>3</td>\n",
       "      <td>1</td>\n",
       "      <td>Lindqvist, Mr. Eino William</td>\n",
       "      <td>Lindqvist,  Eino William</td>\n",
       "      <td>male</td>\n",
       "      <td>20.0</td>\n",
       "      <td>1</td>\n",
       "      <td>0</td>\n",
       "      <td>STON/O 2. 3101285</td>\n",
       "      <td>7.9250</td>\n",
       "      <td>NaN</td>\n",
       "      <td>S</td>\n",
       "      <td>15.0</td>\n",
       "      <td>NaN</td>\n",
       "      <td>0.117502</td>\n",
       "      <td>0.882498</td>\n",
       "    </tr>\n",
       "  </tbody>\n",
       "</table>\n",
       "</div>"
      ],
      "text/plain": [
       "   Passenger_Id  pclass  survived           name_with_salutions  \\\n",
       "0             1       3         0   Andersson, Mr. Anders Johan   \n",
       "1             2       3         1   McGowan, Miss. Anna \"Annie\"   \n",
       "2             3       2         1  Caldwell, Mr. Albert Francis   \n",
       "3             4       3         0        Augustsson, Mr. Albert   \n",
       "4             5       3         1   Lindqvist, Mr. Eino William   \n",
       "\n",
       "      name_without_salutions     sex   age  sibsp  parch             ticket  \\\n",
       "0   Andersson,  Anders Johan    male  39.0      1      5             347082   \n",
       "1     McGowan,  Anna \"Annie\"  female  15.0      0      0             330923   \n",
       "2  Caldwell,  Albert Francis    male  26.0      1      1             248738   \n",
       "3        Augustsson,  Albert    male  23.0      0      0             347468   \n",
       "4   Lindqvist,  Eino William    male  20.0      1      0  STON/O 2. 3101285   \n",
       "\n",
       "      fare  cabin embarked  boat                          home_dest  \\\n",
       "0  31.2750    NaN        S   NaN                Sweden Winnipeg, MN   \n",
       "1   8.0292    NaN        Q   NaN                                NaN   \n",
       "2  29.0000    NaN        S  13.0  Bangkok, Thailand / Roseville, IL   \n",
       "3   7.8542    NaN        S   NaN   Krakoryd, Sweden Bloomington, IL   \n",
       "4   7.9250    NaN        S  15.0                                NaN   \n",
       "\n",
       "   survived.0  survived.1  \n",
       "0    0.975623    0.024377  \n",
       "1    0.677209    0.322791  \n",
       "2    0.101499    0.898501  \n",
       "3    0.976323    0.023677  \n",
       "4    0.117502    0.882498  "
      ]
     },
     "execution_count": 134,
     "metadata": {},
     "output_type": "execute_result"
    }
   ],
   "source": [
    "# ダウンロードされたデータ\n",
    "pd.read_csv(local_path).head()"
   ]
  },
  {
   "cell_type": "code",
   "execution_count": 135,
   "metadata": {},
   "outputs": [],
   "source": [
    "# クライアント上のファイルを削除\n",
    "os.remove(local_path)"
   ]
  },
  {
   "cell_type": "code",
   "execution_count": null,
   "metadata": {},
   "outputs": [],
   "source": []
  }
 ],
 "metadata": {
  "kernelspec": {
   "display_name": "Python 3",
   "language": "python",
   "name": "python3"
  },
  "language_info": {
   "codemirror_mode": {
    "name": "ipython",
    "version": 3
   },
   "file_extension": ".py",
   "mimetype": "text/x-python",
   "name": "python",
   "nbconvert_exporter": "python",
   "pygments_lexer": "ipython3",
   "version": "3.8.3"
  }
 },
 "nbformat": 4,
 "nbformat_minor": 4
}
