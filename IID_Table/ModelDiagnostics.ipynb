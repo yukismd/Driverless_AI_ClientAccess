{
 "cells": [
  {
   "cell_type": "markdown",
   "id": "00c4de90",
   "metadata": {},
   "source": [
    "## DAI ModelDiagnostics\n",
    "API Document: https://docs.h2o.ai/driverless-ai/pyclient/docs/html/api/model_diagnostics.html  \n",
    "Examples: https://docs.h2o.ai/driverless-ai/pyclient/docs/html/examples/model-diagnostics.html"
   ]
  },
  {
   "cell_type": "code",
   "execution_count": 1,
   "id": "14f837b5",
   "metadata": {},
   "outputs": [
    {
     "data": {
      "text/plain": [
       "'1.10.7'"
      ]
     },
     "execution_count": 1,
     "metadata": {},
     "output_type": "execute_result"
    }
   ],
   "source": [
    "import driverlessai\n",
    "from vega import Vega\n",
    "\n",
    "driverlessai.__version__"
   ]
  },
  {
   "cell_type": "code",
   "execution_count": null,
   "id": "3a07f0df",
   "metadata": {},
   "outputs": [],
   "source": []
  },
  {
   "cell_type": "code",
   "execution_count": 2,
   "id": "cce498cf",
   "metadata": {},
   "outputs": [
    {
     "data": {
      "text/plain": [
       "<class 'driverlessai._core.Client'> http://13.228.28.142:12345"
      ]
     },
     "execution_count": 2,
     "metadata": {},
     "output_type": "execute_result"
    }
   ],
   "source": [
    "# Driverless AIサーバーへの接続\n",
    "dai = driverlessai.Client(address='http://13.228.28.142:12345', username='yuki', password='yuki')\n",
    "dai"
   ]
  },
  {
   "cell_type": "code",
   "execution_count": 3,
   "id": "def6a4a3",
   "metadata": {},
   "outputs": [
    {
     "data": {
      "text/plain": [
       "    | Type    | Key                                  | Name\n",
       "----+---------+--------------------------------------+------------------------\n",
       "  0 | Dataset | 7f133952-513b-11ef-8970-0242ac110002 | TitanicData2.csv.test\n",
       "  1 | Dataset | 7f12e3f8-513b-11ef-8970-0242ac110002 | TitanicData2.csv.train\n",
       "  2 | Dataset | 6d8b4260-513b-11ef-8970-0242ac110002 | TitanicData2.csv"
      ]
     },
     "execution_count": 3,
     "metadata": {},
     "output_type": "execute_result"
    }
   ],
   "source": [
    "# 接続先Driverless AIのDatasets\n",
    "dai.datasets.list()"
   ]
  },
  {
   "cell_type": "code",
   "execution_count": 4,
   "id": "f8dda7a6",
   "metadata": {},
   "outputs": [
    {
     "data": {
      "text/plain": [
       "driverlessai._datasets.Dataset"
      ]
     },
     "execution_count": 4,
     "metadata": {},
     "output_type": "execute_result"
    }
   ],
   "source": [
    "# 特定のDatasetの取得\n",
    "dataset = dai.datasets.get(dai.datasets.list()[0].key)     # TitanicData2.csv.testを取得\n",
    "type(dataset)"
   ]
  },
  {
   "cell_type": "code",
   "execution_count": 5,
   "id": "41fd7306",
   "metadata": {},
   "outputs": [
    {
     "data": {
      "text/plain": [
       "    | Type       | Key                                  | Name\n",
       "----+------------+--------------------------------------+-----------------\n",
       "  0 | Experiment | 9d52d684-513b-11ef-8970-0242ac110002 | titanic-default"
      ]
     },
     "execution_count": 5,
     "metadata": {},
     "output_type": "execute_result"
    }
   ],
   "source": [
    "# 接続先Driverless AIのExperiments\n",
    "dai.experiments.list()"
   ]
  },
  {
   "cell_type": "code",
   "execution_count": 6,
   "id": "74860f64",
   "metadata": {},
   "outputs": [
    {
     "data": {
      "text/plain": [
       "driverlessai._experiments.Experiment"
      ]
     },
     "execution_count": 6,
     "metadata": {},
     "output_type": "execute_result"
    }
   ],
   "source": [
    "# 特定のExperimentの取得\n",
    "experiment = dai.experiments.get(key=dai.experiments.list()[0].key)     # titanic-defaultを取得\n",
    "type(experiment)"
   ]
  },
  {
   "cell_type": "markdown",
   "id": "11b6035c",
   "metadata": {},
   "source": [
    "### ModelDiagnostics"
   ]
  },
  {
   "cell_type": "code",
   "execution_count": 7,
   "id": "ea04ce16",
   "metadata": {},
   "outputs": [
    {
     "data": {
      "text/plain": [
       "<driverlessai._model_diagnostics.ModelDiagnostics at 0x7f97813abaf0>"
      ]
     },
     "execution_count": 7,
     "metadata": {},
     "output_type": "execute_result"
    }
   ],
   "source": [
    "dai.model_diagnostics"
   ]
  },
  {
   "cell_type": "code",
   "execution_count": 8,
   "id": "01521884",
   "metadata": {},
   "outputs": [
    {
     "data": {
      "text/plain": [
       "    | Type   | Key   | Name\n",
       "----+--------+-------+--------"
      ]
     },
     "execution_count": 8,
     "metadata": {},
     "output_type": "execute_result"
    }
   ],
   "source": [
    "# 接続先Driverless AIのDiagnostics\n",
    "dai.model_diagnostics.list()"
   ]
  },
  {
   "cell_type": "code",
   "execution_count": 9,
   "id": "4434adb3",
   "metadata": {},
   "outputs": [
    {
     "name": "stdout",
     "output_type": "stream",
     "text": [
      "Complete 100.00% - Click to open diagnostic\n"
     ]
    }
   ],
   "source": [
    "# Model Diagnosticの実行\n",
    "diagnose = dai.model_diagnostics.create(\n",
    "    diagnose_experiment=experiment,     # 上で取得したExperimentオブジェクト - 評価対象のExperiment\n",
    "    test_dataset=dataset                           # 上で取得したDatasetオブジェクト - 精度を評価するテストデータ\n",
    ")"
   ]
  },
  {
   "cell_type": "code",
   "execution_count": 10,
   "id": "0aa59149",
   "metadata": {},
   "outputs": [
    {
     "data": {
      "text/plain": [
       "<class 'ModelDiagnostic'> aa89cd20-52c2-11ef-ba9f-0242ac110002 tamebece"
      ]
     },
     "execution_count": 10,
     "metadata": {},
     "output_type": "execute_result"
    }
   ],
   "source": [
    "diagnose"
   ]
  },
  {
   "cell_type": "code",
   "execution_count": 11,
   "id": "e97d3423",
   "metadata": {},
   "outputs": [
    {
     "data": {
      "text/plain": [
       "    | Type            | Key                                  | Name\n",
       "----+-----------------+--------------------------------------+----------\n",
       "  0 | ModelDiagnostic | aa89cd20-52c2-11ef-ba9f-0242ac110002 | tamebece"
      ]
     },
     "execution_count": 11,
     "metadata": {},
     "output_type": "execute_result"
    }
   ],
   "source": [
    "# 接続先Driverless AIのDiagnostics（実行後の再確認）\n",
    "dai.model_diagnostics.list()"
   ]
  },
  {
   "cell_type": "markdown",
   "id": "20b7731d",
   "metadata": {},
   "source": [
    "【作成したDiagnostic】\n",
    "<img src=\"img/diagnostic.png\" width=800px>"
   ]
  },
  {
   "cell_type": "code",
   "execution_count": 12,
   "id": "4a580067",
   "metadata": {},
   "outputs": [
    {
     "data": {
      "text/plain": [
       "{'ACCURACY': {'score': 0.7862595419847328,\n",
       "  'mean': 0.8049618320610687,\n",
       "  'sd': 0.020913569439724455},\n",
       " 'AUC': {'score': 0.8125308641975308,\n",
       "  'mean': 0.806478752129157,\n",
       "  'sd': 0.026267800815746725},\n",
       " 'AUCPR': {'score': 0.7630965707080924,\n",
       "  'mean': 0.76684762338294,\n",
       "  'sd': 0.04788014607077734},\n",
       " 'F05': {'score': 0.7705479452054794,\n",
       "  'mean': 0.786993414831118,\n",
       "  'sd': 0.03726983781956082},\n",
       " 'F1': {'score': 0.7075471698113207,\n",
       "  'mean': 0.7185678786482508,\n",
       "  'sd': 0.025158521581505666},\n",
       " 'F2': {'score': 0.7704654895666132,\n",
       "  'mean': 0.7889316315666728,\n",
       "  'sd': 0.026183271755906866},\n",
       " 'FDR': {'score': 0.33035714285714285,\n",
       "  'mean': 0.31279772923291344,\n",
       "  'sd': 0.04180996522213613},\n",
       " 'FNR': {'score': 0.25, 'mean': 0.22477106143564513, 'sd': 0.0704629199321595},\n",
       " 'FOR': {'score': 0.16666666666666666,\n",
       "  'mean': 0.14500923982395336,\n",
       "  'sd': 0.028372792124849666},\n",
       " 'FPR': {'score': 0.22839506172839505,\n",
       "  'mean': 0.2265921885256876,\n",
       "  'sd': 0.08845949950667076},\n",
       " 'GINI': {'score': 0.6250617283950617,\n",
       "  'mean': 0.6075396712604983,\n",
       "  'sd': 0.054758031432735686},\n",
       " 'LOGLOSS': {'score': 0.48759887051832584,\n",
       "  'mean': 0.4864535544991834,\n",
       "  'sd': 0.03775857444506398},\n",
       " 'MACROAUC': {'score': 0.8125308641975308,\n",
       "  'mean': 0.8135662772448825,\n",
       "  'sd': 0.031101604021257112},\n",
       " 'MACROF1': {'score': 0.7075471698113207,\n",
       "  'mean': 0.7171432269984429,\n",
       "  'sd': 0.027752268855887705},\n",
       " 'MACROMCC': {'score': 0.5461979744690421,\n",
       "  'mean': 0.564397445877262,\n",
       "  'sd': 0.03997800766989709},\n",
       " 'MCC': {'score': 0.5461979744690421,\n",
       "  'mean': 0.5703713879724577,\n",
       "  'sd': 0.0431793664751426},\n",
       " 'NPV': {'score': 0.8333333333333334,\n",
       "  'mean': 0.838328183349922,\n",
       "  'sd': 0.02782850398300791},\n",
       " 'PRECISION': {'score': 0.6696428571428571,\n",
       "  'mean': 0.6815813657081039,\n",
       "  'sd': 0.06862959825546404},\n",
       " 'RECALL': {'score': 0.75,\n",
       "  'mean': 0.770642636231883,\n",
       "  'sd': 0.06192614325220141},\n",
       " 'TNR': {'score': 0.7716049382716049,\n",
       "  'mean': 0.7545485397548131,\n",
       "  'sd': 0.0814414307706483}}"
      ]
     },
     "execution_count": 12,
     "metadata": {},
     "output_type": "execute_result"
    }
   ],
   "source": [
    "diagnose.scores"
   ]
  },
  {
   "cell_type": "code",
   "execution_count": 13,
   "id": "cf0b289e",
   "metadata": {},
   "outputs": [
    {
     "name": "stderr",
     "output_type": "stream",
     "text": [
      "/var/folders/50/glkvvhjx03g22fwy2r0tgylr0000gn/T/ipykernel_4052/3067546825.py:1: UserWarning: 'ModelDiagnostic.metric_plots' is a beta API that is subject to future changes.\n",
      "  metric_plots = diagnose.metric_plots\n"
     ]
    },
    {
     "data": {
      "text/plain": [
       "<driverlessai._model_diagnostics.ModelDiagnosticMetricPlots at 0x7f9781439eb0>"
      ]
     },
     "execution_count": 13,
     "metadata": {},
     "output_type": "execute_result"
    }
   ],
   "source": [
    "metric_plots = diagnose.metric_plots\n",
    "metric_plots"
   ]
  },
  {
   "cell_type": "code",
   "execution_count": 14,
   "id": "2c318c6a",
   "metadata": {},
   "outputs": [
    {
     "data": {
      "text/plain": [
       "driverlessai._model_diagnostics.ModelDiagnosticMetricPlots"
      ]
     },
     "execution_count": 14,
     "metadata": {},
     "output_type": "execute_result"
    }
   ],
   "source": [
    "type(metric_plots)"
   ]
  },
  {
   "cell_type": "code",
   "execution_count": 15,
   "id": "e869919b",
   "metadata": {},
   "outputs": [
    {
     "data": {
      "text/plain": [
       "{'title': 'ROC Curve',\n",
       " 'schema': 'https://vega.github.io/schema/vega-lite/v3.json',\n",
       " 'layer': [{'data': {'values': [{'False Positive Rate': 1.0,\n",
       "      'True Positive Rate': 1.0},\n",
       "     {'False Positive Rate': 1.0, 'True Positive Rate': 1.0},\n",
       "     {'False Positive Rate': 0.9938271604938271, 'True Positive Rate': 0.99},\n",
       "     {'False Positive Rate': 0.9691358024691358, 'True Positive Rate': 0.99},\n",
       "     {'False Positive Rate': 0.9567901234567902, 'True Positive Rate': 0.99},\n",
       "     {'False Positive Rate': 0.9382716049382716, 'True Positive Rate': 0.99},\n",
       "     {'False Positive Rate': 0.9259259259259259, 'True Positive Rate': 0.99},\n",
       "     {'False Positive Rate': 0.9135802469135802, 'True Positive Rate': 0.98},\n",
       "     {'False Positive Rate': 0.9012345679012346, 'True Positive Rate': 0.98},\n",
       "     {'False Positive Rate': 0.8827160493827161, 'True Positive Rate': 0.98},\n",
       "     {'False Positive Rate': 0.8765432098765432, 'True Positive Rate': 0.97},\n",
       "     {'False Positive Rate': 0.8641975308641975, 'True Positive Rate': 0.96},\n",
       "     {'False Positive Rate': 0.8518518518518519, 'True Positive Rate': 0.96},\n",
       "     {'False Positive Rate': 0.8209876543209876, 'True Positive Rate': 0.96},\n",
       "     {'False Positive Rate': 0.808641975308642, 'True Positive Rate': 0.96},\n",
       "     {'False Positive Rate': 0.7901234567901234, 'True Positive Rate': 0.96},\n",
       "     {'False Positive Rate': 0.7839506172839507, 'True Positive Rate': 0.96},\n",
       "     {'False Positive Rate': 0.7839506172839507, 'True Positive Rate': 0.95},\n",
       "     {'False Positive Rate': 0.7654320987654321, 'True Positive Rate': 0.95},\n",
       "     {'False Positive Rate': 0.7530864197530864, 'True Positive Rate': 0.95},\n",
       "     {'False Positive Rate': 0.7345679012345679, 'True Positive Rate': 0.94},\n",
       "     {'False Positive Rate': 0.7283950617283951, 'True Positive Rate': 0.93},\n",
       "     {'False Positive Rate': 0.7037037037037037, 'True Positive Rate': 0.91},\n",
       "     {'False Positive Rate': 0.691358024691358, 'True Positive Rate': 0.91},\n",
       "     {'False Positive Rate': 0.6666666666666666, 'True Positive Rate': 0.9},\n",
       "     {'False Positive Rate': 0.6604938271604939, 'True Positive Rate': 0.89},\n",
       "     {'False Positive Rate': 0.6296296296296297, 'True Positive Rate': 0.89},\n",
       "     {'False Positive Rate': 0.6111111111111112, 'True Positive Rate': 0.88},\n",
       "     {'False Positive Rate': 0.5925925925925926, 'True Positive Rate': 0.88},\n",
       "     {'False Positive Rate': 0.5864197530864198, 'True Positive Rate': 0.87},\n",
       "     {'False Positive Rate': 0.5679012345679012, 'True Positive Rate': 0.87},\n",
       "     {'False Positive Rate': 0.5493827160493827, 'True Positive Rate': 0.87},\n",
       "     {'False Positive Rate': 0.5308641975308642, 'True Positive Rate': 0.87},\n",
       "     {'False Positive Rate': 0.5246913580246914, 'True Positive Rate': 0.86},\n",
       "     {'False Positive Rate': 0.5061728395061729, 'True Positive Rate': 0.86},\n",
       "     {'False Positive Rate': 0.5, 'True Positive Rate': 0.85},\n",
       "     {'False Positive Rate': 0.48148148148148145, 'True Positive Rate': 0.85},\n",
       "     {'False Positive Rate': 0.47530864197530864, 'True Positive Rate': 0.84},\n",
       "     {'False Positive Rate': 0.4567901234567901, 'True Positive Rate': 0.84},\n",
       "     {'False Positive Rate': 0.4444444444444444, 'True Positive Rate': 0.84},\n",
       "     {'False Positive Rate': 0.42592592592592593, 'True Positive Rate': 0.84},\n",
       "     {'False Positive Rate': 0.41358024691358025, 'True Positive Rate': 0.84},\n",
       "     {'False Positive Rate': 0.4012345679012346, 'True Positive Rate': 0.83},\n",
       "     {'False Positive Rate': 0.3888888888888889, 'True Positive Rate': 0.83},\n",
       "     {'False Positive Rate': 0.36419753086419754, 'True Positive Rate': 0.83},\n",
       "     {'False Positive Rate': 0.35185185185185186, 'True Positive Rate': 0.83},\n",
       "     {'False Positive Rate': 0.3395061728395062, 'True Positive Rate': 0.82},\n",
       "     {'False Positive Rate': 0.3271604938271605, 'True Positive Rate': 0.82},\n",
       "     {'False Positive Rate': 0.3148148148148148, 'True Positive Rate': 0.81},\n",
       "     {'False Positive Rate': 0.30864197530864196, 'True Positive Rate': 0.8},\n",
       "     {'False Positive Rate': 0.30864197530864196, 'True Positive Rate': 0.77},\n",
       "     {'False Positive Rate': 0.2962962962962963, 'True Positive Rate': 0.77},\n",
       "     {'False Positive Rate': 0.29012345679012347, 'True Positive Rate': 0.76},\n",
       "     {'False Positive Rate': 0.2777777777777778, 'True Positive Rate': 0.75},\n",
       "     {'False Positive Rate': 0.2654320987654321, 'True Positive Rate': 0.75},\n",
       "     {'False Positive Rate': 0.24691358024691357, 'True Positive Rate': 0.75},\n",
       "     {'False Positive Rate': 0.2345679012345679, 'True Positive Rate': 0.75},\n",
       "     {'False Positive Rate': 0.22839506172839505, 'True Positive Rate': 0.75},\n",
       "     {'False Positive Rate': 0.22839506172839505, 'True Positive Rate': 0.73},\n",
       "     {'False Positive Rate': 0.21604938271604937, 'True Positive Rate': 0.73},\n",
       "     {'False Positive Rate': 0.20987654320987653, 'True Positive Rate': 0.71},\n",
       "     {'False Positive Rate': 0.2037037037037037, 'True Positive Rate': 0.7},\n",
       "     {'False Positive Rate': 0.19753086419753085, 'True Positive Rate': 0.68},\n",
       "     {'False Positive Rate': 0.19753086419753085, 'True Positive Rate': 0.66},\n",
       "     {'False Positive Rate': 0.19135802469135801, 'True Positive Rate': 0.64},\n",
       "     {'False Positive Rate': 0.19135802469135801, 'True Positive Rate': 0.62},\n",
       "     {'False Positive Rate': 0.16049382716049382, 'True Positive Rate': 0.62},\n",
       "     {'False Positive Rate': 0.14814814814814814, 'True Positive Rate': 0.62},\n",
       "     {'False Positive Rate': 0.13580246913580246, 'True Positive Rate': 0.61},\n",
       "     {'False Positive Rate': 0.12345679012345678, 'True Positive Rate': 0.61},\n",
       "     {'False Positive Rate': 0.11728395061728394, 'True Positive Rate': 0.59},\n",
       "     {'False Positive Rate': 0.1111111111111111, 'True Positive Rate': 0.58},\n",
       "     {'False Positive Rate': 0.1111111111111111, 'True Positive Rate': 0.55},\n",
       "     {'False Positive Rate': 0.09876543209876543, 'True Positive Rate': 0.55},\n",
       "     {'False Positive Rate': 0.08024691358024691, 'True Positive Rate': 0.55},\n",
       "     {'False Positive Rate': 0.07407407407407407, 'True Positive Rate': 0.54},\n",
       "     {'False Positive Rate': 0.06790123456790123, 'True Positive Rate': 0.52},\n",
       "     {'False Positive Rate': 0.05555555555555555, 'True Positive Rate': 0.52},\n",
       "     {'False Positive Rate': 0.043209876543209874, 'True Positive Rate': 0.51},\n",
       "     {'False Positive Rate': 0.043209876543209874, 'True Positive Rate': 0.51},\n",
       "     {'False Positive Rate': 0.043209876543209874, 'True Positive Rate': 0.49},\n",
       "     {'False Positive Rate': 0.030864197530864196, 'True Positive Rate': 0.48},\n",
       "     {'False Positive Rate': 0.030864197530864196, 'True Positive Rate': 0.46},\n",
       "     {'False Positive Rate': 0.018518518518518517, 'True Positive Rate': 0.45},\n",
       "     {'False Positive Rate': 0.018518518518518517, 'True Positive Rate': 0.45},\n",
       "     {'False Positive Rate': 0.018518518518518517, 'True Positive Rate': 0.43},\n",
       "     {'False Positive Rate': 0.012345679012345678, 'True Positive Rate': 0.41},\n",
       "     {'False Positive Rate': 0.012345679012345678, 'True Positive Rate': 0.39},\n",
       "     {'False Positive Rate': 0.012345679012345678, 'True Positive Rate': 0.36},\n",
       "     {'False Positive Rate': 0.012345679012345678, 'True Positive Rate': 0.34},\n",
       "     {'False Positive Rate': 0.012345679012345678, 'True Positive Rate': 0.31},\n",
       "     {'False Positive Rate': 0.012345679012345678, 'True Positive Rate': 0.29},\n",
       "     {'False Positive Rate': 0.012345679012345678, 'True Positive Rate': 0.26},\n",
       "     {'False Positive Rate': 0.012345679012345678, 'True Positive Rate': 0.24},\n",
       "     {'False Positive Rate': 0.012345679012345678, 'True Positive Rate': 0.21},\n",
       "     {'False Positive Rate': 0.012345679012345678, 'True Positive Rate': 0.19},\n",
       "     {'False Positive Rate': 0.012345679012345678, 'True Positive Rate': 0.16},\n",
       "     {'False Positive Rate': 0.012345679012345678, 'True Positive Rate': 0.14},\n",
       "     {'False Positive Rate': 0.006172839506172839, 'True Positive Rate': 0.12},\n",
       "     {'False Positive Rate': 0.006172839506172839, 'True Positive Rate': 0.1},\n",
       "     {'False Positive Rate': 0.006172839506172839, 'True Positive Rate': 0.07},\n",
       "     {'False Positive Rate': 0.006172839506172839, 'True Positive Rate': 0.05},\n",
       "     {'False Positive Rate': 0.006172839506172839, 'True Positive Rate': 0.02},\n",
       "     {'False Positive Rate': 0.006172839506172839, 'True Positive Rate': 0.01},\n",
       "     {'False Positive Rate': 0.0, 'True Positive Rate': 0.01},\n",
       "     {'False Positive Rate': 0.0, 'True Positive Rate': 0.01}]},\n",
       "   'mark': 'line',\n",
       "   'encoding': {'x': {'field': 'False Positive Rate', 'type': 'quantitative'},\n",
       "    'y': {'field': 'True Positive Rate', 'type': 'quantitative'}}},\n",
       "  {'data': {'values': [{'False Positive Rate': 0.22839506172839505,\n",
       "      'True Positive Rate': 0.75,\n",
       "      'label': 'Best F1'},\n",
       "     {'False Positive Rate': 0.043209876543209874,\n",
       "      'True Positive Rate': 0.51,\n",
       "      'label': 'Best MCC'},\n",
       "     {'False Positive Rate': 0.043209876543209874,\n",
       "      'True Positive Rate': 0.51,\n",
       "      'label': 'Best ACC'}]},\n",
       "   'mark': 'point',\n",
       "   'encoding': {'x': {'field': 'False Positive Rate', 'type': 'quantitative'},\n",
       "    'y': {'field': 'True Positive Rate', 'type': 'quantitative'}}},\n",
       "  {'data': {'values': [{'False Positive Rate': 0.22839506172839505,\n",
       "      'True Positive Rate': 0.75,\n",
       "      'label': 'Best F1'},\n",
       "     {'False Positive Rate': 0.043209876543209874,\n",
       "      'True Positive Rate': 0.51,\n",
       "      'label': 'Best MCC'},\n",
       "     {'False Positive Rate': 0.043209876543209874,\n",
       "      'True Positive Rate': 0.51,\n",
       "      'label': 'Best ACC'}]},\n",
       "   'mark': 'text',\n",
       "   'encoding': {'x': {'field': 'False Positive Rate', 'type': 'quantitative'},\n",
       "    'y': {'field': 'True Positive Rate', 'type': 'quantitative'},\n",
       "    'text': {'field': 'label', 'type': 'nominal'}}}]}"
      ]
     },
     "execution_count": 15,
     "metadata": {},
     "output_type": "execute_result"
    }
   ],
   "source": [
    "metric_plots.roc_curve    # vega-lite/v3 形式"
   ]
  },
  {
   "cell_type": "code",
   "execution_count": 16,
   "id": "601e49e9",
   "metadata": {},
   "outputs": [
    {
     "data": {
      "application/javascript": [
       "const spec = {\"title\": \"ROC Curve\", \"schema\": \"https://vega.github.io/schema/vega-lite/v3.json\", \"layer\": [{\"data\": {\"values\": [{\"False Positive Rate\": 1.0, \"True Positive Rate\": 1.0}, {\"False Positive Rate\": 1.0, \"True Positive Rate\": 1.0}, {\"False Positive Rate\": 0.9938271604938271, \"True Positive Rate\": 0.99}, {\"False Positive Rate\": 0.9691358024691358, \"True Positive Rate\": 0.99}, {\"False Positive Rate\": 0.9567901234567902, \"True Positive Rate\": 0.99}, {\"False Positive Rate\": 0.9382716049382716, \"True Positive Rate\": 0.99}, {\"False Positive Rate\": 0.9259259259259259, \"True Positive Rate\": 0.99}, {\"False Positive Rate\": 0.9135802469135802, \"True Positive Rate\": 0.98}, {\"False Positive Rate\": 0.9012345679012346, \"True Positive Rate\": 0.98}, {\"False Positive Rate\": 0.8827160493827161, \"True Positive Rate\": 0.98}, {\"False Positive Rate\": 0.8765432098765432, \"True Positive Rate\": 0.97}, {\"False Positive Rate\": 0.8641975308641975, \"True Positive Rate\": 0.96}, {\"False Positive Rate\": 0.8518518518518519, \"True Positive Rate\": 0.96}, {\"False Positive Rate\": 0.8209876543209876, \"True Positive Rate\": 0.96}, {\"False Positive Rate\": 0.808641975308642, \"True Positive Rate\": 0.96}, {\"False Positive Rate\": 0.7901234567901234, \"True Positive Rate\": 0.96}, {\"False Positive Rate\": 0.7839506172839507, \"True Positive Rate\": 0.96}, {\"False Positive Rate\": 0.7839506172839507, \"True Positive Rate\": 0.95}, {\"False Positive Rate\": 0.7654320987654321, \"True Positive Rate\": 0.95}, {\"False Positive Rate\": 0.7530864197530864, \"True Positive Rate\": 0.95}, {\"False Positive Rate\": 0.7345679012345679, \"True Positive Rate\": 0.94}, {\"False Positive Rate\": 0.7283950617283951, \"True Positive Rate\": 0.93}, {\"False Positive Rate\": 0.7037037037037037, \"True Positive Rate\": 0.91}, {\"False Positive Rate\": 0.691358024691358, \"True Positive Rate\": 0.91}, {\"False Positive Rate\": 0.6666666666666666, \"True Positive Rate\": 0.9}, {\"False Positive Rate\": 0.6604938271604939, \"True Positive Rate\": 0.89}, {\"False Positive Rate\": 0.6296296296296297, \"True Positive Rate\": 0.89}, {\"False Positive Rate\": 0.6111111111111112, \"True Positive Rate\": 0.88}, {\"False Positive Rate\": 0.5925925925925926, \"True Positive Rate\": 0.88}, {\"False Positive Rate\": 0.5864197530864198, \"True Positive Rate\": 0.87}, {\"False Positive Rate\": 0.5679012345679012, \"True Positive Rate\": 0.87}, {\"False Positive Rate\": 0.5493827160493827, \"True Positive Rate\": 0.87}, {\"False Positive Rate\": 0.5308641975308642, \"True Positive Rate\": 0.87}, {\"False Positive Rate\": 0.5246913580246914, \"True Positive Rate\": 0.86}, {\"False Positive Rate\": 0.5061728395061729, \"True Positive Rate\": 0.86}, {\"False Positive Rate\": 0.5, \"True Positive Rate\": 0.85}, {\"False Positive Rate\": 0.48148148148148145, \"True Positive Rate\": 0.85}, {\"False Positive Rate\": 0.47530864197530864, \"True Positive Rate\": 0.84}, {\"False Positive Rate\": 0.4567901234567901, \"True Positive Rate\": 0.84}, {\"False Positive Rate\": 0.4444444444444444, \"True Positive Rate\": 0.84}, {\"False Positive Rate\": 0.42592592592592593, \"True Positive Rate\": 0.84}, {\"False Positive Rate\": 0.41358024691358025, \"True Positive Rate\": 0.84}, {\"False Positive Rate\": 0.4012345679012346, \"True Positive Rate\": 0.83}, {\"False Positive Rate\": 0.3888888888888889, \"True Positive Rate\": 0.83}, {\"False Positive Rate\": 0.36419753086419754, \"True Positive Rate\": 0.83}, {\"False Positive Rate\": 0.35185185185185186, \"True Positive Rate\": 0.83}, {\"False Positive Rate\": 0.3395061728395062, \"True Positive Rate\": 0.82}, {\"False Positive Rate\": 0.3271604938271605, \"True Positive Rate\": 0.82}, {\"False Positive Rate\": 0.3148148148148148, \"True Positive Rate\": 0.81}, {\"False Positive Rate\": 0.30864197530864196, \"True Positive Rate\": 0.8}, {\"False Positive Rate\": 0.30864197530864196, \"True Positive Rate\": 0.77}, {\"False Positive Rate\": 0.2962962962962963, \"True Positive Rate\": 0.77}, {\"False Positive Rate\": 0.29012345679012347, \"True Positive Rate\": 0.76}, {\"False Positive Rate\": 0.2777777777777778, \"True Positive Rate\": 0.75}, {\"False Positive Rate\": 0.2654320987654321, \"True Positive Rate\": 0.75}, {\"False Positive Rate\": 0.24691358024691357, \"True Positive Rate\": 0.75}, {\"False Positive Rate\": 0.2345679012345679, \"True Positive Rate\": 0.75}, {\"False Positive Rate\": 0.22839506172839505, \"True Positive Rate\": 0.75}, {\"False Positive Rate\": 0.22839506172839505, \"True Positive Rate\": 0.73}, {\"False Positive Rate\": 0.21604938271604937, \"True Positive Rate\": 0.73}, {\"False Positive Rate\": 0.20987654320987653, \"True Positive Rate\": 0.71}, {\"False Positive Rate\": 0.2037037037037037, \"True Positive Rate\": 0.7}, {\"False Positive Rate\": 0.19753086419753085, \"True Positive Rate\": 0.68}, {\"False Positive Rate\": 0.19753086419753085, \"True Positive Rate\": 0.66}, {\"False Positive Rate\": 0.19135802469135801, \"True Positive Rate\": 0.64}, {\"False Positive Rate\": 0.19135802469135801, \"True Positive Rate\": 0.62}, {\"False Positive Rate\": 0.16049382716049382, \"True Positive Rate\": 0.62}, {\"False Positive Rate\": 0.14814814814814814, \"True Positive Rate\": 0.62}, {\"False Positive Rate\": 0.13580246913580246, \"True Positive Rate\": 0.61}, {\"False Positive Rate\": 0.12345679012345678, \"True Positive Rate\": 0.61}, {\"False Positive Rate\": 0.11728395061728394, \"True Positive Rate\": 0.59}, {\"False Positive Rate\": 0.1111111111111111, \"True Positive Rate\": 0.58}, {\"False Positive Rate\": 0.1111111111111111, \"True Positive Rate\": 0.55}, {\"False Positive Rate\": 0.09876543209876543, \"True Positive Rate\": 0.55}, {\"False Positive Rate\": 0.08024691358024691, \"True Positive Rate\": 0.55}, {\"False Positive Rate\": 0.07407407407407407, \"True Positive Rate\": 0.54}, {\"False Positive Rate\": 0.06790123456790123, \"True Positive Rate\": 0.52}, {\"False Positive Rate\": 0.05555555555555555, \"True Positive Rate\": 0.52}, {\"False Positive Rate\": 0.043209876543209874, \"True Positive Rate\": 0.51}, {\"False Positive Rate\": 0.043209876543209874, \"True Positive Rate\": 0.51}, {\"False Positive Rate\": 0.043209876543209874, \"True Positive Rate\": 0.49}, {\"False Positive Rate\": 0.030864197530864196, \"True Positive Rate\": 0.48}, {\"False Positive Rate\": 0.030864197530864196, \"True Positive Rate\": 0.46}, {\"False Positive Rate\": 0.018518518518518517, \"True Positive Rate\": 0.45}, {\"False Positive Rate\": 0.018518518518518517, \"True Positive Rate\": 0.45}, {\"False Positive Rate\": 0.018518518518518517, \"True Positive Rate\": 0.43}, {\"False Positive Rate\": 0.012345679012345678, \"True Positive Rate\": 0.41}, {\"False Positive Rate\": 0.012345679012345678, \"True Positive Rate\": 0.39}, {\"False Positive Rate\": 0.012345679012345678, \"True Positive Rate\": 0.36}, {\"False Positive Rate\": 0.012345679012345678, \"True Positive Rate\": 0.34}, {\"False Positive Rate\": 0.012345679012345678, \"True Positive Rate\": 0.31}, {\"False Positive Rate\": 0.012345679012345678, \"True Positive Rate\": 0.29}, {\"False Positive Rate\": 0.012345679012345678, \"True Positive Rate\": 0.26}, {\"False Positive Rate\": 0.012345679012345678, \"True Positive Rate\": 0.24}, {\"False Positive Rate\": 0.012345679012345678, \"True Positive Rate\": 0.21}, {\"False Positive Rate\": 0.012345679012345678, \"True Positive Rate\": 0.19}, {\"False Positive Rate\": 0.012345679012345678, \"True Positive Rate\": 0.16}, {\"False Positive Rate\": 0.012345679012345678, \"True Positive Rate\": 0.14}, {\"False Positive Rate\": 0.006172839506172839, \"True Positive Rate\": 0.12}, {\"False Positive Rate\": 0.006172839506172839, \"True Positive Rate\": 0.1}, {\"False Positive Rate\": 0.006172839506172839, \"True Positive Rate\": 0.07}, {\"False Positive Rate\": 0.006172839506172839, \"True Positive Rate\": 0.05}, {\"False Positive Rate\": 0.006172839506172839, \"True Positive Rate\": 0.02}, {\"False Positive Rate\": 0.006172839506172839, \"True Positive Rate\": 0.01}, {\"False Positive Rate\": 0.0, \"True Positive Rate\": 0.01}, {\"False Positive Rate\": 0.0, \"True Positive Rate\": 0.01}]}, \"mark\": \"line\", \"encoding\": {\"x\": {\"field\": \"False Positive Rate\", \"type\": \"quantitative\"}, \"y\": {\"field\": \"True Positive Rate\", \"type\": \"quantitative\"}}}, {\"data\": {\"values\": [{\"False Positive Rate\": 0.22839506172839505, \"True Positive Rate\": 0.75, \"label\": \"Best F1\"}, {\"False Positive Rate\": 0.043209876543209874, \"True Positive Rate\": 0.51, \"label\": \"Best MCC\"}, {\"False Positive Rate\": 0.043209876543209874, \"True Positive Rate\": 0.51, \"label\": \"Best ACC\"}]}, \"mark\": \"point\", \"encoding\": {\"x\": {\"field\": \"False Positive Rate\", \"type\": \"quantitative\"}, \"y\": {\"field\": \"True Positive Rate\", \"type\": \"quantitative\"}}}, {\"data\": {\"values\": [{\"False Positive Rate\": 0.22839506172839505, \"True Positive Rate\": 0.75, \"label\": \"Best F1\"}, {\"False Positive Rate\": 0.043209876543209874, \"True Positive Rate\": 0.51, \"label\": \"Best MCC\"}, {\"False Positive Rate\": 0.043209876543209874, \"True Positive Rate\": 0.51, \"label\": \"Best ACC\"}]}, \"mark\": \"text\", \"encoding\": {\"x\": {\"field\": \"False Positive Rate\", \"type\": \"quantitative\"}, \"y\": {\"field\": \"True Positive Rate\", \"type\": \"quantitative\"}, \"text\": {\"field\": \"label\", \"type\": \"nominal\"}}}]};\n",
       "const opt = {};\n",
       "const type = \"vega\";\n",
       "const id = \"4224057a-d4fe-485a-93bd-f96e960494b7\";\n",
       "\n",
       "const output_area = this;\n",
       "\n",
       "require([\"jupyter-vega\"], function(vega) {\n",
       "  const target = document.createElement(\"div\");\n",
       "  target.id = id;\n",
       "  target.className = \"vega-embed\";\n",
       "\n",
       "  const style = document.createElement(\"style\");\n",
       "  style.textContent = [\n",
       "    \".vega-embed .error p {\",\n",
       "    \"  color: firebrick;\",\n",
       "    \"  font-size: 14px;\",\n",
       "    \"}\",\n",
       "  ].join(\"\\\\n\");\n",
       "\n",
       "  // element is a jQuery wrapped DOM element inside the output area\n",
       "  // see http://ipython.readthedocs.io/en/stable/api/generated/\\\n",
       "  // IPython.display.html#IPython.display.Javascript.__init__\n",
       "  element[0].appendChild(target);\n",
       "  element[0].appendChild(style);\n",
       "  vega.render(`#${id}`, spec, type, opt, output_area);\n",
       "}, function (err) {\n",
       "  if (err.requireType !== \"scripterror\") {\n",
       "    throw(err);\n",
       "  }\n",
       "});\n"
      ],
      "text/plain": [
       "<vega.vega.Vega at 0x7f97814459d0>"
      ]
     },
     "execution_count": 16,
     "metadata": {
      "jupyter-vega": "#4224057a-d4fe-485a-93bd-f96e960494b7"
     },
     "output_type": "execute_result"
    }
   ],
   "source": [
    "Vega(metric_plots.roc_curve)"
   ]
  },
  {
   "cell_type": "code",
   "execution_count": 20,
   "id": "4e070b63-9aec-4e31-8563-e518896e0ec1",
   "metadata": {},
   "outputs": [
    {
     "data": {
      "application/javascript": [
       "const spec = {\"title\": \"Precision-Recall Curve\", \"schema\": \"https://vega.github.io/schema/vega-lite/v3.json\", \"layer\": [{\"data\": {\"values\": [{\"Recall\": 1.0, \"Precision\": 0.3816793893129771}, {\"Recall\": 1.0, \"Precision\": 0.3816793893129771}, {\"Recall\": 0.99, \"Precision\": 0.38076923076923075}, {\"Recall\": 0.99, \"Precision\": 0.38671875}, {\"Recall\": 0.99, \"Precision\": 0.38976377952755903}, {\"Recall\": 0.99, \"Precision\": 0.3944223107569721}, {\"Recall\": 0.99, \"Precision\": 0.39759036144578314}, {\"Recall\": 0.98, \"Precision\": 0.3983739837398374}, {\"Recall\": 0.98, \"Precision\": 0.4016393442622951}, {\"Recall\": 0.98, \"Precision\": 0.4066390041493776}, {\"Recall\": 0.97, \"Precision\": 0.40585774058577406}, {\"Recall\": 0.96, \"Precision\": 0.4067796610169492}, {\"Recall\": 0.96, \"Precision\": 0.41025641025641024}, {\"Recall\": 0.96, \"Precision\": 0.4192139737991266}, {\"Recall\": 0.96, \"Precision\": 0.42290748898678415}, {\"Recall\": 0.96, \"Precision\": 0.42857142857142855}, {\"Recall\": 0.96, \"Precision\": 0.4304932735426009}, {\"Recall\": 0.95, \"Precision\": 0.42792792792792794}, {\"Recall\": 0.95, \"Precision\": 0.4337899543378995}, {\"Recall\": 0.95, \"Precision\": 0.4377880184331797}, {\"Recall\": 0.94, \"Precision\": 0.4413145539906103}, {\"Recall\": 0.93, \"Precision\": 0.44075829383886256}, {\"Recall\": 0.91, \"Precision\": 0.44390243902439025}, {\"Recall\": 0.91, \"Precision\": 0.4482758620689655}, {\"Recall\": 0.9, \"Precision\": 0.45454545454545453}, {\"Recall\": 0.89, \"Precision\": 0.45408163265306123}, {\"Recall\": 0.89, \"Precision\": 0.46596858638743455}, {\"Recall\": 0.88, \"Precision\": 0.47058823529411764}, {\"Recall\": 0.88, \"Precision\": 0.4782608695652174}, {\"Recall\": 0.87, \"Precision\": 0.47802197802197804}, {\"Recall\": 0.87, \"Precision\": 0.4860335195530726}, {\"Recall\": 0.87, \"Precision\": 0.4943181818181818}, {\"Recall\": 0.87, \"Precision\": 0.5028901734104047}, {\"Recall\": 0.86, \"Precision\": 0.5029239766081871}, {\"Recall\": 0.86, \"Precision\": 0.5119047619047619}, {\"Recall\": 0.85, \"Precision\": 0.5120481927710844}, {\"Recall\": 0.85, \"Precision\": 0.5214723926380368}, {\"Recall\": 0.84, \"Precision\": 0.5217391304347826}, {\"Recall\": 0.84, \"Precision\": 0.5316455696202531}, {\"Recall\": 0.84, \"Precision\": 0.5384615384615384}, {\"Recall\": 0.84, \"Precision\": 0.5490196078431373}, {\"Recall\": 0.84, \"Precision\": 0.5562913907284768}, {\"Recall\": 0.83, \"Precision\": 0.5608108108108109}, {\"Recall\": 0.83, \"Precision\": 0.5684931506849316}, {\"Recall\": 0.83, \"Precision\": 0.5845070422535211}, {\"Recall\": 0.83, \"Precision\": 0.5928571428571429}, {\"Recall\": 0.82, \"Precision\": 0.5985401459854015}, {\"Recall\": 0.82, \"Precision\": 0.6074074074074074}, {\"Recall\": 0.81, \"Precision\": 0.6136363636363636}, {\"Recall\": 0.8, \"Precision\": 0.6153846153846154}, {\"Recall\": 0.77, \"Precision\": 0.6062992125984252}, {\"Recall\": 0.77, \"Precision\": 0.616}, {\"Recall\": 0.76, \"Precision\": 0.6178861788617886}, {\"Recall\": 0.75, \"Precision\": 0.625}, {\"Recall\": 0.75, \"Precision\": 0.635593220338983}, {\"Recall\": 0.75, \"Precision\": 0.6521739130434783}, {\"Recall\": 0.75, \"Precision\": 0.6637168141592921}, {\"Recall\": 0.75, \"Precision\": 0.6696428571428571}, {\"Recall\": 0.73, \"Precision\": 0.6636363636363637}, {\"Recall\": 0.73, \"Precision\": 0.6759259259259259}, {\"Recall\": 0.71, \"Precision\": 0.6761904761904762}, {\"Recall\": 0.7, \"Precision\": 0.6796116504854369}, {\"Recall\": 0.68, \"Precision\": 0.68}, {\"Recall\": 0.66, \"Precision\": 0.673469387755102}, {\"Recall\": 0.64, \"Precision\": 0.6736842105263158}, {\"Recall\": 0.62, \"Precision\": 0.6666666666666666}, {\"Recall\": 0.62, \"Precision\": 0.7045454545454546}, {\"Recall\": 0.62, \"Precision\": 0.7209302325581395}, {\"Recall\": 0.61, \"Precision\": 0.7349397590361446}, {\"Recall\": 0.61, \"Precision\": 0.7530864197530864}, {\"Recall\": 0.59, \"Precision\": 0.7564102564102564}, {\"Recall\": 0.58, \"Precision\": 0.7631578947368421}, {\"Recall\": 0.55, \"Precision\": 0.7534246575342466}, {\"Recall\": 0.55, \"Precision\": 0.7746478873239436}, {\"Recall\": 0.55, \"Precision\": 0.8088235294117647}, {\"Recall\": 0.54, \"Precision\": 0.8181818181818182}, {\"Recall\": 0.52, \"Precision\": 0.8253968253968254}, {\"Recall\": 0.52, \"Precision\": 0.8524590163934426}, {\"Recall\": 0.51, \"Precision\": 0.8793103448275862}, {\"Recall\": 0.51, \"Precision\": 0.8793103448275862}, {\"Recall\": 0.49, \"Precision\": 0.875}, {\"Recall\": 0.48, \"Precision\": 0.9056603773584906}, {\"Recall\": 0.46, \"Precision\": 0.9019607843137255}, {\"Recall\": 0.45, \"Precision\": 0.9375}, {\"Recall\": 0.45, \"Precision\": 0.9375}, {\"Recall\": 0.43, \"Precision\": 0.9347826086956522}, {\"Recall\": 0.41, \"Precision\": 0.9534883720930233}, {\"Recall\": 0.39, \"Precision\": 0.9512195121951219}, {\"Recall\": 0.36, \"Precision\": 0.9473684210526315}, {\"Recall\": 0.34, \"Precision\": 0.9444444444444444}, {\"Recall\": 0.31, \"Precision\": 0.9393939393939394}, {\"Recall\": 0.29, \"Precision\": 0.9354838709677419}, {\"Recall\": 0.26, \"Precision\": 0.9285714285714286}, {\"Recall\": 0.24, \"Precision\": 0.9230769230769231}, {\"Recall\": 0.21, \"Precision\": 0.9130434782608695}, {\"Recall\": 0.19, \"Precision\": 0.9047619047619048}, {\"Recall\": 0.16, \"Precision\": 0.8888888888888888}, {\"Recall\": 0.14, \"Precision\": 0.875}, {\"Recall\": 0.12, \"Precision\": 0.9230769230769231}, {\"Recall\": 0.1, \"Precision\": 0.9090909090909091}, {\"Recall\": 0.07, \"Precision\": 0.875}, {\"Recall\": 0.05, \"Precision\": 0.8333333333333334}, {\"Recall\": 0.02, \"Precision\": 0.6666666666666666}, {\"Recall\": 0.01, \"Precision\": 0.5}, {\"Recall\": 0.01, \"Precision\": 1.0}, {\"Recall\": 0.01, \"Precision\": 1.0}]}, \"mark\": \"line\", \"encoding\": {\"x\": {\"field\": \"Recall\", \"type\": \"quantitative\"}, \"y\": {\"field\": \"Precision\", \"type\": \"quantitative\"}}}, {\"data\": {\"values\": [{\"Recall\": 0.75, \"Precision\": 0.6696428571428571, \"label\": \"Best F1\"}, {\"Recall\": 0.51, \"Precision\": 0.8793103448275862, \"label\": \"Best MCC\"}, {\"Recall\": 0.51, \"Precision\": 0.8793103448275862, \"label\": \"Best ACC\"}]}, \"mark\": \"point\", \"encoding\": {\"x\": {\"field\": \"Recall\", \"type\": \"quantitative\"}, \"y\": {\"field\": \"Precision\", \"type\": \"quantitative\"}}}, {\"data\": {\"values\": [{\"Recall\": 0.75, \"Precision\": 0.6696428571428571, \"label\": \"Best F1\"}, {\"Recall\": 0.51, \"Precision\": 0.8793103448275862, \"label\": \"Best MCC\"}, {\"Recall\": 0.51, \"Precision\": 0.8793103448275862, \"label\": \"Best ACC\"}]}, \"mark\": \"text\", \"encoding\": {\"x\": {\"field\": \"Recall\", \"type\": \"quantitative\"}, \"y\": {\"field\": \"Precision\", \"type\": \"quantitative\"}, \"text\": {\"field\": \"label\", \"type\": \"nominal\"}}}]};\n",
       "const opt = {};\n",
       "const type = \"vega\";\n",
       "const id = \"9e9cd0ca-49e6-439d-816b-b46236839805\";\n",
       "\n",
       "const output_area = this;\n",
       "\n",
       "require([\"jupyter-vega\"], function(vega) {\n",
       "  const target = document.createElement(\"div\");\n",
       "  target.id = id;\n",
       "  target.className = \"vega-embed\";\n",
       "\n",
       "  const style = document.createElement(\"style\");\n",
       "  style.textContent = [\n",
       "    \".vega-embed .error p {\",\n",
       "    \"  color: firebrick;\",\n",
       "    \"  font-size: 14px;\",\n",
       "    \"}\",\n",
       "  ].join(\"\\\\n\");\n",
       "\n",
       "  // element is a jQuery wrapped DOM element inside the output area\n",
       "  // see http://ipython.readthedocs.io/en/stable/api/generated/\\\n",
       "  // IPython.display.html#IPython.display.Javascript.__init__\n",
       "  element[0].appendChild(target);\n",
       "  element[0].appendChild(style);\n",
       "  vega.render(`#${id}`, spec, type, opt, output_area);\n",
       "}, function (err) {\n",
       "  if (err.requireType !== \"scripterror\") {\n",
       "    throw(err);\n",
       "  }\n",
       "});\n"
      ],
      "text/plain": [
       "<vega.vega.Vega at 0x7f97710834c0>"
      ]
     },
     "execution_count": 20,
     "metadata": {
      "jupyter-vega": "#9e9cd0ca-49e6-439d-816b-b46236839805"
     },
     "output_type": "execute_result"
    }
   ],
   "source": [
    "Vega(metric_plots.prec_recall_curve)"
   ]
  },
  {
   "cell_type": "code",
   "execution_count": 21,
   "id": "ed7cb915",
   "metadata": {},
   "outputs": [
    {
     "data": {
      "application/javascript": [
       "const spec = {\"title\": \"Cumulative Gain Chart\", \"schema\": \"https://vega.github.io/schema/vega-lite/v3.json\", \"layer\": [{\"data\": {\"values\": [{\"Quantile\": 0.01, \"Gains\": 0.01, \"x_label\": \"Quantile\", \"y_label\": \"Cumulative Gain\", \"x_label_value\": \"1.0%\", \"y_label_value\": \"1.0%\"}, {\"Quantile\": 0.02, \"Gains\": 0.04, \"x_label\": \"Quantile\", \"y_label\": \"Cumulative Gain\", \"x_label_value\": \"2.0%\", \"y_label_value\": \"4.0%\"}, {\"Quantile\": 0.03, \"Gains\": 0.06, \"x_label\": \"Quantile\", \"y_label\": \"Cumulative Gain\", \"x_label_value\": \"3.0%\", \"y_label_value\": \"6.0%\"}, {\"Quantile\": 0.04, \"Gains\": 0.09, \"x_label\": \"Quantile\", \"y_label\": \"Cumulative Gain\", \"x_label_value\": \"4.0%\", \"y_label_value\": \"9.0%\"}, {\"Quantile\": 0.05, \"Gains\": 0.12, \"x_label\": \"Quantile\", \"y_label\": \"Cumulative Gain\", \"x_label_value\": \"5.0%\", \"y_label_value\": \"12.0%\"}, {\"Quantile\": 0.1, \"Gains\": 0.24, \"x_label\": \"Quantile\", \"y_label\": \"Cumulative Gain\", \"x_label_value\": \"10.0%\", \"y_label_value\": \"24.0%\"}, {\"Quantile\": 0.15, \"Gains\": 0.37, \"x_label\": \"Quantile\", \"y_label\": \"Cumulative Gain\", \"x_label_value\": \"15.0%\", \"y_label_value\": \"37.0%\"}, {\"Quantile\": 0.2, \"Gains\": 0.47, \"x_label\": \"Quantile\", \"y_label\": \"Cumulative Gain\", \"x_label_value\": \"20.0%\", \"y_label_value\": \"47.0%\"}, {\"Quantile\": 0.3, \"Gains\": 0.59, \"x_label\": \"Quantile\", \"y_label\": \"Cumulative Gain\", \"x_label_value\": \"30.0%\", \"y_label_value\": \"59.0%\"}, {\"Quantile\": 0.4, \"Gains\": 0.7, \"x_label\": \"Quantile\", \"y_label\": \"Cumulative Gain\", \"x_label_value\": \"40.0%\", \"y_label_value\": \"70.0%\"}, {\"Quantile\": 0.5, \"Gains\": 0.81, \"x_label\": \"Quantile\", \"y_label\": \"Cumulative Gain\", \"x_label_value\": \"50.0%\", \"y_label_value\": \"81.0%\"}, {\"Quantile\": 0.6, \"Gains\": 0.84, \"x_label\": \"Quantile\", \"y_label\": \"Cumulative Gain\", \"x_label_value\": \"60.0%\", \"y_label_value\": \"84.0%\"}, {\"Quantile\": 0.7, \"Gains\": 0.88, \"x_label\": \"Quantile\", \"y_label\": \"Cumulative Gain\", \"x_label_value\": \"70.0%\", \"y_label_value\": \"88.0%\"}, {\"Quantile\": 0.8, \"Gains\": 0.93, \"x_label\": \"Quantile\", \"y_label\": \"Cumulative Gain\", \"x_label_value\": \"80.0%\", \"y_label_value\": \"93.0%\"}, {\"Quantile\": 0.9, \"Gains\": 0.96, \"x_label\": \"Quantile\", \"y_label\": \"Cumulative Gain\", \"x_label_value\": \"90.0%\", \"y_label_value\": \"96.0%\"}, {\"Quantile\": 1.0, \"Gains\": 1.0, \"x_label\": \"Quantile\", \"y_label\": \"Cumulative Gain\", \"x_label_value\": \"100.0%\", \"y_label_value\": \"100.0%\"}]}, \"mark\": \"line\", \"encoding\": {\"x\": {\"field\": \"Quantile\", \"type\": \"quantitative\"}, \"y\": {\"field\": \"Gains\", \"type\": \"quantitative\"}, \"tooltip\": [{\"field\": \"x_label_value\", \"type\": \"nominal\", \"title\": \"Quantile\"}, {\"field\": \"y_label_value\", \"type\": \"nominal\", \"title\": \"Cumulative Gain\"}]}}, {\"data\": {\"values\": [{\"Quantile\": 0.01, \"Gains\": 0.01, \"x_label\": \"Quantile\", \"y_label\": \"Cumulative Gain\", \"x_label_value\": \"1.0%\", \"y_label_value\": \"1.0%\"}, {\"Quantile\": 0.02, \"Gains\": 0.04, \"x_label\": \"Quantile\", \"y_label\": \"Cumulative Gain\", \"x_label_value\": \"2.0%\", \"y_label_value\": \"4.0%\"}, {\"Quantile\": 0.03, \"Gains\": 0.06, \"x_label\": \"Quantile\", \"y_label\": \"Cumulative Gain\", \"x_label_value\": \"3.0%\", \"y_label_value\": \"6.0%\"}, {\"Quantile\": 0.04, \"Gains\": 0.09, \"x_label\": \"Quantile\", \"y_label\": \"Cumulative Gain\", \"x_label_value\": \"4.0%\", \"y_label_value\": \"9.0%\"}, {\"Quantile\": 0.05, \"Gains\": 0.12, \"x_label\": \"Quantile\", \"y_label\": \"Cumulative Gain\", \"x_label_value\": \"5.0%\", \"y_label_value\": \"12.0%\"}, {\"Quantile\": 0.1, \"Gains\": 0.24, \"x_label\": \"Quantile\", \"y_label\": \"Cumulative Gain\", \"x_label_value\": \"10.0%\", \"y_label_value\": \"24.0%\"}, {\"Quantile\": 0.15, \"Gains\": 0.37, \"x_label\": \"Quantile\", \"y_label\": \"Cumulative Gain\", \"x_label_value\": \"15.0%\", \"y_label_value\": \"37.0%\"}, {\"Quantile\": 0.2, \"Gains\": 0.47, \"x_label\": \"Quantile\", \"y_label\": \"Cumulative Gain\", \"x_label_value\": \"20.0%\", \"y_label_value\": \"47.0%\"}, {\"Quantile\": 0.3, \"Gains\": 0.59, \"x_label\": \"Quantile\", \"y_label\": \"Cumulative Gain\", \"x_label_value\": \"30.0%\", \"y_label_value\": \"59.0%\"}, {\"Quantile\": 0.4, \"Gains\": 0.7, \"x_label\": \"Quantile\", \"y_label\": \"Cumulative Gain\", \"x_label_value\": \"40.0%\", \"y_label_value\": \"70.0%\"}, {\"Quantile\": 0.5, \"Gains\": 0.81, \"x_label\": \"Quantile\", \"y_label\": \"Cumulative Gain\", \"x_label_value\": \"50.0%\", \"y_label_value\": \"81.0%\"}, {\"Quantile\": 0.6, \"Gains\": 0.84, \"x_label\": \"Quantile\", \"y_label\": \"Cumulative Gain\", \"x_label_value\": \"60.0%\", \"y_label_value\": \"84.0%\"}, {\"Quantile\": 0.7, \"Gains\": 0.88, \"x_label\": \"Quantile\", \"y_label\": \"Cumulative Gain\", \"x_label_value\": \"70.0%\", \"y_label_value\": \"88.0%\"}, {\"Quantile\": 0.8, \"Gains\": 0.93, \"x_label\": \"Quantile\", \"y_label\": \"Cumulative Gain\", \"x_label_value\": \"80.0%\", \"y_label_value\": \"93.0%\"}, {\"Quantile\": 0.9, \"Gains\": 0.96, \"x_label\": \"Quantile\", \"y_label\": \"Cumulative Gain\", \"x_label_value\": \"90.0%\", \"y_label_value\": \"96.0%\"}, {\"Quantile\": 1.0, \"Gains\": 1.0, \"x_label\": \"Quantile\", \"y_label\": \"Cumulative Gain\", \"x_label_value\": \"100.0%\", \"y_label_value\": \"100.0%\"}]}, \"mark\": \"point\", \"encoding\": {\"x\": {\"field\": \"Quantile\", \"type\": \"quantitative\"}, \"y\": {\"field\": \"Gains\", \"type\": \"quantitative\"}, \"tooltip\": [{\"field\": \"x_label_value\", \"type\": \"nominal\", \"title\": \"Quantile\"}, {\"field\": \"y_label_value\", \"type\": \"nominal\", \"title\": \"Cumulative Gain\"}]}}]};\n",
       "const opt = {};\n",
       "const type = \"vega\";\n",
       "const id = \"8baad4f7-efa2-401c-918d-d35284a05985\";\n",
       "\n",
       "const output_area = this;\n",
       "\n",
       "require([\"jupyter-vega\"], function(vega) {\n",
       "  const target = document.createElement(\"div\");\n",
       "  target.id = id;\n",
       "  target.className = \"vega-embed\";\n",
       "\n",
       "  const style = document.createElement(\"style\");\n",
       "  style.textContent = [\n",
       "    \".vega-embed .error p {\",\n",
       "    \"  color: firebrick;\",\n",
       "    \"  font-size: 14px;\",\n",
       "    \"}\",\n",
       "  ].join(\"\\\\n\");\n",
       "\n",
       "  // element is a jQuery wrapped DOM element inside the output area\n",
       "  // see http://ipython.readthedocs.io/en/stable/api/generated/\\\n",
       "  // IPython.display.html#IPython.display.Javascript.__init__\n",
       "  element[0].appendChild(target);\n",
       "  element[0].appendChild(style);\n",
       "  vega.render(`#${id}`, spec, type, opt, output_area);\n",
       "}, function (err) {\n",
       "  if (err.requireType !== \"scripterror\") {\n",
       "    throw(err);\n",
       "  }\n",
       "});\n"
      ],
      "text/plain": [
       "<vega.vega.Vega at 0x7f86606b99d0>"
      ]
     },
     "execution_count": 21,
     "metadata": {
      "jupyter-vega": "#8baad4f7-efa2-401c-918d-d35284a05985"
     },
     "output_type": "execute_result"
    }
   ],
   "source": [
    "Vega(metric_plots.gains_chart)"
   ]
  },
  {
   "cell_type": "code",
   "execution_count": 21,
   "id": "a69a9290-e977-4602-bb6c-728d87d6cbda",
   "metadata": {},
   "outputs": [
    {
     "data": {
      "application/javascript": [
       "const spec = {\"title\": \"Lift Chart\", \"schema\": \"https://vega.github.io/schema/vega-lite/v3.json\", \"layer\": [{\"data\": {\"values\": [{\"Quantile\": 0.01, \"Lift\": 1.0, \"x_label\": \"Quantile\", \"y_label\": \"Cumulative Lift\", \"x_label_value\": \"1%\", \"y_label_value\": 1.0}, {\"Quantile\": 0.02, \"Lift\": 2.0, \"x_label\": \"Quantile\", \"y_label\": \"Cumulative Lift\", \"x_label_value\": \"2%\", \"y_label_value\": 2.0}, {\"Quantile\": 0.03, \"Lift\": 2.0, \"x_label\": \"Quantile\", \"y_label\": \"Cumulative Lift\", \"x_label_value\": \"3%\", \"y_label_value\": 2.0}, {\"Quantile\": 0.04, \"Lift\": 2.25, \"x_label\": \"Quantile\", \"y_label\": \"Cumulative Lift\", \"x_label_value\": \"4%\", \"y_label_value\": 2.25}, {\"Quantile\": 0.05, \"Lift\": 2.4, \"x_label\": \"Quantile\", \"y_label\": \"Cumulative Lift\", \"x_label_value\": \"5%\", \"y_label_value\": 2.4}, {\"Quantile\": 0.1, \"Lift\": 2.4, \"x_label\": \"Quantile\", \"y_label\": \"Cumulative Lift\", \"x_label_value\": \"10%\", \"y_label_value\": 2.4}, {\"Quantile\": 0.15, \"Lift\": 2.466666666666667, \"x_label\": \"Quantile\", \"y_label\": \"Cumulative Lift\", \"x_label_value\": \"15%\", \"y_label_value\": 2.4667}, {\"Quantile\": 0.2, \"Lift\": 2.3499999999999996, \"x_label\": \"Quantile\", \"y_label\": \"Cumulative Lift\", \"x_label_value\": \"20%\", \"y_label_value\": 2.35}, {\"Quantile\": 0.3, \"Lift\": 1.9666666666666666, \"x_label\": \"Quantile\", \"y_label\": \"Cumulative Lift\", \"x_label_value\": \"30%\", \"y_label_value\": 1.9667}, {\"Quantile\": 0.4, \"Lift\": 1.7499999999999998, \"x_label\": \"Quantile\", \"y_label\": \"Cumulative Lift\", \"x_label_value\": \"40%\", \"y_label_value\": 1.75}, {\"Quantile\": 0.5, \"Lift\": 1.62, \"x_label\": \"Quantile\", \"y_label\": \"Cumulative Lift\", \"x_label_value\": \"50%\", \"y_label_value\": 1.62}, {\"Quantile\": 0.6, \"Lift\": 1.4, \"x_label\": \"Quantile\", \"y_label\": \"Cumulative Lift\", \"x_label_value\": \"60%\", \"y_label_value\": 1.4}, {\"Quantile\": 0.7, \"Lift\": 1.2571428571428573, \"x_label\": \"Quantile\", \"y_label\": \"Cumulative Lift\", \"x_label_value\": \"70%\", \"y_label_value\": 1.2571}, {\"Quantile\": 0.8, \"Lift\": 1.1625, \"x_label\": \"Quantile\", \"y_label\": \"Cumulative Lift\", \"x_label_value\": \"80%\", \"y_label_value\": 1.1625}, {\"Quantile\": 0.9, \"Lift\": 1.0666666666666667, \"x_label\": \"Quantile\", \"y_label\": \"Cumulative Lift\", \"x_label_value\": \"90%\", \"y_label_value\": 1.0667}, {\"Quantile\": 1.0, \"Lift\": 1.0, \"x_label\": \"Quantile\", \"y_label\": \"Cumulative Lift\", \"x_label_value\": \"100%\", \"y_label_value\": 1.0}]}, \"mark\": \"line\", \"encoding\": {\"x\": {\"field\": \"Quantile\", \"type\": \"quantitative\"}, \"y\": {\"field\": \"Lift\", \"type\": \"quantitative\"}, \"tooltip\": [{\"field\": \"x_label_value\", \"type\": \"nominal\", \"title\": \"Quantile\"}, {\"field\": \"y_label_value\", \"type\": \"nominal\", \"title\": \"Cumulative Lift\"}]}}, {\"data\": {\"values\": [{\"Quantile\": 0.01, \"Lift\": 1.0, \"x_label\": \"Quantile\", \"y_label\": \"Cumulative Lift\", \"x_label_value\": \"1%\", \"y_label_value\": 1.0}, {\"Quantile\": 0.02, \"Lift\": 2.0, \"x_label\": \"Quantile\", \"y_label\": \"Cumulative Lift\", \"x_label_value\": \"2%\", \"y_label_value\": 2.0}, {\"Quantile\": 0.03, \"Lift\": 2.0, \"x_label\": \"Quantile\", \"y_label\": \"Cumulative Lift\", \"x_label_value\": \"3%\", \"y_label_value\": 2.0}, {\"Quantile\": 0.04, \"Lift\": 2.25, \"x_label\": \"Quantile\", \"y_label\": \"Cumulative Lift\", \"x_label_value\": \"4%\", \"y_label_value\": 2.25}, {\"Quantile\": 0.05, \"Lift\": 2.4, \"x_label\": \"Quantile\", \"y_label\": \"Cumulative Lift\", \"x_label_value\": \"5%\", \"y_label_value\": 2.4}, {\"Quantile\": 0.1, \"Lift\": 2.4, \"x_label\": \"Quantile\", \"y_label\": \"Cumulative Lift\", \"x_label_value\": \"10%\", \"y_label_value\": 2.4}, {\"Quantile\": 0.15, \"Lift\": 2.466666666666667, \"x_label\": \"Quantile\", \"y_label\": \"Cumulative Lift\", \"x_label_value\": \"15%\", \"y_label_value\": 2.4667}, {\"Quantile\": 0.2, \"Lift\": 2.3499999999999996, \"x_label\": \"Quantile\", \"y_label\": \"Cumulative Lift\", \"x_label_value\": \"20%\", \"y_label_value\": 2.35}, {\"Quantile\": 0.3, \"Lift\": 1.9666666666666666, \"x_label\": \"Quantile\", \"y_label\": \"Cumulative Lift\", \"x_label_value\": \"30%\", \"y_label_value\": 1.9667}, {\"Quantile\": 0.4, \"Lift\": 1.7499999999999998, \"x_label\": \"Quantile\", \"y_label\": \"Cumulative Lift\", \"x_label_value\": \"40%\", \"y_label_value\": 1.75}, {\"Quantile\": 0.5, \"Lift\": 1.62, \"x_label\": \"Quantile\", \"y_label\": \"Cumulative Lift\", \"x_label_value\": \"50%\", \"y_label_value\": 1.62}, {\"Quantile\": 0.6, \"Lift\": 1.4, \"x_label\": \"Quantile\", \"y_label\": \"Cumulative Lift\", \"x_label_value\": \"60%\", \"y_label_value\": 1.4}, {\"Quantile\": 0.7, \"Lift\": 1.2571428571428573, \"x_label\": \"Quantile\", \"y_label\": \"Cumulative Lift\", \"x_label_value\": \"70%\", \"y_label_value\": 1.2571}, {\"Quantile\": 0.8, \"Lift\": 1.1625, \"x_label\": \"Quantile\", \"y_label\": \"Cumulative Lift\", \"x_label_value\": \"80%\", \"y_label_value\": 1.1625}, {\"Quantile\": 0.9, \"Lift\": 1.0666666666666667, \"x_label\": \"Quantile\", \"y_label\": \"Cumulative Lift\", \"x_label_value\": \"90%\", \"y_label_value\": 1.0667}, {\"Quantile\": 1.0, \"Lift\": 1.0, \"x_label\": \"Quantile\", \"y_label\": \"Cumulative Lift\", \"x_label_value\": \"100%\", \"y_label_value\": 1.0}]}, \"mark\": \"point\", \"encoding\": {\"x\": {\"field\": \"Quantile\", \"type\": \"quantitative\"}, \"y\": {\"field\": \"Lift\", \"type\": \"quantitative\"}, \"tooltip\": [{\"field\": \"x_label_value\", \"type\": \"nominal\", \"title\": \"Quantile\"}, {\"field\": \"y_label_value\", \"type\": \"nominal\", \"title\": \"Cumulative Lift\"}]}}]};\n",
       "const opt = {};\n",
       "const type = \"vega\";\n",
       "const id = \"e6c99902-42a5-4591-9f67-19799d5850a0\";\n",
       "\n",
       "const output_area = this;\n",
       "\n",
       "require([\"jupyter-vega\"], function(vega) {\n",
       "  const target = document.createElement(\"div\");\n",
       "  target.id = id;\n",
       "  target.className = \"vega-embed\";\n",
       "\n",
       "  const style = document.createElement(\"style\");\n",
       "  style.textContent = [\n",
       "    \".vega-embed .error p {\",\n",
       "    \"  color: firebrick;\",\n",
       "    \"  font-size: 14px;\",\n",
       "    \"}\",\n",
       "  ].join(\"\\\\n\");\n",
       "\n",
       "  // element is a jQuery wrapped DOM element inside the output area\n",
       "  // see http://ipython.readthedocs.io/en/stable/api/generated/\\\n",
       "  // IPython.display.html#IPython.display.Javascript.__init__\n",
       "  element[0].appendChild(target);\n",
       "  element[0].appendChild(style);\n",
       "  vega.render(`#${id}`, spec, type, opt, output_area);\n",
       "}, function (err) {\n",
       "  if (err.requireType !== \"scripterror\") {\n",
       "    throw(err);\n",
       "  }\n",
       "});\n"
      ],
      "text/plain": [
       "<vega.vega.Vega at 0x7f97691f9310>"
      ]
     },
     "execution_count": 21,
     "metadata": {
      "jupyter-vega": "#e6c99902-42a5-4591-9f67-19799d5850a0"
     },
     "output_type": "execute_result"
    }
   ],
   "source": [
    "Vega(metric_plots.lift_chart)"
   ]
  },
  {
   "cell_type": "code",
   "execution_count": 22,
   "id": "b12c4317-2543-49fa-b85a-3ba3f231342a",
   "metadata": {},
   "outputs": [
    {
     "data": {
      "application/javascript": [
       "const spec = {\"title\": \"Kolmogorov-Smirnov Chart\", \"schema\": \"https://vega.github.io/schema/vega-lite/v3.json\", \"layer\": [{\"data\": {\"values\": [{\"Quantile\": 0.01, \"Gains\": 0.01, \"x_label\": \"Quantile\", \"y_label\": \"Kolmogorov-Smirnov\", \"x_label_value\": \"1%\", \"y_label_value\": 0.0038}, {\"Quantile\": 0.02, \"Gains\": 0.04, \"x_label\": \"Quantile\", \"y_label\": \"Kolmogorov-Smirnov\", \"x_label_value\": \"2%\", \"y_label_value\": 0.0338}, {\"Quantile\": 0.03, \"Gains\": 0.06, \"x_label\": \"Quantile\", \"y_label\": \"Kolmogorov-Smirnov\", \"x_label_value\": \"3%\", \"y_label_value\": 0.0538}, {\"Quantile\": 0.04, \"Gains\": 0.09, \"x_label\": \"Quantile\", \"y_label\": \"Kolmogorov-Smirnov\", \"x_label_value\": \"4%\", \"y_label_value\": 0.0838}, {\"Quantile\": 0.05, \"Gains\": 0.12, \"x_label\": \"Quantile\", \"y_label\": \"Kolmogorov-Smirnov\", \"x_label_value\": \"5%\", \"y_label_value\": 0.1138}, {\"Quantile\": 0.1, \"Gains\": 0.24, \"x_label\": \"Quantile\", \"y_label\": \"Kolmogorov-Smirnov\", \"x_label_value\": \"10%\", \"y_label_value\": 0.2277}, {\"Quantile\": 0.15, \"Gains\": 0.37, \"x_label\": \"Quantile\", \"y_label\": \"Kolmogorov-Smirnov\", \"x_label_value\": \"15%\", \"y_label_value\": 0.3577}, {\"Quantile\": 0.2, \"Gains\": 0.47, \"x_label\": \"Quantile\", \"y_label\": \"Kolmogorov-Smirnov\", \"x_label_value\": \"20%\", \"y_label_value\": 0.4391}, {\"Quantile\": 0.3, \"Gains\": 0.59, \"x_label\": \"Quantile\", \"y_label\": \"Kolmogorov-Smirnov\", \"x_label_value\": \"30%\", \"y_label_value\": 0.4727}, {\"Quantile\": 0.4, \"Gains\": 0.7, \"x_label\": \"Quantile\", \"y_label\": \"Kolmogorov-Smirnov\", \"x_label_value\": \"40%\", \"y_label_value\": 0.4901}, {\"Quantile\": 0.5, \"Gains\": 0.81, \"x_label\": \"Quantile\", \"y_label\": \"Kolmogorov-Smirnov\", \"x_label_value\": \"50%\", \"y_label_value\": 0.5014}, {\"Quantile\": 0.6, \"Gains\": 0.84, \"x_label\": \"Quantile\", \"y_label\": \"Kolmogorov-Smirnov\", \"x_label_value\": \"60%\", \"y_label_value\": 0.3894}, {\"Quantile\": 0.7, \"Gains\": 0.88, \"x_label\": \"Quantile\", \"y_label\": \"Kolmogorov-Smirnov\", \"x_label_value\": \"70%\", \"y_label_value\": 0.2936}, {\"Quantile\": 0.8, \"Gains\": 0.93, \"x_label\": \"Quantile\", \"y_label\": \"Kolmogorov-Smirnov\", \"x_label_value\": \"80%\", \"y_label_value\": 0.214}, {\"Quantile\": 0.9, \"Gains\": 0.96, \"x_label\": \"Quantile\", \"y_label\": \"Kolmogorov-Smirnov\", \"x_label_value\": \"90%\", \"y_label_value\": 0.102}, {\"Quantile\": 1.0, \"Gains\": 1.0, \"x_label\": \"Quantile\", \"y_label\": \"Kolmogorov-Smirnov\", \"x_label_value\": \"100%\", \"y_label_value\": 0.0}]}, \"mark\": \"line\", \"encoding\": {\"x\": {\"field\": \"Quantile\", \"type\": \"quantitative\"}, \"y\": {\"field\": \"Gains\", \"type\": \"quantitative\"}, \"tooltip\": [{\"field\": \"x_label_value\", \"type\": \"nominal\", \"title\": \"Quantile\"}, {\"field\": \"y_label_value\", \"type\": \"nominal\", \"title\": \"Kolmogorov-Smirnov\"}]}}, {\"data\": {\"values\": [{\"Quantile\": 0.01, \"Gains\": 0.006172839506172839, \"x_label\": \"Quantile\", \"y_label\": \"Kolmogorov-Smirnov\", \"x_label_value\": \"1%\", \"y_label_value\": 0.0038}, {\"Quantile\": 0.02, \"Gains\": 0.006172839506172839, \"x_label\": \"Quantile\", \"y_label\": \"Kolmogorov-Smirnov\", \"x_label_value\": \"2%\", \"y_label_value\": 0.0338}, {\"Quantile\": 0.03, \"Gains\": 0.006172839506172839, \"x_label\": \"Quantile\", \"y_label\": \"Kolmogorov-Smirnov\", \"x_label_value\": \"3%\", \"y_label_value\": 0.0538}, {\"Quantile\": 0.04, \"Gains\": 0.006172839506172839, \"x_label\": \"Quantile\", \"y_label\": \"Kolmogorov-Smirnov\", \"x_label_value\": \"4%\", \"y_label_value\": 0.0838}, {\"Quantile\": 0.05, \"Gains\": 0.006172839506172839, \"x_label\": \"Quantile\", \"y_label\": \"Kolmogorov-Smirnov\", \"x_label_value\": \"5%\", \"y_label_value\": 0.1138}, {\"Quantile\": 0.1, \"Gains\": 0.012345679012345678, \"x_label\": \"Quantile\", \"y_label\": \"Kolmogorov-Smirnov\", \"x_label_value\": \"10%\", \"y_label_value\": 0.2277}, {\"Quantile\": 0.15, \"Gains\": 0.012345679012345678, \"x_label\": \"Quantile\", \"y_label\": \"Kolmogorov-Smirnov\", \"x_label_value\": \"15%\", \"y_label_value\": 0.3577}, {\"Quantile\": 0.2, \"Gains\": 0.030864197530864196, \"x_label\": \"Quantile\", \"y_label\": \"Kolmogorov-Smirnov\", \"x_label_value\": \"20%\", \"y_label_value\": 0.4391}, {\"Quantile\": 0.3, \"Gains\": 0.11728395061728394, \"x_label\": \"Quantile\", \"y_label\": \"Kolmogorov-Smirnov\", \"x_label_value\": \"30%\", \"y_label_value\": 0.4727}, {\"Quantile\": 0.4, \"Gains\": 0.20987654320987653, \"x_label\": \"Quantile\", \"y_label\": \"Kolmogorov-Smirnov\", \"x_label_value\": \"40%\", \"y_label_value\": 0.4901}, {\"Quantile\": 0.5, \"Gains\": 0.30864197530864196, \"x_label\": \"Quantile\", \"y_label\": \"Kolmogorov-Smirnov\", \"x_label_value\": \"50%\", \"y_label_value\": 0.5014}, {\"Quantile\": 0.6, \"Gains\": 0.4506172839506173, \"x_label\": \"Quantile\", \"y_label\": \"Kolmogorov-Smirnov\", \"x_label_value\": \"60%\", \"y_label_value\": 0.3894}, {\"Quantile\": 0.7, \"Gains\": 0.5864197530864198, \"x_label\": \"Quantile\", \"y_label\": \"Kolmogorov-Smirnov\", \"x_label_value\": \"70%\", \"y_label_value\": 0.2936}, {\"Quantile\": 0.8, \"Gains\": 0.7160493827160493, \"x_label\": \"Quantile\", \"y_label\": \"Kolmogorov-Smirnov\", \"x_label_value\": \"80%\", \"y_label_value\": 0.214}, {\"Quantile\": 0.9, \"Gains\": 0.8580246913580247, \"x_label\": \"Quantile\", \"y_label\": \"Kolmogorov-Smirnov\", \"x_label_value\": \"90%\", \"y_label_value\": 0.102}, {\"Quantile\": 1.0, \"Gains\": 1.0, \"x_label\": \"Quantile\", \"y_label\": \"Kolmogorov-Smirnov\", \"x_label_value\": \"100%\", \"y_label_value\": 0.0}]}, \"mark\": \"line\", \"encoding\": {\"x\": {\"field\": \"Quantile\", \"type\": \"quantitative\"}, \"y\": {\"field\": \"Gains\", \"type\": \"quantitative\"}, \"tooltip\": [{\"field\": \"x_label_value\", \"type\": \"nominal\", \"title\": \"Quantile\"}, {\"field\": \"y_label_value\", \"type\": \"nominal\", \"title\": \"Kolmogorov-Smirnov\"}]}}, {\"data\": {\"values\": [{\"Quantile\": 0.01, \"Gains\": 0.01, \"x_label\": \"Quantile\", \"y_label\": \"Kolmogorov-Smirnov\", \"x_label_value\": \"1%\", \"y_label_value\": 0.0038}, {\"Quantile\": 0.02, \"Gains\": 0.04, \"x_label\": \"Quantile\", \"y_label\": \"Kolmogorov-Smirnov\", \"x_label_value\": \"2%\", \"y_label_value\": 0.0338}, {\"Quantile\": 0.03, \"Gains\": 0.06, \"x_label\": \"Quantile\", \"y_label\": \"Kolmogorov-Smirnov\", \"x_label_value\": \"3%\", \"y_label_value\": 0.0538}, {\"Quantile\": 0.04, \"Gains\": 0.09, \"x_label\": \"Quantile\", \"y_label\": \"Kolmogorov-Smirnov\", \"x_label_value\": \"4%\", \"y_label_value\": 0.0838}, {\"Quantile\": 0.05, \"Gains\": 0.12, \"x_label\": \"Quantile\", \"y_label\": \"Kolmogorov-Smirnov\", \"x_label_value\": \"5%\", \"y_label_value\": 0.1138}, {\"Quantile\": 0.1, \"Gains\": 0.24, \"x_label\": \"Quantile\", \"y_label\": \"Kolmogorov-Smirnov\", \"x_label_value\": \"10%\", \"y_label_value\": 0.2277}, {\"Quantile\": 0.15, \"Gains\": 0.37, \"x_label\": \"Quantile\", \"y_label\": \"Kolmogorov-Smirnov\", \"x_label_value\": \"15%\", \"y_label_value\": 0.3577}, {\"Quantile\": 0.2, \"Gains\": 0.47, \"x_label\": \"Quantile\", \"y_label\": \"Kolmogorov-Smirnov\", \"x_label_value\": \"20%\", \"y_label_value\": 0.4391}, {\"Quantile\": 0.3, \"Gains\": 0.59, \"x_label\": \"Quantile\", \"y_label\": \"Kolmogorov-Smirnov\", \"x_label_value\": \"30%\", \"y_label_value\": 0.4727}, {\"Quantile\": 0.4, \"Gains\": 0.7, \"x_label\": \"Quantile\", \"y_label\": \"Kolmogorov-Smirnov\", \"x_label_value\": \"40%\", \"y_label_value\": 0.4901}, {\"Quantile\": 0.5, \"Gains\": 0.81, \"x_label\": \"Quantile\", \"y_label\": \"Kolmogorov-Smirnov\", \"x_label_value\": \"50%\", \"y_label_value\": 0.5014}, {\"Quantile\": 0.6, \"Gains\": 0.84, \"x_label\": \"Quantile\", \"y_label\": \"Kolmogorov-Smirnov\", \"x_label_value\": \"60%\", \"y_label_value\": 0.3894}, {\"Quantile\": 0.7, \"Gains\": 0.88, \"x_label\": \"Quantile\", \"y_label\": \"Kolmogorov-Smirnov\", \"x_label_value\": \"70%\", \"y_label_value\": 0.2936}, {\"Quantile\": 0.8, \"Gains\": 0.93, \"x_label\": \"Quantile\", \"y_label\": \"Kolmogorov-Smirnov\", \"x_label_value\": \"80%\", \"y_label_value\": 0.214}, {\"Quantile\": 0.9, \"Gains\": 0.96, \"x_label\": \"Quantile\", \"y_label\": \"Kolmogorov-Smirnov\", \"x_label_value\": \"90%\", \"y_label_value\": 0.102}, {\"Quantile\": 1.0, \"Gains\": 1.0, \"x_label\": \"Quantile\", \"y_label\": \"Kolmogorov-Smirnov\", \"x_label_value\": \"100%\", \"y_label_value\": 0.0}]}, \"mark\": \"point\", \"encoding\": {\"x\": {\"field\": \"Quantile\", \"type\": \"quantitative\"}, \"y\": {\"field\": \"Gains\", \"type\": \"quantitative\"}, \"tooltip\": [{\"field\": \"x_label_value\", \"type\": \"nominal\", \"title\": \"Quantile\"}, {\"field\": \"y_label_value\", \"type\": \"nominal\", \"title\": \"Kolmogorov-Smirnov\"}]}}, {\"data\": {\"values\": [{\"Quantile\": 0.01, \"Gains\": 0.006172839506172839, \"x_label\": \"Quantile\", \"y_label\": \"Kolmogorov-Smirnov\", \"x_label_value\": \"1%\", \"y_label_value\": 0.0038}, {\"Quantile\": 0.02, \"Gains\": 0.006172839506172839, \"x_label\": \"Quantile\", \"y_label\": \"Kolmogorov-Smirnov\", \"x_label_value\": \"2%\", \"y_label_value\": 0.0338}, {\"Quantile\": 0.03, \"Gains\": 0.006172839506172839, \"x_label\": \"Quantile\", \"y_label\": \"Kolmogorov-Smirnov\", \"x_label_value\": \"3%\", \"y_label_value\": 0.0538}, {\"Quantile\": 0.04, \"Gains\": 0.006172839506172839, \"x_label\": \"Quantile\", \"y_label\": \"Kolmogorov-Smirnov\", \"x_label_value\": \"4%\", \"y_label_value\": 0.0838}, {\"Quantile\": 0.05, \"Gains\": 0.006172839506172839, \"x_label\": \"Quantile\", \"y_label\": \"Kolmogorov-Smirnov\", \"x_label_value\": \"5%\", \"y_label_value\": 0.1138}, {\"Quantile\": 0.1, \"Gains\": 0.012345679012345678, \"x_label\": \"Quantile\", \"y_label\": \"Kolmogorov-Smirnov\", \"x_label_value\": \"10%\", \"y_label_value\": 0.2277}, {\"Quantile\": 0.15, \"Gains\": 0.012345679012345678, \"x_label\": \"Quantile\", \"y_label\": \"Kolmogorov-Smirnov\", \"x_label_value\": \"15%\", \"y_label_value\": 0.3577}, {\"Quantile\": 0.2, \"Gains\": 0.030864197530864196, \"x_label\": \"Quantile\", \"y_label\": \"Kolmogorov-Smirnov\", \"x_label_value\": \"20%\", \"y_label_value\": 0.4391}, {\"Quantile\": 0.3, \"Gains\": 0.11728395061728394, \"x_label\": \"Quantile\", \"y_label\": \"Kolmogorov-Smirnov\", \"x_label_value\": \"30%\", \"y_label_value\": 0.4727}, {\"Quantile\": 0.4, \"Gains\": 0.20987654320987653, \"x_label\": \"Quantile\", \"y_label\": \"Kolmogorov-Smirnov\", \"x_label_value\": \"40%\", \"y_label_value\": 0.4901}, {\"Quantile\": 0.5, \"Gains\": 0.30864197530864196, \"x_label\": \"Quantile\", \"y_label\": \"Kolmogorov-Smirnov\", \"x_label_value\": \"50%\", \"y_label_value\": 0.5014}, {\"Quantile\": 0.6, \"Gains\": 0.4506172839506173, \"x_label\": \"Quantile\", \"y_label\": \"Kolmogorov-Smirnov\", \"x_label_value\": \"60%\", \"y_label_value\": 0.3894}, {\"Quantile\": 0.7, \"Gains\": 0.5864197530864198, \"x_label\": \"Quantile\", \"y_label\": \"Kolmogorov-Smirnov\", \"x_label_value\": \"70%\", \"y_label_value\": 0.2936}, {\"Quantile\": 0.8, \"Gains\": 0.7160493827160493, \"x_label\": \"Quantile\", \"y_label\": \"Kolmogorov-Smirnov\", \"x_label_value\": \"80%\", \"y_label_value\": 0.214}, {\"Quantile\": 0.9, \"Gains\": 0.8580246913580247, \"x_label\": \"Quantile\", \"y_label\": \"Kolmogorov-Smirnov\", \"x_label_value\": \"90%\", \"y_label_value\": 0.102}, {\"Quantile\": 1.0, \"Gains\": 1.0, \"x_label\": \"Quantile\", \"y_label\": \"Kolmogorov-Smirnov\", \"x_label_value\": \"100%\", \"y_label_value\": 0.0}]}, \"mark\": \"point\", \"encoding\": {\"x\": {\"field\": \"Quantile\", \"type\": \"quantitative\"}, \"y\": {\"field\": \"Gains\", \"type\": \"quantitative\"}, \"tooltip\": [{\"field\": \"x_label_value\", \"type\": \"nominal\", \"title\": \"Quantile\"}, {\"field\": \"y_label_value\", \"type\": \"nominal\", \"title\": \"Kolmogorov-Smirnov\"}]}}]};\n",
       "const opt = {};\n",
       "const type = \"vega\";\n",
       "const id = \"2ff3d5f6-3246-49ac-8791-daf733303182\";\n",
       "\n",
       "const output_area = this;\n",
       "\n",
       "require([\"jupyter-vega\"], function(vega) {\n",
       "  const target = document.createElement(\"div\");\n",
       "  target.id = id;\n",
       "  target.className = \"vega-embed\";\n",
       "\n",
       "  const style = document.createElement(\"style\");\n",
       "  style.textContent = [\n",
       "    \".vega-embed .error p {\",\n",
       "    \"  color: firebrick;\",\n",
       "    \"  font-size: 14px;\",\n",
       "    \"}\",\n",
       "  ].join(\"\\\\n\");\n",
       "\n",
       "  // element is a jQuery wrapped DOM element inside the output area\n",
       "  // see http://ipython.readthedocs.io/en/stable/api/generated/\\\n",
       "  // IPython.display.html#IPython.display.Javascript.__init__\n",
       "  element[0].appendChild(target);\n",
       "  element[0].appendChild(style);\n",
       "  vega.render(`#${id}`, spec, type, opt, output_area);\n",
       "}, function (err) {\n",
       "  if (err.requireType !== \"scripterror\") {\n",
       "    throw(err);\n",
       "  }\n",
       "});\n"
      ],
      "text/plain": [
       "<vega.vega.Vega at 0x7f97710f84f0>"
      ]
     },
     "execution_count": 22,
     "metadata": {
      "jupyter-vega": "#2ff3d5f6-3246-49ac-8791-daf733303182"
     },
     "output_type": "execute_result"
    }
   ],
   "source": [
    "Vega(metric_plots.ks_chart)"
   ]
  },
  {
   "cell_type": "code",
   "execution_count": 25,
   "id": "2dfb7f2d",
   "metadata": {},
   "outputs": [
    {
     "name": "stderr",
     "output_type": "stream",
     "text": [
      "/var/folders/50/glkvvhjx03g22fwy2r0tgylr0000gn/T/ipykernel_4052/2968838832.py:1: UserWarning: 'ModelDiagnostic.metric_plots' is a beta API that is subject to future changes.\n",
      "  diagnose.metric_plots.confusion_matrix()\n"
     ]
    },
    {
     "data": {
      "text/plain": [
       "[['', '0', '1', 'Total', 'Error'],\n",
       " ['0', 125, 37, 162.0, 0.2284],\n",
       " ['1', 25, 75, 100.0, 0.25],\n",
       " ['Total', 150.0, 112.0, 262.0],\n",
       " ['Error', 0.1667, 0.3304, '', 0.2366]]"
      ]
     },
     "execution_count": 25,
     "metadata": {},
     "output_type": "execute_result"
    }
   ],
   "source": [
    "diagnose.metric_plots.confusion_matrix()"
   ]
  },
  {
   "cell_type": "code",
   "execution_count": 30,
   "id": "84150e14",
   "metadata": {},
   "outputs": [
    {
     "name": "stderr",
     "output_type": "stream",
     "text": [
      "/var/folders/50/glkvvhjx03g22fwy2r0tgylr0000gn/T/ipykernel_4052/1693170187.py:1: UserWarning: 'ModelDiagnostic.metric_plots' is a beta API that is subject to future changes.\n",
      "  diagnose.metric_plots.confusion_matrix(threshold=0.5)\n"
     ]
    },
    {
     "data": {
      "text/plain": [
       "[['', '0', '1', 'Total', 'Error'],\n",
       " ['0', 125, 37, 162.0, 0.2284],\n",
       " ['1', 25, 75, 100.0, 0.25],\n",
       " ['Total', 150.0, 112.0, 262.0],\n",
       " ['Error', 0.1667, 0.3304, '', 0.2366]]"
      ]
     },
     "execution_count": 30,
     "metadata": {},
     "output_type": "execute_result"
    }
   ],
   "source": [
    "diagnose.metric_plots.confusion_matrix(threshold=0.5)"
   ]
  },
  {
   "cell_type": "markdown",
   "id": "f7bfb794-86e9-4303-9fd7-72abbe6e2c69",
   "metadata": {},
   "source": [
    "【Confusion Matrix - Threshold=0.5】\n",
    "<img src=\"img/cm.png\" width=600px>"
   ]
  },
  {
   "cell_type": "code",
   "execution_count": null,
   "id": "72f6b685-480c-41ad-9d0f-de1daaff3fcb",
   "metadata": {},
   "outputs": [],
   "source": []
  }
 ],
 "metadata": {
  "kernelspec": {
   "display_name": "Python 3 (ipykernel)",
   "language": "python",
   "name": "python3"
  },
  "language_info": {
   "codemirror_mode": {
    "name": "ipython",
    "version": 3
   },
   "file_extension": ".py",
   "mimetype": "text/x-python",
   "name": "python",
   "nbconvert_exporter": "python",
   "pygments_lexer": "ipython3",
   "version": "3.8.13"
  }
 },
 "nbformat": 4,
 "nbformat_minor": 5
}
