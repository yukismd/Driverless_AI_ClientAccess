{
 "cells": [
  {
   "cell_type": "code",
   "execution_count": null,
   "id": "3fec40c5",
   "metadata": {},
   "outputs": [],
   "source": []
  },
  {
   "cell_type": "code",
   "execution_count": null,
   "id": "967d32a5",
   "metadata": {},
   "outputs": [],
   "source": []
  },
  {
   "cell_type": "markdown",
   "id": "dd0c5300",
   "metadata": {},
   "source": [
    "https://github.com/h2oai/h2o-play/blob/9f94a3ab95deb3d32f728d36006653eb617849f9/webapp/puddle-config.yml#L21"
   ]
  },
  {
   "cell_type": "code",
   "execution_count": null,
   "id": "b2d58f3c",
   "metadata": {},
   "outputs": [],
   "source": []
  },
  {
   "cell_type": "code",
   "execution_count": 111,
   "id": "38d74592",
   "metadata": {},
   "outputs": [],
   "source": [
    "import os\n",
    "#import json\n",
    "\n",
    "import pandas as pd\n",
    "import numpy as np\n",
    "import matplotlib.pyplot as plt"
   ]
  },
  {
   "cell_type": "code",
   "execution_count": 69,
   "id": "7c832221",
   "metadata": {},
   "outputs": [],
   "source": [
    "#os.listdir('speed_test/result')"
   ]
  },
  {
   "cell_type": "code",
   "execution_count": 21,
   "id": "285e28ba",
   "metadata": {},
   "outputs": [
    {
     "name": "stdout",
     "output_type": "stream",
     "text": [
      "All files: 25, json files: 24\n"
     ]
    }
   ],
   "source": [
    "result_path = 'speed_test/result'\n",
    "all_files =  os.listdir(result_path)\n",
    "\n",
    "result_files = []     # json fileのみ取得\n",
    "for f in all_files:\n",
    "    if os.path.splitext(f)[1] == '.json':\n",
    "        result_files.append(f)\n",
    "\n",
    "print('All files: {}, json files: {}'.format(len(all_files), len(result_files)))"
   ]
  },
  {
   "cell_type": "code",
   "execution_count": 46,
   "id": "80d2d619",
   "metadata": {},
   "outputs": [
    {
     "data": {
      "text/plain": [
       "['speedtest_2022年03月08日22時09分31秒.json',\n",
       " 'speedtest_2022年03月09日05時48分59秒.json',\n",
       " 'speedtest_2022年03月08日21時52分18秒.json',\n",
       " 'speedtest_2022年03月09日01時31分24秒.json']"
      ]
     },
     "execution_count": 46,
     "metadata": {},
     "output_type": "execute_result"
    }
   ],
   "source": [
    "result_files[:4]"
   ]
  },
  {
   "cell_type": "code",
   "execution_count": 55,
   "id": "494e779b",
   "metadata": {},
   "outputs": [],
   "source": [
    "#jf =  'speedtest_2022年03月08日22時18分21秒.json'\n",
    "#pd.read_json(os.path.join(result_path, jf), orient='index').transpose()"
   ]
  },
  {
   "cell_type": "code",
   "execution_count": 60,
   "id": "99e99139",
   "metadata": {},
   "outputs": [
    {
     "data": {
      "text/plain": [
       "(24, 10)"
      ]
     },
     "execution_count": 60,
     "metadata": {},
     "output_type": "execute_result"
    }
   ],
   "source": [
    "for i, jf in enumerate(result_files):\n",
    "    if i == 0:\n",
    "        df = pd.read_json(os.path.join(result_path, jf), orient='index').transpose()\n",
    "    else:\n",
    "        df_tmp = pd.read_json(os.path.join(result_path, jf), orient='index').transpose()\n",
    "        df = pd.concat([df, df_tmp])\n",
    "\n",
    "df = df.reset_index()\n",
    "df.shape"
   ]
  },
  {
   "cell_type": "code",
   "execution_count": 62,
   "id": "51f8d8f6",
   "metadata": {
    "scrolled": true
   },
   "outputs": [
    {
     "data": {
      "text/html": [
       "<div>\n",
       "<style scoped>\n",
       "    .dataframe tbody tr th:only-of-type {\n",
       "        vertical-align: middle;\n",
       "    }\n",
       "\n",
       "    .dataframe tbody tr th {\n",
       "        vertical-align: top;\n",
       "    }\n",
       "\n",
       "    .dataframe thead th {\n",
       "        text-align: right;\n",
       "    }\n",
       "</style>\n",
       "<table border=\"1\" class=\"dataframe\">\n",
       "  <thead>\n",
       "    <tr style=\"text-align: right;\">\n",
       "      <th></th>\n",
       "      <th>index</th>\n",
       "      <th>Meta_Data</th>\n",
       "      <th>Data_Name</th>\n",
       "      <th>Try</th>\n",
       "      <th>Datasize_mb</th>\n",
       "      <th>N_Observation</th>\n",
       "      <th>N_features</th>\n",
       "      <th>Duration_min</th>\n",
       "      <th>Experiment_Size_mb</th>\n",
       "      <th>Acc_Time_Interpret</th>\n",
       "    </tr>\n",
       "  </thead>\n",
       "  <tbody>\n",
       "    <tr>\n",
       "      <th>0</th>\n",
       "      <td>0</td>\n",
       "      <td>experiment_meta_data/Experiments_Params_0308_G...</td>\n",
       "      <td>BostonHousing.csv</td>\n",
       "      <td>3</td>\n",
       "      <td>0.055092</td>\n",
       "      <td>506</td>\n",
       "      <td>13</td>\n",
       "      <td>8.674953</td>\n",
       "      <td>1061.235523</td>\n",
       "      <td>[7, 2, 8]</td>\n",
       "    </tr>\n",
       "    <tr>\n",
       "      <th>1</th>\n",
       "      <td>0</td>\n",
       "      <td>experiment_meta_data/Experiments_Params_0308_G...</td>\n",
       "      <td>loan_level_1M.csv</td>\n",
       "      <td>3</td>\n",
       "      <td>156.649689</td>\n",
       "      <td>1000000</td>\n",
       "      <td>24</td>\n",
       "      <td>73.813374</td>\n",
       "      <td>1355.719215</td>\n",
       "      <td>[7, 5, 5]</td>\n",
       "    </tr>\n",
       "    <tr>\n",
       "      <th>2</th>\n",
       "      <td>0</td>\n",
       "      <td>experiment_meta_data/Experiments_Params_0308_G...</td>\n",
       "      <td>BostonHousing.csv</td>\n",
       "      <td>3</td>\n",
       "      <td>0.055092</td>\n",
       "      <td>506</td>\n",
       "      <td>13</td>\n",
       "      <td>8.302996</td>\n",
       "      <td>1062.099873</td>\n",
       "      <td>[7, 2, 8]</td>\n",
       "    </tr>\n",
       "    <tr>\n",
       "      <th>3</th>\n",
       "      <td>0</td>\n",
       "      <td>experiment_meta_data/Experiments_Params_0308_G...</td>\n",
       "      <td>loan_level_1M.csv</td>\n",
       "      <td>3</td>\n",
       "      <td>156.649689</td>\n",
       "      <td>1000000</td>\n",
       "      <td>24</td>\n",
       "      <td>125.944246</td>\n",
       "      <td>1814.184278</td>\n",
       "      <td>[7, 5, 5]</td>\n",
       "    </tr>\n",
       "    <tr>\n",
       "      <th>4</th>\n",
       "      <td>0</td>\n",
       "      <td>experiment_meta_data/Experiments_Params_0308_c...</td>\n",
       "      <td>loan_level_500k.csv</td>\n",
       "      <td>3</td>\n",
       "      <td>78.349548</td>\n",
       "      <td>500137</td>\n",
       "      <td>24</td>\n",
       "      <td>69.595436</td>\n",
       "      <td>1448.075129</td>\n",
       "      <td>[7, 5, 5]</td>\n",
       "    </tr>\n",
       "  </tbody>\n",
       "</table>\n",
       "</div>"
      ],
      "text/plain": [
       "   index                                          Meta_Data  \\\n",
       "0      0  experiment_meta_data/Experiments_Params_0308_G...   \n",
       "1      0  experiment_meta_data/Experiments_Params_0308_G...   \n",
       "2      0  experiment_meta_data/Experiments_Params_0308_G...   \n",
       "3      0  experiment_meta_data/Experiments_Params_0308_G...   \n",
       "4      0  experiment_meta_data/Experiments_Params_0308_c...   \n",
       "\n",
       "             Data_Name Try Datasize_mb N_Observation N_features Duration_min  \\\n",
       "0    BostonHousing.csv   3    0.055092           506         13     8.674953   \n",
       "1    loan_level_1M.csv   3  156.649689       1000000         24    73.813374   \n",
       "2    BostonHousing.csv   3    0.055092           506         13     8.302996   \n",
       "3    loan_level_1M.csv   3  156.649689       1000000         24   125.944246   \n",
       "4  loan_level_500k.csv   3   78.349548        500137         24    69.595436   \n",
       "\n",
       "  Experiment_Size_mb Acc_Time_Interpret  \n",
       "0        1061.235523          [7, 2, 8]  \n",
       "1        1355.719215          [7, 5, 5]  \n",
       "2        1062.099873          [7, 2, 8]  \n",
       "3        1814.184278          [7, 5, 5]  \n",
       "4        1448.075129          [7, 5, 5]  "
      ]
     },
     "execution_count": 62,
     "metadata": {},
     "output_type": "execute_result"
    }
   ],
   "source": [
    "df.head()"
   ]
  },
  {
   "cell_type": "code",
   "execution_count": 123,
   "id": "6eaad790",
   "metadata": {},
   "outputs": [],
   "source": [
    "df['sort_index'] = df['Data_Name'].map({'BostonHousing.csv':1,\n",
    "                                        'UCI_Credit_Card3.csv':2,\n",
    "                                        'loan_level_500k.csv':3,\n",
    "                                        'loan_level_1M.csv':4})\n",
    "\n",
    "df = df.sort_values('sort_index')"
   ]
  },
  {
   "cell_type": "code",
   "execution_count": 124,
   "id": "bf5d2e83",
   "metadata": {},
   "outputs": [],
   "source": [
    "#df['Meta_Data'].unique()"
   ]
  },
  {
   "cell_type": "code",
   "execution_count": 125,
   "id": "bff441c5",
   "metadata": {},
   "outputs": [],
   "source": [
    "#data_list = df['Data_Name'].unique().tolist()\n",
    "#data_list"
   ]
  },
  {
   "cell_type": "code",
   "execution_count": 126,
   "id": "97d64e23",
   "metadata": {},
   "outputs": [
    {
     "data": {
      "text/html": [
       "<div>\n",
       "<style scoped>\n",
       "    .dataframe tbody tr th:only-of-type {\n",
       "        vertical-align: middle;\n",
       "    }\n",
       "\n",
       "    .dataframe tbody tr th {\n",
       "        vertical-align: top;\n",
       "    }\n",
       "\n",
       "    .dataframe thead th {\n",
       "        text-align: right;\n",
       "    }\n",
       "</style>\n",
       "<table border=\"1\" class=\"dataframe\">\n",
       "  <thead>\n",
       "    <tr style=\"text-align: right;\">\n",
       "      <th></th>\n",
       "      <th>Data_Name</th>\n",
       "      <th>Datasize_mb</th>\n",
       "      <th>N_Observation</th>\n",
       "      <th>N_features</th>\n",
       "    </tr>\n",
       "  </thead>\n",
       "  <tbody>\n",
       "    <tr>\n",
       "      <th>0</th>\n",
       "      <td>BostonHousing.csv</td>\n",
       "      <td>0.055092</td>\n",
       "      <td>506</td>\n",
       "      <td>13</td>\n",
       "    </tr>\n",
       "    <tr>\n",
       "      <th>6</th>\n",
       "      <td>UCI_Credit_Card3.csv</td>\n",
       "      <td>3.327423</td>\n",
       "      <td>30000</td>\n",
       "      <td>22</td>\n",
       "    </tr>\n",
       "    <tr>\n",
       "      <th>4</th>\n",
       "      <td>loan_level_500k.csv</td>\n",
       "      <td>78.349548</td>\n",
       "      <td>500137</td>\n",
       "      <td>24</td>\n",
       "    </tr>\n",
       "    <tr>\n",
       "      <th>19</th>\n",
       "      <td>loan_level_1M.csv</td>\n",
       "      <td>156.649689</td>\n",
       "      <td>1000000</td>\n",
       "      <td>24</td>\n",
       "    </tr>\n",
       "  </tbody>\n",
       "</table>\n",
       "</div>"
      ],
      "text/plain": [
       "               Data_Name Datasize_mb N_Observation N_features\n",
       "0      BostonHousing.csv    0.055092           506         13\n",
       "6   UCI_Credit_Card3.csv    3.327423         30000         22\n",
       "4    loan_level_500k.csv   78.349548        500137         24\n",
       "19     loan_level_1M.csv  156.649689       1000000         24"
      ]
     },
     "execution_count": 126,
     "metadata": {},
     "output_type": "execute_result"
    }
   ],
   "source": [
    "# 利用データに関して\n",
    "df[['Data_Name','Datasize_mb','N_Observation','N_features']].drop_duplicates()"
   ]
  },
  {
   "cell_type": "code",
   "execution_count": null,
   "id": "707dac86",
   "metadata": {},
   "outputs": [],
   "source": []
  },
  {
   "cell_type": "code",
   "execution_count": 127,
   "id": "0a03fa11",
   "metadata": {},
   "outputs": [
    {
     "data": {
      "text/plain": [
       "((12, 3), (12, 3))"
      ]
     },
     "execution_count": 127,
     "metadata": {},
     "output_type": "execute_result"
    }
   ],
   "source": [
    "df_cpu = df[df['Meta_Data']=='experiment_meta_data/Experiments_Params_0308_cpu.csv']   # CPUマシン結果\n",
    "df_cpu = df_cpu[['Data_Name', 'Duration_min', 'Experiment_Size_mb']]\n",
    "df_cpu['Duration_min'] = df_cpu['Duration_min'].astype(np.float64)\n",
    "df_cpu['Experiment_Size_mb'] = df_cpu['Experiment_Size_mb'].astype(np.float64)\n",
    "#df_cpu = df_cpu.sort_values('Data_Name')\n",
    "\n",
    "df_gpu = df[df['Meta_Data']=='experiment_meta_data/Experiments_Params_0308_Gpu.csv']  # GPUマシン結果\n",
    "df_gpu = df_gpu[['Data_Name', 'Duration_min', 'Experiment_Size_mb']]\n",
    "df_gpu['Duration_min'] = df_gpu['Duration_min'].astype(np.float64)\n",
    "df_gpu['Experiment_Size_mb'] = df_gpu['Experiment_Size_mb'].astype(np.float64)\n",
    "#df_gpu = df_gpu.sort_values('Data_Name')\n",
    "\n",
    "df_cpu.shape, df_gpu.shape"
   ]
  },
  {
   "cell_type": "code",
   "execution_count": 137,
   "id": "266a589c",
   "metadata": {},
   "outputs": [],
   "source": [
    "#df_cpu"
   ]
  },
  {
   "cell_type": "code",
   "execution_count": 133,
   "id": "f1524cc7",
   "metadata": {},
   "outputs": [
    {
     "data": {
      "text/html": [
       "<div>\n",
       "<style scoped>\n",
       "    .dataframe tbody tr th:only-of-type {\n",
       "        vertical-align: middle;\n",
       "    }\n",
       "\n",
       "    .dataframe tbody tr th {\n",
       "        vertical-align: top;\n",
       "    }\n",
       "\n",
       "    .dataframe thead th {\n",
       "        text-align: right;\n",
       "    }\n",
       "</style>\n",
       "<table border=\"1\" class=\"dataframe\">\n",
       "  <thead>\n",
       "    <tr style=\"text-align: right;\">\n",
       "      <th></th>\n",
       "      <th>Duration_min</th>\n",
       "      <th>Experiment_Size_mb</th>\n",
       "    </tr>\n",
       "    <tr>\n",
       "      <th>Data_Name</th>\n",
       "      <th></th>\n",
       "      <th></th>\n",
       "    </tr>\n",
       "  </thead>\n",
       "  <tbody>\n",
       "    <tr>\n",
       "      <th>BostonHousing.csv</th>\n",
       "      <td>4.931919</td>\n",
       "      <td>1065.058941</td>\n",
       "    </tr>\n",
       "    <tr>\n",
       "      <th>UCI_Credit_Card3.csv</th>\n",
       "      <td>4.316354</td>\n",
       "      <td>1070.865732</td>\n",
       "    </tr>\n",
       "    <tr>\n",
       "      <th>loan_level_500k.csv</th>\n",
       "      <td>55.182633</td>\n",
       "      <td>1300.115312</td>\n",
       "    </tr>\n",
       "    <tr>\n",
       "      <th>loan_level_1M.csv</th>\n",
       "      <td>99.216396</td>\n",
       "      <td>1555.837948</td>\n",
       "    </tr>\n",
       "  </tbody>\n",
       "</table>\n",
       "</div>"
      ],
      "text/plain": [
       "                      Duration_min  Experiment_Size_mb\n",
       "Data_Name                                             \n",
       "BostonHousing.csv         4.931919         1065.058941\n",
       "UCI_Credit_Card3.csv      4.316354         1070.865732\n",
       "loan_level_500k.csv      55.182633         1300.115312\n",
       "loan_level_1M.csv        99.216396         1555.837948"
      ]
     },
     "execution_count": 133,
     "metadata": {},
     "output_type": "execute_result"
    }
   ],
   "source": [
    "df_cpu.groupby('Data_Name').mean().reindex(index=['BostonHousing.csv','UCI_Credit_Card3.csv','loan_level_500k.csv','loan_level_1M.csv'])"
   ]
  },
  {
   "cell_type": "code",
   "execution_count": 141,
   "id": "77c8d8bb",
   "metadata": {},
   "outputs": [
    {
     "data": {
      "image/png": "[encoded data removed]",
      "text/plain": [
       "<Figure size 432x288 with 1 Axes>"
      ]
     },
     "metadata": {
      "needs_background": "light"
     },
     "output_type": "display_data"
    }
   ],
   "source": [
    "plt.scatter(df_cpu['Data_Name'], df_cpu['Duration_min'])\n",
    "plt.ylabel('min')\n",
    "plt.xticks(rotation=90)\n",
    "plt.show()"
   ]
  },
  {
   "cell_type": "code",
   "execution_count": 136,
   "id": "12ddcb93",
   "metadata": {},
   "outputs": [],
   "source": [
    "#df_gpu"
   ]
  },
  {
   "cell_type": "code",
   "execution_count": 134,
   "id": "4f44f36c",
   "metadata": {},
   "outputs": [
    {
     "data": {
      "text/html": [
       "<div>\n",
       "<style scoped>\n",
       "    .dataframe tbody tr th:only-of-type {\n",
       "        vertical-align: middle;\n",
       "    }\n",
       "\n",
       "    .dataframe tbody tr th {\n",
       "        vertical-align: top;\n",
       "    }\n",
       "\n",
       "    .dataframe thead th {\n",
       "        text-align: right;\n",
       "    }\n",
       "</style>\n",
       "<table border=\"1\" class=\"dataframe\">\n",
       "  <thead>\n",
       "    <tr style=\"text-align: right;\">\n",
       "      <th></th>\n",
       "      <th>Duration_min</th>\n",
       "      <th>Experiment_Size_mb</th>\n",
       "    </tr>\n",
       "    <tr>\n",
       "      <th>Data_Name</th>\n",
       "      <th></th>\n",
       "      <th></th>\n",
       "    </tr>\n",
       "  </thead>\n",
       "  <tbody>\n",
       "    <tr>\n",
       "      <th>BostonHousing.csv</th>\n",
       "      <td>8.520702</td>\n",
       "      <td>1062.301277</td>\n",
       "    </tr>\n",
       "    <tr>\n",
       "      <th>UCI_Credit_Card3.csv</th>\n",
       "      <td>5.535453</td>\n",
       "      <td>1078.959217</td>\n",
       "    </tr>\n",
       "    <tr>\n",
       "      <th>loan_level_500k.csv</th>\n",
       "      <td>58.416344</td>\n",
       "      <td>1257.104580</td>\n",
       "    </tr>\n",
       "    <tr>\n",
       "      <th>loan_level_1M.csv</th>\n",
       "      <td>110.304617</td>\n",
       "      <td>1591.140978</td>\n",
       "    </tr>\n",
       "  </tbody>\n",
       "</table>\n",
       "</div>"
      ],
      "text/plain": [
       "                      Duration_min  Experiment_Size_mb\n",
       "Data_Name                                             \n",
       "BostonHousing.csv         8.520702         1062.301277\n",
       "UCI_Credit_Card3.csv      5.535453         1078.959217\n",
       "loan_level_500k.csv      58.416344         1257.104580\n",
       "loan_level_1M.csv       110.304617         1591.140978"
      ]
     },
     "execution_count": 134,
     "metadata": {},
     "output_type": "execute_result"
    }
   ],
   "source": [
    "df_gpu.groupby('Data_Name').mean().reindex(index=['BostonHousing.csv','UCI_Credit_Card3.csv','loan_level_500k.csv','loan_level_1M.csv'])"
   ]
  },
  {
   "cell_type": "code",
   "execution_count": 142,
   "id": "9aa3267a",
   "metadata": {},
   "outputs": [
    {
     "data": {
      "image/png": "[encoded data removed]",
      "text/plain": [
       "<Figure size 432x288 with 1 Axes>"
      ]
     },
     "metadata": {
      "needs_background": "light"
     },
     "output_type": "display_data"
    }
   ],
   "source": [
    "plt.scatter(df_gpu['Data_Name'], df_gpu['Duration_min'])\n",
    "plt.ylabel('min')\n",
    "plt.xticks(rotation=90)\n",
    "plt.show()"
   ]
  },
  {
   "cell_type": "code",
   "execution_count": null,
   "id": "3e2a83f3",
   "metadata": {},
   "outputs": [],
   "source": []
  },
  {
   "cell_type": "code",
   "execution_count": null,
   "id": "a29b52fd",
   "metadata": {},
   "outputs": [],
   "source": []
  }
 ],
 "metadata": {
  "kernelspec": {
   "display_name": "Python 3",
   "language": "python",
   "name": "python3"
  },
  "language_info": {
   "codemirror_mode": {
    "name": "ipython",
    "version": 3
   },
   "file_extension": ".py",
   "mimetype": "text/x-python",
   "name": "python",
   "nbconvert_exporter": "python",
   "pygments_lexer": "ipython3",
   "version": "3.8.3"
  }
 },
 "nbformat": 4,
 "nbformat_minor": 5
}
