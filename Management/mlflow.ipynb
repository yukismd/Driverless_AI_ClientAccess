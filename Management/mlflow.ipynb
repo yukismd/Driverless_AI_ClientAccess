{
 "cells": [
  {
   "cell_type": "markdown",
   "id": "2bbd7bfc",
   "metadata": {},
   "source": [
    "# MLflow Trackingを利用したDriverless AI Experimentの管理と比較"
   ]
  },
  {
   "cell_type": "markdown",
   "id": "1c2da73a",
   "metadata": {},
   "source": [
    "#### MLflow Tracking\n",
    "https://mlflow.org/docs/latest/tracking.html#mlflow-tracking"
   ]
  },
  {
   "cell_type": "code",
   "execution_count": 1,
   "id": "e779746f",
   "metadata": {},
   "outputs": [],
   "source": [
    "import os\n",
    "import json\n",
    "#from random import random, randint\n",
    "\n",
    "import driverlessai\n",
    "import mlflow\n",
    "import pandas as pd\n",
    "from sklearn import metrics"
   ]
  },
  {
   "cell_type": "code",
   "execution_count": 2,
   "id": "6319cd4b",
   "metadata": {},
   "outputs": [],
   "source": [
    "# Driverless AIのuser nameとpasswordの読み込み\n",
    "with open(os.path.join('..', 'idpass.json')) as f:\n",
    "    idpass = json.load(f)"
   ]
  },
  {
   "cell_type": "code",
   "execution_count": 3,
   "id": "22fdec95",
   "metadata": {},
   "outputs": [
    {
     "data": {
      "text/plain": [
       "<class 'driverlessai._core.Client'> http://3.93.24.9"
      ]
     },
     "execution_count": 3,
     "metadata": {},
     "output_type": "execute_result"
    }
   ],
   "source": [
    "# Driverless AIサーバーへの接続\n",
    "dai = driverlessai.Client(address='http://3.93.24.9', username=idpass['id'], password=idpass['pass110'])\n",
    "dai"
   ]
  },
  {
   "cell_type": "code",
   "execution_count": 4,
   "id": "e879a1ec",
   "metadata": {},
   "outputs": [
    {
     "data": {
      "text/plain": [
       "    | Type    | Key                                  | Name\n",
       "----+---------+--------------------------------------+------------------------------------------------\n",
       "  0 | Dataset | 0888b202-7f20-11ec-9c75-0242ac110002 | UCI_Credit_Card_mli.csv\n",
       "  1 | Dataset | 5e986a6c-7e70-11ec-a429-0242ac110002 | credit_test\n",
       "  2 | Dataset | 5e984d48-7e70-11ec-a429-0242ac110002 | credic_train\n",
       "  3 | Dataset | c5270fa4-79b6-11ec-8b1f-0242ac110002 | AirPassengers.csv\n",
       "  4 | Dataset | 9d1cb68e-78bd-11ec-9b1a-0242ac110002 | amazon_reviews_JP_Books_Test_TopLowPredict.csv\n",
       "  5 | Dataset | 6d54837a-7500-11ec-856a-0242ac110002 | TS_Simulation_202112_train.csv\n",
       "  6 | Dataset | 6cfd729c-7500-11ec-856a-0242ac110002 | TS_Simulation_202112_test.csv\n",
       "  7 | Dataset | 08323dee-710d-11ec-89d0-0242ac110002 | interaction_sample.csv\n",
       "  8 | Dataset | 22b86e7a-63b3-11ec-b15b-0242ac110002 | BostonHousing.csv\n",
       "  9 | Dataset | 9d4726e8-62b6-11ec-9725-0242ac110002 | UCI_Credit_Card3.csv\n",
       " 10 | Dataset | 8883ff6c-6232-11ec-af63-0242ac110002 | iris.csv\n",
       " 11 | Dataset | fc302f64-6159-11ec-bbe3-0242ac110002 | walmart_ts_6_fcst_grp_train.csv\n",
       " 12 | Dataset | fc2a93b0-6159-11ec-bbe3-0242ac110002 | walmart_ts_6_fcst_grp_test.csv\n",
       " 13 | Dataset | ae2c6b02-6159-11ec-bbe3-0242ac110002 | Titanic_0.750.csv\n",
       " 14 | Dataset | adf59280-6159-11ec-bbe3-0242ac110002 | Titanic_0.250.csv\n",
       " 15 | Dataset | 8114915c-606a-11ec-9b2d-0242ac110002 | tkn.amazon_reviews_JP_Books.csv\n",
       " 16 | Dataset | b69177d8-6069-11ec-9b2d-0242ac110002 | amazon_reviews_JP_Books.csv"
      ]
     },
     "execution_count": 4,
     "metadata": {},
     "output_type": "execute_result"
    }
   ],
   "source": [
    "# 接続先Driverless AIのDatasets\n",
    "dai.datasets.list()"
   ]
  },
  {
   "cell_type": "code",
   "execution_count": 5,
   "id": "072171cb",
   "metadata": {},
   "outputs": [
    {
     "data": {
      "text/plain": [
       "<class 'Dataset'> 22b86e7a-63b3-11ec-b15b-0242ac110002 BostonHousing.csv"
      ]
     },
     "execution_count": 5,
     "metadata": {},
     "output_type": "execute_result"
    }
   ],
   "source": [
    "ds = dai.datasets.get('22b86e7a-63b3-11ec-b15b-0242ac110002')   # 利用データ\n",
    "ds"
   ]
  },
  {
   "cell_type": "code",
   "execution_count": 6,
   "id": "f40420d1",
   "metadata": {},
   "outputs": [
    {
     "name": "stdout",
     "output_type": "stream",
     "text": [
      "['CRIM', 'ZN', 'INDUS', 'CHAS', 'NOX', 'RM', 'AGE', 'DIS', 'RAD', 'TAX', 'PTRATIO', 'B', 'LSTAT', 'MEDV']\n",
      "(506, 14)\n"
     ]
    }
   ],
   "source": [
    "print(ds.columns)\n",
    "print(ds.shape)"
   ]
  },
  {
   "cell_type": "code",
   "execution_count": 7,
   "id": "11f76215",
   "metadata": {},
   "outputs": [
    {
     "name": "stdout",
     "output_type": "stream",
     "text": [
      "Complete\n"
     ]
    },
    {
     "data": {
      "text/plain": [
       "{'train_dataset': <class 'Dataset'> fd3e19f8-83e5-11ec-be01-0242ac110002 boston_train,\n",
       " 'test_dataset': <class 'Dataset'> fd3e3a8c-83e5-11ec-be01-0242ac110002 boston_test}"
      ]
     },
     "execution_count": 7,
     "metadata": {},
     "output_type": "execute_result"
    }
   ],
   "source": [
    "# データセットの分割\n",
    "ds_split = ds.split_to_train_test(train_size=0.8, train_name='boston_train', test_name='boston_test', seed=12345)\n",
    "ds_split"
   ]
  },
  {
   "cell_type": "code",
   "execution_count": 8,
   "id": "a9fe4d22",
   "metadata": {},
   "outputs": [
    {
     "name": "stdout",
     "output_type": "stream",
     "text": [
      "(404, 14)\n",
      "(102, 14)\n"
     ]
    }
   ],
   "source": [
    "print(ds_split['train_dataset'].shape)\n",
    "print(ds_split['test_dataset'].shape)"
   ]
  },
  {
   "cell_type": "markdown",
   "id": "1140ec4b",
   "metadata": {},
   "source": [
    "## 実施ステップ\n",
    "MLFlow Experimentの作成  \n",
    "(1) MLFlow Runの開始  \n",
    "(2) DAI Experimentの設定と実施  \n",
    "(3) DAI Experimentの設定(Parameter)をMLFlowへロギング  \n",
    "(4) DAI Experimentの予測結果(Metric)をMLFlowへロギング  \n",
    "(5) DAI Experiment成果物のMLFlowへロギング  \n",
    "(6) MLFlow Runの終了  \n",
    "\n",
    "(1)~(6)を実験を試したい回数繰り返す"
   ]
  },
  {
   "cell_type": "markdown",
   "id": "3af4f540",
   "metadata": {},
   "source": [
    "#### MLFlow Logging関数に関して  \n",
    "https://mlflow.org/docs/latest/tracking.html#logging-functions\n"
   ]
  },
  {
   "cell_type": "markdown",
   "id": "81d2c4bc",
   "metadata": {},
   "source": [
    "### MLFlow Experimentの作成"
   ]
  },
  {
   "cell_type": "code",
   "execution_count": 10,
   "id": "24faa931",
   "metadata": {},
   "outputs": [],
   "source": [
    "# MLFlow Experiment情報の保存先を指定。指定しない場合カレントディレクトリに'mlruns'ディレクトリが作成される\n",
    "mlflow.set_tracking_uri(\"file://{}/../tmp/mlflow_tracking\".format(os.getcwd()))    # 'mlflow_tracking'の名前のディレクトリを保存先に指定\n",
    "#print(mlflow.get_tracking_uri())    # 保存先ローカルパスの表示"
   ]
  },
  {
   "cell_type": "code",
   "execution_count": 11,
   "id": "1d3b274e",
   "metadata": {},
   "outputs": [
    {
     "name": "stderr",
     "output_type": "stream",
     "text": [
      "2022/02/02 14:07:44 INFO mlflow.tracking.fluent: Experiment with name 'dai-experiment-test' does not exist. Creating a new experiment.\n"
     ]
    },
    {
     "name": "stdout",
     "output_type": "stream",
     "text": [
      "0\n"
     ]
    }
   ],
   "source": [
    "# MLFlow Experimentに名前を付ける\n",
    "mlflow_experiment_name = 'dai-experiment-test'\n",
    "mlflow.set_experiment(experiment_name=mlflow_experiment_name)\n",
    "\n",
    "print(mlflow.get_experiment_by_name(mlflow_experiment_name).experiment_id)     # MLFlow ExperimentのID\n",
    "#print(mlflow.get_experiment_by_name(mlflow_experiment_name).artifact_location)     # MLFlow Experimentの保存先パス"
   ]
  },
  {
   "cell_type": "markdown",
   "id": "fb5d72f7",
   "metadata": {},
   "source": [
    "### (1) MLFlow Runの開始"
   ]
  },
  {
   "cell_type": "code",
   "execution_count": 12,
   "id": "55a999c1",
   "metadata": {},
   "outputs": [
    {
     "data": {
      "text/plain": [
       "<ActiveRun: >"
      ]
     },
     "execution_count": 12,
     "metadata": {},
     "output_type": "execute_result"
    }
   ],
   "source": [
    "# MLFlow Runの開始\n",
    "mlflow.start_run()"
   ]
  },
  {
   "cell_type": "code",
   "execution_count": 13,
   "id": "722038b1",
   "metadata": {},
   "outputs": [],
   "source": [
    "# MLFlow Runにタグで作成するモデルのメモを付けておく\n",
    "mlflow.set_tag(key='model', value='TestModel1')\n",
    "mlflow.set_tag(key='memo', value='This is a test')"
   ]
  },
  {
   "cell_type": "markdown",
   "id": "d75481aa",
   "metadata": {},
   "source": [
    "### (2) DAI Experimentの設定と実施"
   ]
  },
  {
   "cell_type": "code",
   "execution_count": 14,
   "id": "19164c87",
   "metadata": {},
   "outputs": [
    {
     "data": {
      "text/plain": [
       "'MEDV'"
      ]
     },
     "execution_count": 14,
     "metadata": {},
     "output_type": "execute_result"
    }
   ],
   "source": [
    "ds.columns[-1]         # Targetカラム"
   ]
  },
  {
   "cell_type": "markdown",
   "id": "295002a7",
   "metadata": {},
   "source": [
    "#### DAI Experimentの設定"
   ]
  },
  {
   "cell_type": "code",
   "execution_count": 15,
   "id": "86cb7ad2",
   "metadata": {},
   "outputs": [],
   "source": [
    "# DAI Experiment 設定\n",
    "dai_settings = {\n",
    "    'train_dataset': ds_split['train_dataset'],\n",
    "    'test_dataset': ds_split['test_dataset'],\n",
    "    'task': 'regression',\n",
    "    'target_column': 'MEDV',\n",
    "    'accuracy': 2,\n",
    "    'time': 4,\n",
    "    'interpretability': 6,\n",
    "    'scorer': 'RMSE',\n",
    "    'target_transformer':'identity',    # Expert Settings > Experiment. ターゲット変数の変換を実施しない\n",
    "    'enable_xgboost_gbm':'off',     # Expert Settings > Models. XGBoostを使わない\n",
    "    'enable_lightgbm':'off'               # Expert Settings > Models. LightGBMを使わない\n",
    "}"
   ]
  },
  {
   "cell_type": "code",
   "execution_count": 16,
   "id": "2ab60d60",
   "metadata": {},
   "outputs": [
    {
     "name": "stdout",
     "output_type": "stream",
     "text": [
      "ACCURACY [2/10]:\n",
      "- Training data size: *404 rows, 14 cols*\n",
      "- Feature evolution: *[Constant, GLM]*, *1/3 validation split*\n",
      "- Final pipeline: *One of [Constant, GLM], single final model, validated with 3-fold CV*\n",
      "\n",
      "TIME [4/10]:\n",
      "- Feature evolution: *2 individuals*, up to *40 iterations*\n",
      "- Early stopping: After *5* iterations of no improvement\n",
      "\n",
      "INTERPRETABILITY [6/10]:\n",
      "- Feature pre-pruning strategy: None\n",
      "- Monotonicity constraints: disabled\n",
      "- Feature engineering search space: [CVCatNumEncode, CVTargetEncode, ClusterTE, Frequent, Interactions, NumCatTE, NumToCatTE, OneHotEncoding, Original]\n",
      "\n",
      "[Constant, GLM] models to train:\n",
      "- Model and feature tuning: *2*\n",
      "- Feature evolution: *82*\n",
      "- Final pipeline: *7*\n",
      "\n",
      "Estimated runtime: *minutes*\n",
      "Auto-click Finish/Abort if not done in: *1 day*/*7 days*\n"
     ]
    }
   ],
   "source": [
    "dai.experiments.preview(**dai_settings)"
   ]
  },
  {
   "cell_type": "markdown",
   "id": "22d87533",
   "metadata": {},
   "source": [
    "#### dai.experiments.preview  \n",
    "https://docs.h2o.ai/driverless-ai/pyclient/docs/html/client.html#driverlessai._experiments.Experiments.preview"
   ]
  },
  {
   "cell_type": "markdown",
   "id": "b2f88585",
   "metadata": {},
   "source": [
    "Keyword Arguments（Expert Settings）のサーチ方法  \n",
    "https://docs.h2o.ai/driverless-ai/pyclient/docs/html/examples/experiments/search-expert-settings.html#Search-Expert-Settings  \n",
    "\n",
    "`dai.experiments.search_expert_settings(search_term)`  \n",
    "search_term = 'experiment' , 'model', 'features', 'timeseries', 'nlp', 'image', 'recipes', 'system', or 'autodoc'"
   ]
  },
  {
   "cell_type": "code",
   "execution_count": 17,
   "id": "98ce1a47",
   "metadata": {},
   "outputs": [],
   "source": [
    "#dai.experiments.search_expert_settings('model')"
   ]
  },
  {
   "cell_type": "markdown",
   "id": "69632454",
   "metadata": {},
   "source": [
    "#### Expert Settingsに関して\n",
    "https://docs.h2o.ai/driverless-ai/latest-stable/docs/userguide/expert-settings.html"
   ]
  },
  {
   "cell_type": "markdown",
   "id": "9596527d",
   "metadata": {},
   "source": [
    "#### DAI Experimentの実行"
   ]
  },
  {
   "cell_type": "code",
   "execution_count": 18,
   "id": "96d49e0f",
   "metadata": {},
   "outputs": [
    {
     "name": "stdout",
     "output_type": "stream",
     "text": [
      "Experiment launched at: http://3.93.24.9/#/experiment?key=37081a26-83e6-11ec-be01-0242ac110002\n",
      "Complete 100.00% - Status: Complete                                           \n"
     ]
    },
    {
     "data": {
      "text/plain": [
       "<class 'Experiment'> 37081a26-83e6-11ec-be01-0242ac110002 mopotunu"
      ]
     },
     "execution_count": 18,
     "metadata": {},
     "output_type": "execute_result"
    }
   ],
   "source": [
    "# Experimentの実行\n",
    "ex = dai.experiments.create(**dai_settings)\n",
    "ex"
   ]
  },
  {
   "cell_type": "code",
   "execution_count": 19,
   "id": "41379db1",
   "metadata": {},
   "outputs": [
    {
     "data": {
      "text/plain": [
       "True"
      ]
     },
     "execution_count": 19,
     "metadata": {},
     "output_type": "execute_result"
    }
   ],
   "source": [
    "ex.is_complete()"
   ]
  },
  {
   "cell_type": "code",
   "execution_count": 20,
   "id": "1c31e75e",
   "metadata": {},
   "outputs": [
    {
     "name": "stdout",
     "output_type": "stream",
     "text": [
      "Status: Complete\n",
      "Experiment: mopotunu (37081a26-83e6-11ec-be01-0242ac110002)\n",
      "  Version: 1.10.0, 2022-02-02 05:10\n",
      "  Settings: 2/4/6, seed=537750190, GPUs disabled\n",
      "  Train data: boston_train (404, 14)\n",
      "  Validation data: N/A\n",
      "  Test data: [Test] (102, 13)\n",
      "  Target column: MEDV (regression)\n",
      "System specs: Docker/Linux, 31 GB, 8 CPU cores, 0/0 GPU\n",
      "  Max memory usage: 0.549 GB, 0 GB GPU\n",
      "Recipe: AutoDL (7 iterations, 2 individuals)\n",
      "  Validation scheme: random, 1 internal holdout\n",
      "  Feature engineering: 32 features scored (21 selected)\n",
      "Timing: MOJO latency 0.0358 millis (40.6kB), Python latency 65.9525 millis (28.8kB)\n",
      "  Data preparation: 5.50 secs\n",
      "  Shift/Leakage detection: 3.81 secs\n",
      "  Model and feature tuning: 7.33 secs (3 models trained)\n",
      "  Feature evolution: 16.60 secs (5 of 82 models trained)\n",
      "  Final pipeline training: 22.56 secs (7 models trained)\n",
      "  Python / MOJO scorer building: 31.93 secs / 11.28 secs\n",
      "Validation score: RMSE = 9.461989 (constant preds of 22.58)\n",
      "Validation score: RMSE = 19.83522 +/- 3.814697e-06 (baseline)\n",
      "Validation score: RMSE = 5.171668 +/- 4.768372e-07 (final pipeline)\n",
      "Test score:       RMSE = 7.528241 +/- 4.768372e-07 (final pipeline)\n"
     ]
    }
   ],
   "source": [
    "# Experimentサマリ\n",
    "ex.summary()"
   ]
  },
  {
   "cell_type": "markdown",
   "id": "e4e1875b",
   "metadata": {},
   "source": [
    "### (3) DAI Experimentの設定(Parameter)をMLFlowへロギング"
   ]
  },
  {
   "cell_type": "code",
   "execution_count": 21,
   "id": "6a3cd9b5",
   "metadata": {},
   "outputs": [
    {
     "data": {
      "text/plain": [
       "{'train_dataset': <class 'Dataset'> fd3e19f8-83e5-11ec-be01-0242ac110002 boston_train,\n",
       " 'test_dataset': <class 'Dataset'> fd3e3a8c-83e5-11ec-be01-0242ac110002 boston_test,\n",
       " 'task': 'regression',\n",
       " 'target_column': 'MEDV',\n",
       " 'accuracy': 2,\n",
       " 'time': 4,\n",
       " 'interpretability': 6,\n",
       " 'scorer': 'RMSE',\n",
       " 'target_transformer': 'identity',\n",
       " 'enable_xgboost_gbm': 'off',\n",
       " 'enable_lightgbm': 'off'}"
      ]
     },
     "execution_count": 21,
     "metadata": {},
     "output_type": "execute_result"
    }
   ],
   "source": [
    "# DAI Experiment 設定\n",
    "dai_settings"
   ]
  },
  {
   "cell_type": "code",
   "execution_count": 22,
   "id": "89606294",
   "metadata": {},
   "outputs": [],
   "source": [
    "mlflow.log_params(dai_settings)"
   ]
  },
  {
   "cell_type": "markdown",
   "id": "d9d1174d",
   "metadata": {},
   "source": [
    "### (4) DAI Experimentの予測結果(Metric)をMLFlowへロギング"
   ]
  },
  {
   "cell_type": "markdown",
   "id": "35ce5dda",
   "metadata": {},
   "source": [
    "Python Client(1.10)では、Testデータに対する各種スコアの取得機能が実装されていないため、Testデータに対するスコアリングを実施し、その結果に対してMetrics（R2, RMSE）の計算を実施"
   ]
  },
  {
   "cell_type": "code",
   "execution_count": 23,
   "id": "2753f626",
   "metadata": {},
   "outputs": [
    {
     "name": "stdout",
     "output_type": "stream",
     "text": [
      "Complete\n",
      "Downloaded '37081a26-83e6-11ec-be01-0242ac110002_preds_8a2f1424.csv'\n"
     ]
    },
    {
     "data": {
      "text/plain": [
       "'37081a26-83e6-11ec-be01-0242ac110002_preds_8a2f1424.csv'"
      ]
     },
     "execution_count": 23,
     "metadata": {},
     "output_type": "execute_result"
    }
   ],
   "source": [
    "# Testデータに対するスコアリングの実施と結果のダウンロード（実行パス上）\n",
    "download_pred_file = ex.predict(dataset=ds_split['test_dataset'], include_columns=['MEDV']).download(overwrite=True)\n",
    "download_pred_file    # ダウンロードしたファイル名"
   ]
  },
  {
   "cell_type": "code",
   "execution_count": 24,
   "id": "2a2cb077",
   "metadata": {},
   "outputs": [
    {
     "name": "stdout",
     "output_type": "stream",
     "text": [
      "(102, 4)\n"
     ]
    },
    {
     "data": {
      "text/html": [
       "<div>\n",
       "<style scoped>\n",
       "    .dataframe tbody tr th:only-of-type {\n",
       "        vertical-align: middle;\n",
       "    }\n",
       "\n",
       "    .dataframe tbody tr th {\n",
       "        vertical-align: top;\n",
       "    }\n",
       "\n",
       "    .dataframe thead th {\n",
       "        text-align: right;\n",
       "    }\n",
       "</style>\n",
       "<table border=\"1\" class=\"dataframe\">\n",
       "  <thead>\n",
       "    <tr style=\"text-align: right;\">\n",
       "      <th></th>\n",
       "      <th>MEDV</th>\n",
       "      <th>MEDV.predicted</th>\n",
       "      <th>MEDV.predicted.lower</th>\n",
       "      <th>MEDV.predicted.upper</th>\n",
       "    </tr>\n",
       "  </thead>\n",
       "  <tbody>\n",
       "    <tr>\n",
       "      <th>0</th>\n",
       "      <td>21.7</td>\n",
       "      <td>24.317930</td>\n",
       "      <td>18.897108</td>\n",
       "      <td>34.200844</td>\n",
       "    </tr>\n",
       "    <tr>\n",
       "      <th>1</th>\n",
       "      <td>24.8</td>\n",
       "      <td>26.090360</td>\n",
       "      <td>20.669538</td>\n",
       "      <td>35.973274</td>\n",
       "    </tr>\n",
       "    <tr>\n",
       "      <th>2</th>\n",
       "      <td>20.6</td>\n",
       "      <td>15.781856</td>\n",
       "      <td>10.361034</td>\n",
       "      <td>25.664770</td>\n",
       "    </tr>\n",
       "    <tr>\n",
       "      <th>3</th>\n",
       "      <td>23.0</td>\n",
       "      <td>16.669207</td>\n",
       "      <td>11.248385</td>\n",
       "      <td>26.552120</td>\n",
       "    </tr>\n",
       "    <tr>\n",
       "      <th>4</th>\n",
       "      <td>19.1</td>\n",
       "      <td>12.200898</td>\n",
       "      <td>6.780076</td>\n",
       "      <td>22.083813</td>\n",
       "    </tr>\n",
       "  </tbody>\n",
       "</table>\n",
       "</div>"
      ],
      "text/plain": [
       "   MEDV  MEDV.predicted  MEDV.predicted.lower  MEDV.predicted.upper\n",
       "0  21.7       24.317930             18.897108             34.200844\n",
       "1  24.8       26.090360             20.669538             35.973274\n",
       "2  20.6       15.781856             10.361034             25.664770\n",
       "3  23.0       16.669207             11.248385             26.552120\n",
       "4  19.1       12.200898              6.780076             22.083813"
      ]
     },
     "execution_count": 24,
     "metadata": {},
     "output_type": "execute_result"
    }
   ],
   "source": [
    "df = pd.read_csv(download_pred_file)\n",
    "print(df.shape)\n",
    "df.head()"
   ]
  },
  {
   "cell_type": "code",
   "execution_count": 25,
   "id": "108d38e2",
   "metadata": {},
   "outputs": [
    {
     "name": "stdout",
     "output_type": "stream",
     "text": [
      "R2 on test data: 0.11628904061183798\n",
      "RMSE on test data: 7.528240298303414\n"
     ]
    }
   ],
   "source": [
    "r2_test = metrics.r2_score(y_true=df['MEDV'], y_pred=df['MEDV.predicted'])    # R2\n",
    "print('R2 on test data: {}'.format(r2_test))\n",
    "rmse_test = metrics.mean_squared_error(y_true=df['MEDV'], y_pred=df['MEDV.predicted'], squared=False)   # RMSE\n",
    "print('RMSE on test data: {}'.format(rmse_test))"
   ]
  },
  {
   "cell_type": "code",
   "execution_count": 26,
   "id": "d4ba64c7",
   "metadata": {},
   "outputs": [],
   "source": [
    "mlflow.log_metrics({'R2':r2_test, 'RMSE':rmse_test})"
   ]
  },
  {
   "cell_type": "code",
   "execution_count": 27,
   "id": "a0d7ac24",
   "metadata": {},
   "outputs": [],
   "source": [
    "# ダウンロードしたスコアリングデータの削除\n",
    "try:\n",
    "    os.remove(download_pred_file)\n",
    "except FileNotFoundError as err:\n",
    "    pass"
   ]
  },
  {
   "cell_type": "markdown",
   "id": "859196f8",
   "metadata": {},
   "source": [
    "### (5) DAI Experiment成果物のMLFlowへロギング"
   ]
  },
  {
   "cell_type": "code",
   "execution_count": 28,
   "id": "f8a8e64f",
   "metadata": {},
   "outputs": [
    {
     "data": {
      "text/plain": [
       "['autodoc',\n",
       " 'logs',\n",
       " 'mojo_pipeline',\n",
       " 'python_pipeline',\n",
       " 'summary',\n",
       " 'test_predictions',\n",
       " 'train_predictions']"
      ]
     },
     "execution_count": 28,
     "metadata": {},
     "output_type": "execute_result"
    }
   ],
   "source": [
    "ex.artifacts.list()"
   ]
  },
  {
   "cell_type": "code",
   "execution_count": 29,
   "id": "04f70323",
   "metadata": {},
   "outputs": [
    {
     "name": "stdout",
     "output_type": "stream",
     "text": [
      "Downloaded 'report.docx'\n"
     ]
    },
    {
     "data": {
      "text/plain": [
       "{'autodoc': 'report.docx'}"
      ]
     },
     "execution_count": 29,
     "metadata": {},
     "output_type": "execute_result"
    }
   ],
   "source": [
    "# AutoDocをダウンロード\n",
    "ex.artifacts.download(only='autodoc', dst_dir='', overwrite=True)    # 実行パス上にreport.docxの名前でダウンロード"
   ]
  },
  {
   "cell_type": "code",
   "execution_count": 30,
   "id": "8e4a5182",
   "metadata": {},
   "outputs": [],
   "source": [
    "mlflow.log_artifact('report.docx')\n",
    "\n",
    "# mlflow.log_artifacts()  # デイレクトリの中身を指定する場合"
   ]
  },
  {
   "cell_type": "code",
   "execution_count": 31,
   "id": "9d09216a",
   "metadata": {},
   "outputs": [],
   "source": [
    "# ダウンロードしたスコアリングデータの削除\n",
    "try:\n",
    "    os.remove('report.docx')\n",
    "except FileNotFoundError as err:\n",
    "    pass"
   ]
  },
  {
   "cell_type": "markdown",
   "id": "35522492",
   "metadata": {},
   "source": [
    "### (6) MLFlow Runの終了"
   ]
  },
  {
   "cell_type": "code",
   "execution_count": 32,
   "id": "8a724826",
   "metadata": {},
   "outputs": [
    {
     "name": "stdout",
     "output_type": "stream",
     "text": [
      "Driverless AI Server reported experiment 37081a26-83e6-11ec-be01-0242ac110002 deleted.\n"
     ]
    }
   ],
   "source": [
    "# DAI Experimentの削除\n",
    "ex.delete()"
   ]
  },
  {
   "cell_type": "code",
   "execution_count": 33,
   "id": "693043b6",
   "metadata": {},
   "outputs": [
    {
     "name": "stdout",
     "output_type": "stream",
     "text": [
      "Driverless AI Server reported dataset fd3e19f8-83e5-11ec-be01-0242ac110002 deleted.\n",
      "Driverless AI Server reported dataset fd3e3a8c-83e5-11ec-be01-0242ac110002 deleted.\n"
     ]
    }
   ],
   "source": [
    "# DAIサーバ上にある分割したTrain,Testデータの削除\n",
    "ds_split['train_dataset'].delete()\n",
    "ds_split['test_dataset'].delete()"
   ]
  },
  {
   "cell_type": "code",
   "execution_count": 34,
   "id": "c5c642e2",
   "metadata": {},
   "outputs": [],
   "source": [
    "mlflow.end_run()"
   ]
  },
  {
   "cell_type": "code",
   "execution_count": null,
   "id": "5170ecec",
   "metadata": {},
   "outputs": [],
   "source": []
  },
  {
   "cell_type": "markdown",
   "id": "cadc3371",
   "metadata": {},
   "source": [
    "## mlflow uiの実行  \n",
    "`$ mlflow ui --backend-store-uri 'file:///Path_to/tmp/mlflow_tracking'`  \n",
    "\n",
    "ブラウザからlocalhost:5000へアクセス"
   ]
  },
  {
   "cell_type": "markdown",
   "id": "ca91b164",
   "metadata": {},
   "source": [
    "<img src=\"img/mlflow1.png\" width=800px>"
   ]
  },
  {
   "cell_type": "markdown",
   "id": "c626c1a3",
   "metadata": {},
   "source": [
    "<img src=\"img/mlflow2.png\" width=800px>"
   ]
  },
  {
   "cell_type": "code",
   "execution_count": null,
   "id": "73b9680f",
   "metadata": {},
   "outputs": [],
   "source": []
  }
 ],
 "metadata": {
  "kernelspec": {
   "display_name": "Python 3",
   "language": "python",
   "name": "python3"
  },
  "language_info": {
   "codemirror_mode": {
    "name": "ipython",
    "version": 3
   },
   "file_extension": ".py",
   "mimetype": "text/x-python",
   "name": "python",
   "nbconvert_exporter": "python",
   "pygments_lexer": "ipython3",
   "version": "3.8.3"
  }
 },
 "nbformat": 4,
 "nbformat_minor": 5
}
