{
 "cells": [
  {
   "cell_type": "markdown",
   "id": "b2d5bb72",
   "metadata": {},
   "source": [
    "# Test Code for Experiment Speed"
   ]
  },
  {
   "cell_type": "code",
   "execution_count": 1,
   "id": "1ddb6fcc",
   "metadata": {},
   "outputs": [],
   "source": [
    "import os\n",
    "import json\n",
    "\n",
    "import driverlessai"
   ]
  },
  {
   "cell_type": "code",
   "execution_count": 2,
   "id": "e1df6cc7",
   "metadata": {},
   "outputs": [
    {
     "data": {
      "text/plain": [
       "'1.10.1.3'"
      ]
     },
     "execution_count": 2,
     "metadata": {},
     "output_type": "execute_result"
    }
   ],
   "source": [
    "driverlessai.__version__"
   ]
  },
  {
   "cell_type": "code",
   "execution_count": 3,
   "id": "37a603f0",
   "metadata": {},
   "outputs": [],
   "source": [
    "# Driverless AIのuser nameとpasswordの読み込み\n",
    "with open(os.path.join('..', 'idpass.json')) as f:\n",
    "    idpass = json.load(f)"
   ]
  },
  {
   "cell_type": "markdown",
   "id": "f62330aa",
   "metadata": {},
   "source": [
    "### 実験実施用関数"
   ]
  },
  {
   "cell_type": "code",
   "execution_count": 4,
   "id": "8e7343c5",
   "metadata": {},
   "outputs": [],
   "source": [
    "def get_dai_client(daiaddress, daipassword) -> 'driverlessai._core.Client':\n",
    "    '''\n",
    "    DAIサーバへの接続\n",
    "    ----------\n",
    "    daiaddress : str\n",
    "    daipassword : str\n",
    "    '''\n",
    "    print('----- start server connection : get_dai_client -----')\n",
    "    # Driverless AIサーバーへの接続\n",
    "    dai = driverlessai.Client(address=daiaddress, username=idpass['id'], password=daipassword)\n",
    "    return dai\n",
    "\n",
    "def get_dataset(daiobj, dataname, dataurl) -> 'driverlessai._datasets.Dataset': \n",
    "    '''\n",
    "    データオブジェクトの取得\n",
    "    ----------\n",
    "    daiobj : driverlessai._core.Client\n",
    "    dataname : str\n",
    "    dataurl : str\n",
    "    '''\n",
    "    print('----- start get data : get_dataset -----')\n",
    "    # DAI上のデータ一覧\n",
    "    uploaded_data = {i.name:i.key for i in daiobj.datasets.list()}\n",
    "    print('Uploaded data name : key >> ', uploaded_data)\n",
    "\n",
    "    # データ取得\n",
    "    if dataname in uploaded_data.keys():\n",
    "        print('Data is already uploaded in DAI')\n",
    "        ds = daiobj.datasets.get(uploaded_data[data_name]) \n",
    "    else:\n",
    "        print('Data is uploading to DAI.')\n",
    "        ds = daiobj.datasets.create(data=dataurl, data_source='s3')\n",
    "    \n",
    "    return ds\n",
    "\n",
    "def get_experiment(daiobj, dataobj, target_column, task, drop_columns, enable_gpus) -> 'driverlessai._experiments.Experiment':\n",
    "    '''\n",
    "    Experimentの実行とExperimentオブジェクトの取得\n",
    "    ----------\n",
    "    daiobj : driverlessai._core.Client\n",
    "    dataobj : driverlessai._datasets.Dataset\n",
    "    target_column : str\n",
    "    task : str\n",
    "    drop_columns : List[str]\n",
    "    enable_gpus : bool\n",
    "    '''\n",
    "    print('----- start experiment : get_experiment -----')\n",
    "    # Experiment設定\n",
    "    dai_settings = {\n",
    "        'train_dataset': dataobj, \n",
    "        'target_column': target_column,\n",
    "        'task': task,\n",
    "        'drop_columns': drop_columns,\n",
    "        'enable_gpus': enable_gpus\n",
    "    }\n",
    "    # Experimentの実行\n",
    "    ex = daiobj.experiments.create(**dai_settings)\n",
    "    return ex"
   ]
  },
  {
   "cell_type": "markdown",
   "id": "d21139d0",
   "metadata": {},
   "source": [
    "### 実験のパラメータ情報"
   ]
  },
  {
   "cell_type": "code",
   "execution_count": 31,
   "id": "b48a813d",
   "metadata": {},
   "outputs": [],
   "source": [
    "# Driverless AIサーバー情報\n",
    "dai_address = 'http://3.82.142.224'\n",
    "dai_password = idpass['pass11013']\n",
    "# データ情報\n",
    "data_name = 'BostonHousing.csv'\n",
    "s3url = 's3://h2oai-jp-public/sample_data/boston_house/BostonHousing.csv'   # DAIにアップされてない場合の取得先S3\n",
    "# Experiment設定\n",
    "target_column = 'MEDV'\n",
    "task = 'regression'    # 'regression', 'classification', or 'unsupervised'\n",
    "drop_columns = []    # List[str] 説明変数として利用しないカラム\n",
    "#drop_columns = None\n",
    "enable_gpus = False"
   ]
  },
  {
   "cell_type": "markdown",
   "id": "d918bb9b",
   "metadata": {},
   "source": [
    "### 実験"
   ]
  },
  {
   "cell_type": "code",
   "execution_count": 32,
   "id": "c3589d6e",
   "metadata": {},
   "outputs": [
    {
     "name": "stdout",
     "output_type": "stream",
     "text": [
      "*************** DAIへ接続 ***************\n",
      "----- start server connection : get_dai_client -----\n",
      "<class 'driverlessai._core.Client'>\n",
      "DAIバージョン: 1.10.1.3\n",
      "*************** データの取得 ***************\n",
      "----- start get data : get_dataset -----\n",
      "Uploaded data name : key >>  {'walmart_ts_6_fcst_grp_train.csv': '4d2ad106-9b86-11ec-8e63-0242ac110002', 'walmart_ts_6_fcst_grp_test.csv': '4d2a15fe-9b86-11ec-8e63-0242ac110002', 'kaggle_train_index.csv': '7477e2b4-9369-11ec-ae6e-0242ac110002', 'kaggle_train2_int.csv': '757ae702-9368-11ec-ae6e-0242ac110002', 'BostonHousing.csv': '653b25c2-91de-11ec-8bed-0242ac110002'}\n",
      "Data is already uploaded in DAI\n",
      "<class 'driverlessai._datasets.Dataset'>\n",
      "Dataサイズ(byte): 57768\n",
      "Dataサイズ(mega byte): 0.05509185791015625\n",
      "Data shape: (506, 14)\n",
      "*************** Experimentの実施 ***************\n",
      "----- start experiment : get_experiment -----\n",
      "Experiment launched at: http://3.82.142.224/#/experiment?key=7dc555a4-9de6-11ec-a1da-0242ac110002\n",
      "Complete 100.00% - Status: Complete                                                       \n",
      "<class 'driverlessai._datasets.Dataset'>\n",
      "学習時間（sec）：293.74908685684204\n",
      "学習時間（min）：4.895818114280701\n",
      "Experimentサイズ（byte）：1114217336\n",
      "Experimentサイズ（mega byte）：1062.600456237793\n",
      "********** Experiment Summary **********\n",
      "Status: Complete\n",
      "Experiment: sifiviba (7dc555a4-9de6-11ec-a1da-0242ac110002)\n",
      "  Version: 1.10.1.3, 2022-03-07 07:21\n",
      "  Settings: 7/2/8, seed=369511965, GPUs disabled\n",
      "  Train data: BostonHousing.csv (506, 14)\n",
      "  Validation data: N/A\n",
      "  Test data: N/A\n",
      "  Target column: MEDV (regression)\n",
      "System specs: Docker/Linux, 31 GB, 8 CPU cores, 0/0 GPU\n",
      "  Max memory usage: 0.696 GB, 0 GB GPU\n",
      "Recipe: AutoDL (23 iterations, 8 individuals)\n",
      "  Validation scheme: random, 6 internal holdouts (3-fold CV)\n",
      "  Feature engineering: 43 features scored (9 selected)\n",
      "Timing: MOJO latency 0.0309 millis (347.3kB), Python latency 37.3041 millis (201.3kB)\n",
      "  Data preparation: 6.32 secs\n",
      "  Shift/Leakage detection: 0.71 secs\n",
      "  Model and feature tuning: 62.41 secs (73 models trained)\n",
      "  Feature evolution: 163.62 secs (222 of 288 models trained)\n",
      "  Final pipeline training: 10.17 secs (6 models trained)\n",
      "  Python / MOJO scorer building: 33.74 secs / 12.11 secs\n",
      "Validation score: RMSE = 9.188011 (constant preds of 22.53)\n",
      "Validation score: RMSE = 3.872089 +/- 0.611285 (baseline)\n",
      "Validation score: RMSE = 3.873115 +/- 0.6710626 (final pipeline)\n",
      "Test score:       RMSE = N/A\n"
     ]
    }
   ],
   "source": [
    "print('*************** DAIへ接続 ***************')\n",
    "dai = get_dai_client(daiaddress=dai_address, daipassword=dai_password)\n",
    "print(type(dai))\n",
    "print('DAIバージョン: {}'.format(dai.server.version))\n",
    "\n",
    "\n",
    "print('*************** データの取得 ***************')\n",
    "ds = get_dataset(daiobj=dai, dataname=data_name, dataurl=s3url) \n",
    "\n",
    "print(type(ds))\n",
    "print('Dataサイズ(byte): {}'.format(ds.file_size))\n",
    "print('Dataサイズ(mega byte): {}'.format(ds.file_size/1024**2))\n",
    "print('Data shape: {}'.format(ds.shape))\n",
    "\n",
    "\n",
    "print('*************** Experimentの実施 ***************')\n",
    "ex = get_experiment(daiobj=dai, dataobj=ds, \n",
    "                    target_column=target_column, task=task, drop_columns=drop_columns, enable_gpus=enable_gpus)\n",
    "\n",
    "print(type(ds))\n",
    "print('学習時間（sec）：{}'.format(ex.run_duration))\n",
    "print('学習時間（min）：{}'.format(ex.run_duration/60))\n",
    "print('Experimentサイズ（byte）：{}'.format(ex.size))\n",
    "print('Experimentサイズ（mega byte）：{}'.format(ex.size/1024**2))\n",
    "print('********** Experiment Summary **********')\n",
    "ex.summary()"
   ]
  },
  {
   "cell_type": "markdown",
   "id": "144f2665",
   "metadata": {},
   "source": [
    "### 実験情報"
   ]
  },
  {
   "cell_type": "code",
   "execution_count": 42,
   "id": "b326c9b0",
   "metadata": {},
   "outputs": [
    {
     "name": "stdout",
     "output_type": "stream",
     "text": [
      "0.05509185791015625\n",
      "506\n",
      "13\n",
      "4.895818114280701\n",
      "1062.600456237793\n",
      "(7, 2, 8)\n"
     ]
    }
   ],
   "source": [
    "log_datasize_mb = ds.file_size/1024**2     # 元データサイズ（MB）\n",
    "log_n_observation = ds.shape[0]    # オブザベーション数\n",
    "log_n_features = ds.shape[1] - len(drop_columns) - 1    # 特徴量数\n",
    "log_duration_min = ex.run_duration/60    # 実行時間（分）\n",
    "log_expsize_mb = ex.size/1024**2     # Experimentサイズ（MB）\n",
    "log_accuracy_time_interpretability = ex.settings['accuracy'], ex.settings['time'], ex.settings['interpretability']   # accuracy, time, interpretability\n",
    "\n",
    "print(log_datasize_mb)\n",
    "print(log_n_observation)\n",
    "print(log_n_features)\n",
    "print(log_duration_min)\n",
    "print(log_expsize_mb)\n",
    "print(log_accuracy_time_interpretability)"
   ]
  },
  {
   "cell_type": "code",
   "execution_count": null,
   "id": "733fff72",
   "metadata": {},
   "outputs": [],
   "source": []
  },
  {
   "cell_type": "markdown",
   "id": "c5db9dc4",
   "metadata": {},
   "source": [
    "## 他サーバ（GPU）"
   ]
  },
  {
   "cell_type": "code",
   "execution_count": 19,
   "id": "d6c2def0",
   "metadata": {},
   "outputs": [],
   "source": [
    "# Driverless AIサーバー情報\n",
    "dai_address = 'http://44.201.226.2'\n",
    "dai_password = idpass['pass11013gpu']\n",
    "# データ情報\n",
    "data_name = 'BostonHousing.csv'\n",
    "s3url = 's3://h2oai-jp-public/sample_data/boston_house/BostonHousing.csv'   # DAIにアップされてない場合の取得先S3\n",
    "# Experiment設定\n",
    "target_column = 'MEDV'\n",
    "task = 'regression'    # 'regression', 'classification', or 'unsupervised'\n",
    "drop_columns = []    # List[str] 説明変数として利用しないカラム\n",
    "#drop_columns = None\n",
    "enable_gpus = True"
   ]
  },
  {
   "cell_type": "code",
   "execution_count": 21,
   "id": "de809677",
   "metadata": {},
   "outputs": [
    {
     "name": "stdout",
     "output_type": "stream",
     "text": [
      "*************** DAIへ接続 ***************\n",
      "----- start server connection : get_dai_client -----\n",
      "<class 'driverlessai._core.Client'>\n",
      "DAIバージョン: 1.10.1.3\n",
      "*************** データの取得 ***************\n",
      "----- start get data : get_dataset -----\n",
      "Uploaded data name : key >>  {'BostonHousing.csv': '6db78e82-91f9-11ec-a31a-0242ac110002'}\n",
      "Data is already uploaded in DAI\n",
      "<class 'driverlessai._datasets.Dataset'>\n",
      "Dataサイズ(byte): 57768\n",
      "Dataサイズ(mega byte): 0.05509185791015625\n",
      "Data shape: (506, 14)\n",
      "*************** Experimentの実施 ***************\n",
      "----- start experiment : get_experiment -----\n",
      "Experiment launched at: http://44.201.226.2/#/experiment?key=a920f88a-91fb-11ec-a31a-0242ac110002\n",
      "Complete 100.00% - Status: Complete                                                       \n",
      "<class 'driverlessai._datasets.Dataset'>\n",
      "学習時間（sec）：554.839200258255\n",
      "学習時間（min）：9.24732000430425\n",
      "Experimentサイズ（byte）：1117560290\n",
      "Experimentサイズ（mega byte）：1065.7885456085205\n",
      "********** Experiment Summary **********\n",
      "Status: Complete\n",
      "Experiment: sumuwabu (a920f88a-91fb-11ec-a31a-0242ac110002)\n",
      "  Version: 1.10.1.3, 2022-02-20 03:26\n",
      "  Settings: 7/2/8, seed=121782371, GPUs enabled\n",
      "  Train data: BostonHousing.csv (506, 14)\n",
      "  Validation data: N/A\n",
      "  Test data: N/A\n",
      "  Target column: MEDV (regression)\n",
      "System specs: Docker/Linux, 60 GB, 8 CPU cores, 1/1 GPU\n",
      "  Max memory usage: 1.03 GB, 0.405 GB GPU\n",
      "Recipe: AutoDL (23 iterations, 8 individuals)\n",
      "  Validation scheme: random, 6 internal holdouts (3-fold CV)\n",
      "  Feature engineering: 30 features scored (12 selected)\n",
      "Timing: MOJO latency 0.0465 millis (669.9kB), Python latency 154.3841 millis (405.9kB)\n",
      "  Data preparation: 9.24 secs\n",
      "  Shift/Leakage detection: 1.41 secs\n",
      "  Model and feature tuning: 111.22 secs (73 models trained)\n",
      "  Feature evolution: 338.35 secs (222 of 288 models trained)\n",
      "  Final pipeline training: 22.00 secs (6 models trained)\n",
      "  Python / MOJO scorer building: 40.93 secs / 20.29 secs\n",
      "Validation score: RMSE = 9.188011 (constant preds of 22.53)\n",
      "Validation score: RMSE = 3.879977 +/- 0.6110637 (baseline)\n",
      "Validation score: RMSE = 3.835072 +/- 0.6330628 (final pipeline)\n",
      "Test score:       RMSE = N/A\n"
     ]
    }
   ],
   "source": [
    "print('*************** DAIへ接続 ***************')\n",
    "dai = get_dai_client(daiaddress=dai_address, daipassword=dai_password)\n",
    "print(type(dai))\n",
    "print('DAIバージョン: {}'.format(dai.server.version))\n",
    "\n",
    "\n",
    "print('*************** データの取得 ***************')\n",
    "ds = get_dataset(daiobj=dai, dataname=data_name, dataurl=s3url) \n",
    "\n",
    "print(type(ds))\n",
    "print('Dataサイズ(byte): {}'.format(ds.file_size))\n",
    "print('Dataサイズ(mega byte): {}'.format(ds.file_size/1024**2))\n",
    "print('Data shape: {}'.format(ds.shape))\n",
    "\n",
    "\n",
    "print('*************** Experimentの実施 ***************')\n",
    "ex = get_experiment(daiobj=dai, dataobj=ds, \n",
    "                    target_column=target_column, task=task, drop_columns=drop_columns, enable_gpus=enable_gpus)\n",
    "\n",
    "print(type(ds))\n",
    "print('学習時間（sec）：{}'.format(ex.run_duration))\n",
    "print('学習時間（min）：{}'.format(ex.run_duration/60))\n",
    "print('Experimentサイズ（byte）：{}'.format(ex.size))\n",
    "print('Experimentサイズ（mega byte）：{}'.format(ex.size/1024**2))\n",
    "print('********** Experiment Summary **********')\n",
    "ex.summary()"
   ]
  },
  {
   "cell_type": "code",
   "execution_count": null,
   "id": "2b8a104d",
   "metadata": {},
   "outputs": [],
   "source": []
  }
 ],
 "metadata": {
  "kernelspec": {
   "display_name": "Python 3",
   "language": "python",
   "name": "python3"
  },
  "language_info": {
   "codemirror_mode": {
    "name": "ipython",
    "version": 3
   },
   "file_extension": ".py",
   "mimetype": "text/x-python",
   "name": "python",
   "nbconvert_exporter": "python",
   "pygments_lexer": "ipython3",
   "version": "3.8.3"
  }
 },
 "nbformat": 4,
 "nbformat_minor": 5
}
